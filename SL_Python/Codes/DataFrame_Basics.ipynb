{
  "nbformat": 4,
  "nbformat_minor": 0,
  "metadata": {
    "anaconda-cloud": {},
    "kernelspec": {
      "display_name": "Python [conda root]",
      "language": "python",
      "name": "conda-root-py"
    },
    "language_info": {
      "codemirror_mode": {
        "name": "ipython",
        "version": 3
      },
      "file_extension": ".py",
      "mimetype": "text/x-python",
      "name": "python",
      "nbconvert_exporter": "python",
      "pygments_lexer": "ipython3",
      "version": "3.5.3"
    },
    "nbpresent": {
      "slides": {},
      "themes": {
        "default": "0535adbc-b74f-46cc-9cd6-4eabe2477c8e",
        "theme": {
          "0535adbc-b74f-46cc-9cd6-4eabe2477c8e": {
            "backgrounds": {
              "backgroundColor": {
                "background-color": "backgroundColor",
                "id": "backgroundColor"
              }
            },
            "id": "0535adbc-b74f-46cc-9cd6-4eabe2477c8e",
            "palette": {
              "backgroundColor": {
                "id": "backgroundColor",
                "rgb": [
                  43,
                  43,
                  43
                ]
              },
              "headingColor": {
                "id": "headingColor",
                "rgb": [
                  238,
                  238,
                  238
                ]
              },
              "linkColor": {
                "id": "linkColor",
                "rgb": [
                  19,
                  218,
                  236
                ]
              },
              "mainColor": {
                "id": "mainColor",
                "rgb": [
                  238,
                  238,
                  238
                ]
              }
            },
            "rules": {
              "a": {
                "color": "linkColor"
              },
              "h1": {
                "color": "headingColor",
                "font-family": "Oswald",
                "font-size": 7
              },
              "h2": {
                "color": "headingColor",
                "font-family": "Oswald",
                "font-size": 5
              },
              "h3": {
                "color": "headingColor",
                "font-family": "Oswald",
                "font-size": 3.75
              },
              "h4": {
                "color": "headingColor",
                "font-family": "Oswald",
                "font-size": 3
              },
              "h5": {
                "color": "headingColor",
                "font-family": "Oswald"
              },
              "h6": {
                "color": "headingColor",
                "font-family": "Oswald"
              },
              "h7": {
                "color": "headingColor",
                "font-family": "Oswald"
              },
              "li": {
                "color": "mainColor",
                "font-family": "Lato",
                "font-size": 5
              },
              "p": {
                "color": "mainColor",
                "font-family": "Lato",
                "font-size": 5
              }
            },
            "text-base": {
              "color": "mainColor",
              "font-family": "Lato",
              "font-size": 5
            }
          },
          "cc59980f-cb69-400a-b63a-1fb85ca73c8a": {
            "backgrounds": {
              "dc7afa04-bf90-40b1-82a5-726e3cff5267": {
                "background-color": "31af15d2-7e15-44c5-ab5e-e04b16a89eff",
                "id": "dc7afa04-bf90-40b1-82a5-726e3cff5267"
              }
            },
            "id": "cc59980f-cb69-400a-b63a-1fb85ca73c8a",
            "palette": {
              "19cc588f-0593-49c9-9f4b-e4d7cc113b1c": {
                "id": "19cc588f-0593-49c9-9f4b-e4d7cc113b1c",
                "rgb": [
                  252,
                  252,
                  252
                ]
              },
              "31af15d2-7e15-44c5-ab5e-e04b16a89eff": {
                "id": "31af15d2-7e15-44c5-ab5e-e04b16a89eff",
                "rgb": [
                  68,
                  68,
                  68
                ]
              },
              "50f92c45-a630-455b-aec3-788680ec7410": {
                "id": "50f92c45-a630-455b-aec3-788680ec7410",
                "rgb": [
                  197,
                  226,
                  245
                ]
              },
              "c5cc3653-2ee1-402a-aba2-7caae1da4f6c": {
                "id": "c5cc3653-2ee1-402a-aba2-7caae1da4f6c",
                "rgb": [
                  43,
                  126,
                  184
                ]
              },
              "efa7f048-9acb-414c-8b04-a26811511a21": {
                "id": "efa7f048-9acb-414c-8b04-a26811511a21",
                "rgb": [
                  25.118061674008803,
                  73.60176211453744,
                  107.4819383259912
                ]
              }
            },
            "rules": {
              "a": {
                "color": "19cc588f-0593-49c9-9f4b-e4d7cc113b1c"
              },
              "blockquote": {
                "color": "50f92c45-a630-455b-aec3-788680ec7410",
                "font-size": 3
              },
              "code": {
                "font-family": "Anonymous Pro"
              },
              "h1": {
                "color": "19cc588f-0593-49c9-9f4b-e4d7cc113b1c",
                "font-family": "Merriweather",
                "font-size": 8
              },
              "h2": {
                "color": "19cc588f-0593-49c9-9f4b-e4d7cc113b1c",
                "font-family": "Merriweather",
                "font-size": 6
              },
              "h3": {
                "color": "50f92c45-a630-455b-aec3-788680ec7410",
                "font-family": "Lato",
                "font-size": 5.5
              },
              "h4": {
                "color": "c5cc3653-2ee1-402a-aba2-7caae1da4f6c",
                "font-family": "Lato",
                "font-size": 5
              },
              "h5": {
                "font-family": "Lato"
              },
              "h6": {
                "font-family": "Lato"
              },
              "h7": {
                "font-family": "Lato"
              },
              "li": {
                "color": "50f92c45-a630-455b-aec3-788680ec7410",
                "font-size": 3.25
              },
              "pre": {
                "font-family": "Anonymous Pro",
                "font-size": 4
              }
            },
            "text-base": {
              "color": "19cc588f-0593-49c9-9f4b-e4d7cc113b1c",
              "font-family": "Lato",
              "font-size": 4
            }
          }
        }
      }
    },
    "colab": {
      "name": "DataFrame_Basics.ipynb",
      "provenance": []
    }
  },
  "cells": [
    {
      "cell_type": "markdown",
      "metadata": {
        "id": "l0M1z89xdAF3"
      },
      "source": [
        "# Spark DataFrame Basics\n",
        "\n",
        "Spark DataFrames are the workhouse and main way of working with Spark and Python post Spark 2.0. DataFrames act as powerful versions of tables, with rows and columns, easily handling large datasets. The shift to DataFrames provides many advantages:\n",
        "* A much simpler syntax\n",
        "* Ability to use SQL directly in the dataframe\n",
        "* Operations are automatically distributed across RDDs\n",
        "    \n",
        "If you've used R or even the pandas library with Python you are probably already familiar with the concept of DataFrames. Spark DataFrame expand on a lot of these concepts, allowing you to transfer that knowledge easily by understanding the simple syntax of Spark DataFrames. Remember that the main advantage to using Spark DataFrames vs those other programs is that Spark can handle data across many RDDs, huge data sets that would never fit on a single computer. That comes at a slight cost of some \"peculiar\" syntax choices, but after this course you will feel very comfortable with all those topics!\n",
        "\n",
        "Let's get started!\n",
        "\n",
        "## Creating a DataFrame\n",
        "\n",
        "First we need to start a SparkSession:"
      ]
    },
    {
      "cell_type": "code",
      "metadata": {
        "colab": {
          "base_uri": "https://localhost:8080/"
        },
        "id": "aQTxc_sifVPg",
        "outputId": "424059ae-4409-401a-8d61-ec7323522e5c"
      },
      "source": [
        "!apt-get install openjdk-8-jdk-headless -qq > /dev/null\n",
        "!wget -q https://downloads.apache.org/spark/spark-3.1.1/spark-3.1.1-bin-hadoop2.7.tgz\n",
        "!tar -xvf spark-3.1.1-bin-hadoop2.7.tgz\n",
        "!pip install -q findspark\n",
        "!pip install pyspark"
      ],
      "execution_count": 9,
      "outputs": [
        {
          "output_type": "stream",
          "text": [
            "tar: spark-3.1.1-bin-hadoop2.7.tgz: Cannot open: No such file or directory\n",
            "tar: Error is not recoverable: exiting now\n",
            "Requirement already satisfied: pyspark in /usr/local/lib/python3.7/dist-packages (3.1.2)\n",
            "Requirement already satisfied: py4j==0.10.9 in /usr/local/lib/python3.7/dist-packages (from pyspark) (0.10.9)\n"
          ],
          "name": "stdout"
        }
      ]
    },
    {
      "cell_type": "code",
      "metadata": {
        "id": "bhDnY2tfdAF6"
      },
      "source": [
        "from pyspark.sql import SparkSession"
      ],
      "execution_count": 11,
      "outputs": []
    },
    {
      "cell_type": "markdown",
      "metadata": {
        "id": "vR8gj7KadAGF"
      },
      "source": [
        "Then start the SparkSession"
      ]
    },
    {
      "cell_type": "code",
      "metadata": {
        "id": "vC6FbgUadAGH"
      },
      "source": [
        "# May take a little while on a local computer\n",
        "spark = SparkSession.builder.appName(\"Basics\").getOrCreate()"
      ],
      "execution_count": 12,
      "outputs": []
    },
    {
      "cell_type": "markdown",
      "metadata": {
        "collapsed": true,
        "id": "Hl9HIfc9dAGS"
      },
      "source": [
        "\n",
        "You will first need to get the data from a file (or connect to a large distributed file like HDFS, we'll talk about this later once we move to larger datasets on AWS EC2)."
      ]
    },
    {
      "cell_type": "code",
      "metadata": {
        "id": "robkCkswdAGU"
      },
      "source": [
        "# We'll discuss how to read other options later.\n",
        "# This dataset is from Spark's examples\n",
        "\n",
        "# Might be a little slow locally\n",
        "df = spark.read.json('people.json')"
      ],
      "execution_count": 13,
      "outputs": []
    },
    {
      "cell_type": "markdown",
      "metadata": {
        "id": "ELsBsMfidAGX"
      },
      "source": [
        "#### Showing the data"
      ]
    },
    {
      "cell_type": "code",
      "metadata": {
        "id": "T37y5cFcdAGX",
        "colab": {
          "base_uri": "https://localhost:8080/"
        },
        "outputId": "53e04080-4005-4b50-83a5-12ed4e107cda"
      },
      "source": [
        "# Note how data is missing!\n",
        "df.show()"
      ],
      "execution_count": 14,
      "outputs": [
        {
          "output_type": "stream",
          "text": [
            "+----+-------+\n",
            "| age|   name|\n",
            "+----+-------+\n",
            "|null|Michael|\n",
            "|  30|   Andy|\n",
            "|  19| Justin|\n",
            "|  40|  Billy|\n",
            "+----+-------+\n",
            "\n"
          ],
          "name": "stdout"
        }
      ]
    },
    {
      "cell_type": "code",
      "metadata": {
        "id": "EIv-6PPYdAGa",
        "colab": {
          "base_uri": "https://localhost:8080/"
        },
        "outputId": "84e6fdda-72f1-46f9-b99b-f8f316ec82e4"
      },
      "source": [
        "df.printSchema()"
      ],
      "execution_count": 15,
      "outputs": [
        {
          "output_type": "stream",
          "text": [
            "root\n",
            " |-- age: long (nullable = true)\n",
            " |-- name: string (nullable = true)\n",
            "\n"
          ],
          "name": "stdout"
        }
      ]
    },
    {
      "cell_type": "code",
      "metadata": {
        "id": "lGCx-ux6dAGc",
        "colab": {
          "base_uri": "https://localhost:8080/"
        },
        "outputId": "1a41cb22-a9a5-4c77-f7c3-c8b1e69fa4b0"
      },
      "source": [
        "df.columns"
      ],
      "execution_count": 16,
      "outputs": [
        {
          "output_type": "execute_result",
          "data": {
            "text/plain": [
              "['age', 'name']"
            ]
          },
          "metadata": {
            "tags": []
          },
          "execution_count": 16
        }
      ]
    },
    {
      "cell_type": "code",
      "metadata": {
        "id": "OiaiwOTkdAGe",
        "colab": {
          "base_uri": "https://localhost:8080/"
        },
        "outputId": "219b8ac3-d7d7-4bb4-bcbf-1d5d2f1cb617"
      },
      "source": [
        "df.describe()"
      ],
      "execution_count": 17,
      "outputs": [
        {
          "output_type": "execute_result",
          "data": {
            "text/plain": [
              "DataFrame[summary: string, age: string, name: string]"
            ]
          },
          "metadata": {
            "tags": []
          },
          "execution_count": 17
        }
      ]
    },
    {
      "cell_type": "markdown",
      "metadata": {
        "id": "3MqDFGDRdAGf"
      },
      "source": [
        "Some data types make it easier to infer schema (like tabular formats such as csv which we will show later). \n",
        "\n",
        "However you often have to set the schema yourself if you aren't dealing with a .read method that doesn't have inferSchema() built-in.\n",
        "\n",
        "Spark has all the tools you need for this, it just requires a very specific structure:"
      ]
    },
    {
      "cell_type": "code",
      "metadata": {
        "id": "oSjsx0wMdAGf"
      },
      "source": [
        "from pyspark.sql.types import StructField,StringType,IntegerType,StructType"
      ],
      "execution_count": 18,
      "outputs": []
    },
    {
      "cell_type": "markdown",
      "metadata": {
        "id": "xS5li_lWdAGg"
      },
      "source": [
        "Next we need to create the list of Structure fields\n",
        "    * :param name: string, name of the field.\n",
        "    * :param dataType: :class:`DataType` of the field.\n",
        "    * :param nullable: boolean, whether the field can be null (None) or not."
      ]
    },
    {
      "cell_type": "code",
      "metadata": {
        "id": "SmqsQYOudAGh"
      },
      "source": [
        "data_schema = [StructField(\"age\", IntegerType(), True),StructField(\"name\", StringType(), True)]"
      ],
      "execution_count": 28,
      "outputs": []
    },
    {
      "cell_type": "code",
      "metadata": {
        "id": "F_tN2OS3dAGi"
      },
      "source": [
        "final_struc = StructType(fields=data_schema)"
      ],
      "execution_count": 29,
      "outputs": []
    },
    {
      "cell_type": "code",
      "metadata": {
        "id": "Y_i4ayq-dAGj"
      },
      "source": [
        "df = spark.read.json('people.json', schema=final_struc)"
      ],
      "execution_count": 30,
      "outputs": []
    },
    {
      "cell_type": "code",
      "metadata": {
        "id": "xIfMqEFndAGk",
        "colab": {
          "base_uri": "https://localhost:8080/"
        },
        "outputId": "b08eaef5-c072-485b-baec-89a07d915b88"
      },
      "source": [
        "df.printSchema()"
      ],
      "execution_count": 31,
      "outputs": [
        {
          "output_type": "stream",
          "text": [
            "root\n",
            " |-- age: integer (nullable = true)\n",
            " |-- name: string (nullable = true)\n",
            "\n"
          ],
          "name": "stdout"
        }
      ]
    },
    {
      "cell_type": "markdown",
      "metadata": {
        "id": "XcTMXqrVdAGk"
      },
      "source": [
        "### Grabbing the data"
      ]
    },
    {
      "cell_type": "code",
      "metadata": {
        "id": "LbsAtCKzdAGk",
        "colab": {
          "base_uri": "https://localhost:8080/"
        },
        "outputId": "902e058f-7ada-4d6b-f2dd-b1640a202f6d"
      },
      "source": [
        "df['age']"
      ],
      "execution_count": 37,
      "outputs": [
        {
          "output_type": "execute_result",
          "data": {
            "text/plain": [
              "Column<'age'>"
            ]
          },
          "metadata": {
            "tags": []
          },
          "execution_count": 37
        }
      ]
    },
    {
      "cell_type": "code",
      "metadata": {
        "id": "FgCk0KVvdAGs",
        "colab": {
          "base_uri": "https://localhost:8080/"
        },
        "outputId": "351387d5-63ae-47b1-fab2-4c941af42270"
      },
      "source": [
        "df.select('age')"
      ],
      "execution_count": 38,
      "outputs": [
        {
          "output_type": "execute_result",
          "data": {
            "text/plain": [
              "DataFrame[age: int]"
            ]
          },
          "metadata": {
            "tags": []
          },
          "execution_count": 38
        }
      ]
    },
    {
      "cell_type": "code",
      "metadata": {
        "id": "QZt-UtZUdAGv",
        "colab": {
          "base_uri": "https://localhost:8080/"
        },
        "outputId": "b57a179f-f2f1-467e-f111-c1f2b1dc7f07"
      },
      "source": [
        "type(df.select('age'))"
      ],
      "execution_count": 39,
      "outputs": [
        {
          "output_type": "execute_result",
          "data": {
            "text/plain": [
              "pyspark.sql.dataframe.DataFrame"
            ]
          },
          "metadata": {
            "tags": []
          },
          "execution_count": 39
        }
      ]
    },
    {
      "cell_type": "code",
      "metadata": {
        "id": "bhF1t1mEdAGw",
        "colab": {
          "base_uri": "https://localhost:8080/"
        },
        "outputId": "83c2b3ff-ca31-4c2f-cb4e-a6775e0129bc"
      },
      "source": [
        "df.select('age').show()"
      ],
      "execution_count": 40,
      "outputs": [
        {
          "output_type": "stream",
          "text": [
            "+----+\n",
            "| age|\n",
            "+----+\n",
            "|null|\n",
            "|  30|\n",
            "|  19|\n",
            "|  40|\n",
            "+----+\n",
            "\n"
          ],
          "name": "stdout"
        }
      ]
    },
    {
      "cell_type": "code",
      "metadata": {
        "id": "bpOX85aDdAGx",
        "colab": {
          "base_uri": "https://localhost:8080/"
        },
        "outputId": "15be9fac-2cc7-47dd-dd8d-2c377a12f2fb"
      },
      "source": [
        "# Returns list of Row objects\n",
        "df.head(2)"
      ],
      "execution_count": 41,
      "outputs": [
        {
          "output_type": "execute_result",
          "data": {
            "text/plain": [
              "[Row(age=None, name='Michael'), Row(age=30, name='Andy')]"
            ]
          },
          "metadata": {
            "tags": []
          },
          "execution_count": 41
        }
      ]
    },
    {
      "cell_type": "markdown",
      "metadata": {
        "id": "rQI6oVAqdAGz"
      },
      "source": [
        "Multiple Columns:"
      ]
    },
    {
      "cell_type": "code",
      "metadata": {
        "id": "tLFeer3KdAGz",
        "colab": {
          "base_uri": "https://localhost:8080/"
        },
        "outputId": "4540497f-482f-4edc-aff6-03635c4bff4b"
      },
      "source": [
        "df.select(['age','name'])"
      ],
      "execution_count": 42,
      "outputs": [
        {
          "output_type": "execute_result",
          "data": {
            "text/plain": [
              "DataFrame[age: int, name: string]"
            ]
          },
          "metadata": {
            "tags": []
          },
          "execution_count": 42
        }
      ]
    },
    {
      "cell_type": "code",
      "metadata": {
        "id": "crhLn8GUdAG0",
        "colab": {
          "base_uri": "https://localhost:8080/"
        },
        "outputId": "b0c94c47-25d4-4b2d-a6e3-b782b9c6071e"
      },
      "source": [
        "df.select(['name']).show()"
      ],
      "execution_count": 44,
      "outputs": [
        {
          "output_type": "stream",
          "text": [
            "+-------+\n",
            "|   name|\n",
            "+-------+\n",
            "|Michael|\n",
            "|   Andy|\n",
            "| Justin|\n",
            "|  Billy|\n",
            "+-------+\n",
            "\n"
          ],
          "name": "stdout"
        }
      ]
    },
    {
      "cell_type": "markdown",
      "metadata": {
        "id": "o-hbWEyodAG0"
      },
      "source": [
        "### Creating new columns"
      ]
    },
    {
      "cell_type": "code",
      "metadata": {
        "id": "us2Bd9kldAG1",
        "colab": {
          "base_uri": "https://localhost:8080/"
        },
        "outputId": "d231fa6f-fd5d-491b-a89b-8c7d3fa603f2"
      },
      "source": [
        "# Adding a new column with a simple copy\n",
        "df.withColumn('copyage',df['age']).show()"
      ],
      "execution_count": 46,
      "outputs": [
        {
          "output_type": "stream",
          "text": [
            "+----+-------+-------+\n",
            "| age|   name|copyage|\n",
            "+----+-------+-------+\n",
            "|null|Michael|   null|\n",
            "|  30|   Andy|     30|\n",
            "|  19| Justin|     19|\n",
            "|  40|  Billy|     40|\n",
            "+----+-------+-------+\n",
            "\n"
          ],
          "name": "stdout"
        }
      ]
    },
    {
      "cell_type": "code",
      "metadata": {
        "id": "A3v5SWCLdAG2",
        "colab": {
          "base_uri": "https://localhost:8080/"
        },
        "outputId": "b13665f8-57d4-4d14-b502-d37b4e2409cf"
      },
      "source": [
        "df.show()"
      ],
      "execution_count": 47,
      "outputs": [
        {
          "output_type": "stream",
          "text": [
            "+----+-------+\n",
            "| age|   name|\n",
            "+----+-------+\n",
            "|null|Michael|\n",
            "|  30|   Andy|\n",
            "|  19| Justin|\n",
            "|  40|  Billy|\n",
            "+----+-------+\n",
            "\n"
          ],
          "name": "stdout"
        }
      ]
    },
    {
      "cell_type": "code",
      "metadata": {
        "id": "O14QwRjVdAG3",
        "colab": {
          "base_uri": "https://localhost:8080/"
        },
        "outputId": "7e306dcb-dff3-49ca-c46b-1869b5d382f1"
      },
      "source": [
        "# Simple Rename\n",
        "df.withColumnRenamed('age','supernewage').show()"
      ],
      "execution_count": 49,
      "outputs": [
        {
          "output_type": "stream",
          "text": [
            "+-----------+-------+\n",
            "|supernewage|   name|\n",
            "+-----------+-------+\n",
            "|       null|Michael|\n",
            "|         30|   Andy|\n",
            "|         19| Justin|\n",
            "|         40|  Billy|\n",
            "+-----------+-------+\n",
            "\n"
          ],
          "name": "stdout"
        }
      ]
    },
    {
      "cell_type": "markdown",
      "metadata": {
        "id": "EC3HXlfCdAG3"
      },
      "source": [
        "More complicated operations to create new columns"
      ]
    },
    {
      "cell_type": "code",
      "metadata": {
        "id": "_UsuLsnMdAG4",
        "colab": {
          "base_uri": "https://localhost:8080/"
        },
        "outputId": "e1611672-ac5f-48b9-ae03-9dd30af84804"
      },
      "source": [
        "df.withColumn('doubleage',df['age']*2).show()"
      ],
      "execution_count": 50,
      "outputs": [
        {
          "output_type": "stream",
          "text": [
            "+----+-------+---------+\n",
            "| age|   name|doubleage|\n",
            "+----+-------+---------+\n",
            "|null|Michael|     null|\n",
            "|  30|   Andy|       60|\n",
            "|  19| Justin|       38|\n",
            "|  40|  Billy|       80|\n",
            "+----+-------+---------+\n",
            "\n"
          ],
          "name": "stdout"
        }
      ]
    },
    {
      "cell_type": "code",
      "metadata": {
        "id": "pm_ReH9pdAG5",
        "colab": {
          "base_uri": "https://localhost:8080/"
        },
        "outputId": "72de48e8-619f-4d2d-bac2-f7c8a2a52c95"
      },
      "source": [
        "df.withColumn('add_one_age',df['age']+10).show()"
      ],
      "execution_count": 51,
      "outputs": [
        {
          "output_type": "stream",
          "text": [
            "+----+-------+-----------+\n",
            "| age|   name|add_one_age|\n",
            "+----+-------+-----------+\n",
            "|null|Michael|       null|\n",
            "|  30|   Andy|         40|\n",
            "|  19| Justin|         29|\n",
            "|  40|  Billy|         50|\n",
            "+----+-------+-----------+\n",
            "\n"
          ],
          "name": "stdout"
        }
      ]
    },
    {
      "cell_type": "code",
      "metadata": {
        "id": "jej6bTxXdAG5",
        "colab": {
          "base_uri": "https://localhost:8080/"
        },
        "outputId": "d2f7891c-cd5b-4931-ae96-122a96f8ef14"
      },
      "source": [
        "df.withColumn('half_age',df['age']/2).show()"
      ],
      "execution_count": 53,
      "outputs": [
        {
          "output_type": "stream",
          "text": [
            "+----+-------+--------+\n",
            "| age|   name|half_age|\n",
            "+----+-------+--------+\n",
            "|null|Michael|    null|\n",
            "|  30|   Andy|    15.0|\n",
            "|  19| Justin|     9.5|\n",
            "|  40|  Billy|    20.0|\n",
            "+----+-------+--------+\n",
            "\n"
          ],
          "name": "stdout"
        }
      ]
    },
    {
      "cell_type": "code",
      "metadata": {
        "id": "rRa-9ekedAG6",
        "colab": {
          "base_uri": "https://localhost:8080/"
        },
        "outputId": "a914ed87-f183-47f9-d3f6-342edeaa2dae"
      },
      "source": [
        "df.withColumn('half_age',df['age']/2)"
      ],
      "execution_count": 54,
      "outputs": [
        {
          "output_type": "execute_result",
          "data": {
            "text/plain": [
              "DataFrame[age: int, name: string, half_age: double]"
            ]
          },
          "metadata": {
            "tags": []
          },
          "execution_count": 54
        }
      ]
    },
    {
      "cell_type": "markdown",
      "metadata": {
        "id": "YeidTvt0dAG7"
      },
      "source": [
        "We'll discuss much more complicated operations later on!"
      ]
    },
    {
      "cell_type": "markdown",
      "metadata": {
        "id": "BxNXo4bsdAG7"
      },
      "source": [
        "### Using SQL\n",
        "\n",
        "To use SQL queries directly with the dataframe, you will need to register it to a temporary view:"
      ]
    },
    {
      "cell_type": "code",
      "metadata": {
        "id": "nYjlheFqdAG7"
      },
      "source": [
        "# Register the DataFrame as a SQL temporary view\n",
        "df.createOrReplaceTempView(\"people\")"
      ],
      "execution_count": 55,
      "outputs": []
    },
    {
      "cell_type": "code",
      "metadata": {
        "id": "NMVM7qBUdAG8"
      },
      "source": [
        "sql_results = spark.sql(\"SELECT name,age FROM people\")"
      ],
      "execution_count": 62,
      "outputs": []
    },
    {
      "cell_type": "code",
      "metadata": {
        "id": "TSJSLuLedAG9",
        "colab": {
          "base_uri": "https://localhost:8080/"
        },
        "outputId": "699e521f-dd1c-412e-d9a1-947a29ae407c"
      },
      "source": [
        "sql_results"
      ],
      "execution_count": 57,
      "outputs": [
        {
          "output_type": "execute_result",
          "data": {
            "text/plain": [
              "DataFrame[age: int, name: string]"
            ]
          },
          "metadata": {
            "tags": []
          },
          "execution_count": 57
        }
      ]
    },
    {
      "cell_type": "code",
      "metadata": {
        "id": "16Jh002kdAG9",
        "colab": {
          "base_uri": "https://localhost:8080/"
        },
        "outputId": "730f5be1-9dfd-4103-bece-d71e5794738c"
      },
      "source": [
        "sql_results.show()"
      ],
      "execution_count": 63,
      "outputs": [
        {
          "output_type": "stream",
          "text": [
            "+-------+----+\n",
            "|   name| age|\n",
            "+-------+----+\n",
            "|Michael|null|\n",
            "|   Andy|  30|\n",
            "| Justin|  19|\n",
            "|  Billy|  40|\n",
            "+-------+----+\n",
            "\n"
          ],
          "name": "stdout"
        }
      ]
    },
    {
      "cell_type": "code",
      "metadata": {
        "id": "5eopZxVndAG-",
        "colab": {
          "base_uri": "https://localhost:8080/"
        },
        "outputId": "d9e0e546-091b-46c0-a3d8-a41cd058439c"
      },
      "source": [
        "spark.sql(\"SELECT * FROM people WHERE age=30\").show()"
      ],
      "execution_count": 64,
      "outputs": [
        {
          "output_type": "stream",
          "text": [
            "+---+----+\n",
            "|age|name|\n",
            "+---+----+\n",
            "| 30|Andy|\n",
            "+---+----+\n",
            "\n"
          ],
          "name": "stdout"
        }
      ]
    },
    {
      "cell_type": "markdown",
      "metadata": {
        "id": "jdTn4-JhdAG_"
      },
      "source": [
        "We won't really be focusing on using the SQL syntax for this course in general, but keep in mind it is always there for you to get you out of bind quickly with your SQL skills!"
      ]
    },
    {
      "cell_type": "markdown",
      "metadata": {
        "id": "Sp0UXlIYdAG_"
      },
      "source": [
        "Alright that is all we need to know for now!"
      ]
    }
  ]
}