{
 "cells": [
  {
   "cell_type": "code",
   "execution_count": 1,
   "metadata": {},
   "outputs": [],
   "source": [
    "import sqlite3\n",
    "\n",
    "connection = sqlite3.connect('store_transactions.db')\n",
    "\n",
    "cursor = connection.cursor()"
   ]
  },
  {
   "cell_type": "code",
   "execution_count": 2,
   "metadata": {},
   "outputs": [
    {
     "data": {
      "text/plain": [
       "<sqlite3.Cursor at 0x7f7d96057f80>"
      ]
     },
     "execution_count": 2,
     "metadata": {},
     "output_type": "execute_result"
    }
   ],
   "source": [
    "# Creates Stores table\n",
    "command = \"\"\"CREATE TABLE IF NOT EXISTS\n",
    "stores(store_id INTEGER PRIMARY KEY, location TEXT)\"\"\"\n",
    "\n",
    "cursor.execute(command)"
   ]
  },
  {
   "cell_type": "code",
   "execution_count": 3,
   "metadata": {},
   "outputs": [
    {
     "data": {
      "text/plain": [
       "<sqlite3.Cursor at 0x7f7d96057f80>"
      ]
     },
     "execution_count": 3,
     "metadata": {},
     "output_type": "execute_result"
    }
   ],
   "source": [
    "command1 = \"\"\"CREATE TABLE IF NOT EXISTS\n",
    "purchases(purchase_id INTEGER PRIMARY KEY, store_id INTEGER, total_cost FLOAT, \n",
    "FOREIGN KEY(store_id) REFERENCES stores(store_id))\"\"\"\n",
    "\n",
    "cursor.execute(command1)"
   ]
  },
  {
   "cell_type": "code",
   "execution_count": 4,
   "metadata": {},
   "outputs": [
    {
     "data": {
      "text/plain": [
       "<sqlite3.Cursor at 0x7f7d96057f80>"
      ]
     },
     "execution_count": 4,
     "metadata": {},
     "output_type": "execute_result"
    }
   ],
   "source": [
    "# Add to stores\n",
    "cursor.execute(\"INSERT INTO stores VALUES (21, 'Minneapolis')\")\n",
    "cursor.execute(\"INSERT INTO stores VALUES (95, 'Chicago')\")\n",
    "cursor.execute(\"INSERT INTO stores VALUES (64, 'Iowa City')\")"
   ]
  },
  {
   "cell_type": "code",
   "execution_count": 5,
   "metadata": {},
   "outputs": [
    {
     "data": {
      "text/plain": [
       "<sqlite3.Cursor at 0x7f7d96057f80>"
      ]
     },
     "execution_count": 5,
     "metadata": {},
     "output_type": "execute_result"
    }
   ],
   "source": [
    "# Add to purchase\n",
    "cursor.execute(\"INSERT INTO purchases VALUES (54, 23,15.49)\")\n",
    "cursor.execute(\"INSERT INTO purchases VALUES (95, 29, 18.99)\")"
   ]
  },
  {
   "cell_type": "code",
   "execution_count": 9,
   "metadata": {},
   "outputs": [
    {
     "name": "stdout",
     "output_type": "stream",
     "text": [
      "[(95, 29, 18.99)]\n"
     ]
    }
   ],
   "source": [
    "cursor.execute(\"Select * FROM purchases\")\n",
    "\n",
    "results = cursor.fetchall()\n",
    "print(results)"
   ]
  }
 ],
 "metadata": {
  "kernelspec": {
   "display_name": "Python 3",
   "language": "python",
   "name": "python3"
  },
  "language_info": {
   "codemirror_mode": {
    "name": "ipython",
    "version": 3
   },
   "file_extension": ".py",
   "mimetype": "text/x-python",
   "name": "python",
   "nbconvert_exporter": "python",
   "pygments_lexer": "ipython3",
   "version": "3.7.6"
  }
 },
 "nbformat": 4,
 "nbformat_minor": 4
}
