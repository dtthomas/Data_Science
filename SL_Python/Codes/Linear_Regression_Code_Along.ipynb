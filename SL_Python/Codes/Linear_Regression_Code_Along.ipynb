{
  "nbformat": 4,
  "nbformat_minor": 0,
  "metadata": {
    "anaconda-cloud": {},
    "kernelspec": {
      "display_name": "Python [conda root]",
      "language": "python",
      "name": "conda-root-py"
    },
    "language_info": {
      "codemirror_mode": {
        "name": "ipython",
        "version": 3
      },
      "file_extension": ".py",
      "mimetype": "text/x-python",
      "name": "python",
      "nbconvert_exporter": "python",
      "pygments_lexer": "ipython3",
      "version": "3.5.3"
    },
    "colab": {
      "name": "Linear_Regression_Code_Along.ipynb",
      "provenance": []
    }
  },
  "cells": [
    {
      "cell_type": "markdown",
      "metadata": {
        "id": "YZPJV8YpFz-_"
      },
      "source": [
        "# Linear Regression Code Along"
      ]
    },
    {
      "cell_type": "markdown",
      "metadata": {
        "id": "Oa4wWJnyFz_A"
      },
      "source": [
        "This notebook is the reference for the video lecture on the Linear Regression Code Along. Basically what we do here is examine a dataset with Ecommerce Customer Data for a company's website and mobile app. Then we want to see if we can build a regression model that will predict the customer's yearly spend on the company's product."
      ]
    },
    {
      "cell_type": "markdown",
      "metadata": {
        "id": "jKTC_et4Fz_C"
      },
      "source": [
        "First thing to do is start a Spark Session"
      ]
    },
    {
      "cell_type": "code",
      "metadata": {
        "colab": {
          "base_uri": "https://localhost:8080/"
        },
        "id": "VX0_S0_lA0C5",
        "outputId": "46dd4881-e966-47c1-dc4e-8a342a7500cd"
      },
      "source": [
        "!apt-get install openjdk-8-jdk-headless -qq > /dev/null\n",
        "!wget -q https://downloads.apache.org/spark/spark-3.1.1/spark-3.1.1-bin-hadoop2.7.tgz\n",
        "!tar -xvf spark-3.1.1-bin-hadoop2.7.tgz\n",
        "!pip install -q findspark\n",
        "!pip install pyspark"
      ],
      "execution_count": 2,
      "outputs": [
        {
          "output_type": "stream",
          "text": [
            "tar: spark-3.1.1-bin-hadoop2.7.tgz: Cannot open: No such file or directory\n",
            "tar: Error is not recoverable: exiting now\n",
            "Collecting pyspark\n",
            "\u001b[?25l  Downloading https://files.pythonhosted.org/packages/89/db/e18cfd78e408de957821ec5ca56de1250645b05f8523d169803d8df35a64/pyspark-3.1.2.tar.gz (212.4MB)\n",
            "\u001b[K     |████████████████████████████████| 212.4MB 60kB/s \n",
            "\u001b[?25hCollecting py4j==0.10.9\n",
            "\u001b[?25l  Downloading https://files.pythonhosted.org/packages/9e/b6/6a4fb90cd235dc8e265a6a2067f2a2c99f0d91787f06aca4bcf7c23f3f80/py4j-0.10.9-py2.py3-none-any.whl (198kB)\n",
            "\u001b[K     |████████████████████████████████| 204kB 17.3MB/s \n",
            "\u001b[?25hBuilding wheels for collected packages: pyspark\n",
            "  Building wheel for pyspark (setup.py) ... \u001b[?25l\u001b[?25hdone\n",
            "  Created wheel for pyspark: filename=pyspark-3.1.2-py2.py3-none-any.whl size=212880768 sha256=03bd68edba9da85069a3a67514dda07cc6076a9dbbefaeeecfd8e6a740cca004\n",
            "  Stored in directory: /root/.cache/pip/wheels/40/1b/2c/30f43be2627857ab80062bef1527c0128f7b4070b6b2d02139\n",
            "Successfully built pyspark\n",
            "Installing collected packages: py4j, pyspark\n",
            "Successfully installed py4j-0.10.9 pyspark-3.1.2\n"
          ],
          "name": "stdout"
        }
      ]
    },
    {
      "cell_type": "code",
      "metadata": {
        "id": "zdXk2pTSFz_D"
      },
      "source": [
        "from pyspark.sql import SparkSession\n",
        "spark = SparkSession.builder.appName('lr_example').getOrCreate()"
      ],
      "execution_count": 3,
      "outputs": []
    },
    {
      "cell_type": "code",
      "metadata": {
        "id": "sAq1kabRFz_K"
      },
      "source": [
        "from pyspark.ml.regression import LinearRegression"
      ],
      "execution_count": 4,
      "outputs": []
    },
    {
      "cell_type": "code",
      "metadata": {
        "id": "tkkFTqHLFz_N"
      },
      "source": [
        "# Use Spark to read in the Ecommerce Customers csv file.\n",
        "data = spark.read.csv(\"Ecommerce_Customers.csv\",inferSchema=True,header=True)"
      ],
      "execution_count": 5,
      "outputs": []
    },
    {
      "cell_type": "code",
      "metadata": {
        "id": "Mp12BvloFz_R",
        "colab": {
          "base_uri": "https://localhost:8080/"
        },
        "outputId": "3d692672-a913-4eed-9868-44d6d3f02093"
      },
      "source": [
        "# Print the Schema of the DataFrame\n",
        "data.printSchema()"
      ],
      "execution_count": 7,
      "outputs": [
        {
          "output_type": "stream",
          "text": [
            "root\n",
            " |-- Email: string (nullable = true)\n",
            " |-- Address: string (nullable = true)\n",
            " |-- Avatar: string (nullable = true)\n",
            " |-- Avg Session Length: double (nullable = true)\n",
            " |-- Time on App: double (nullable = true)\n",
            " |-- Time on Website: double (nullable = true)\n",
            " |-- Length of Membership: double (nullable = true)\n",
            " |-- Yearly Amount Spent: double (nullable = true)\n",
            "\n"
          ],
          "name": "stdout"
        }
      ]
    },
    {
      "cell_type": "code",
      "metadata": {
        "id": "BPWkE2e5Fz_V",
        "colab": {
          "base_uri": "https://localhost:8080/"
        },
        "outputId": "5f3944ce-b67f-4853-e6b9-d035f09e8b0f"
      },
      "source": [
        "data.show()"
      ],
      "execution_count": 8,
      "outputs": [
        {
          "output_type": "stream",
          "text": [
            "+--------------------+--------------------+----------------+------------------+------------------+------------------+--------------------+-------------------+\n",
            "|               Email|             Address|          Avatar|Avg Session Length|       Time on App|   Time on Website|Length of Membership|Yearly Amount Spent|\n",
            "+--------------------+--------------------+----------------+------------------+------------------+------------------+--------------------+-------------------+\n",
            "|mstephenson@ferna...|835 Frank TunnelW...|          Violet| 34.49726772511229| 12.65565114916675| 39.57766801952616|  4.0826206329529615|  587.9510539684005|\n",
            "|   hduke@hotmail.com|4547 Archer Commo...|       DarkGreen| 31.92627202636016|11.109460728682564|37.268958868297744|    2.66403418213262|  392.2049334443264|\n",
            "|    pallen@yahoo.com|24645 Valerie Uni...|          Bisque|33.000914755642675|11.330278057777512|37.110597442120856|   4.104543202376424| 487.54750486747207|\n",
            "|riverarebecca@gma...|1414 David Throug...|     SaddleBrown| 34.30555662975554|13.717513665142507| 36.72128267790313|   3.120178782748092|  581.8523440352177|\n",
            "|mstephens@davidso...|14023 Rodriguez P...|MediumAquaMarine| 33.33067252364639|12.795188551078114| 37.53665330059473|   4.446308318351434|  599.4060920457634|\n",
            "|alvareznancy@luca...|645 Martha Park A...|     FloralWhite|33.871037879341976|12.026925339755056| 34.47687762925054|   5.493507201364199|   637.102447915074|\n",
            "|katherine20@yahoo...|68388 Reyes Light...|   DarkSlateBlue| 32.02159550138701|11.366348309710526| 36.68377615286961|   4.685017246570912|  521.5721747578274|\n",
            "|  awatkins@yahoo.com|Unit 6538 Box 898...|            Aqua|32.739142938380326| 12.35195897300293| 37.37335885854755|  4.4342734348999375|  549.9041461052942|\n",
            "|vchurch@walter-ma...|860 Lee KeyWest D...|          Salmon| 33.98777289568564|13.386235275676436|37.534497341555735|  3.2734335777477144|  570.2004089636196|\n",
            "|    bonnie69@lin.biz|PSC 2734, Box 525...|           Brown|31.936548618448917|11.814128294972196| 37.14516822352819|   3.202806071553459|  427.1993848953282|\n",
            "|andrew06@peterson...|26104 Alexander G...|          Tomato|33.992572774953736|13.338975447662113| 37.22580613162114|   2.482607770510596|  492.6060127179966|\n",
            "|ryanwerner@freema...|Unit 2413 Box 034...|          Tomato| 33.87936082480498|11.584782999535266| 37.08792607098381|    3.71320920294043|  522.3374046069357|\n",
            "|   knelson@gmail.com|6705 Miller Orcha...|       RoyalBlue|29.532428967057943|10.961298400154098| 37.42021557502538|   4.046423164299585|  408.6403510726275|\n",
            "|wrightpeter@yahoo...|05302 Dunlap Ferr...|          Bisque| 33.19033404372265|12.959226091609382|36.144666700041924|   3.918541839158999|  573.4158673313865|\n",
            "|taylormason@gmail...|7773 Powell Sprin...|        DarkBlue|32.387975853153876|13.148725692056516| 36.61995708279922|   2.494543646659249|  470.4527333009554|\n",
            "| jstark@anderson.com|49558 Ramirez Roa...|            Peru|30.737720372628182|12.636606052000127|36.213763093698624|  3.3578468423262944|  461.7807421962299|\n",
            "| wjennings@gmail.com|6362 Wilson Mount...|      PowderBlue| 32.12538689728784|11.733861690857394|  34.8940927514398|  3.1361327164897803| 457.84769594494855|\n",
            "|rebecca45@hale-ba...|8982 Burton RowWi...|       OliveDrab|32.338899323067196|12.013194694014402| 38.38513659413844|   2.420806160901484| 407.70454754954415|\n",
            "|alejandro75@hotma...|64475 Andre Club ...|            Cyan|32.187812045932155|  14.7153875441565| 38.24411459434352|   1.516575580831944|  452.3156754800354|\n",
            "|samuel46@love-wes...|544 Alexander Hei...|   LightSeaGreen| 32.61785606282345|13.989592555825254|37.190503800397956|   4.064548550437977|   605.061038804892|\n",
            "+--------------------+--------------------+----------------+------------------+------------------+------------------+--------------------+-------------------+\n",
            "only showing top 20 rows\n",
            "\n"
          ],
          "name": "stdout"
        }
      ]
    },
    {
      "cell_type": "code",
      "metadata": {
        "id": "pb8k8a0QFz_a",
        "colab": {
          "base_uri": "https://localhost:8080/"
        },
        "outputId": "6e6ec99f-b8d2-452b-e71e-6f179ceeadca"
      },
      "source": [
        "data.head()"
      ],
      "execution_count": 13,
      "outputs": [
        {
          "output_type": "execute_result",
          "data": {
            "text/plain": [
              "Row(Email='mstephenson@fernandez.com', Address='835 Frank TunnelWrightmouth, MI 82180-9605', Avatar='Violet', Avg Session Length=34.49726772511229, Time on App=12.65565114916675, Time on Website=39.57766801952616, Length of Membership=4.0826206329529615, Yearly Amount Spent=587.9510539684005)"
            ]
          },
          "metadata": {
            "tags": []
          },
          "execution_count": 13
        }
      ]
    },
    {
      "cell_type": "code",
      "metadata": {
        "id": "qbb_HFkIFz_e",
        "colab": {
          "base_uri": "https://localhost:8080/"
        },
        "outputId": "d8ed73d8-291b-46e7-f9bc-7db608355bc0"
      },
      "source": [
        "for item in data.head():\n",
        "    print(item)"
      ],
      "execution_count": 15,
      "outputs": [
        {
          "output_type": "stream",
          "text": [
            "mstephenson@fernandez.com\n",
            "835 Frank TunnelWrightmouth, MI 82180-9605\n",
            "Violet\n",
            "34.49726772511229\n",
            "12.65565114916675\n",
            "39.57766801952616\n",
            "4.0826206329529615\n",
            "587.9510539684005\n"
          ],
          "name": "stdout"
        }
      ]
    },
    {
      "cell_type": "markdown",
      "metadata": {
        "id": "LTKuLDosFz_j"
      },
      "source": [
        "## Setting Up DataFrame for Machine Learning "
      ]
    },
    {
      "cell_type": "code",
      "metadata": {
        "id": "5tVfPOKIFz_k"
      },
      "source": [
        "# A few things we need to do before Spark can accept the data!\n",
        "# It needs to be in the form of two columns\n",
        "# (\"label\",\"features\")\n",
        "\n",
        "# Import VectorAssembler and Vectors\n",
        "from pyspark.ml.linalg import Vectors\n",
        "from pyspark.ml.feature import VectorAssembler"
      ],
      "execution_count": 16,
      "outputs": []
    },
    {
      "cell_type": "code",
      "metadata": {
        "id": "X6dzYsT-Fz_o",
        "colab": {
          "base_uri": "https://localhost:8080/"
        },
        "outputId": "9c13b7e5-91a1-4f10-92d9-f7303cea3df5"
      },
      "source": [
        "data.columns"
      ],
      "execution_count": 17,
      "outputs": [
        {
          "output_type": "execute_result",
          "data": {
            "text/plain": [
              "['Email',\n",
              " 'Address',\n",
              " 'Avatar',\n",
              " 'Avg Session Length',\n",
              " 'Time on App',\n",
              " 'Time on Website',\n",
              " 'Length of Membership',\n",
              " 'Yearly Amount Spent']"
            ]
          },
          "metadata": {
            "tags": []
          },
          "execution_count": 17
        }
      ]
    },
    {
      "cell_type": "code",
      "metadata": {
        "id": "4-WqKPRNFz_r"
      },
      "source": [
        "assembler = VectorAssembler(\n",
        "    inputCols=[\"Avg Session Length\", \"Time on App\", \n",
        "               \"Time on Website\",'Length of Membership'],\n",
        "    outputCol=\"features\")"
      ],
      "execution_count": 18,
      "outputs": []
    },
    {
      "cell_type": "code",
      "metadata": {
        "id": "EDwD-_WpFz_v"
      },
      "source": [
        "output = assembler.transform(data)"
      ],
      "execution_count": 19,
      "outputs": []
    },
    {
      "cell_type": "code",
      "metadata": {
        "id": "uSQUX1fmFz_z",
        "colab": {
          "base_uri": "https://localhost:8080/"
        },
        "outputId": "da5ffaf4-c8dc-4387-82cc-ebd010171676"
      },
      "source": [
        "output.select(\"features\").show()"
      ],
      "execution_count": 20,
      "outputs": [
        {
          "output_type": "stream",
          "text": [
            "+--------------------+\n",
            "|            features|\n",
            "+--------------------+\n",
            "|[34.4972677251122...|\n",
            "|[31.9262720263601...|\n",
            "|[33.0009147556426...|\n",
            "|[34.3055566297555...|\n",
            "|[33.3306725236463...|\n",
            "|[33.8710378793419...|\n",
            "|[32.0215955013870...|\n",
            "|[32.7391429383803...|\n",
            "|[33.9877728956856...|\n",
            "|[31.9365486184489...|\n",
            "|[33.9925727749537...|\n",
            "|[33.8793608248049...|\n",
            "|[29.5324289670579...|\n",
            "|[33.1903340437226...|\n",
            "|[32.3879758531538...|\n",
            "|[30.7377203726281...|\n",
            "|[32.1253868972878...|\n",
            "|[32.3388993230671...|\n",
            "|[32.1878120459321...|\n",
            "|[32.6178560628234...|\n",
            "+--------------------+\n",
            "only showing top 20 rows\n",
            "\n"
          ],
          "name": "stdout"
        }
      ]
    },
    {
      "cell_type": "code",
      "metadata": {
        "id": "EL3VY1-oFz_3",
        "colab": {
          "base_uri": "https://localhost:8080/"
        },
        "outputId": "dfb89fcd-4f24-49e1-d824-652191938e6d"
      },
      "source": [
        "output.show()"
      ],
      "execution_count": 21,
      "outputs": [
        {
          "output_type": "stream",
          "text": [
            "+--------------------+--------------------+----------------+------------------+------------------+------------------+--------------------+-------------------+--------------------+\n",
            "|               Email|             Address|          Avatar|Avg Session Length|       Time on App|   Time on Website|Length of Membership|Yearly Amount Spent|            features|\n",
            "+--------------------+--------------------+----------------+------------------+------------------+------------------+--------------------+-------------------+--------------------+\n",
            "|mstephenson@ferna...|835 Frank TunnelW...|          Violet| 34.49726772511229| 12.65565114916675| 39.57766801952616|  4.0826206329529615|  587.9510539684005|[34.4972677251122...|\n",
            "|   hduke@hotmail.com|4547 Archer Commo...|       DarkGreen| 31.92627202636016|11.109460728682564|37.268958868297744|    2.66403418213262|  392.2049334443264|[31.9262720263601...|\n",
            "|    pallen@yahoo.com|24645 Valerie Uni...|          Bisque|33.000914755642675|11.330278057777512|37.110597442120856|   4.104543202376424| 487.54750486747207|[33.0009147556426...|\n",
            "|riverarebecca@gma...|1414 David Throug...|     SaddleBrown| 34.30555662975554|13.717513665142507| 36.72128267790313|   3.120178782748092|  581.8523440352177|[34.3055566297555...|\n",
            "|mstephens@davidso...|14023 Rodriguez P...|MediumAquaMarine| 33.33067252364639|12.795188551078114| 37.53665330059473|   4.446308318351434|  599.4060920457634|[33.3306725236463...|\n",
            "|alvareznancy@luca...|645 Martha Park A...|     FloralWhite|33.871037879341976|12.026925339755056| 34.47687762925054|   5.493507201364199|   637.102447915074|[33.8710378793419...|\n",
            "|katherine20@yahoo...|68388 Reyes Light...|   DarkSlateBlue| 32.02159550138701|11.366348309710526| 36.68377615286961|   4.685017246570912|  521.5721747578274|[32.0215955013870...|\n",
            "|  awatkins@yahoo.com|Unit 6538 Box 898...|            Aqua|32.739142938380326| 12.35195897300293| 37.37335885854755|  4.4342734348999375|  549.9041461052942|[32.7391429383803...|\n",
            "|vchurch@walter-ma...|860 Lee KeyWest D...|          Salmon| 33.98777289568564|13.386235275676436|37.534497341555735|  3.2734335777477144|  570.2004089636196|[33.9877728956856...|\n",
            "|    bonnie69@lin.biz|PSC 2734, Box 525...|           Brown|31.936548618448917|11.814128294972196| 37.14516822352819|   3.202806071553459|  427.1993848953282|[31.9365486184489...|\n",
            "|andrew06@peterson...|26104 Alexander G...|          Tomato|33.992572774953736|13.338975447662113| 37.22580613162114|   2.482607770510596|  492.6060127179966|[33.9925727749537...|\n",
            "|ryanwerner@freema...|Unit 2413 Box 034...|          Tomato| 33.87936082480498|11.584782999535266| 37.08792607098381|    3.71320920294043|  522.3374046069357|[33.8793608248049...|\n",
            "|   knelson@gmail.com|6705 Miller Orcha...|       RoyalBlue|29.532428967057943|10.961298400154098| 37.42021557502538|   4.046423164299585|  408.6403510726275|[29.5324289670579...|\n",
            "|wrightpeter@yahoo...|05302 Dunlap Ferr...|          Bisque| 33.19033404372265|12.959226091609382|36.144666700041924|   3.918541839158999|  573.4158673313865|[33.1903340437226...|\n",
            "|taylormason@gmail...|7773 Powell Sprin...|        DarkBlue|32.387975853153876|13.148725692056516| 36.61995708279922|   2.494543646659249|  470.4527333009554|[32.3879758531538...|\n",
            "| jstark@anderson.com|49558 Ramirez Roa...|            Peru|30.737720372628182|12.636606052000127|36.213763093698624|  3.3578468423262944|  461.7807421962299|[30.7377203726281...|\n",
            "| wjennings@gmail.com|6362 Wilson Mount...|      PowderBlue| 32.12538689728784|11.733861690857394|  34.8940927514398|  3.1361327164897803| 457.84769594494855|[32.1253868972878...|\n",
            "|rebecca45@hale-ba...|8982 Burton RowWi...|       OliveDrab|32.338899323067196|12.013194694014402| 38.38513659413844|   2.420806160901484| 407.70454754954415|[32.3388993230671...|\n",
            "|alejandro75@hotma...|64475 Andre Club ...|            Cyan|32.187812045932155|  14.7153875441565| 38.24411459434352|   1.516575580831944|  452.3156754800354|[32.1878120459321...|\n",
            "|samuel46@love-wes...|544 Alexander Hei...|   LightSeaGreen| 32.61785606282345|13.989592555825254|37.190503800397956|   4.064548550437977|   605.061038804892|[32.6178560628234...|\n",
            "+--------------------+--------------------+----------------+------------------+------------------+------------------+--------------------+-------------------+--------------------+\n",
            "only showing top 20 rows\n",
            "\n"
          ],
          "name": "stdout"
        }
      ]
    },
    {
      "cell_type": "code",
      "metadata": {
        "id": "_dhoOHv2Fz_7"
      },
      "source": [
        "final_data = output.select(\"features\",'Yearly Amount Spent')"
      ],
      "execution_count": 23,
      "outputs": []
    },
    {
      "cell_type": "code",
      "metadata": {
        "id": "-cBj3FrHFz__"
      },
      "source": [
        "train_data,test_data = final_data.randomSplit([0.7,0.3])"
      ],
      "execution_count": 24,
      "outputs": []
    },
    {
      "cell_type": "code",
      "metadata": {
        "id": "LEUau32JF0AD",
        "colab": {
          "base_uri": "https://localhost:8080/"
        },
        "outputId": "fb9bef64-9cf5-4704-c9b9-8eb28e071c1e"
      },
      "source": [
        "train_data.describe().show()"
      ],
      "execution_count": 25,
      "outputs": [
        {
          "output_type": "stream",
          "text": [
            "+-------+-------------------+\n",
            "|summary|Yearly Amount Spent|\n",
            "+-------+-------------------+\n",
            "|  count|                351|\n",
            "|   mean|  500.9316011624868|\n",
            "| stddev|  79.56313415368255|\n",
            "|    min|   266.086340948469|\n",
            "|    max|  765.5184619388373|\n",
            "+-------+-------------------+\n",
            "\n"
          ],
          "name": "stdout"
        }
      ]
    },
    {
      "cell_type": "code",
      "metadata": {
        "id": "5oC2QAnVF0AG",
        "colab": {
          "base_uri": "https://localhost:8080/"
        },
        "outputId": "4783efa0-d810-43d0-968c-f8297b7591c1"
      },
      "source": [
        "test_data.describe().show()"
      ],
      "execution_count": 26,
      "outputs": [
        {
          "output_type": "stream",
          "text": [
            "+-------+-------------------+\n",
            "|summary|Yearly Amount Spent|\n",
            "+-------+-------------------+\n",
            "|  count|                149|\n",
            "|   mean|  495.5035377265932|\n",
            "| stddev|  78.86193369259205|\n",
            "|    min| 256.67058229005585|\n",
            "|    max|  708.9351848669818|\n",
            "+-------+-------------------+\n",
            "\n"
          ],
          "name": "stdout"
        }
      ]
    },
    {
      "cell_type": "code",
      "metadata": {
        "id": "8tQoJ17wF0AJ"
      },
      "source": [
        "# Create a Linear Regression Model object\n",
        "lr = LinearRegression(labelCol='Yearly Amount Spent')"
      ],
      "execution_count": 27,
      "outputs": []
    },
    {
      "cell_type": "code",
      "metadata": {
        "id": "cHODh4rBF0AM"
      },
      "source": [
        "# Fit the model to the data and call this model lrModel\n",
        "lrModel = lr.fit(train_data,)"
      ],
      "execution_count": 28,
      "outputs": []
    },
    {
      "cell_type": "code",
      "metadata": {
        "id": "htNO7LQqF0AP",
        "colab": {
          "base_uri": "https://localhost:8080/"
        },
        "outputId": "db4a963c-0f19-42d7-e909-83a382d2b743"
      },
      "source": [
        "# Print the coefficients and intercept for linear regression\n",
        "print(\"Coefficients: {} Intercept: {}\".format(lrModel.coefficients,lrModel.intercept))"
      ],
      "execution_count": 29,
      "outputs": [
        {
          "output_type": "stream",
          "text": [
            "Coefficients: [25.494416632403286,38.31183729086987,0.4567215658614118,61.66723800391572] Intercept: -1040.1455519517565\n"
          ],
          "name": "stdout"
        }
      ]
    },
    {
      "cell_type": "code",
      "metadata": {
        "id": "MbxOXuwqF0AS"
      },
      "source": [
        "test_results = lrModel.evaluate(test_data)"
      ],
      "execution_count": 30,
      "outputs": []
    },
    {
      "cell_type": "code",
      "metadata": {
        "id": "45sDUlvnF0AV",
        "colab": {
          "base_uri": "https://localhost:8080/"
        },
        "outputId": "2dd0a4dc-eae9-47cb-c914-6274b79321aa"
      },
      "source": [
        "# Interesting results....\n",
        "test_results.residuals.show()"
      ],
      "execution_count": 36,
      "outputs": [
        {
          "output_type": "stream",
          "text": [
            "+-------------------+\n",
            "|          residuals|\n",
            "+-------------------+\n",
            "| -6.328724582123698|\n",
            "| -13.37897169858769|\n",
            "|  2.733130142183768|\n",
            "|  4.065236365257874|\n",
            "|  3.193697895889386|\n",
            "|  2.945947827363341|\n",
            "| -8.737383348708477|\n",
            "| -5.500580168155238|\n",
            "|  18.01652508757047|\n",
            "|-1.3067970350354017|\n",
            "| -4.697474004466642|\n",
            "| 6.8684408304613385|\n",
            "|-1.2063040432693697|\n",
            "|  7.721435255715619|\n",
            "| -4.736275971457758|\n",
            "| -8.762734272947682|\n",
            "|-12.159379980135839|\n",
            "| -6.284964257947877|\n",
            "|  7.835426337127672|\n",
            "| -5.013138385444449|\n",
            "+-------------------+\n",
            "only showing top 20 rows\n",
            "\n"
          ],
          "name": "stdout"
        }
      ]
    },
    {
      "cell_type": "code",
      "metadata": {
        "id": "l_1ApcPPF0AZ"
      },
      "source": [
        "unlabeled_data = test_data.select('features')"
      ],
      "execution_count": 32,
      "outputs": []
    },
    {
      "cell_type": "code",
      "metadata": {
        "id": "6ygIKBMaF0Ad"
      },
      "source": [
        "predictions = lrModel.transform(unlabeled_data)"
      ],
      "execution_count": 33,
      "outputs": []
    },
    {
      "cell_type": "code",
      "metadata": {
        "id": "vcOiBbrfF0Ai",
        "colab": {
          "base_uri": "https://localhost:8080/"
        },
        "outputId": "fab93e1f-1e74-454e-9108-13859f8f3798"
      },
      "source": [
        "predictions.show(2)"
      ],
      "execution_count": 35,
      "outputs": [
        {
          "output_type": "stream",
          "text": [
            "+--------------------+------------------+\n",
            "|            features|        prediction|\n",
            "+--------------------+------------------+\n",
            "|[31.0613251567161...| 493.8841826400253|\n",
            "|[31.0662181616375...|462.31226490626204|\n",
            "+--------------------+------------------+\n",
            "only showing top 2 rows\n",
            "\n"
          ],
          "name": "stdout"
        }
      ]
    },
    {
      "cell_type": "code",
      "metadata": {
        "id": "JYanlnM-F0Am",
        "colab": {
          "base_uri": "https://localhost:8080/"
        },
        "outputId": "ecb456c1-c748-4204-a88e-11875ca3935b"
      },
      "source": [
        "print(\"RMSE: {}\".format(test_results.rootMeanSquaredError))\n",
        "print(\"MSE: {}\".format(test_results.meanSquaredError))"
      ],
      "execution_count": 37,
      "outputs": [
        {
          "output_type": "stream",
          "text": [
            "RMSE: 9.723341467625735\n",
            "MSE: 94.54336929605019\n"
          ],
          "name": "stdout"
        }
      ]
    },
    {
      "cell_type": "markdown",
      "metadata": {
        "id": "Mo8swGTkF0Ap"
      },
      "source": [
        "Excellent results! Let's see how you handle some more realistically modeled data in the Consulting Project!"
      ]
    }
  ]
}