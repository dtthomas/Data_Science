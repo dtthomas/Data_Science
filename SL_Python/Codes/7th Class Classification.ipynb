{
 "cells": [
  {
   "cell_type": "markdown",
   "metadata": {},
   "source": [
    "# LOGISTIC REGRESSION"
   ]
  },
  {
   "cell_type": "code",
   "execution_count": 1,
   "metadata": {},
   "outputs": [],
   "source": [
    "#Import the Library\n",
    "import numpy as np\n",
    "import pandas as pd\n",
    "import matplotlib.pyplot as plt"
   ]
  },
  {
   "cell_type": "code",
   "execution_count": 3,
   "metadata": {},
   "outputs": [],
   "source": [
    "#Import the dataset\n",
    "dataset = pd.read_csv('Social_Network_Ads.csv')\n",
    "dataset\n",
    "X = dataset.iloc[:,:-1].values #independent\n",
    "y = dataset.iloc[:,-1].values"
   ]
  },
  {
   "cell_type": "code",
   "execution_count": 7,
   "metadata": {},
   "outputs": [],
   "source": [
    "# Taking Care of the Missing of the Value\n",
    "from sklearn.impute import SimpleImputer\n",
    "imputer = SimpleImputer(missing_values = np.nan,strategy = 'mean')\n",
    "imputer.fit(X)\n",
    "X = imputer.transform(X)"
   ]
  },
  {
   "cell_type": "code",
   "execution_count": 11,
   "metadata": {},
   "outputs": [],
   "source": [
    "# Split the dataset into the training and the test set\n",
    "from sklearn.model_selection import train_test_split\n",
    "X_train, X_test, y_train, y_test = train_test_split(X,y,test_size = 0.2,random_state = 2)"
   ]
  },
  {
   "cell_type": "code",
   "execution_count": 12,
   "metadata": {},
   "outputs": [
    {
     "data": {
      "text/plain": [
       "array([[2.90e+01, 8.30e+04],\n",
       "       [2.10e+01, 1.60e+04],\n",
       "       [3.70e+01, 5.30e+04],\n",
       "       [2.90e+01, 7.50e+04],\n",
       "       [5.40e+01, 7.00e+04],\n",
       "       [4.70e+01, 2.00e+04],\n",
       "       [2.30e+01, 8.20e+04],\n",
       "       [2.80e+01, 3.20e+04],\n",
       "       [4.00e+01, 6.00e+04],\n",
       "       [3.60e+01, 1.26e+05],\n",
       "       [2.40e+01, 2.30e+04],\n",
       "       [2.20e+01, 2.70e+04],\n",
       "       [3.20e+01, 1.17e+05],\n",
       "       [4.50e+01, 7.90e+04],\n",
       "       [3.50e+01, 5.90e+04],\n",
       "       [3.30e+01, 4.30e+04],\n",
       "       [1.90e+01, 7.00e+04],\n",
       "       [6.00e+01, 4.20e+04],\n",
       "       [5.30e+01, 7.20e+04],\n",
       "       [2.60e+01, 4.30e+04],\n",
       "       [3.70e+01, 7.80e+04],\n",
       "       [4.50e+01, 4.50e+04],\n",
       "       [3.00e+01, 6.20e+04],\n",
       "       [3.60e+01, 3.30e+04],\n",
       "       [2.50e+01, 8.00e+04],\n",
       "       [4.50e+01, 3.20e+04],\n",
       "       [4.50e+01, 2.20e+04],\n",
       "       [4.00e+01, 5.70e+04],\n",
       "       [4.40e+01, 1.39e+05],\n",
       "       [3.20e+01, 1.00e+05],\n",
       "       [2.40e+01, 5.50e+04],\n",
       "       [4.10e+01, 5.20e+04],\n",
       "       [4.60e+01, 2.30e+04],\n",
       "       [3.80e+01, 5.90e+04],\n",
       "       [3.20e+01, 1.50e+05],\n",
       "       [3.50e+01, 9.10e+04],\n",
       "       [4.80e+01, 7.40e+04],\n",
       "       [3.50e+01, 2.30e+04],\n",
       "       [2.90e+01, 4.30e+04],\n",
       "       [4.70e+01, 1.07e+05],\n",
       "       [3.50e+01, 3.90e+04],\n",
       "       [4.20e+01, 6.50e+04],\n",
       "       [2.70e+01, 8.80e+04],\n",
       "       [4.20e+01, 8.00e+04],\n",
       "       [1.80e+01, 6.80e+04],\n",
       "       [4.70e+01, 5.10e+04],\n",
       "       [2.40e+01, 8.40e+04],\n",
       "       [4.70e+01, 3.40e+04],\n",
       "       [4.80e+01, 1.19e+05],\n",
       "       [2.60e+01, 1.50e+04],\n",
       "       [2.70e+01, 9.60e+04],\n",
       "       [4.20e+01, 1.49e+05],\n",
       "       [3.40e+01, 7.20e+04],\n",
       "       [3.90e+01, 7.90e+04],\n",
       "       [2.60e+01, 1.18e+05],\n",
       "       [2.20e+01, 6.30e+04],\n",
       "       [4.10e+01, 3.00e+04],\n",
       "       [4.20e+01, 1.08e+05],\n",
       "       [4.30e+01, 1.33e+05],\n",
       "       [3.10e+01, 7.40e+04],\n",
       "       [2.60e+01, 8.40e+04],\n",
       "       [5.90e+01, 1.30e+05],\n",
       "       [5.80e+01, 9.50e+04],\n",
       "       [4.10e+01, 7.10e+04],\n",
       "       [2.50e+01, 9.00e+04],\n",
       "       [3.50e+01, 1.47e+05],\n",
       "       [4.50e+01, 2.60e+04],\n",
       "       [3.60e+01, 5.40e+04],\n",
       "       [3.10e+01, 6.80e+04],\n",
       "       [5.70e+01, 2.60e+04],\n",
       "       [3.70e+01, 6.20e+04],\n",
       "       [5.80e+01, 1.01e+05],\n",
       "       [3.30e+01, 5.10e+04],\n",
       "       [2.90e+01, 4.30e+04],\n",
       "       [5.60e+01, 1.33e+05],\n",
       "       [3.50e+01, 7.20e+04],\n",
       "       [6.00e+01, 1.02e+05],\n",
       "       [2.40e+01, 5.80e+04],\n",
       "       [5.50e+01, 1.25e+05],\n",
       "       [2.00e+01, 8.20e+04]])"
      ]
     },
     "execution_count": 12,
     "metadata": {},
     "output_type": "execute_result"
    }
   ],
   "source": [
    "X_test"
   ]
  },
  {
   "cell_type": "code",
   "execution_count": 13,
   "metadata": {},
   "outputs": [],
   "source": [
    "# Feature Scaling\n",
    "from sklearn.preprocessing import StandardScaler\n",
    "sc = StandardScaler()\n",
    "X_train = sc.fit_transform(X_train)\n",
    "X_test = sc.transform(X_test)"
   ]
  },
  {
   "cell_type": "code",
   "execution_count": 14,
   "metadata": {},
   "outputs": [
    {
     "data": {
      "text/plain": [
       "array([[-0.84826272,  0.40218125],\n",
       "       [-1.62050759, -1.57325199],\n",
       "       [-0.07601785, -0.48234109],\n",
       "       [-0.84826272,  0.16630863],\n",
       "       [ 1.56500249,  0.01888824],\n",
       "       [ 0.88928823, -1.45531567],\n",
       "       [-1.42744637,  0.37269718],\n",
       "       [-0.94479333, -1.10150673],\n",
       "       [ 0.21357397, -0.27595254],\n",
       "       [-0.17254846,  1.66999662],\n",
       "       [-1.33091576, -1.36686344],\n",
       "       [-1.52397698, -1.24892713],\n",
       "       [-0.5586709 ,  1.40463991],\n",
       "       [ 0.69622701,  0.28424494],\n",
       "       [-0.26907907, -0.30543662],\n",
       "       [-0.46214029, -0.77718187],\n",
       "       [-1.8135688 ,  0.01888824],\n",
       "       [ 2.14418614, -0.80666595],\n",
       "       [ 1.46847188,  0.07785639],\n",
       "       [-1.13785454, -0.77718187],\n",
       "       [-0.07601785,  0.25476086],\n",
       "       [ 0.69622701, -0.71821372],\n",
       "       [-0.75173211, -0.21698439],\n",
       "       [-0.17254846, -1.07202266],\n",
       "       [-1.23438515,  0.31372902],\n",
       "       [ 0.69622701, -1.10150673],\n",
       "       [ 0.69622701, -1.39634752],\n",
       "       [ 0.21357397, -0.36440478],\n",
       "       [ 0.5996964 ,  2.05328964],\n",
       "       [-0.5586709 ,  0.90341058],\n",
       "       [-1.33091576, -0.42337294],\n",
       "       [ 0.31010458, -0.51182517],\n",
       "       [ 0.79275762, -1.36686344],\n",
       "       [ 0.02051275, -0.30543662],\n",
       "       [-0.5586709 ,  2.3776145 ],\n",
       "       [-0.26907907,  0.63805388],\n",
       "       [ 0.98581884,  0.13682455],\n",
       "       [-0.26907907, -1.36686344],\n",
       "       [-0.84826272, -0.77718187],\n",
       "       [ 0.88928823,  1.10979913],\n",
       "       [-0.26907907, -0.89511819],\n",
       "       [ 0.40663519, -0.12853215],\n",
       "       [-1.04132394,  0.54960165],\n",
       "       [ 0.40663519,  0.31372902],\n",
       "       [-1.91009941, -0.04007992],\n",
       "       [ 0.88928823, -0.54130925],\n",
       "       [-1.33091576,  0.43166533],\n",
       "       [ 0.88928823, -1.04253858],\n",
       "       [ 0.98581884,  1.46360807],\n",
       "       [-1.13785454, -1.60273606],\n",
       "       [-1.04132394,  0.78547427],\n",
       "       [ 0.40663519,  2.34813042],\n",
       "       [-0.36560968,  0.07785639],\n",
       "       [ 0.11704336,  0.28424494],\n",
       "       [-1.13785454,  1.43412399],\n",
       "       [-1.52397698, -0.18750031],\n",
       "       [ 0.31010458, -1.16047489],\n",
       "       [ 0.40663519,  1.13928321],\n",
       "       [ 0.5031658 ,  1.87638517],\n",
       "       [-0.6552015 ,  0.13682455],\n",
       "       [-1.13785454,  0.43166533],\n",
       "       [ 2.04765553,  1.78793293],\n",
       "       [ 1.95112492,  0.75599019],\n",
       "       [ 0.31010458,  0.04837232],\n",
       "       [-1.23438515,  0.6085698 ],\n",
       "       [-0.26907907,  2.28916226],\n",
       "       [ 0.69622701, -1.2784112 ],\n",
       "       [-0.17254846, -0.45285701],\n",
       "       [-0.6552015 , -0.04007992],\n",
       "       [ 1.85459431, -1.2784112 ],\n",
       "       [-0.07601785, -0.21698439],\n",
       "       [ 1.95112492,  0.93289466],\n",
       "       [-0.46214029, -0.54130925],\n",
       "       [-0.84826272, -0.77718187],\n",
       "       [ 1.7580637 ,  1.87638517],\n",
       "       [-0.26907907,  0.07785639],\n",
       "       [ 2.14418614,  0.96237874],\n",
       "       [-1.33091576, -0.3349207 ],\n",
       "       [ 1.66153309,  1.64051254],\n",
       "       [-1.71703819,  0.37269718]])"
      ]
     },
     "execution_count": 14,
     "metadata": {},
     "output_type": "execute_result"
    }
   ],
   "source": [
    "X_test"
   ]
  },
  {
   "cell_type": "code",
   "execution_count": 15,
   "metadata": {},
   "outputs": [
    {
     "data": {
      "text/plain": [
       "LogisticRegression(C=1.0, class_weight=None, dual=False, fit_intercept=True,\n",
       "                   intercept_scaling=1, l1_ratio=None, max_iter=100,\n",
       "                   multi_class='auto', n_jobs=None, penalty='l2',\n",
       "                   random_state=2, solver='lbfgs', tol=0.0001, verbose=0,\n",
       "                   warm_start=False)"
      ]
     },
     "execution_count": 15,
     "metadata": {},
     "output_type": "execute_result"
    }
   ],
   "source": [
    "# Training the Logistic Regression Model on the Training Set\n",
    "from sklearn.linear_model import LogisticRegression\n",
    "classifier = LogisticRegression(random_state = 2)\n",
    "classifier.fit(X_train,y_train)"
   ]
  },
  {
   "cell_type": "code",
   "execution_count": 21,
   "metadata": {},
   "outputs": [
    {
     "name": "stdout",
     "output_type": "stream",
     "text": [
      "[0]\n"
     ]
    }
   ],
   "source": [
    "#Prediction\n",
    "print(classifier.predict(sc.transform([[35,88000]])))"
   ]
  },
  {
   "cell_type": "code",
   "execution_count": 19,
   "metadata": {},
   "outputs": [
    {
     "name": "stdout",
     "output_type": "stream",
     "text": [
      "[[0 0]\n",
      " [0 0]\n",
      " [0 0]\n",
      " [0 0]\n",
      " [1 1]\n",
      " [0 1]\n",
      " [0 0]\n",
      " [0 0]\n",
      " [0 0]\n",
      " [1 1]\n",
      " [0 0]\n",
      " [0 0]\n",
      " [0 1]\n",
      " [1 0]\n",
      " [0 0]\n",
      " [0 0]\n",
      " [0 0]\n",
      " [1 1]\n",
      " [1 1]\n",
      " [0 0]\n",
      " [0 1]\n",
      " [0 1]\n",
      " [0 0]\n",
      " [0 0]\n",
      " [0 0]\n",
      " [0 1]\n",
      " [0 1]\n",
      " [0 0]\n",
      " [1 1]\n",
      " [0 1]\n",
      " [0 0]\n",
      " [0 0]\n",
      " [0 1]\n",
      " [0 0]\n",
      " [1 1]\n",
      " [0 1]\n",
      " [1 1]\n",
      " [0 0]\n",
      " [0 0]\n",
      " [1 1]\n",
      " [0 0]\n",
      " [0 0]\n",
      " [0 0]\n",
      " [1 0]\n",
      " [0 0]\n",
      " [1 1]\n",
      " [0 0]\n",
      " [0 1]\n",
      " [1 1]\n",
      " [0 0]\n",
      " [0 1]\n",
      " [1 1]\n",
      " [0 0]\n",
      " [0 0]\n",
      " [0 0]\n",
      " [0 0]\n",
      " [0 0]\n",
      " [1 1]\n",
      " [1 0]\n",
      " [0 0]\n",
      " [0 0]\n",
      " [1 1]\n",
      " [1 1]\n",
      " [0 0]\n",
      " [0 0]\n",
      " [1 1]\n",
      " [0 1]\n",
      " [0 0]\n",
      " [0 0]\n",
      " [1 1]\n",
      " [0 0]\n",
      " [1 1]\n",
      " [0 0]\n",
      " [0 0]\n",
      " [1 1]\n",
      " [0 0]\n",
      " [1 1]\n",
      " [0 0]\n",
      " [1 1]\n",
      " [0 0]]\n"
     ]
    }
   ],
   "source": [
    "y_pred = classifier.predict(X_test)\n",
    "print(np.concatenate((y_pred.reshape(len(y_pred),1),y_test.reshape(len(y_test),1)),1))"
   ]
  }
 ],
 "metadata": {
  "kernelspec": {
   "display_name": "Python 3",
   "language": "python",
   "name": "python3"
  },
  "language_info": {
   "codemirror_mode": {
    "name": "ipython",
    "version": 3
   },
   "file_extension": ".py",
   "mimetype": "text/x-python",
   "name": "python",
   "nbconvert_exporter": "python",
   "pygments_lexer": "ipython3",
   "version": "3.7.6"
  }
 },
 "nbformat": 4,
 "nbformat_minor": 4
}
