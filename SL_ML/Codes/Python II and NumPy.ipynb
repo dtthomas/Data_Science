{
 "cells": [
  {
   "cell_type": "code",
   "execution_count": null,
   "metadata": {
    "colab": {
     "base_uri": "https://localhost:8080/"
    },
    "executionInfo": {
     "elapsed": 9016,
     "status": "ok",
     "timestamp": 1615873997240,
     "user": {
      "displayName": "IoT ahmed",
      "photoUrl": "",
      "userId": "17443931198187779948"
     },
     "user_tz": -330
    },
    "id": "aAFFyczfh9O7",
    "outputId": "4fe51981-940f-4184-b621-6b14d3ce6279"
   },
   "outputs": [
    {
     "name": "stdout",
     "output_type": "stream",
     "text": [
      "Enter your name please : \n",
      "liq\n",
      "Enter the Weight : \n",
      "80\n",
      "Dear liq, your weight is 80 in Kgs\n"
     ]
    }
   ],
   "source": [
    "name = input(\"Enter your name please : \\n\")\n",
    "weight = int(input(\"Enter the Weight : \\n\"))\n",
    "\n",
    "print(\"Dear \" + name + \", your weight is \" + str(weight) + \" in Kgs\")"
   ]
  },
  {
   "cell_type": "code",
   "execution_count": null,
   "metadata": {
    "colab": {
     "base_uri": "https://localhost:8080/"
    },
    "executionInfo": {
     "elapsed": 883,
     "status": "ok",
     "timestamp": 1615874214166,
     "user": {
      "displayName": "IoT ahmed",
      "photoUrl": "",
      "userId": "17443931198187779948"
     },
     "user_tz": -330
    },
    "id": "5JTkKe7olNae",
    "outputId": "e5565e88-f673-4bbe-a737-72711e1ff9dc"
   },
   "outputs": [
    {
     "name": "stdout",
     "output_type": "stream",
     "text": [
      "Dear liq, your weight is 80 in Kgs\n"
     ]
    }
   ],
   "source": [
    "print(\"Hello \",name,\",Your age is \",age,\" years.\")\n",
    "print(f\"Dear {name}, your weight is {weight} in Kgs\")"
   ]
  },
  {
   "cell_type": "markdown",
   "metadata": {
    "id": "hXboraYrnnNf"
   },
   "source": [
    "Conditions"
   ]
  },
  {
   "cell_type": "code",
   "execution_count": null,
   "metadata": {
    "colab": {
     "base_uri": "https://localhost:8080/"
    },
    "executionInfo": {
     "elapsed": 5376,
     "status": "ok",
     "timestamp": 1615875205737,
     "user": {
      "displayName": "IoT ahmed",
      "photoUrl": "",
      "userId": "17443931198187779948"
     },
     "user_tz": -330
    },
    "id": "hqWVBrnnm8VH",
    "outputId": "a463e016-8715-474f-9744-de8fa7061bd1"
   },
   "outputs": [
    {
     "name": "stdout",
     "output_type": "stream",
     "text": [
      "Enter the Temperature : \n",
      "14\n",
      "It's a pleasant day\n"
     ]
    }
   ],
   "source": [
    "temp = int(input(\"Enter the Temperature : \\n\"))\n",
    "\n",
    "if temp > 30:\n",
    "  print(\"It's a hot day\")\n",
    "\n",
    "elif temp < 12:\n",
    "  print(\"It's a cold day\")\n",
    "\n",
    "else:\n",
    "  print(\"It's a pleasant day\")"
   ]
  },
  {
   "cell_type": "markdown",
   "metadata": {
    "id": "bygp8veErLmG"
   },
   "source": [
    "Assigment 1:\n",
    "1. Take the user name of user:\n",
    "2. username should be in between 3-10 chars\n",
    "3. if not, then give the error message to the user"
   ]
  },
  {
   "cell_type": "code",
   "execution_count": null,
   "metadata": {
    "colab": {
     "base_uri": "https://localhost:8080/"
    },
    "executionInfo": {
     "elapsed": 1008,
     "status": "ok",
     "timestamp": 1615875923217,
     "user": {
      "displayName": "IoT ahmed",
      "photoUrl": "",
      "userId": "17443931198187779948"
     },
     "user_tz": -330
    },
    "id": "N3Nkn2FhoutZ",
    "outputId": "151cf31d-2056-4308-dc5e-b1a181be5820"
   },
   "outputs": [
    {
     "name": "stdout",
     "output_type": "stream",
     "text": [
      "Not Eligible\n"
     ]
    }
   ],
   "source": [
    "high_income = True\n",
    "good_credit_score = False\n",
    "\n",
    "if high_income and good_credit_score:\n",
    "  print(\"Eligible for loan\")\n",
    "\n",
    "else:\n",
    "  print(\"Not Eligible\")"
   ]
  },
  {
   "cell_type": "code",
   "execution_count": null,
   "metadata": {
    "colab": {
     "base_uri": "https://localhost:8080/"
    },
    "executionInfo": {
     "elapsed": 996,
     "status": "ok",
     "timestamp": 1615876082702,
     "user": {
      "displayName": "IoT ahmed",
      "photoUrl": "",
      "userId": "17443931198187779948"
     },
     "user_tz": -330
    },
    "id": "q9w58ZNdta6Y",
    "outputId": "c8bebe8b-118a-4985-b073-65af5e6c1fd6"
   },
   "outputs": [
    {
     "name": "stdout",
     "output_type": "stream",
     "text": [
      "Eligible for loan\n"
     ]
    }
   ],
   "source": [
    "high_income = True\n",
    "good_credit_score = False\n",
    "\n",
    "if high_income or good_credit_score:\n",
    "  print(\"Eligible for loan\")\n",
    "\n",
    "else:\n",
    "  print(\"Not Eligible\")"
   ]
  },
  {
   "cell_type": "markdown",
   "metadata": {
    "id": "3Z4KZQFjuGqY"
   },
   "source": [
    "Assigmnet 2:\n",
    "1. Price of the house is 500000\n",
    "2. Check credit history of loan applicant\n",
    "3. If they have good ch, they pay 10% as down payment\n",
    "4. If they don't have good ch, they pay 20% as down payment\n",
    "5. This conditions have to be printed along with exact amount to be paid"
   ]
  },
  {
   "cell_type": "code",
   "execution_count": null,
   "metadata": {
    "colab": {
     "base_uri": "https://localhost:8080/"
    },
    "executionInfo": {
     "elapsed": 862,
     "status": "ok",
     "timestamp": 1615876620138,
     "user": {
      "displayName": "IoT ahmed",
      "photoUrl": "",
      "userId": "17443931198187779948"
     },
     "user_tz": -330
    },
    "id": "eVYTkTyyt-_n",
    "outputId": "a52c0956-d9ce-44a5-e157-4e4709fe429e"
   },
   "outputs": [
    {
     "name": "stdout",
     "output_type": "stream",
     "text": [
      "0\n",
      "1\n",
      "2\n",
      "3\n",
      "4\n"
     ]
    }
   ],
   "source": [
    "for number in range(5):\n",
    "  print(number)\n"
   ]
  },
  {
   "cell_type": "code",
   "execution_count": null,
   "metadata": {
    "colab": {
     "base_uri": "https://localhost:8080/"
    },
    "executionInfo": {
     "elapsed": 908,
     "status": "ok",
     "timestamp": 1615876716730,
     "user": {
      "displayName": "IoT ahmed",
      "photoUrl": "",
      "userId": "17443931198187779948"
     },
     "user_tz": -330
    },
    "id": "W4scyb0jwHur",
    "outputId": "8f43b154-6f24-4b2d-93da-878dfc267cf1"
   },
   "outputs": [
    {
     "data": {
      "text/plain": [
       "4"
      ]
     },
     "execution_count": 26,
     "metadata": {
      "tags": []
     },
     "output_type": "execute_result"
    }
   ],
   "source": [
    "number \n"
   ]
  },
  {
   "cell_type": "code",
   "execution_count": null,
   "metadata": {
    "colab": {
     "base_uri": "https://localhost:8080/"
    },
    "executionInfo": {
     "elapsed": 1022,
     "status": "ok",
     "timestamp": 1615876948137,
     "user": {
      "displayName": "IoT ahmed",
      "photoUrl": "",
      "userId": "17443931198187779948"
     },
     "user_tz": -330
    },
    "id": "tJ3X1MRdwfT1",
    "outputId": "3beb69e9-9ebb-4e8b-a174-19f912411a8f"
   },
   "outputs": [
    {
     "name": "stdout",
     "output_type": "stream",
     "text": [
      "0\n",
      "2\n",
      "4\n",
      "6\n",
      "8\n",
      "done\n"
     ]
    }
   ],
   "source": [
    "for number in range(0,10,2):\n",
    "  print(number)\n",
    "\n",
    "\n",
    "print(\"done\")"
   ]
  },
  {
   "cell_type": "code",
   "execution_count": null,
   "metadata": {
    "colab": {
     "base_uri": "https://localhost:8080/"
    },
    "executionInfo": {
     "elapsed": 1048,
     "status": "ok",
     "timestamp": 1615877062089,
     "user": {
      "displayName": "IoT ahmed",
      "photoUrl": "",
      "userId": "17443931198187779948"
     },
     "user_tz": -330
    },
    "id": "pT9hvrdBwtQz",
    "outputId": "f7eb7222-0a26-4076-f747-183ebf27fa3f"
   },
   "outputs": [
    {
     "name": "stdout",
     "output_type": "stream",
     "text": [
      "Iteration 0\n",
      "Iteration 1\n",
      "Iteration 2\n",
      "Iteration 3\n",
      "Iteration 4\n"
     ]
    }
   ],
   "source": [
    "for number in range(5):\n",
    "  print(\"Iteration\", number)"
   ]
  },
  {
   "cell_type": "code",
   "execution_count": null,
   "metadata": {
    "colab": {
     "base_uri": "https://localhost:8080/"
    },
    "executionInfo": {
     "elapsed": 1095,
     "status": "ok",
     "timestamp": 1615877219089,
     "user": {
      "displayName": "IoT ahmed",
      "photoUrl": "",
      "userId": "17443931198187779948"
     },
     "user_tz": -330
    },
    "id": "ycj5sMW5xzlH",
    "outputId": "bdd61853-d23a-45b5-acbc-768de3d894e3"
   },
   "outputs": [
    {
     "name": "stdout",
     "output_type": "stream",
     "text": [
      "Iteration 0 \n",
      "Iteration 1 *\n",
      "Iteration 2 **\n",
      "Iteration 3 ***\n",
      "Iteration 4 ****\n"
     ]
    }
   ],
   "source": [
    "for number in range(5):\n",
    "  print(\"Iteration\", number, number *\"*\")"
   ]
  },
  {
   "cell_type": "code",
   "execution_count": null,
   "metadata": {
    "colab": {
     "base_uri": "https://localhost:8080/"
    },
    "executionInfo": {
     "elapsed": 986,
     "status": "ok",
     "timestamp": 1615877591132,
     "user": {
      "displayName": "IoT ahmed",
      "photoUrl": "",
      "userId": "17443931198187779948"
     },
     "user_tz": -330
    },
    "id": "sIQY3Ft0yL6s",
    "outputId": "90b35597-5e18-4551-e53f-717049bde9cf"
   },
   "outputs": [
    {
     "name": "stdout",
     "output_type": "stream",
     "text": [
      "*\n",
      "**\n",
      "***\n",
      "****\n",
      "*****\n",
      "Done\n"
     ]
    }
   ],
   "source": [
    "i = 1\n",
    "while i <= 5:\n",
    "  print('*' * i)\n",
    "  i += 1 # i = i + 1 - Augmented Operator\n",
    "\n",
    "print(\"Done\")"
   ]
  },
  {
   "cell_type": "code",
   "execution_count": null,
   "metadata": {
    "colab": {
     "base_uri": "https://localhost:8080/"
    },
    "executionInfo": {
     "elapsed": 7252,
     "status": "ok",
     "timestamp": 1615878305728,
     "user": {
      "displayName": "IoT ahmed",
      "photoUrl": "",
      "userId": "17443931198187779948"
     },
     "user_tz": -330
    },
    "id": "qhRxoaGNzdpb",
    "outputId": "ba5a8c0c-26b6-456a-b6da-3549ccf22896"
   },
   "outputs": [
    {
     "name": "stdout",
     "output_type": "stream",
     "text": [
      ">Help\n",
      "start: to start the car\n",
      "stop: to stop the car\n"
     ]
    }
   ],
   "source": [
    "help = input(\">\")\n",
    "while help.lower() == \"help\":\n",
    "  print(\"start: to start the car\")\n",
    "  print(\"stop: to stop the car\")\n",
    "  break\n",
    "\n",
    "else:\n",
    "  print(\"Invalid input\")"
   ]
  },
  {
   "cell_type": "code",
   "execution_count": null,
   "metadata": {
    "id": "UlX2KhqV1bgq"
   },
   "outputs": [],
   "source": [
    "list1 = [10, 12, 30, 40, 45]"
   ]
  },
  {
   "cell_type": "code",
   "execution_count": null,
   "metadata": {
    "id": "wqhS3VYW3vRB"
   },
   "outputs": [],
   "source": [
    "list2 = [32,45,32,12,23]"
   ]
  },
  {
   "cell_type": "code",
   "execution_count": null,
   "metadata": {
    "colab": {
     "base_uri": "https://localhost:8080/"
    },
    "executionInfo": {
     "elapsed": 1560,
     "status": "ok",
     "timestamp": 1615878478070,
     "user": {
      "displayName": "IoT ahmed",
      "photoUrl": "",
      "userId": "17443931198187779948"
     },
     "user_tz": -330
    },
    "id": "2APCAeF53LTo",
    "outputId": "b4907e29-d076-42b1-a62e-945f1200a6f9"
   },
   "outputs": [
    {
     "data": {
      "text/plain": [
       "list"
      ]
     },
     "execution_count": 43,
     "metadata": {
      "tags": []
     },
     "output_type": "execute_result"
    }
   ],
   "source": [
    "type(list1)"
   ]
  },
  {
   "cell_type": "code",
   "execution_count": null,
   "metadata": {
    "id": "vkculC3C3NJh"
   },
   "outputs": [],
   "source": [
    "letters = [\"a\",\"b\",\"c\",\"d\",\"e\"]"
   ]
  },
  {
   "cell_type": "code",
   "execution_count": null,
   "metadata": {
    "id": "W7EwJzMj3lAw"
   },
   "outputs": [],
   "source": [
    "mix = [1,2,3,4, \"a\",\"b\"]"
   ]
  },
  {
   "cell_type": "code",
   "execution_count": null,
   "metadata": {
    "id": "iAIGTiOr3suT"
   },
   "outputs": [],
   "source": [
    "list3 = list1 + list2"
   ]
  },
  {
   "cell_type": "code",
   "execution_count": null,
   "metadata": {
    "colab": {
     "base_uri": "https://localhost:8080/"
    },
    "executionInfo": {
     "elapsed": 998,
     "status": "ok",
     "timestamp": 1615878687633,
     "user": {
      "displayName": "IoT ahmed",
      "photoUrl": "",
      "userId": "17443931198187779948"
     },
     "user_tz": -330
    },
    "id": "21uQTYlZ3_mh",
    "outputId": "0ea02d4f-1fb7-474b-ddcc-71bbd95d4330"
   },
   "outputs": [
    {
     "data": {
      "text/plain": [
       "[10, 12, 30, 40, 45, 32, 45, 32, 12, 23]"
      ]
     },
     "execution_count": 48,
     "metadata": {
      "tags": []
     },
     "output_type": "execute_result"
    }
   ],
   "source": [
    "list3"
   ]
  },
  {
   "cell_type": "code",
   "execution_count": null,
   "metadata": {
    "id": "qYqGDbDe4AdR"
   },
   "outputs": [],
   "source": [
    "list1 = list(range(15))"
   ]
  },
  {
   "cell_type": "code",
   "execution_count": null,
   "metadata": {
    "colab": {
     "base_uri": "https://localhost:8080/"
    },
    "executionInfo": {
     "elapsed": 1042,
     "status": "ok",
     "timestamp": 1615878782629,
     "user": {
      "displayName": "IoT ahmed",
      "photoUrl": "",
      "userId": "17443931198187779948"
     },
     "user_tz": -330
    },
    "id": "zqLjQjBM4R_-",
    "outputId": "2b2302c8-024b-4769-b3a8-6d4530ae3225"
   },
   "outputs": [
    {
     "data": {
      "text/plain": [
       "[0, 1, 2, 3, 4, 5, 6, 7, 8, 9, 10, 11, 12, 13, 14]"
      ]
     },
     "execution_count": 51,
     "metadata": {
      "tags": []
     },
     "output_type": "execute_result"
    }
   ],
   "source": [
    "list1"
   ]
  },
  {
   "cell_type": "code",
   "execution_count": null,
   "metadata": {
    "id": "kt9AnBo14Xgc"
   },
   "outputs": [],
   "source": [
    "list2.sort()"
   ]
  },
  {
   "cell_type": "code",
   "execution_count": null,
   "metadata": {
    "colab": {
     "base_uri": "https://localhost:8080/"
    },
    "executionInfo": {
     "elapsed": 1083,
     "status": "ok",
     "timestamp": 1615878814825,
     "user": {
      "displayName": "IoT ahmed",
      "photoUrl": "",
      "userId": "17443931198187779948"
     },
     "user_tz": -330
    },
    "id": "2JzgyKL54d0o",
    "outputId": "d11d89f0-c978-4776-ec6c-8bbe6317a0f4"
   },
   "outputs": [
    {
     "data": {
      "text/plain": [
       "[12, 23, 32, 32, 45]"
      ]
     },
     "execution_count": 53,
     "metadata": {
      "tags": []
     },
     "output_type": "execute_result"
    }
   ],
   "source": [
    "list2"
   ]
  },
  {
   "cell_type": "code",
   "execution_count": null,
   "metadata": {
    "id": "UP5LaH9-4fe1"
   },
   "outputs": [],
   "source": [
    "list2.append(20)"
   ]
  },
  {
   "cell_type": "code",
   "execution_count": null,
   "metadata": {
    "colab": {
     "base_uri": "https://localhost:8080/"
    },
    "executionInfo": {
     "elapsed": 958,
     "status": "ok",
     "timestamp": 1615878861083,
     "user": {
      "displayName": "IoT ahmed",
      "photoUrl": "",
      "userId": "17443931198187779948"
     },
     "user_tz": -330
    },
    "id": "iz75cujg4p1I",
    "outputId": "d00eccde-d135-4bdf-e9f5-2017a4733531"
   },
   "outputs": [
    {
     "data": {
      "text/plain": [
       "[12, 23, 32, 32, 45, 20]"
      ]
     },
     "execution_count": 55,
     "metadata": {
      "tags": []
     },
     "output_type": "execute_result"
    }
   ],
   "source": [
    "list2"
   ]
  },
  {
   "cell_type": "code",
   "execution_count": null,
   "metadata": {
    "id": "7QIXJm5Y4q0o"
   },
   "outputs": [],
   "source": [
    "list2.insert(2, 15)"
   ]
  },
  {
   "cell_type": "code",
   "execution_count": null,
   "metadata": {
    "colab": {
     "base_uri": "https://localhost:8080/"
    },
    "executionInfo": {
     "elapsed": 1146,
     "status": "ok",
     "timestamp": 1615878927483,
     "user": {
      "displayName": "IoT ahmed",
      "photoUrl": "",
      "userId": "17443931198187779948"
     },
     "user_tz": -330
    },
    "id": "yUydoYYF456X",
    "outputId": "9515ecf3-5ac7-4d1b-dec4-8ae78236a098"
   },
   "outputs": [
    {
     "data": {
      "text/plain": [
       "[12, 23, 15, 32, 32, 45, 20]"
      ]
     },
     "execution_count": 57,
     "metadata": {
      "tags": []
     },
     "output_type": "execute_result"
    }
   ],
   "source": [
    "list2"
   ]
  },
  {
   "cell_type": "code",
   "execution_count": null,
   "metadata": {
    "colab": {
     "base_uri": "https://localhost:8080/"
    },
    "executionInfo": {
     "elapsed": 962,
     "status": "ok",
     "timestamp": 1615879004891,
     "user": {
      "displayName": "IoT ahmed",
      "photoUrl": "",
      "userId": "17443931198187779948"
     },
     "user_tz": -330
    },
    "id": "czJ0M7vh5Ks-",
    "outputId": "eaf7f28c-a2fa-45dc-892d-cf2306d72b1e"
   },
   "outputs": [
    {
     "data": {
      "text/plain": [
       "20"
      ]
     },
     "execution_count": 60,
     "metadata": {
      "tags": []
     },
     "output_type": "execute_result"
    }
   ],
   "source": [
    "list2.pop()"
   ]
  },
  {
   "cell_type": "code",
   "execution_count": null,
   "metadata": {
    "colab": {
     "base_uri": "https://localhost:8080/"
    },
    "executionInfo": {
     "elapsed": 945,
     "status": "ok",
     "timestamp": 1615879014382,
     "user": {
      "displayName": "IoT ahmed",
      "photoUrl": "",
      "userId": "17443931198187779948"
     },
     "user_tz": -330
    },
    "id": "KJ6MGfKy5PT6",
    "outputId": "756a9828-e036-4cfe-8504-e4396c8f6b3c"
   },
   "outputs": [
    {
     "data": {
      "text/plain": [
       "[12, 23, 15, 32, 32, 45]"
      ]
     },
     "execution_count": 61,
     "metadata": {
      "tags": []
     },
     "output_type": "execute_result"
    }
   ],
   "source": [
    "list2"
   ]
  },
  {
   "cell_type": "code",
   "execution_count": null,
   "metadata": {
    "id": "jhH5x1hN46_G"
   },
   "outputs": [],
   "source": [
    "char = list(\"Hello World\")"
   ]
  },
  {
   "cell_type": "code",
   "execution_count": null,
   "metadata": {
    "colab": {
     "base_uri": "https://localhost:8080/"
    },
    "executionInfo": {
     "elapsed": 1111,
     "status": "ok",
     "timestamp": 1615878970517,
     "user": {
      "displayName": "IoT ahmed",
      "photoUrl": "",
      "userId": "17443931198187779948"
     },
     "user_tz": -330
    },
    "id": "qdSONWaR5Epk",
    "outputId": "ee018264-2bad-46b2-f3f4-f940159aadb0"
   },
   "outputs": [
    {
     "data": {
      "text/plain": [
       "['H', 'e', 'l', 'l', 'o', ' ', 'W', 'o', 'r', 'l', 'd']"
      ]
     },
     "execution_count": 59,
     "metadata": {
      "tags": []
     },
     "output_type": "execute_result"
    }
   ],
   "source": [
    "char"
   ]
  },
  {
   "cell_type": "code",
   "execution_count": null,
   "metadata": {
    "colab": {
     "base_uri": "https://localhost:8080/"
    },
    "executionInfo": {
     "elapsed": 937,
     "status": "ok",
     "timestamp": 1615879078565,
     "user": {
      "displayName": "IoT ahmed",
      "photoUrl": "",
      "userId": "17443931198187779948"
     },
     "user_tz": -330
    },
    "id": "fq3GGZZG5Fas",
    "outputId": "e403d6ed-50ef-4499-d30a-0ff8b75d6342"
   },
   "outputs": [
    {
     "data": {
      "text/plain": [
       "[12, 23, 15, 32, 32, 45]"
      ]
     },
     "execution_count": 62,
     "metadata": {
      "tags": []
     },
     "output_type": "execute_result"
    }
   ],
   "source": [
    "list2 "
   ]
  },
  {
   "cell_type": "code",
   "execution_count": null,
   "metadata": {
    "colab": {
     "base_uri": "https://localhost:8080/"
    },
    "executionInfo": {
     "elapsed": 1023,
     "status": "ok",
     "timestamp": 1615879088706,
     "user": {
      "displayName": "IoT ahmed",
      "photoUrl": "",
      "userId": "17443931198187779948"
     },
     "user_tz": -330
    },
    "id": "dIZRQEtJ5f7E",
    "outputId": "3d3644e1-e955-4163-8bb4-47111bedac22"
   },
   "outputs": [
    {
     "data": {
      "text/plain": [
       "23"
      ]
     },
     "execution_count": 63,
     "metadata": {
      "tags": []
     },
     "output_type": "execute_result"
    }
   ],
   "source": [
    "list2[1]"
   ]
  },
  {
   "cell_type": "code",
   "execution_count": null,
   "metadata": {
    "id": "IoRkBH175iYG"
   },
   "outputs": [],
   "source": [
    "list2[1] = 55"
   ]
  },
  {
   "cell_type": "code",
   "execution_count": null,
   "metadata": {
    "colab": {
     "base_uri": "https://localhost:8080/"
    },
    "executionInfo": {
     "elapsed": 999,
     "status": "ok",
     "timestamp": 1615879114965,
     "user": {
      "displayName": "IoT ahmed",
      "photoUrl": "",
      "userId": "17443931198187779948"
     },
     "user_tz": -330
    },
    "id": "tBWh0HJa5mxo",
    "outputId": "182cd3df-0884-4c9c-97b7-7b169a3a4c7e"
   },
   "outputs": [
    {
     "data": {
      "text/plain": [
       "[12, 55, 15, 32, 32, 45]"
      ]
     },
     "execution_count": 65,
     "metadata": {
      "tags": []
     },
     "output_type": "execute_result"
    }
   ],
   "source": [
    "list2"
   ]
  },
  {
   "cell_type": "code",
   "execution_count": null,
   "metadata": {
    "id": "yNliF7oW5oyz"
   },
   "outputs": [],
   "source": [
    "point = (1,2,3,4)"
   ]
  },
  {
   "cell_type": "code",
   "execution_count": null,
   "metadata": {
    "colab": {
     "base_uri": "https://localhost:8080/"
    },
    "executionInfo": {
     "elapsed": 1178,
     "status": "ok",
     "timestamp": 1615879175252,
     "user": {
      "displayName": "IoT ahmed",
      "photoUrl": "",
      "userId": "17443931198187779948"
     },
     "user_tz": -330
    },
    "id": "jj4LYYqj515t",
    "outputId": "990196c3-717b-48e4-ed29-84bd74d40a77"
   },
   "outputs": [
    {
     "data": {
      "text/plain": [
       "(1, 2, 3, 4)"
      ]
     },
     "execution_count": 67,
     "metadata": {
      "tags": []
     },
     "output_type": "execute_result"
    }
   ],
   "source": [
    "point"
   ]
  },
  {
   "cell_type": "code",
   "execution_count": null,
   "metadata": {
    "colab": {
     "base_uri": "https://localhost:8080/"
    },
    "executionInfo": {
     "elapsed": 1026,
     "status": "ok",
     "timestamp": 1615879181547,
     "user": {
      "displayName": "IoT ahmed",
      "photoUrl": "",
      "userId": "17443931198187779948"
     },
     "user_tz": -330
    },
    "id": "-fx12BLw53MW",
    "outputId": "aacebf1f-11ac-475d-9563-0449b95be85a"
   },
   "outputs": [
    {
     "data": {
      "text/plain": [
       "tuple"
      ]
     },
     "execution_count": 68,
     "metadata": {
      "tags": []
     },
     "output_type": "execute_result"
    }
   ],
   "source": [
    "type(point)"
   ]
  },
  {
   "cell_type": "code",
   "execution_count": null,
   "metadata": {
    "colab": {
     "base_uri": "https://localhost:8080/",
     "height": 171
    },
    "executionInfo": {
     "elapsed": 974,
     "status": "error",
     "timestamp": 1615879239818,
     "user": {
      "displayName": "IoT ahmed",
      "photoUrl": "",
      "userId": "17443931198187779948"
     },
     "user_tz": -330
    },
    "id": "_dRDQ_jd54_w",
    "outputId": "885bc066-d6fe-4159-9554-8cb147b78520"
   },
   "outputs": [
    {
     "ename": "TypeError",
     "evalue": "ignored",
     "output_type": "error",
     "traceback": [
      "\u001b[0;31m---------------------------------------------------------------------------\u001b[0m",
      "\u001b[0;31mTypeError\u001b[0m                                 Traceback (most recent call last)",
      "\u001b[0;32m<ipython-input-69-4398a7e13d6f>\u001b[0m in \u001b[0;36m<module>\u001b[0;34m()\u001b[0m\n\u001b[0;32m----> 1\u001b[0;31m \u001b[0mpoint\u001b[0m\u001b[0;34m[\u001b[0m\u001b[0;36m2\u001b[0m\u001b[0;34m]\u001b[0m \u001b[0;34m=\u001b[0m \u001b[0;36m5\u001b[0m\u001b[0;34m\u001b[0m\u001b[0;34m\u001b[0m\u001b[0m\n\u001b[0m",
      "\u001b[0;31mTypeError\u001b[0m: 'tuple' object does not support item assignment"
     ]
    }
   ],
   "source": [
    "point[2] = 5"
   ]
  },
  {
   "cell_type": "code",
   "execution_count": null,
   "metadata": {
    "colab": {
     "base_uri": "https://localhost:8080/"
    },
    "executionInfo": {
     "elapsed": 1069,
     "status": "ok",
     "timestamp": 1615879663371,
     "user": {
      "displayName": "IoT ahmed",
      "photoUrl": "",
      "userId": "17443931198187779948"
     },
     "user_tz": -330
    },
    "id": "iILKVUf26HSB",
    "outputId": "00e74633-870a-4691-d33d-77af30f335f3"
   },
   "outputs": [
    {
     "name": "stdout",
     "output_type": "stream",
     "text": [
      "111\n"
     ]
    }
   ],
   "source": [
    "prices = [10,20,24,12,45]\n",
    "total = 0\n",
    "for item in prices:\n",
    "  total += item\n",
    "  #print(total) \n",
    "\n",
    "print(total)"
   ]
  },
  {
   "cell_type": "markdown",
   "metadata": {
    "id": "8dtrP0-i7wx-"
   },
   "source": [
    "Similarly find the max number in a list"
   ]
  },
  {
   "cell_type": "code",
   "execution_count": null,
   "metadata": {
    "id": "F9BA6Czy6pez"
   },
   "outputs": [],
   "source": [
    "dict1 = {\"x\":1,\n",
    "         \"y\":2}"
   ]
  },
  {
   "cell_type": "code",
   "execution_count": null,
   "metadata": {
    "colab": {
     "base_uri": "https://localhost:8080/"
    },
    "executionInfo": {
     "elapsed": 908,
     "status": "ok",
     "timestamp": 1615883745619,
     "user": {
      "displayName": "IoT ahmed",
      "photoUrl": "",
      "userId": "17443931198187779948"
     },
     "user_tz": -330
    },
    "id": "KZ4cn2JDLQwj",
    "outputId": "0b23dcf2-1ef8-49c6-d2b4-e09ce3f861ff"
   },
   "outputs": [
    {
     "data": {
      "text/plain": [
       "dict"
      ]
     },
     "execution_count": 75,
     "metadata": {
      "tags": []
     },
     "output_type": "execute_result"
    }
   ],
   "source": [
    "type(dict1)"
   ]
  },
  {
   "cell_type": "code",
   "execution_count": null,
   "metadata": {
    "colab": {
     "base_uri": "https://localhost:8080/"
    },
    "executionInfo": {
     "elapsed": 922,
     "status": "ok",
     "timestamp": 1615883761674,
     "user": {
      "displayName": "IoT ahmed",
      "photoUrl": "",
      "userId": "17443931198187779948"
     },
     "user_tz": -330
    },
    "id": "CYPjyXjNLTVz",
    "outputId": "9fa77193-c886-411a-e087-8e48d25f4017"
   },
   "outputs": [
    {
     "data": {
      "text/plain": [
       "{'x': 1, 'y': 2}"
      ]
     },
     "execution_count": 76,
     "metadata": {
      "tags": []
     },
     "output_type": "execute_result"
    }
   ],
   "source": [
    "dict1"
   ]
  },
  {
   "cell_type": "code",
   "execution_count": null,
   "metadata": {
    "colab": {
     "base_uri": "https://localhost:8080/"
    },
    "executionInfo": {
     "elapsed": 922,
     "status": "ok",
     "timestamp": 1615883781190,
     "user": {
      "displayName": "IoT ahmed",
      "photoUrl": "",
      "userId": "17443931198187779948"
     },
     "user_tz": -330
    },
    "id": "lkN5TRxjLXQ4",
    "outputId": "c0dcd6c9-8c7c-4fa1-c76c-163ac25583fa"
   },
   "outputs": [
    {
     "data": {
      "text/plain": [
       "dict_keys(['x', 'y'])"
      ]
     },
     "execution_count": 77,
     "metadata": {
      "tags": []
     },
     "output_type": "execute_result"
    }
   ],
   "source": [
    "dict1.keys()"
   ]
  },
  {
   "cell_type": "code",
   "execution_count": null,
   "metadata": {
    "colab": {
     "base_uri": "https://localhost:8080/"
    },
    "executionInfo": {
     "elapsed": 927,
     "status": "ok",
     "timestamp": 1615883813476,
     "user": {
      "displayName": "IoT ahmed",
      "photoUrl": "",
      "userId": "17443931198187779948"
     },
     "user_tz": -330
    },
    "id": "j4oitQniLcB1",
    "outputId": "f535e958-cb6f-42f5-9f3a-324c823c3961"
   },
   "outputs": [
    {
     "data": {
      "text/plain": [
       "dict_values([1, 2])"
      ]
     },
     "execution_count": 78,
     "metadata": {
      "tags": []
     },
     "output_type": "execute_result"
    }
   ],
   "source": [
    "dict1.values()"
   ]
  },
  {
   "cell_type": "code",
   "execution_count": null,
   "metadata": {
    "colab": {
     "base_uri": "https://localhost:8080/"
    },
    "executionInfo": {
     "elapsed": 1038,
     "status": "ok",
     "timestamp": 1615883844039,
     "user": {
      "displayName": "IoT ahmed",
      "photoUrl": "",
      "userId": "17443931198187779948"
     },
     "user_tz": -330
    },
    "id": "z5W1Sp_ULj6L",
    "outputId": "8ffa4810-4a07-4837-c58d-727426c78901"
   },
   "outputs": [
    {
     "data": {
      "text/plain": [
       "1"
      ]
     },
     "execution_count": 79,
     "metadata": {
      "tags": []
     },
     "output_type": "execute_result"
    }
   ],
   "source": [
    "dict1[\"x\"]"
   ]
  },
  {
   "cell_type": "code",
   "execution_count": null,
   "metadata": {
    "id": "qdWFum7eLrV8"
   },
   "outputs": [],
   "source": [
    "dict2 = {\"x\":[1,2,3,4],\n",
    "         \"y\":2}"
   ]
  },
  {
   "cell_type": "code",
   "execution_count": null,
   "metadata": {
    "colab": {
     "base_uri": "https://localhost:8080/"
    },
    "executionInfo": {
     "elapsed": 916,
     "status": "ok",
     "timestamp": 1615883904661,
     "user": {
      "displayName": "IoT ahmed",
      "photoUrl": "",
      "userId": "17443931198187779948"
     },
     "user_tz": -330
    },
    "id": "XW-WIqgOL1PB",
    "outputId": "96a7aeb7-cda5-4a43-8835-8997e9f54ca8"
   },
   "outputs": [
    {
     "data": {
      "text/plain": [
       "[1, 2, 3, 4]"
      ]
     },
     "execution_count": 81,
     "metadata": {
      "tags": []
     },
     "output_type": "execute_result"
    }
   ],
   "source": [
    "dict2[\"x\"]"
   ]
  },
  {
   "cell_type": "code",
   "execution_count": null,
   "metadata": {
    "id": "cYRnZxHsL6LC"
   },
   "outputs": [],
   "source": [
    "dict2 = {\"x\":[1,2,3,4],\n",
    "         \"y\":[1,2,3,4]}"
   ]
  },
  {
   "cell_type": "code",
   "execution_count": null,
   "metadata": {
    "colab": {
     "base_uri": "https://localhost:8080/"
    },
    "executionInfo": {
     "elapsed": 643,
     "status": "ok",
     "timestamp": 1615884011603,
     "user": {
      "displayName": "IoT ahmed",
      "photoUrl": "",
      "userId": "17443931198187779948"
     },
     "user_tz": -330
    },
    "id": "CAmERO7cMHav",
    "outputId": "2bc7fccb-f00b-4259-aa5a-893344148f25"
   },
   "outputs": [
    {
     "data": {
      "text/plain": [
       "{'x': [1, 2, 3, 4], 'y': [1, 2, 3, 4]}"
      ]
     },
     "execution_count": 86,
     "metadata": {
      "tags": []
     },
     "output_type": "execute_result"
    }
   ],
   "source": [
    "dict2"
   ]
  },
  {
   "cell_type": "code",
   "execution_count": null,
   "metadata": {
    "id": "fobkAYqJMKAn"
   },
   "outputs": [],
   "source": [
    "dict2[\"z\"] = [10,20,30]"
   ]
  },
  {
   "cell_type": "code",
   "execution_count": null,
   "metadata": {
    "colab": {
     "base_uri": "https://localhost:8080/"
    },
    "executionInfo": {
     "elapsed": 911,
     "status": "ok",
     "timestamp": 1615884057223,
     "user": {
      "displayName": "IoT ahmed",
      "photoUrl": "",
      "userId": "17443931198187779948"
     },
     "user_tz": -330
    },
    "id": "zzRM4KuvMeNH",
    "outputId": "f7c1c2d7-8040-4a9a-e429-199e340aacc8"
   },
   "outputs": [
    {
     "data": {
      "text/plain": [
       "{'x': [1, 2, 3, 4], 'y': [1, 2, 3, 4], 'z': [10, 20, 30]}"
      ]
     },
     "execution_count": 88,
     "metadata": {
      "tags": []
     },
     "output_type": "execute_result"
    }
   ],
   "source": [
    "dict2"
   ]
  },
  {
   "cell_type": "markdown",
   "metadata": {
    "id": "qQM_zRuRM_5P"
   },
   "source": []
  },
  {
   "cell_type": "markdown",
   "metadata": {
    "id": "PPDHGfqEM0IO"
   },
   "source": [
    "Functions"
   ]
  },
  {
   "cell_type": "markdown",
   "metadata": {
    "id": "8fW_goxxNAmk"
   },
   "source": [
    "1. user defined\n",
    "2. pre-defined"
   ]
  },
  {
   "cell_type": "code",
   "execution_count": null,
   "metadata": {
    "id": "YTg9qxeOMz1J"
   },
   "outputs": [],
   "source": [
    "def greet_user():\n",
    "  print(\"Hi there...\")\n",
    "  print(\"Welcome aboard\")"
   ]
  },
  {
   "cell_type": "code",
   "execution_count": null,
   "metadata": {
    "colab": {
     "base_uri": "https://localhost:8080/"
    },
    "executionInfo": {
     "elapsed": 961,
     "status": "ok",
     "timestamp": 1615884545192,
     "user": {
      "displayName": "IoT ahmed",
      "photoUrl": "",
      "userId": "17443931198187779948"
     },
     "user_tz": -330
    },
    "id": "5ornT8oJMfa7",
    "outputId": "17518df7-0c07-48a9-9271-a13b9ecaa815"
   },
   "outputs": [
    {
     "name": "stdout",
     "output_type": "stream",
     "text": [
      "start\n",
      "Hi there...\n",
      "Welcome aboard\n",
      "stop\n"
     ]
    }
   ],
   "source": [
    "print(\"start\")\n",
    "greet_user()\n",
    "print(\"stop\")"
   ]
  },
  {
   "cell_type": "code",
   "execution_count": null,
   "metadata": {
    "id": "4qW8zCTtObbM"
   },
   "outputs": [],
   "source": [
    "def greet_user(first, last): #-- Parameters\n",
    "  print(f\"Hi {first} {last}\")\n",
    "  print(\"Welcome aboard\")"
   ]
  },
  {
   "cell_type": "code",
   "execution_count": null,
   "metadata": {
    "colab": {
     "base_uri": "https://localhost:8080/"
    },
    "executionInfo": {
     "elapsed": 942,
     "status": "ok",
     "timestamp": 1615885113492,
     "user": {
      "displayName": "IoT ahmed",
      "photoUrl": "",
      "userId": "17443931198187779948"
     },
     "user_tz": -330
    },
    "id": "yDk6z3dUObbv",
    "outputId": "32a9d98c-82c1-48fc-87a9-5fd72e010743"
   },
   "outputs": [
    {
     "name": "stdout",
     "output_type": "stream",
     "text": [
      "start\n",
      "Hi Liqzan Manna\n",
      "Welcome aboard\n",
      "stop\n"
     ]
    }
   ],
   "source": [
    "print(\"start\")\n",
    "greet_user(last=\"Manna\",first=\"Liqzan\") #-- Arguments\n",
    "print(\"stop\")"
   ]
  },
  {
   "cell_type": "markdown",
   "metadata": {
    "id": "7enow7mQRdmV"
   },
   "source": [
    "Functions:\n",
    "1. Performs a task\n",
    "2. Returns a value"
   ]
  },
  {
   "cell_type": "markdown",
   "metadata": {
    "id": "Ko6eT6nKR4t5"
   },
   "source": [
    "Modules and Libraries"
   ]
  },
  {
   "cell_type": "code",
   "execution_count": null,
   "metadata": {
    "id": "I-frqQ8vSM90"
   },
   "outputs": [],
   "source": [
    "import math"
   ]
  },
  {
   "cell_type": "code",
   "execution_count": null,
   "metadata": {
    "colab": {
     "base_uri": "https://localhost:8080/"
    },
    "executionInfo": {
     "elapsed": 941,
     "status": "ok",
     "timestamp": 1615885579536,
     "user": {
      "displayName": "IoT ahmed",
      "photoUrl": "",
      "userId": "17443931198187779948"
     },
     "user_tz": -330
    },
    "id": "pbKj1jLtPusd",
    "outputId": "57bef69e-089b-4f13-aeff-8309367bf4b6"
   },
   "outputs": [
    {
     "data": {
      "text/plain": [
       "24"
      ]
     },
     "execution_count": 103,
     "metadata": {
      "tags": []
     },
     "output_type": "execute_result"
    }
   ],
   "source": [
    "math.factorial(4)"
   ]
  },
  {
   "cell_type": "code",
   "execution_count": null,
   "metadata": {
    "id": "nq9fnfAcSHPu"
   },
   "outputs": [],
   "source": [
    "import time"
   ]
  },
  {
   "cell_type": "code",
   "execution_count": null,
   "metadata": {
    "colab": {
     "base_uri": "https://localhost:8080/"
    },
    "executionInfo": {
     "elapsed": 5630,
     "status": "ok",
     "timestamp": 1615885817593,
     "user": {
      "displayName": "IoT ahmed",
      "photoUrl": "",
      "userId": "17443931198187779948"
     },
     "user_tz": -330
    },
    "id": "WtkfO5NcSg2S",
    "outputId": "29227a69-9d7c-4491-d8df-67aa79053ca8"
   },
   "outputs": [
    {
     "name": "stdout",
     "output_type": "stream",
     "text": [
      "0\n",
      "1\n",
      "2\n",
      "3\n",
      "4\n",
      "5\n",
      "6\n",
      "7\n",
      "8\n",
      "9\n"
     ]
    }
   ],
   "source": [
    "for i in range(0,10):\n",
    "  print(i)\n",
    "  time.sleep(0.5)"
   ]
  },
  {
   "cell_type": "code",
   "execution_count": null,
   "metadata": {
    "id": "IybrJGmASuP0"
   },
   "outputs": [],
   "source": [
    "import numpy as np\n"
   ]
  },
  {
   "cell_type": "code",
   "execution_count": null,
   "metadata": {
    "id": "mr3-macJWINC"
   },
   "outputs": [],
   "source": [
    "n = numpy.array([2,3,4,5,6])"
   ]
  },
  {
   "cell_type": "code",
   "execution_count": null,
   "metadata": {
    "colab": {
     "base_uri": "https://localhost:8080/"
    },
    "executionInfo": {
     "elapsed": 981,
     "status": "ok",
     "timestamp": 1615886837923,
     "user": {
      "displayName": "IoT ahmed",
      "photoUrl": "",
      "userId": "17443931198187779948"
     },
     "user_tz": -330
    },
    "id": "lcr6JExxXFbn",
    "outputId": "08a7b89b-4fdb-4b0b-8b87-7055924afa8c"
   },
   "outputs": [
    {
     "data": {
      "text/plain": [
       "array([2, 3, 4, 5, 6])"
      ]
     },
     "execution_count": 113,
     "metadata": {
      "tags": []
     },
     "output_type": "execute_result"
    }
   ],
   "source": [
    "n"
   ]
  },
  {
   "cell_type": "code",
   "execution_count": null,
   "metadata": {
    "colab": {
     "base_uri": "https://localhost:8080/"
    },
    "executionInfo": {
     "elapsed": 1162,
     "status": "ok",
     "timestamp": 1615886852584,
     "user": {
      "displayName": "IoT ahmed",
      "photoUrl": "",
      "userId": "17443931198187779948"
     },
     "user_tz": -330
    },
    "id": "8gjUDiHeXGJg",
    "outputId": "37666e49-2e90-4d44-ab04-588e26b58926"
   },
   "outputs": [
    {
     "data": {
      "text/plain": [
       "numpy.ndarray"
      ]
     },
     "execution_count": 114,
     "metadata": {
      "tags": []
     },
     "output_type": "execute_result"
    }
   ],
   "source": [
    "type(n)"
   ]
  },
  {
   "cell_type": "code",
   "execution_count": null,
   "metadata": {
    "id": "8hJuHIxpXJ0c"
   },
   "outputs": [],
   "source": [
    "n = np.array([2,3,4,5,6])"
   ]
  },
  {
   "cell_type": "code",
   "execution_count": null,
   "metadata": {
    "colab": {
     "base_uri": "https://localhost:8080/"
    },
    "executionInfo": {
     "elapsed": 916,
     "status": "ok",
     "timestamp": 1615887008995,
     "user": {
      "displayName": "IoT ahmed",
      "photoUrl": "",
      "userId": "17443931198187779948"
     },
     "user_tz": -330
    },
    "id": "W-pznvJ0XU2P",
    "outputId": "fb70dc1a-3491-4f08-bf71-e2aa04075fab"
   },
   "outputs": [
    {
     "data": {
      "text/plain": [
       "1"
      ]
     },
     "execution_count": 117,
     "metadata": {
      "tags": []
     },
     "output_type": "execute_result"
    }
   ],
   "source": [
    "n.ndim"
   ]
  },
  {
   "cell_type": "code",
   "execution_count": null,
   "metadata": {
    "colab": {
     "base_uri": "https://localhost:8080/"
    },
    "executionInfo": {
     "elapsed": 887,
     "status": "ok",
     "timestamp": 1615887021484,
     "user": {
      "displayName": "IoT ahmed",
      "photoUrl": "",
      "userId": "17443931198187779948"
     },
     "user_tz": -330
    },
    "id": "7SNx0McSXwD5",
    "outputId": "b73ddcff-b4c4-4039-ef28-2739653f7dc5"
   },
   "outputs": [
    {
     "data": {
      "text/plain": [
       "(5,)"
      ]
     },
     "execution_count": 118,
     "metadata": {
      "tags": []
     },
     "output_type": "execute_result"
    }
   ],
   "source": [
    "n.shape"
   ]
  },
  {
   "cell_type": "code",
   "execution_count": null,
   "metadata": {
    "colab": {
     "base_uri": "https://localhost:8080/"
    },
    "executionInfo": {
     "elapsed": 897,
     "status": "ok",
     "timestamp": 1615887047997,
     "user": {
      "displayName": "IoT ahmed",
      "photoUrl": "",
      "userId": "17443931198187779948"
     },
     "user_tz": -330
    },
    "id": "SNSujrXkXzH1",
    "outputId": "4e44f14f-8934-42e8-8471-3ec4a77168ef"
   },
   "outputs": [
    {
     "data": {
      "text/plain": [
       "5"
      ]
     },
     "execution_count": 119,
     "metadata": {
      "tags": []
     },
     "output_type": "execute_result"
    }
   ],
   "source": [
    "n.size"
   ]
  },
  {
   "cell_type": "code",
   "execution_count": null,
   "metadata": {
    "id": "10T8f1UjX5l1"
   },
   "outputs": [],
   "source": [
    "n2 = np.array([[1,2],[3,4]])"
   ]
  },
  {
   "cell_type": "code",
   "execution_count": null,
   "metadata": {
    "colab": {
     "base_uri": "https://localhost:8080/"
    },
    "executionInfo": {
     "elapsed": 957,
     "status": "ok",
     "timestamp": 1615887106366,
     "user": {
      "displayName": "IoT ahmed",
      "photoUrl": "",
      "userId": "17443931198187779948"
     },
     "user_tz": -330
    },
    "id": "crSCqtuKYB3H",
    "outputId": "c8267245-8a48-458b-da03-8158e645afc5"
   },
   "outputs": [
    {
     "data": {
      "text/plain": [
       "array([[1, 2],\n",
       "       [3, 4]])"
      ]
     },
     "execution_count": 122,
     "metadata": {
      "tags": []
     },
     "output_type": "execute_result"
    }
   ],
   "source": [
    "n2"
   ]
  },
  {
   "cell_type": "code",
   "execution_count": null,
   "metadata": {
    "colab": {
     "base_uri": "https://localhost:8080/"
    },
    "executionInfo": {
     "elapsed": 1059,
     "status": "ok",
     "timestamp": 1615887147081,
     "user": {
      "displayName": "IoT ahmed",
      "photoUrl": "",
      "userId": "17443931198187779948"
     },
     "user_tz": -330
    },
    "id": "KLxPZXDyYHzk",
    "outputId": "5d1fc283-2384-4086-d256-73b18ac7efdc"
   },
   "outputs": [
    {
     "data": {
      "text/plain": [
       "2"
      ]
     },
     "execution_count": 125,
     "metadata": {
      "tags": []
     },
     "output_type": "execute_result"
    }
   ],
   "source": [
    "n2.ndim"
   ]
  },
  {
   "cell_type": "code",
   "execution_count": null,
   "metadata": {
    "colab": {
     "base_uri": "https://localhost:8080/"
    },
    "executionInfo": {
     "elapsed": 892,
     "status": "ok",
     "timestamp": 1615887159955,
     "user": {
      "displayName": "IoT ahmed",
      "photoUrl": "",
      "userId": "17443931198187779948"
     },
     "user_tz": -330
    },
    "id": "mUmd3nW4YN3Z",
    "outputId": "a783bf67-ffe9-4eba-8001-f33bd82f8679"
   },
   "outputs": [
    {
     "data": {
      "text/plain": [
       "(2, 2)"
      ]
     },
     "execution_count": 126,
     "metadata": {
      "tags": []
     },
     "output_type": "execute_result"
    }
   ],
   "source": [
    "n2.shape"
   ]
  },
  {
   "cell_type": "code",
   "execution_count": null,
   "metadata": {
    "colab": {
     "base_uri": "https://localhost:8080/"
    },
    "executionInfo": {
     "elapsed": 943,
     "status": "ok",
     "timestamp": 1615887174407,
     "user": {
      "displayName": "IoT ahmed",
      "photoUrl": "",
      "userId": "17443931198187779948"
     },
     "user_tz": -330
    },
    "id": "sGctyMPqYU7Q",
    "outputId": "4e8c6d1a-d00f-4ad2-a33d-af56f4e7e7af"
   },
   "outputs": [
    {
     "data": {
      "text/plain": [
       "4"
      ]
     },
     "execution_count": 127,
     "metadata": {
      "tags": []
     },
     "output_type": "execute_result"
    }
   ],
   "source": [
    "n2.size"
   ]
  },
  {
   "cell_type": "code",
   "execution_count": null,
   "metadata": {
    "colab": {
     "base_uri": "https://localhost:8080/"
    },
    "executionInfo": {
     "elapsed": 981,
     "status": "ok",
     "timestamp": 1615887234667,
     "user": {
      "displayName": "IoT ahmed",
      "photoUrl": "",
      "userId": "17443931198187779948"
     },
     "user_tz": -330
    },
    "id": "SzLQC968YYcQ",
    "outputId": "9e1000df-3f7a-451d-a720-2584b803edbe"
   },
   "outputs": [
    {
     "data": {
      "text/plain": [
       "array([[1, 2],\n",
       "       [3, 4]])"
      ]
     },
     "execution_count": 128,
     "metadata": {
      "tags": []
     },
     "output_type": "execute_result"
    }
   ],
   "source": [
    "n2"
   ]
  },
  {
   "cell_type": "code",
   "execution_count": null,
   "metadata": {
    "colab": {
     "base_uri": "https://localhost:8080/"
    },
    "executionInfo": {
     "elapsed": 841,
     "status": "ok",
     "timestamp": 1615887325938,
     "user": {
      "displayName": "IoT ahmed",
      "photoUrl": "",
      "userId": "17443931198187779948"
     },
     "user_tz": -330
    },
    "id": "kPrMqxKKYnHa",
    "outputId": "5b226283-0acc-4565-8e65-d475400b2c3b"
   },
   "outputs": [
    {
     "data": {
      "text/plain": [
       "2"
      ]
     },
     "execution_count": 129,
     "metadata": {
      "tags": []
     },
     "output_type": "execute_result"
    }
   ],
   "source": [
    "n2[0,1]"
   ]
  },
  {
   "cell_type": "code",
   "execution_count": null,
   "metadata": {
    "colab": {
     "base_uri": "https://localhost:8080/"
    },
    "executionInfo": {
     "elapsed": 893,
     "status": "ok",
     "timestamp": 1615887401185,
     "user": {
      "displayName": "IoT ahmed",
      "photoUrl": "",
      "userId": "17443931198187779948"
     },
     "user_tz": -330
    },
    "id": "KuNBnpjjY9c8",
    "outputId": "f5b29f02-bfd2-4f34-a3fb-4227fbe63a38"
   },
   "outputs": [
    {
     "data": {
      "text/plain": [
       "3"
      ]
     },
     "execution_count": 130,
     "metadata": {
      "tags": []
     },
     "output_type": "execute_result"
    }
   ],
   "source": [
    "n2[1,0]"
   ]
  },
  {
   "cell_type": "code",
   "execution_count": null,
   "metadata": {
    "id": "BuBYv_LaZP0N"
   },
   "outputs": [],
   "source": [
    "a = np.array([1,2,3,4,5])\n",
    "b = np.array([6,7,8,9,10])"
   ]
  },
  {
   "cell_type": "code",
   "execution_count": null,
   "metadata": {
    "colab": {
     "base_uri": "https://localhost:8080/"
    },
    "executionInfo": {
     "elapsed": 1074,
     "status": "ok",
     "timestamp": 1615887480208,
     "user": {
      "displayName": "IoT ahmed",
      "photoUrl": "",
      "userId": "17443931198187779948"
     },
     "user_tz": -330
    },
    "id": "Dtquhjl-Zhzm",
    "outputId": "1c664772-952e-4930-8d8b-a9f310894c7e"
   },
   "outputs": [
    {
     "data": {
      "text/plain": [
       "array([1, 2, 3, 4, 5])"
      ]
     },
     "execution_count": 132,
     "metadata": {
      "tags": []
     },
     "output_type": "execute_result"
    }
   ],
   "source": [
    "a"
   ]
  },
  {
   "cell_type": "code",
   "execution_count": null,
   "metadata": {
    "colab": {
     "base_uri": "https://localhost:8080/"
    },
    "executionInfo": {
     "elapsed": 1017,
     "status": "ok",
     "timestamp": 1615887486129,
     "user": {
      "displayName": "IoT ahmed",
      "photoUrl": "",
      "userId": "17443931198187779948"
     },
     "user_tz": -330
    },
    "id": "FDJkZPMSZi3h",
    "outputId": "75553f43-6f2e-4462-910c-9230dbe4bfc4"
   },
   "outputs": [
    {
     "data": {
      "text/plain": [
       "array([ 6,  7,  8,  9, 10])"
      ]
     },
     "execution_count": 133,
     "metadata": {
      "tags": []
     },
     "output_type": "execute_result"
    }
   ],
   "source": [
    "b"
   ]
  },
  {
   "cell_type": "code",
   "execution_count": null,
   "metadata": {
    "id": "a48Twt_TZkZg"
   },
   "outputs": [],
   "source": [
    "c = [1,2,3,4,5]\n",
    "d = [6,7,8,9,10]"
   ]
  },
  {
   "cell_type": "code",
   "execution_count": null,
   "metadata": {
    "colab": {
     "base_uri": "https://localhost:8080/"
    },
    "executionInfo": {
     "elapsed": 993,
     "status": "ok",
     "timestamp": 1615887536590,
     "user": {
      "displayName": "IoT ahmed",
      "photoUrl": "",
      "userId": "17443931198187779948"
     },
     "user_tz": -330
    },
    "id": "Y2BmXWBvZooA",
    "outputId": "88703181-2507-4885-d99b-69e0824b56cc"
   },
   "outputs": [
    {
     "data": {
      "text/plain": [
       "[1, 2, 3, 4, 5]"
      ]
     },
     "execution_count": 136,
     "metadata": {
      "tags": []
     },
     "output_type": "execute_result"
    }
   ],
   "source": [
    "c"
   ]
  },
  {
   "cell_type": "code",
   "execution_count": null,
   "metadata": {
    "colab": {
     "base_uri": "https://localhost:8080/"
    },
    "executionInfo": {
     "elapsed": 1108,
     "status": "ok",
     "timestamp": 1615887539989,
     "user": {
      "displayName": "IoT ahmed",
      "photoUrl": "",
      "userId": "17443931198187779948"
     },
     "user_tz": -330
    },
    "id": "CaAXoqaCZwuL",
    "outputId": "042562e3-feec-4956-a316-6479e4dd6db1"
   },
   "outputs": [
    {
     "data": {
      "text/plain": [
       "[6, 7, 8, 9, 10]"
      ]
     },
     "execution_count": 137,
     "metadata": {
      "tags": []
     },
     "output_type": "execute_result"
    }
   ],
   "source": [
    "d"
   ]
  },
  {
   "cell_type": "code",
   "execution_count": null,
   "metadata": {
    "colab": {
     "base_uri": "https://localhost:8080/",
     "height": 171
    },
    "executionInfo": {
     "elapsed": 1008,
     "status": "error",
     "timestamp": 1615887564301,
     "user": {
      "displayName": "IoT ahmed",
      "photoUrl": "",
      "userId": "17443931198187779948"
     },
     "user_tz": -330
    },
    "id": "xrdh3pmnZxha",
    "outputId": "f1cb79eb-12bb-4de4-9ac4-ab386940d3c9"
   },
   "outputs": [
    {
     "ename": "TypeError",
     "evalue": "ignored",
     "output_type": "error",
     "traceback": [
      "\u001b[0;31m---------------------------------------------------------------------------\u001b[0m",
      "\u001b[0;31mTypeError\u001b[0m                                 Traceback (most recent call last)",
      "\u001b[0;32m<ipython-input-138-704f84dd75d8>\u001b[0m in \u001b[0;36m<module>\u001b[0;34m()\u001b[0m\n\u001b[0;32m----> 1\u001b[0;31m \u001b[0mc\u001b[0m \u001b[0;34m*\u001b[0m \u001b[0md\u001b[0m\u001b[0;34m\u001b[0m\u001b[0;34m\u001b[0m\u001b[0m\n\u001b[0m",
      "\u001b[0;31mTypeError\u001b[0m: can't multiply sequence by non-int of type 'list'"
     ]
    }
   ],
   "source": [
    "c * d"
   ]
  },
  {
   "cell_type": "code",
   "execution_count": null,
   "metadata": {
    "colab": {
     "base_uri": "https://localhost:8080/"
    },
    "executionInfo": {
     "elapsed": 955,
     "status": "ok",
     "timestamp": 1615887576017,
     "user": {
      "displayName": "IoT ahmed",
      "photoUrl": "",
      "userId": "17443931198187779948"
     },
     "user_tz": -330
    },
    "id": "4DkpVPi0Z3nX",
    "outputId": "27ec2606-7265-4cff-fc46-4238499a18a1"
   },
   "outputs": [
    {
     "data": {
      "text/plain": [
       "array([ 6, 14, 24, 36, 50])"
      ]
     },
     "execution_count": 139,
     "metadata": {
      "tags": []
     },
     "output_type": "execute_result"
    }
   ],
   "source": [
    "a * b"
   ]
  },
  {
   "cell_type": "code",
   "execution_count": null,
   "metadata": {
    "id": "qF-u5uUSZ6Ol"
   },
   "outputs": [],
   "source": [
    "a = np.array([[[1,2],\n",
    "              [3,4]],\n",
    "              [[5,6],\n",
    "               [7,8]]])"
   ]
  },
  {
   "cell_type": "code",
   "execution_count": null,
   "metadata": {
    "colab": {
     "base_uri": "https://localhost:8080/"
    },
    "executionInfo": {
     "elapsed": 1068,
     "status": "ok",
     "timestamp": 1615887837045,
     "user": {
      "displayName": "IoT ahmed",
      "photoUrl": "",
      "userId": "17443931198187779948"
     },
     "user_tz": -330
    },
    "id": "AwfB8v_aa4wp",
    "outputId": "90da8a42-eb0e-4099-9054-601da8dd025d"
   },
   "outputs": [
    {
     "data": {
      "text/plain": [
       "3"
      ]
     },
     "execution_count": 141,
     "metadata": {
      "tags": []
     },
     "output_type": "execute_result"
    }
   ],
   "source": [
    "a.ndim"
   ]
  },
  {
   "cell_type": "code",
   "execution_count": null,
   "metadata": {
    "colab": {
     "base_uri": "https://localhost:8080/"
    },
    "executionInfo": {
     "elapsed": 876,
     "status": "ok",
     "timestamp": 1615887844858,
     "user": {
      "displayName": "IoT ahmed",
      "photoUrl": "",
      "userId": "17443931198187779948"
     },
     "user_tz": -330
    },
    "id": "OPXrUKOba6JJ",
    "outputId": "48b1a9fc-1fa8-4120-c1ba-84aed283b7b0"
   },
   "outputs": [
    {
     "data": {
      "text/plain": [
       "(2, 2, 2)"
      ]
     },
     "execution_count": 142,
     "metadata": {
      "tags": []
     },
     "output_type": "execute_result"
    }
   ],
   "source": [
    "a.shape"
   ]
  },
  {
   "cell_type": "code",
   "execution_count": null,
   "metadata": {
    "colab": {
     "base_uri": "https://localhost:8080/"
    },
    "executionInfo": {
     "elapsed": 929,
     "status": "ok",
     "timestamp": 1615887995185,
     "user": {
      "displayName": "IoT ahmed",
      "photoUrl": "",
      "userId": "17443931198187779948"
     },
     "user_tz": -330
    },
    "id": "iE652KoHa8I7",
    "outputId": "91880ee8-666d-4a93-de09-e1f75dd94bc5"
   },
   "outputs": [
    {
     "data": {
      "text/plain": [
       "3"
      ]
     },
     "execution_count": 144,
     "metadata": {
      "tags": []
     },
     "output_type": "execute_result"
    }
   ],
   "source": [
    "a[0,1,0]"
   ]
  },
  {
   "cell_type": "code",
   "execution_count": null,
   "metadata": {
    "colab": {
     "base_uri": "https://localhost:8080/"
    },
    "executionInfo": {
     "elapsed": 1185,
     "status": "ok",
     "timestamp": 1615888155497,
     "user": {
      "displayName": "IoT ahmed",
      "photoUrl": "",
      "userId": "17443931198187779948"
     },
     "user_tz": -330
    },
    "id": "7-u5DMY_cGYm",
    "outputId": "0a5563c0-adbc-4cb4-a33f-5b9396cb705a"
   },
   "outputs": [
    {
     "data": {
      "text/plain": [
       "array([[[1, 2],\n",
       "        [3, 4]],\n",
       "\n",
       "       [[5, 6],\n",
       "        [7, 8]]])"
      ]
     },
     "execution_count": 145,
     "metadata": {
      "tags": []
     },
     "output_type": "execute_result"
    }
   ],
   "source": [
    "a"
   ]
  },
  {
   "cell_type": "code",
   "execution_count": null,
   "metadata": {
    "colab": {
     "base_uri": "https://localhost:8080/"
    },
    "executionInfo": {
     "elapsed": 745,
     "status": "ok",
     "timestamp": 1615888210754,
     "user": {
      "displayName": "IoT ahmed",
      "photoUrl": "",
      "userId": "17443931198187779948"
     },
     "user_tz": -330
    },
    "id": "ujFa_wCHbg06",
    "outputId": "118eca38-fd40-40eb-bcba-1b5aac815b25"
   },
   "outputs": [
    {
     "data": {
      "text/plain": [
       "7"
      ]
     },
     "execution_count": 146,
     "metadata": {
      "tags": []
     },
     "output_type": "execute_result"
    }
   ],
   "source": [
    "a[1,1,0]"
   ]
  },
  {
   "cell_type": "code",
   "execution_count": null,
   "metadata": {
    "id": "LtHofEkScVbr"
   },
   "outputs": [],
   "source": [
    "k = np.arange(0,18)"
   ]
  },
  {
   "cell_type": "code",
   "execution_count": null,
   "metadata": {
    "colab": {
     "base_uri": "https://localhost:8080/"
    },
    "executionInfo": {
     "elapsed": 1120,
     "status": "ok",
     "timestamp": 1615888302472,
     "user": {
      "displayName": "IoT ahmed",
      "photoUrl": "",
      "userId": "17443931198187779948"
     },
     "user_tz": -330
    },
    "id": "SOQepz9ycpE_",
    "outputId": "59b69b3f-471a-40e8-ffde-179d44bed9bb"
   },
   "outputs": [
    {
     "data": {
      "text/plain": [
       "array([ 0,  1,  2,  3,  4,  5,  6,  7,  8,  9, 10, 11, 12, 13, 14, 15, 16,\n",
       "       17])"
      ]
     },
     "execution_count": 149,
     "metadata": {
      "tags": []
     },
     "output_type": "execute_result"
    }
   ],
   "source": [
    "k\n"
   ]
  },
  {
   "cell_type": "code",
   "execution_count": null,
   "metadata": {
    "id": "Y5_DSHSccrzZ"
   },
   "outputs": [],
   "source": [
    "k = k.reshape(3,6)"
   ]
  },
  {
   "cell_type": "code",
   "execution_count": null,
   "metadata": {
    "colab": {
     "base_uri": "https://localhost:8080/"
    },
    "executionInfo": {
     "elapsed": 1131,
     "status": "ok",
     "timestamp": 1615888482208,
     "user": {
      "displayName": "IoT ahmed",
      "photoUrl": "",
      "userId": "17443931198187779948"
     },
     "user_tz": -330
    },
    "id": "2cO2bWumc6-L",
    "outputId": "7a18c621-7953-44a5-e3ec-cbfb4b43b0a4"
   },
   "outputs": [
    {
     "data": {
      "text/plain": [
       "array([ 0,  1,  2,  3,  4,  5,  6,  7,  8,  9, 10, 11, 12, 13, 14, 15, 16,\n",
       "       17])"
      ]
     },
     "execution_count": 156,
     "metadata": {
      "tags": []
     },
     "output_type": "execute_result"
    }
   ],
   "source": [
    "k"
   ]
  },
  {
   "cell_type": "code",
   "execution_count": null,
   "metadata": {
    "colab": {
     "base_uri": "https://localhost:8080/"
    },
    "executionInfo": {
     "elapsed": 896,
     "status": "ok",
     "timestamp": 1615888483943,
     "user": {
      "displayName": "IoT ahmed",
      "photoUrl": "",
      "userId": "17443931198187779948"
     },
     "user_tz": -330
    },
    "id": "Xe4_kx8SdPhn",
    "outputId": "6d1917b9-bd0b-4fe3-fa48-207655936059"
   },
   "outputs": [
    {
     "data": {
      "text/plain": [
       "array([[ 0,  1,  2,  3,  4,  5,  6,  7,  8],\n",
       "       [ 9, 10, 11, 12, 13, 14, 15, 16, 17]])"
      ]
     },
     "execution_count": 157,
     "metadata": {
      "tags": []
     },
     "output_type": "execute_result"
    }
   ],
   "source": [
    "k.reshape(2,9)"
   ]
  },
  {
   "cell_type": "code",
   "execution_count": null,
   "metadata": {
    "colab": {
     "base_uri": "https://localhost:8080/"
    },
    "executionInfo": {
     "elapsed": 939,
     "status": "ok",
     "timestamp": 1615888605846,
     "user": {
      "displayName": "IoT ahmed",
      "photoUrl": "",
      "userId": "17443931198187779948"
     },
     "user_tz": -330
    },
    "id": "kJ7mNwDvdU1M",
    "outputId": "2d3bdf27-f4c3-42c5-eaee-5bc98ab5b738"
   },
   "outputs": [
    {
     "data": {
      "text/plain": [
       "array([[ 0,  1,  2,  3,  4,  5],\n",
       "       [ 6,  7,  8,  9, 10, 11],\n",
       "       [12, 13, 14, 15, 16, 17]])"
      ]
     },
     "execution_count": 159,
     "metadata": {
      "tags": []
     },
     "output_type": "execute_result"
    }
   ],
   "source": [
    "k"
   ]
  },
  {
   "cell_type": "code",
   "execution_count": null,
   "metadata": {
    "colab": {
     "base_uri": "https://localhost:8080/"
    },
    "executionInfo": {
     "elapsed": 894,
     "status": "ok",
     "timestamp": 1615888720118,
     "user": {
      "displayName": "IoT ahmed",
      "photoUrl": "",
      "userId": "17443931198187779948"
     },
     "user_tz": -330
    },
    "id": "nSHN7iY_d16W",
    "outputId": "3123e779-82d8-4728-9c56-c2f7373cd7c1"
   },
   "outputs": [
    {
     "data": {
      "text/plain": [
       "array([[2, 3],\n",
       "       [8, 9]])"
      ]
     },
     "execution_count": 160,
     "metadata": {
      "tags": []
     },
     "output_type": "execute_result"
    }
   ],
   "source": [
    "k[0:2,2:4]"
   ]
  },
  {
   "cell_type": "code",
   "execution_count": null,
   "metadata": {
    "id": "oeWzGbL4eR0j"
   },
   "outputs": [],
   "source": [
    "a = np.zeros((2,3))"
   ]
  },
  {
   "cell_type": "code",
   "execution_count": null,
   "metadata": {
    "colab": {
     "base_uri": "https://localhost:8080/"
    },
    "executionInfo": {
     "elapsed": 1025,
     "status": "ok",
     "timestamp": 1615888899807,
     "user": {
      "displayName": "IoT ahmed",
      "photoUrl": "",
      "userId": "17443931198187779948"
     },
     "user_tz": -330
    },
    "id": "L0IkOAGLe51K",
    "outputId": "dfe38651-8e96-4301-cdea-784138835070"
   },
   "outputs": [
    {
     "data": {
      "text/plain": [
       "array([[0., 0., 0.],\n",
       "       [0., 0., 0.]])"
      ]
     },
     "execution_count": 163,
     "metadata": {
      "tags": []
     },
     "output_type": "execute_result"
    }
   ],
   "source": [
    "a"
   ]
  },
  {
   "cell_type": "code",
   "execution_count": null,
   "metadata": {
    "id": "9QjzqvbSe9mE"
   },
   "outputs": [],
   "source": [
    "a = np.zeros((2,3,3))"
   ]
  },
  {
   "cell_type": "code",
   "execution_count": null,
   "metadata": {
    "colab": {
     "base_uri": "https://localhost:8080/"
    },
    "executionInfo": {
     "elapsed": 1026,
     "status": "ok",
     "timestamp": 1615888917165,
     "user": {
      "displayName": "IoT ahmed",
      "photoUrl": "",
      "userId": "17443931198187779948"
     },
     "user_tz": -330
    },
    "id": "_UsTzbuWfBDK",
    "outputId": "31464ee2-17fe-4b56-f051-79970c897cad"
   },
   "outputs": [
    {
     "data": {
      "text/plain": [
       "array([[[0., 0., 0.],\n",
       "        [0., 0., 0.],\n",
       "        [0., 0., 0.]],\n",
       "\n",
       "       [[0., 0., 0.],\n",
       "        [0., 0., 0.],\n",
       "        [0., 0., 0.]]])"
      ]
     },
     "execution_count": 165,
     "metadata": {
      "tags": []
     },
     "output_type": "execute_result"
    }
   ],
   "source": [
    "a"
   ]
  },
  {
   "cell_type": "code",
   "execution_count": null,
   "metadata": {
    "id": "15BAcWC5fBrn"
   },
   "outputs": [],
   "source": [
    "a = np.ones((2,3,3))"
   ]
  },
  {
   "cell_type": "code",
   "execution_count": null,
   "metadata": {
    "colab": {
     "base_uri": "https://localhost:8080/"
    },
    "executionInfo": {
     "elapsed": 995,
     "status": "ok",
     "timestamp": 1615889013584,
     "user": {
      "displayName": "IoT ahmed",
      "photoUrl": "",
      "userId": "17443931198187779948"
     },
     "user_tz": -330
    },
    "id": "oJotiMojfXDM",
    "outputId": "3ff72379-fb4e-48de-f805-721e7b80fe34"
   },
   "outputs": [
    {
     "data": {
      "text/plain": [
       "array([[[1., 1., 1.],\n",
       "        [1., 1., 1.],\n",
       "        [1., 1., 1.]],\n",
       "\n",
       "       [[1., 1., 1.],\n",
       "        [1., 1., 1.],\n",
       "        [1., 1., 1.]]])"
      ]
     },
     "execution_count": 168,
     "metadata": {
      "tags": []
     },
     "output_type": "execute_result"
    }
   ],
   "source": [
    "a"
   ]
  },
  {
   "cell_type": "code",
   "execution_count": null,
   "metadata": {
    "id": "8HsBhMTXfZYL"
   },
   "outputs": [],
   "source": [
    "i = np.eye(3)"
   ]
  },
  {
   "cell_type": "code",
   "execution_count": null,
   "metadata": {
    "colab": {
     "base_uri": "https://localhost:8080/"
    },
    "executionInfo": {
     "elapsed": 905,
     "status": "ok",
     "timestamp": 1615889069441,
     "user": {
      "displayName": "IoT ahmed",
      "photoUrl": "",
      "userId": "17443931198187779948"
     },
     "user_tz": -330
    },
    "id": "cVgek062fiGW",
    "outputId": "835ff6ff-3d6e-4d59-cf21-67b9abfbf21b"
   },
   "outputs": [
    {
     "data": {
      "text/plain": [
       "array([[1., 0., 0.],\n",
       "       [0., 1., 0.],\n",
       "       [0., 0., 1.]])"
      ]
     },
     "execution_count": 171,
     "metadata": {
      "tags": []
     },
     "output_type": "execute_result"
    }
   ],
   "source": [
    "i"
   ]
  },
  {
   "cell_type": "code",
   "execution_count": null,
   "metadata": {
    "id": "QPSI4ay3fnGc"
   },
   "outputs": [],
   "source": [
    "f = np.full((3,3), 12)"
   ]
  },
  {
   "cell_type": "code",
   "execution_count": null,
   "metadata": {
    "colab": {
     "base_uri": "https://localhost:8080/"
    },
    "executionInfo": {
     "elapsed": 969,
     "status": "ok",
     "timestamp": 1615889123197,
     "user": {
      "displayName": "IoT ahmed",
      "photoUrl": "",
      "userId": "17443931198187779948"
     },
     "user_tz": -330
    },
    "id": "qMDVFIR-fzcT",
    "outputId": "c2012e11-55cc-428b-b858-d69be8ce54b9"
   },
   "outputs": [
    {
     "data": {
      "text/plain": [
       "array([[12, 12, 12],\n",
       "       [12, 12, 12],\n",
       "       [12, 12, 12]])"
      ]
     },
     "execution_count": 173,
     "metadata": {
      "tags": []
     },
     "output_type": "execute_result"
    }
   ],
   "source": [
    "f"
   ]
  },
  {
   "cell_type": "code",
   "execution_count": null,
   "metadata": {
    "id": "0RUPT4NXf0Ei"
   },
   "outputs": [],
   "source": [
    "f = np.full((3,3), '*')"
   ]
  },
  {
   "cell_type": "code",
   "execution_count": null,
   "metadata": {
    "colab": {
     "base_uri": "https://localhost:8080/"
    },
    "executionInfo": {
     "elapsed": 1058,
     "status": "ok",
     "timestamp": 1615889152081,
     "user": {
      "displayName": "IoT ahmed",
      "photoUrl": "",
      "userId": "17443931198187779948"
     },
     "user_tz": -330
    },
    "id": "maNgWoDQf4h3",
    "outputId": "30f6ff3d-995d-4264-fc68-a1809e7e38b2"
   },
   "outputs": [
    {
     "data": {
      "text/plain": [
       "array([['*', '*', '*'],\n",
       "       ['*', '*', '*'],\n",
       "       ['*', '*', '*']], dtype='<U1')"
      ]
     },
     "execution_count": 176,
     "metadata": {
      "tags": []
     },
     "output_type": "execute_result"
    }
   ],
   "source": [
    "f"
   ]
  },
  {
   "cell_type": "code",
   "execution_count": null,
   "metadata": {
    "id": "0ADYiiwUf7Ev"
   },
   "outputs": [],
   "source": []
  }
 ],
 "metadata": {
  "colab": {
   "authorship_tag": "ABX9TyMng6kFpws+7o8D9xCfBVqT",
   "collapsed_sections": [],
   "name": "Python II and NumPy.ipynb",
   "provenance": [
    {
     "file_id": "1VOZCkXLrSkJYbLcONnJ0hZu_5FEUXEiq",
     "timestamp": 1632570632381
    }
   ]
  },
  "kernelspec": {
   "display_name": "Python 3 (ipykernel)",
   "language": "python",
   "name": "python3"
  },
  "language_info": {
   "codemirror_mode": {
    "name": "ipython",
    "version": 3
   },
   "file_extension": ".py",
   "mimetype": "text/x-python",
   "name": "python",
   "nbconvert_exporter": "python",
   "pygments_lexer": "ipython3",
   "version": "3.9.6"
  }
 },
 "nbformat": 4,
 "nbformat_minor": 1
}
