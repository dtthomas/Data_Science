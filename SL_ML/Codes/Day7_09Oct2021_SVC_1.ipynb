{
 "cells": [
  {
   "cell_type": "markdown",
   "metadata": {},
   "source": [
    "# SVC"
   ]
  },
  {
   "cell_type": "code",
   "execution_count": 2,
   "metadata": {},
   "outputs": [],
   "source": [
    "import pandas as pd"
   ]
  },
  {
   "cell_type": "code",
   "execution_count": 3,
   "metadata": {},
   "outputs": [],
   "source": [
    "df = pd.read_csv(\"Social_Network_Ads.csv\")"
   ]
  },
  {
   "cell_type": "code",
   "execution_count": 4,
   "metadata": {},
   "outputs": [
    {
     "data": {
      "text/html": [
       "<div>\n",
       "<style scoped>\n",
       "    .dataframe tbody tr th:only-of-type {\n",
       "        vertical-align: middle;\n",
       "    }\n",
       "\n",
       "    .dataframe tbody tr th {\n",
       "        vertical-align: top;\n",
       "    }\n",
       "\n",
       "    .dataframe thead th {\n",
       "        text-align: right;\n",
       "    }\n",
       "</style>\n",
       "<table border=\"1\" class=\"dataframe\">\n",
       "  <thead>\n",
       "    <tr style=\"text-align: right;\">\n",
       "      <th></th>\n",
       "      <th>User ID</th>\n",
       "      <th>Gender</th>\n",
       "      <th>Age</th>\n",
       "      <th>EstimatedSalary</th>\n",
       "      <th>Purchased</th>\n",
       "    </tr>\n",
       "  </thead>\n",
       "  <tbody>\n",
       "    <tr>\n",
       "      <th>0</th>\n",
       "      <td>15624510</td>\n",
       "      <td>Male</td>\n",
       "      <td>19</td>\n",
       "      <td>19000</td>\n",
       "      <td>0</td>\n",
       "    </tr>\n",
       "    <tr>\n",
       "      <th>1</th>\n",
       "      <td>15810944</td>\n",
       "      <td>Male</td>\n",
       "      <td>35</td>\n",
       "      <td>20000</td>\n",
       "      <td>0</td>\n",
       "    </tr>\n",
       "    <tr>\n",
       "      <th>2</th>\n",
       "      <td>15668575</td>\n",
       "      <td>Female</td>\n",
       "      <td>26</td>\n",
       "      <td>43000</td>\n",
       "      <td>0</td>\n",
       "    </tr>\n",
       "    <tr>\n",
       "      <th>3</th>\n",
       "      <td>15603246</td>\n",
       "      <td>Female</td>\n",
       "      <td>27</td>\n",
       "      <td>57000</td>\n",
       "      <td>0</td>\n",
       "    </tr>\n",
       "    <tr>\n",
       "      <th>4</th>\n",
       "      <td>15804002</td>\n",
       "      <td>Male</td>\n",
       "      <td>19</td>\n",
       "      <td>76000</td>\n",
       "      <td>0</td>\n",
       "    </tr>\n",
       "    <tr>\n",
       "      <th>...</th>\n",
       "      <td>...</td>\n",
       "      <td>...</td>\n",
       "      <td>...</td>\n",
       "      <td>...</td>\n",
       "      <td>...</td>\n",
       "    </tr>\n",
       "    <tr>\n",
       "      <th>395</th>\n",
       "      <td>15691863</td>\n",
       "      <td>Female</td>\n",
       "      <td>46</td>\n",
       "      <td>41000</td>\n",
       "      <td>1</td>\n",
       "    </tr>\n",
       "    <tr>\n",
       "      <th>396</th>\n",
       "      <td>15706071</td>\n",
       "      <td>Male</td>\n",
       "      <td>51</td>\n",
       "      <td>23000</td>\n",
       "      <td>1</td>\n",
       "    </tr>\n",
       "    <tr>\n",
       "      <th>397</th>\n",
       "      <td>15654296</td>\n",
       "      <td>Female</td>\n",
       "      <td>50</td>\n",
       "      <td>20000</td>\n",
       "      <td>1</td>\n",
       "    </tr>\n",
       "    <tr>\n",
       "      <th>398</th>\n",
       "      <td>15755018</td>\n",
       "      <td>Male</td>\n",
       "      <td>36</td>\n",
       "      <td>33000</td>\n",
       "      <td>0</td>\n",
       "    </tr>\n",
       "    <tr>\n",
       "      <th>399</th>\n",
       "      <td>15594041</td>\n",
       "      <td>Female</td>\n",
       "      <td>49</td>\n",
       "      <td>36000</td>\n",
       "      <td>1</td>\n",
       "    </tr>\n",
       "  </tbody>\n",
       "</table>\n",
       "<p>400 rows × 5 columns</p>\n",
       "</div>"
      ],
      "text/plain": [
       "      User ID  Gender  Age  EstimatedSalary  Purchased\n",
       "0    15624510    Male   19            19000          0\n",
       "1    15810944    Male   35            20000          0\n",
       "2    15668575  Female   26            43000          0\n",
       "3    15603246  Female   27            57000          0\n",
       "4    15804002    Male   19            76000          0\n",
       "..        ...     ...  ...              ...        ...\n",
       "395  15691863  Female   46            41000          1\n",
       "396  15706071    Male   51            23000          1\n",
       "397  15654296  Female   50            20000          1\n",
       "398  15755018    Male   36            33000          0\n",
       "399  15594041  Female   49            36000          1\n",
       "\n",
       "[400 rows x 5 columns]"
      ]
     },
     "execution_count": 4,
     "metadata": {},
     "output_type": "execute_result"
    }
   ],
   "source": [
    "df"
   ]
  },
  {
   "cell_type": "markdown",
   "metadata": {},
   "source": [
    "### Split data in to X and Y"
   ]
  },
  {
   "cell_type": "code",
   "execution_count": 5,
   "metadata": {},
   "outputs": [],
   "source": [
    "x = df.iloc[:,2:4].values"
   ]
  },
  {
   "cell_type": "code",
   "execution_count": 6,
   "metadata": {},
   "outputs": [],
   "source": [
    "y=df.iloc[:,4].values"
   ]
  },
  {
   "cell_type": "markdown",
   "metadata": {},
   "source": [
    "### Split in to test and train"
   ]
  },
  {
   "cell_type": "code",
   "execution_count": 7,
   "metadata": {},
   "outputs": [],
   "source": [
    "from sklearn.model_selection import train_test_split"
   ]
  },
  {
   "cell_type": "code",
   "execution_count": 8,
   "metadata": {},
   "outputs": [],
   "source": [
    "x_train,x_test,y_train,y_test=train_test_split(x,y,test_size=0.2, random_state=0)"
   ]
  },
  {
   "cell_type": "code",
   "execution_count": 9,
   "metadata": {},
   "outputs": [
    {
     "data": {
      "text/plain": [
       "(80, 2)"
      ]
     },
     "execution_count": 9,
     "metadata": {},
     "output_type": "execute_result"
    }
   ],
   "source": [
    "x_test.shape"
   ]
  },
  {
   "cell_type": "markdown",
   "metadata": {},
   "source": [
    "### standardize the data - make all column values in the same scale"
   ]
  },
  {
   "cell_type": "code",
   "execution_count": 10,
   "metadata": {},
   "outputs": [],
   "source": [
    "from sklearn.preprocessing import StandardScaler"
   ]
  },
  {
   "cell_type": "code",
   "execution_count": 11,
   "metadata": {},
   "outputs": [],
   "source": [
    "sc=StandardScaler()"
   ]
  },
  {
   "cell_type": "code",
   "execution_count": 12,
   "metadata": {},
   "outputs": [],
   "source": [
    "x_train = sc.fit_transform(x_train)  #Find the y values based on x values(means find equation) and tranform the values based on the standardscaler\n",
    "x_test = sc.transform(x_test) # here since it is test values, we only need to tranform"
   ]
  },
  {
   "cell_type": "markdown",
   "metadata": {},
   "source": [
    "### Apply our model using linear kernal"
   ]
  },
  {
   "cell_type": "code",
   "execution_count": 13,
   "metadata": {},
   "outputs": [],
   "source": [
    "from sklearn.svm import SVC"
   ]
  },
  {
   "cell_type": "code",
   "execution_count": 68,
   "metadata": {},
   "outputs": [],
   "source": [
    "svc = SVC(kernel=\"linear\")  #kernel=rbf by default. Other option is linear"
   ]
  },
  {
   "cell_type": "code",
   "execution_count": 69,
   "metadata": {},
   "outputs": [
    {
     "data": {
      "text/plain": [
       "SVC(kernel='linear')"
      ]
     },
     "execution_count": 69,
     "metadata": {},
     "output_type": "execute_result"
    }
   ],
   "source": [
    "svc.fit(x_train,y_train)"
   ]
  },
  {
   "cell_type": "markdown",
   "metadata": {},
   "source": [
    "### Prediction"
   ]
  },
  {
   "cell_type": "code",
   "execution_count": 70,
   "metadata": {},
   "outputs": [],
   "source": [
    "y_pred = svc.predict(x_test)"
   ]
  },
  {
   "cell_type": "code",
   "execution_count": 71,
   "metadata": {},
   "outputs": [],
   "source": [
    "y_pred_tr = svc.predict(x_train)"
   ]
  },
  {
   "cell_type": "markdown",
   "metadata": {},
   "source": [
    "### Metrics"
   ]
  },
  {
   "cell_type": "code",
   "execution_count": 14,
   "metadata": {},
   "outputs": [],
   "source": [
    "from sklearn.metrics import accuracy_score"
   ]
  },
  {
   "cell_type": "code",
   "execution_count": 73,
   "metadata": {},
   "outputs": [
    {
     "data": {
      "text/plain": [
       "0.9125"
      ]
     },
     "execution_count": 73,
     "metadata": {},
     "output_type": "execute_result"
    }
   ],
   "source": [
    "accuracy_score(y_test,y_pred)"
   ]
  },
  {
   "cell_type": "code",
   "execution_count": 74,
   "metadata": {},
   "outputs": [
    {
     "data": {
      "text/plain": [
       "0.821875"
      ]
     },
     "execution_count": 74,
     "metadata": {},
     "output_type": "execute_result"
    }
   ],
   "source": [
    "accuracy_score(y_train,y_pred_tr)"
   ]
  },
  {
   "cell_type": "markdown",
   "metadata": {},
   "source": [
    "### Apply our model using Kernal=RBF kernal"
   ]
  },
  {
   "cell_type": "code",
   "execution_count": 15,
   "metadata": {},
   "outputs": [],
   "source": [
    "svc = SVC(kernel=\"rbf\")"
   ]
  },
  {
   "cell_type": "code",
   "execution_count": 16,
   "metadata": {},
   "outputs": [
    {
     "data": {
      "text/plain": [
       "SVC()"
      ]
     },
     "execution_count": 16,
     "metadata": {},
     "output_type": "execute_result"
    }
   ],
   "source": [
    "svc.fit(x_train,y_train)"
   ]
  },
  {
   "cell_type": "code",
   "execution_count": 17,
   "metadata": {},
   "outputs": [],
   "source": [
    "y_pred1 = svc.predict(x_test)"
   ]
  },
  {
   "cell_type": "code",
   "execution_count": 18,
   "metadata": {},
   "outputs": [],
   "source": [
    "y_pred_tr1 = svc.predict(x_train)  ##Trying with training data just to check whether we have an over fitting problem"
   ]
  },
  {
   "cell_type": "markdown",
   "metadata": {},
   "source": [
    "### Metrics"
   ]
  },
  {
   "cell_type": "code",
   "execution_count": 19,
   "metadata": {},
   "outputs": [
    {
     "data": {
      "text/plain": [
       "0.903125"
      ]
     },
     "execution_count": 19,
     "metadata": {},
     "output_type": "execute_result"
    }
   ],
   "source": [
    "accuracy_score(y_train,y_pred_tr1)"
   ]
  },
  {
   "cell_type": "code",
   "execution_count": 20,
   "metadata": {},
   "outputs": [
    {
     "data": {
      "text/plain": [
       "0.95"
      ]
     },
     "execution_count": 20,
     "metadata": {},
     "output_type": "execute_result"
    }
   ],
   "source": [
    "accuracy_score(y_test,y_pred1)"
   ]
  },
  {
   "cell_type": "code",
   "execution_count": 21,
   "metadata": {},
   "outputs": [],
   "source": [
    "###Accuracy score is better in RBF"
   ]
  },
  {
   "cell_type": "markdown",
   "metadata": {},
   "source": [
    "### Coss validation"
   ]
  },
  {
   "cell_type": "code",
   "execution_count": 22,
   "metadata": {},
   "outputs": [],
   "source": [
    "from sklearn.model_selection import cross_val_score"
   ]
  },
  {
   "cell_type": "code",
   "execution_count": 23,
   "metadata": {},
   "outputs": [
    {
     "data": {
      "text/plain": [
       "array([0.859375, 0.875   , 0.859375, 0.90625 , 0.96875 ])"
      ]
     },
     "execution_count": 23,
     "metadata": {},
     "output_type": "execute_result"
    }
   ],
   "source": [
    "cross_val_score(SVC(kernel=\"rbf\"),x_train,y_train,cv=5) #estimator is the model you are using, cv is the number of fold\n",
    "##This function directly gives us the accuracy scores"
   ]
  },
  {
   "cell_type": "code",
   "execution_count": 24,
   "metadata": {},
   "outputs": [
    {
     "data": {
      "text/plain": [
       "array([0.875   , 0.875   , 0.859375, 0.90625 , 0.96875 ])"
      ]
     },
     "execution_count": 24,
     "metadata": {},
     "output_type": "execute_result"
    }
   ],
   "source": [
    "cross_val_score(SVC(kernel=\"rbf\",C=0.1,gamma=\"auto\"),x_train,y_train,cv=5)"
   ]
  },
  {
   "cell_type": "markdown",
   "metadata": {},
   "source": [
    "### Grid Search CV - by applying different values of C and gamma"
   ]
  },
  {
   "cell_type": "code",
   "execution_count": 25,
   "metadata": {},
   "outputs": [],
   "source": [
    "from sklearn.model_selection import GridSearchCV"
   ]
  },
  {
   "cell_type": "code",
   "execution_count": 26,
   "metadata": {},
   "outputs": [],
   "source": [
    "clf = GridSearchCV(SVC(kernel='rbf'),{\n",
    "    \"C\" : [0.1,0.5,1.0,5,10],\n",
    "    \"gamma\" : [1.0, 5.0,10, \"auto\", \"scale\"]\n",
    "}, cv=5)  #cv=5 - 5 fold stratifying sampling"
   ]
  },
  {
   "cell_type": "code",
   "execution_count": 27,
   "metadata": {},
   "outputs": [
    {
     "data": {
      "text/plain": [
       "GridSearchCV(cv=5, estimator=SVC(),\n",
       "             param_grid={'C': [0.1, 0.5, 1.0, 5, 10],\n",
       "                         'gamma': [1.0, 5.0, 10, 'auto', 'scale']})"
      ]
     },
     "execution_count": 27,
     "metadata": {},
     "output_type": "execute_result"
    }
   ],
   "source": [
    "clf.fit(x_train,y_train)"
   ]
  },
  {
   "cell_type": "code",
   "execution_count": 28,
   "metadata": {},
   "outputs": [
    {
     "data": {
      "text/plain": [
       "{'mean_fit_time': array([0.01139789, 0.00278511, 0.00281839, 0.0022727 , 0.00211983,\n",
       "        0.0016655 , 0.00277796, 0.00290604, 0.00161023, 0.00162005,\n",
       "        0.00165415, 0.00238919, 0.00288382, 0.00156236, 0.00161366,\n",
       "        0.00179243, 0.00241566, 0.00326924, 0.0016397 , 0.00170884,\n",
       "        0.00187912, 0.00250115, 0.00313058, 0.00182109, 0.00181885]),\n",
       " 'std_fit_time': array([1.79921662e-02, 1.04300605e-04, 1.50051494e-05, 4.85310060e-04,\n",
       "        7.43222876e-05, 4.96768668e-05, 6.01450769e-04, 1.31061484e-04,\n",
       "        7.02569675e-05, 5.88064150e-05, 1.81402606e-04, 1.18519792e-04,\n",
       "        1.00372647e-04, 5.59019123e-05, 9.68770000e-05, 1.66566802e-04,\n",
       "        1.02595922e-04, 1.48588870e-04, 9.06289955e-05, 1.16347446e-04,\n",
       "        2.04779471e-04, 2.08497755e-04, 3.11295629e-04, 1.34801232e-04,\n",
       "        1.62476228e-04]),\n",
       " 'mean_score_time': array([0.00103083, 0.00098372, 0.00101266, 0.00079532, 0.00087609,\n",
       "        0.00061483, 0.00079784, 0.00088801, 0.00059948, 0.00060968,\n",
       "        0.00057311, 0.00070152, 0.00079494, 0.0005692 , 0.00056162,\n",
       "        0.00056114, 0.00067148, 0.00077004, 0.00055184, 0.00057569,\n",
       "        0.00053973, 0.00068378, 0.00085478, 0.00055017, 0.00053244]),\n",
       " 'std_score_time': array([4.21984198e-04, 2.94741684e-05, 5.73037654e-05, 2.62327186e-05,\n",
       "        1.50693715e-04, 2.72191748e-05, 4.92576708e-05, 1.24019836e-05,\n",
       "        1.33519513e-05, 2.32598800e-05, 2.18354976e-05, 2.53418202e-05,\n",
       "        1.51349045e-05, 1.66105045e-05, 3.03515747e-05, 2.94133939e-05,\n",
       "        1.84891110e-05, 6.78953157e-06, 4.02153841e-05, 3.90385507e-05,\n",
       "        2.90015010e-05, 6.31093574e-05, 1.70533222e-04, 4.05969086e-05,\n",
       "        2.35416586e-05]),\n",
       " 'param_C': masked_array(data=[0.1, 0.1, 0.1, 0.1, 0.1, 0.5, 0.5, 0.5, 0.5, 0.5, 1.0,\n",
       "                    1.0, 1.0, 1.0, 1.0, 5, 5, 5, 5, 5, 10, 10, 10, 10, 10],\n",
       "              mask=[False, False, False, False, False, False, False, False,\n",
       "                    False, False, False, False, False, False, False, False,\n",
       "                    False, False, False, False, False, False, False, False,\n",
       "                    False],\n",
       "        fill_value='?',\n",
       "             dtype=object),\n",
       " 'param_gamma': masked_array(data=[1.0, 5.0, 10, 'auto', 'scale', 1.0, 5.0, 10, 'auto',\n",
       "                    'scale', 1.0, 5.0, 10, 'auto', 'scale', 1.0, 5.0, 10,\n",
       "                    'auto', 'scale', 1.0, 5.0, 10, 'auto', 'scale'],\n",
       "              mask=[False, False, False, False, False, False, False, False,\n",
       "                    False, False, False, False, False, False, False, False,\n",
       "                    False, False, False, False, False, False, False, False,\n",
       "                    False],\n",
       "        fill_value='?',\n",
       "             dtype=object),\n",
       " 'params': [{'C': 0.1, 'gamma': 1.0},\n",
       "  {'C': 0.1, 'gamma': 5.0},\n",
       "  {'C': 0.1, 'gamma': 10},\n",
       "  {'C': 0.1, 'gamma': 'auto'},\n",
       "  {'C': 0.1, 'gamma': 'scale'},\n",
       "  {'C': 0.5, 'gamma': 1.0},\n",
       "  {'C': 0.5, 'gamma': 5.0},\n",
       "  {'C': 0.5, 'gamma': 10},\n",
       "  {'C': 0.5, 'gamma': 'auto'},\n",
       "  {'C': 0.5, 'gamma': 'scale'},\n",
       "  {'C': 1.0, 'gamma': 1.0},\n",
       "  {'C': 1.0, 'gamma': 5.0},\n",
       "  {'C': 1.0, 'gamma': 10},\n",
       "  {'C': 1.0, 'gamma': 'auto'},\n",
       "  {'C': 1.0, 'gamma': 'scale'},\n",
       "  {'C': 5, 'gamma': 1.0},\n",
       "  {'C': 5, 'gamma': 5.0},\n",
       "  {'C': 5, 'gamma': 10},\n",
       "  {'C': 5, 'gamma': 'auto'},\n",
       "  {'C': 5, 'gamma': 'scale'},\n",
       "  {'C': 10, 'gamma': 1.0},\n",
       "  {'C': 10, 'gamma': 5.0},\n",
       "  {'C': 10, 'gamma': 10},\n",
       "  {'C': 10, 'gamma': 'auto'},\n",
       "  {'C': 10, 'gamma': 'scale'}],\n",
       " 'split0_test_score': array([0.859375, 0.8125  , 0.625   , 0.875   , 0.875   , 0.859375,\n",
       "        0.859375, 0.875   , 0.859375, 0.859375, 0.859375, 0.859375,\n",
       "        0.875   , 0.859375, 0.859375, 0.84375 , 0.859375, 0.875   ,\n",
       "        0.859375, 0.859375, 0.84375 , 0.84375 , 0.875   , 0.859375,\n",
       "        0.859375]),\n",
       " 'split1_test_score': array([0.875   , 0.8125  , 0.671875, 0.875   , 0.875   , 0.875   ,\n",
       "        0.859375, 0.859375, 0.875   , 0.875   , 0.875   , 0.84375 ,\n",
       "        0.859375, 0.875   , 0.875   , 0.875   , 0.84375 , 0.8125  ,\n",
       "        0.859375, 0.859375, 0.875   , 0.84375 , 0.8125  , 0.859375,\n",
       "        0.859375]),\n",
       " 'split2_test_score': array([0.875   , 0.796875, 0.703125, 0.859375, 0.859375, 0.90625 ,\n",
       "        0.921875, 0.9375  , 0.875   , 0.875   , 0.921875, 0.921875,\n",
       "        0.9375  , 0.859375, 0.859375, 0.90625 , 0.859375, 0.890625,\n",
       "        0.90625 , 0.90625 , 0.921875, 0.859375, 0.875   , 0.90625 ,\n",
       "        0.90625 ]),\n",
       " 'split3_test_score': array([0.90625 , 0.875   , 0.671875, 0.90625 , 0.90625 , 0.90625 ,\n",
       "        0.90625 , 0.90625 , 0.90625 , 0.90625 , 0.90625 , 0.90625 ,\n",
       "        0.90625 , 0.90625 , 0.90625 , 0.90625 , 0.90625 , 0.890625,\n",
       "        0.90625 , 0.90625 , 0.90625 , 0.875   , 0.890625, 0.90625 ,\n",
       "        0.90625 ]),\n",
       " 'split4_test_score': array([0.96875 , 0.796875, 0.671875, 0.96875 , 0.96875 , 0.984375,\n",
       "        0.984375, 0.984375, 0.96875 , 0.96875 , 0.984375, 0.984375,\n",
       "        0.984375, 0.96875 , 0.96875 , 0.984375, 0.96875 , 0.953125,\n",
       "        0.984375, 0.984375, 0.984375, 0.96875 , 0.953125, 0.96875 ,\n",
       "        0.96875 ]),\n",
       " 'mean_test_score': array([0.896875, 0.81875 , 0.66875 , 0.896875, 0.896875, 0.90625 ,\n",
       "        0.90625 , 0.9125  , 0.896875, 0.896875, 0.909375, 0.903125,\n",
       "        0.9125  , 0.89375 , 0.89375 , 0.903125, 0.8875  , 0.884375,\n",
       "        0.903125, 0.903125, 0.90625 , 0.878125, 0.88125 , 0.9     ,\n",
       "        0.9     ]),\n",
       " 'std_test_score': array([0.03903124, 0.02898006, 0.025     , 0.03903124, 0.03903124,\n",
       "        0.04307515, 0.04635124, 0.04485219, 0.03903124, 0.03903124,\n",
       "        0.04352621, 0.0498043 , 0.04485219, 0.04122158, 0.04122158,\n",
       "        0.04677072, 0.04571481, 0.04485219, 0.04571481, 0.04571481,\n",
       "        0.04739297, 0.04677072, 0.04485219, 0.04026281, 0.04026281]),\n",
       " 'rank_test_score': array([13, 24, 25, 13, 13,  4,  4,  1, 13, 13,  3,  7,  1, 18, 18,  7, 20,\n",
       "        21,  7,  7,  4, 23, 22, 11, 11], dtype=int32)}"
      ]
     },
     "execution_count": 28,
     "metadata": {},
     "output_type": "execute_result"
    }
   ],
   "source": [
    "clf.cv_results_"
   ]
  },
  {
   "cell_type": "code",
   "execution_count": 32,
   "metadata": {},
   "outputs": [],
   "source": [
    "df1 = pd.DataFrame(clf.cv_results_)  #to make te previous results readable. \n",
    "#took Done iterations - for each C values and take all gamma values"
   ]
  },
  {
   "cell_type": "code",
   "execution_count": 33,
   "metadata": {},
   "outputs": [
    {
     "data": {
      "text/html": [
       "<div>\n",
       "<style scoped>\n",
       "    .dataframe tbody tr th:only-of-type {\n",
       "        vertical-align: middle;\n",
       "    }\n",
       "\n",
       "    .dataframe tbody tr th {\n",
       "        vertical-align: top;\n",
       "    }\n",
       "\n",
       "    .dataframe thead th {\n",
       "        text-align: right;\n",
       "    }\n",
       "</style>\n",
       "<table border=\"1\" class=\"dataframe\">\n",
       "  <thead>\n",
       "    <tr style=\"text-align: right;\">\n",
       "      <th></th>\n",
       "      <th>mean_fit_time</th>\n",
       "      <th>std_fit_time</th>\n",
       "      <th>mean_score_time</th>\n",
       "      <th>std_score_time</th>\n",
       "      <th>param_C</th>\n",
       "      <th>param_gamma</th>\n",
       "      <th>params</th>\n",
       "      <th>split0_test_score</th>\n",
       "      <th>split1_test_score</th>\n",
       "      <th>split2_test_score</th>\n",
       "      <th>split3_test_score</th>\n",
       "      <th>split4_test_score</th>\n",
       "      <th>mean_test_score</th>\n",
       "      <th>std_test_score</th>\n",
       "      <th>rank_test_score</th>\n",
       "    </tr>\n",
       "  </thead>\n",
       "  <tbody>\n",
       "    <tr>\n",
       "      <th>0</th>\n",
       "      <td>0.011398</td>\n",
       "      <td>0.017992</td>\n",
       "      <td>0.001031</td>\n",
       "      <td>0.000422</td>\n",
       "      <td>0.1</td>\n",
       "      <td>1</td>\n",
       "      <td>{'C': 0.1, 'gamma': 1.0}</td>\n",
       "      <td>0.859375</td>\n",
       "      <td>0.875000</td>\n",
       "      <td>0.875000</td>\n",
       "      <td>0.906250</td>\n",
       "      <td>0.968750</td>\n",
       "      <td>0.896875</td>\n",
       "      <td>0.039031</td>\n",
       "      <td>13</td>\n",
       "    </tr>\n",
       "    <tr>\n",
       "      <th>1</th>\n",
       "      <td>0.002785</td>\n",
       "      <td>0.000104</td>\n",
       "      <td>0.000984</td>\n",
       "      <td>0.000029</td>\n",
       "      <td>0.1</td>\n",
       "      <td>5</td>\n",
       "      <td>{'C': 0.1, 'gamma': 5.0}</td>\n",
       "      <td>0.812500</td>\n",
       "      <td>0.812500</td>\n",
       "      <td>0.796875</td>\n",
       "      <td>0.875000</td>\n",
       "      <td>0.796875</td>\n",
       "      <td>0.818750</td>\n",
       "      <td>0.028980</td>\n",
       "      <td>24</td>\n",
       "    </tr>\n",
       "    <tr>\n",
       "      <th>2</th>\n",
       "      <td>0.002818</td>\n",
       "      <td>0.000015</td>\n",
       "      <td>0.001013</td>\n",
       "      <td>0.000057</td>\n",
       "      <td>0.1</td>\n",
       "      <td>10</td>\n",
       "      <td>{'C': 0.1, 'gamma': 10}</td>\n",
       "      <td>0.625000</td>\n",
       "      <td>0.671875</td>\n",
       "      <td>0.703125</td>\n",
       "      <td>0.671875</td>\n",
       "      <td>0.671875</td>\n",
       "      <td>0.668750</td>\n",
       "      <td>0.025000</td>\n",
       "      <td>25</td>\n",
       "    </tr>\n",
       "    <tr>\n",
       "      <th>3</th>\n",
       "      <td>0.002273</td>\n",
       "      <td>0.000485</td>\n",
       "      <td>0.000795</td>\n",
       "      <td>0.000026</td>\n",
       "      <td>0.1</td>\n",
       "      <td>auto</td>\n",
       "      <td>{'C': 0.1, 'gamma': 'auto'}</td>\n",
       "      <td>0.875000</td>\n",
       "      <td>0.875000</td>\n",
       "      <td>0.859375</td>\n",
       "      <td>0.906250</td>\n",
       "      <td>0.968750</td>\n",
       "      <td>0.896875</td>\n",
       "      <td>0.039031</td>\n",
       "      <td>13</td>\n",
       "    </tr>\n",
       "    <tr>\n",
       "      <th>4</th>\n",
       "      <td>0.002120</td>\n",
       "      <td>0.000074</td>\n",
       "      <td>0.000876</td>\n",
       "      <td>0.000151</td>\n",
       "      <td>0.1</td>\n",
       "      <td>scale</td>\n",
       "      <td>{'C': 0.1, 'gamma': 'scale'}</td>\n",
       "      <td>0.875000</td>\n",
       "      <td>0.875000</td>\n",
       "      <td>0.859375</td>\n",
       "      <td>0.906250</td>\n",
       "      <td>0.968750</td>\n",
       "      <td>0.896875</td>\n",
       "      <td>0.039031</td>\n",
       "      <td>13</td>\n",
       "    </tr>\n",
       "    <tr>\n",
       "      <th>5</th>\n",
       "      <td>0.001665</td>\n",
       "      <td>0.000050</td>\n",
       "      <td>0.000615</td>\n",
       "      <td>0.000027</td>\n",
       "      <td>0.5</td>\n",
       "      <td>1</td>\n",
       "      <td>{'C': 0.5, 'gamma': 1.0}</td>\n",
       "      <td>0.859375</td>\n",
       "      <td>0.875000</td>\n",
       "      <td>0.906250</td>\n",
       "      <td>0.906250</td>\n",
       "      <td>0.984375</td>\n",
       "      <td>0.906250</td>\n",
       "      <td>0.043075</td>\n",
       "      <td>4</td>\n",
       "    </tr>\n",
       "    <tr>\n",
       "      <th>6</th>\n",
       "      <td>0.002778</td>\n",
       "      <td>0.000601</td>\n",
       "      <td>0.000798</td>\n",
       "      <td>0.000049</td>\n",
       "      <td>0.5</td>\n",
       "      <td>5</td>\n",
       "      <td>{'C': 0.5, 'gamma': 5.0}</td>\n",
       "      <td>0.859375</td>\n",
       "      <td>0.859375</td>\n",
       "      <td>0.921875</td>\n",
       "      <td>0.906250</td>\n",
       "      <td>0.984375</td>\n",
       "      <td>0.906250</td>\n",
       "      <td>0.046351</td>\n",
       "      <td>4</td>\n",
       "    </tr>\n",
       "    <tr>\n",
       "      <th>7</th>\n",
       "      <td>0.002906</td>\n",
       "      <td>0.000131</td>\n",
       "      <td>0.000888</td>\n",
       "      <td>0.000012</td>\n",
       "      <td>0.5</td>\n",
       "      <td>10</td>\n",
       "      <td>{'C': 0.5, 'gamma': 10}</td>\n",
       "      <td>0.875000</td>\n",
       "      <td>0.859375</td>\n",
       "      <td>0.937500</td>\n",
       "      <td>0.906250</td>\n",
       "      <td>0.984375</td>\n",
       "      <td>0.912500</td>\n",
       "      <td>0.044852</td>\n",
       "      <td>1</td>\n",
       "    </tr>\n",
       "    <tr>\n",
       "      <th>8</th>\n",
       "      <td>0.001610</td>\n",
       "      <td>0.000070</td>\n",
       "      <td>0.000599</td>\n",
       "      <td>0.000013</td>\n",
       "      <td>0.5</td>\n",
       "      <td>auto</td>\n",
       "      <td>{'C': 0.5, 'gamma': 'auto'}</td>\n",
       "      <td>0.859375</td>\n",
       "      <td>0.875000</td>\n",
       "      <td>0.875000</td>\n",
       "      <td>0.906250</td>\n",
       "      <td>0.968750</td>\n",
       "      <td>0.896875</td>\n",
       "      <td>0.039031</td>\n",
       "      <td>13</td>\n",
       "    </tr>\n",
       "    <tr>\n",
       "      <th>9</th>\n",
       "      <td>0.001620</td>\n",
       "      <td>0.000059</td>\n",
       "      <td>0.000610</td>\n",
       "      <td>0.000023</td>\n",
       "      <td>0.5</td>\n",
       "      <td>scale</td>\n",
       "      <td>{'C': 0.5, 'gamma': 'scale'}</td>\n",
       "      <td>0.859375</td>\n",
       "      <td>0.875000</td>\n",
       "      <td>0.875000</td>\n",
       "      <td>0.906250</td>\n",
       "      <td>0.968750</td>\n",
       "      <td>0.896875</td>\n",
       "      <td>0.039031</td>\n",
       "      <td>13</td>\n",
       "    </tr>\n",
       "    <tr>\n",
       "      <th>10</th>\n",
       "      <td>0.001654</td>\n",
       "      <td>0.000181</td>\n",
       "      <td>0.000573</td>\n",
       "      <td>0.000022</td>\n",
       "      <td>1</td>\n",
       "      <td>1</td>\n",
       "      <td>{'C': 1.0, 'gamma': 1.0}</td>\n",
       "      <td>0.859375</td>\n",
       "      <td>0.875000</td>\n",
       "      <td>0.921875</td>\n",
       "      <td>0.906250</td>\n",
       "      <td>0.984375</td>\n",
       "      <td>0.909375</td>\n",
       "      <td>0.043526</td>\n",
       "      <td>3</td>\n",
       "    </tr>\n",
       "    <tr>\n",
       "      <th>11</th>\n",
       "      <td>0.002389</td>\n",
       "      <td>0.000119</td>\n",
       "      <td>0.000702</td>\n",
       "      <td>0.000025</td>\n",
       "      <td>1</td>\n",
       "      <td>5</td>\n",
       "      <td>{'C': 1.0, 'gamma': 5.0}</td>\n",
       "      <td>0.859375</td>\n",
       "      <td>0.843750</td>\n",
       "      <td>0.921875</td>\n",
       "      <td>0.906250</td>\n",
       "      <td>0.984375</td>\n",
       "      <td>0.903125</td>\n",
       "      <td>0.049804</td>\n",
       "      <td>7</td>\n",
       "    </tr>\n",
       "    <tr>\n",
       "      <th>12</th>\n",
       "      <td>0.002884</td>\n",
       "      <td>0.000100</td>\n",
       "      <td>0.000795</td>\n",
       "      <td>0.000015</td>\n",
       "      <td>1</td>\n",
       "      <td>10</td>\n",
       "      <td>{'C': 1.0, 'gamma': 10}</td>\n",
       "      <td>0.875000</td>\n",
       "      <td>0.859375</td>\n",
       "      <td>0.937500</td>\n",
       "      <td>0.906250</td>\n",
       "      <td>0.984375</td>\n",
       "      <td>0.912500</td>\n",
       "      <td>0.044852</td>\n",
       "      <td>1</td>\n",
       "    </tr>\n",
       "    <tr>\n",
       "      <th>13</th>\n",
       "      <td>0.001562</td>\n",
       "      <td>0.000056</td>\n",
       "      <td>0.000569</td>\n",
       "      <td>0.000017</td>\n",
       "      <td>1</td>\n",
       "      <td>auto</td>\n",
       "      <td>{'C': 1.0, 'gamma': 'auto'}</td>\n",
       "      <td>0.859375</td>\n",
       "      <td>0.875000</td>\n",
       "      <td>0.859375</td>\n",
       "      <td>0.906250</td>\n",
       "      <td>0.968750</td>\n",
       "      <td>0.893750</td>\n",
       "      <td>0.041222</td>\n",
       "      <td>18</td>\n",
       "    </tr>\n",
       "    <tr>\n",
       "      <th>14</th>\n",
       "      <td>0.001614</td>\n",
       "      <td>0.000097</td>\n",
       "      <td>0.000562</td>\n",
       "      <td>0.000030</td>\n",
       "      <td>1</td>\n",
       "      <td>scale</td>\n",
       "      <td>{'C': 1.0, 'gamma': 'scale'}</td>\n",
       "      <td>0.859375</td>\n",
       "      <td>0.875000</td>\n",
       "      <td>0.859375</td>\n",
       "      <td>0.906250</td>\n",
       "      <td>0.968750</td>\n",
       "      <td>0.893750</td>\n",
       "      <td>0.041222</td>\n",
       "      <td>18</td>\n",
       "    </tr>\n",
       "    <tr>\n",
       "      <th>15</th>\n",
       "      <td>0.001792</td>\n",
       "      <td>0.000167</td>\n",
       "      <td>0.000561</td>\n",
       "      <td>0.000029</td>\n",
       "      <td>5</td>\n",
       "      <td>1</td>\n",
       "      <td>{'C': 5, 'gamma': 1.0}</td>\n",
       "      <td>0.843750</td>\n",
       "      <td>0.875000</td>\n",
       "      <td>0.906250</td>\n",
       "      <td>0.906250</td>\n",
       "      <td>0.984375</td>\n",
       "      <td>0.903125</td>\n",
       "      <td>0.046771</td>\n",
       "      <td>7</td>\n",
       "    </tr>\n",
       "    <tr>\n",
       "      <th>16</th>\n",
       "      <td>0.002416</td>\n",
       "      <td>0.000103</td>\n",
       "      <td>0.000671</td>\n",
       "      <td>0.000018</td>\n",
       "      <td>5</td>\n",
       "      <td>5</td>\n",
       "      <td>{'C': 5, 'gamma': 5.0}</td>\n",
       "      <td>0.859375</td>\n",
       "      <td>0.843750</td>\n",
       "      <td>0.859375</td>\n",
       "      <td>0.906250</td>\n",
       "      <td>0.968750</td>\n",
       "      <td>0.887500</td>\n",
       "      <td>0.045715</td>\n",
       "      <td>20</td>\n",
       "    </tr>\n",
       "    <tr>\n",
       "      <th>17</th>\n",
       "      <td>0.003269</td>\n",
       "      <td>0.000149</td>\n",
       "      <td>0.000770</td>\n",
       "      <td>0.000007</td>\n",
       "      <td>5</td>\n",
       "      <td>10</td>\n",
       "      <td>{'C': 5, 'gamma': 10}</td>\n",
       "      <td>0.875000</td>\n",
       "      <td>0.812500</td>\n",
       "      <td>0.890625</td>\n",
       "      <td>0.890625</td>\n",
       "      <td>0.953125</td>\n",
       "      <td>0.884375</td>\n",
       "      <td>0.044852</td>\n",
       "      <td>21</td>\n",
       "    </tr>\n",
       "    <tr>\n",
       "      <th>18</th>\n",
       "      <td>0.001640</td>\n",
       "      <td>0.000091</td>\n",
       "      <td>0.000552</td>\n",
       "      <td>0.000040</td>\n",
       "      <td>5</td>\n",
       "      <td>auto</td>\n",
       "      <td>{'C': 5, 'gamma': 'auto'}</td>\n",
       "      <td>0.859375</td>\n",
       "      <td>0.859375</td>\n",
       "      <td>0.906250</td>\n",
       "      <td>0.906250</td>\n",
       "      <td>0.984375</td>\n",
       "      <td>0.903125</td>\n",
       "      <td>0.045715</td>\n",
       "      <td>7</td>\n",
       "    </tr>\n",
       "    <tr>\n",
       "      <th>19</th>\n",
       "      <td>0.001709</td>\n",
       "      <td>0.000116</td>\n",
       "      <td>0.000576</td>\n",
       "      <td>0.000039</td>\n",
       "      <td>5</td>\n",
       "      <td>scale</td>\n",
       "      <td>{'C': 5, 'gamma': 'scale'}</td>\n",
       "      <td>0.859375</td>\n",
       "      <td>0.859375</td>\n",
       "      <td>0.906250</td>\n",
       "      <td>0.906250</td>\n",
       "      <td>0.984375</td>\n",
       "      <td>0.903125</td>\n",
       "      <td>0.045715</td>\n",
       "      <td>7</td>\n",
       "    </tr>\n",
       "    <tr>\n",
       "      <th>20</th>\n",
       "      <td>0.001879</td>\n",
       "      <td>0.000205</td>\n",
       "      <td>0.000540</td>\n",
       "      <td>0.000029</td>\n",
       "      <td>10</td>\n",
       "      <td>1</td>\n",
       "      <td>{'C': 10, 'gamma': 1.0}</td>\n",
       "      <td>0.843750</td>\n",
       "      <td>0.875000</td>\n",
       "      <td>0.921875</td>\n",
       "      <td>0.906250</td>\n",
       "      <td>0.984375</td>\n",
       "      <td>0.906250</td>\n",
       "      <td>0.047393</td>\n",
       "      <td>4</td>\n",
       "    </tr>\n",
       "    <tr>\n",
       "      <th>21</th>\n",
       "      <td>0.002501</td>\n",
       "      <td>0.000208</td>\n",
       "      <td>0.000684</td>\n",
       "      <td>0.000063</td>\n",
       "      <td>10</td>\n",
       "      <td>5</td>\n",
       "      <td>{'C': 10, 'gamma': 5.0}</td>\n",
       "      <td>0.843750</td>\n",
       "      <td>0.843750</td>\n",
       "      <td>0.859375</td>\n",
       "      <td>0.875000</td>\n",
       "      <td>0.968750</td>\n",
       "      <td>0.878125</td>\n",
       "      <td>0.046771</td>\n",
       "      <td>23</td>\n",
       "    </tr>\n",
       "    <tr>\n",
       "      <th>22</th>\n",
       "      <td>0.003131</td>\n",
       "      <td>0.000311</td>\n",
       "      <td>0.000855</td>\n",
       "      <td>0.000171</td>\n",
       "      <td>10</td>\n",
       "      <td>10</td>\n",
       "      <td>{'C': 10, 'gamma': 10}</td>\n",
       "      <td>0.875000</td>\n",
       "      <td>0.812500</td>\n",
       "      <td>0.875000</td>\n",
       "      <td>0.890625</td>\n",
       "      <td>0.953125</td>\n",
       "      <td>0.881250</td>\n",
       "      <td>0.044852</td>\n",
       "      <td>22</td>\n",
       "    </tr>\n",
       "    <tr>\n",
       "      <th>23</th>\n",
       "      <td>0.001821</td>\n",
       "      <td>0.000135</td>\n",
       "      <td>0.000550</td>\n",
       "      <td>0.000041</td>\n",
       "      <td>10</td>\n",
       "      <td>auto</td>\n",
       "      <td>{'C': 10, 'gamma': 'auto'}</td>\n",
       "      <td>0.859375</td>\n",
       "      <td>0.859375</td>\n",
       "      <td>0.906250</td>\n",
       "      <td>0.906250</td>\n",
       "      <td>0.968750</td>\n",
       "      <td>0.900000</td>\n",
       "      <td>0.040263</td>\n",
       "      <td>11</td>\n",
       "    </tr>\n",
       "    <tr>\n",
       "      <th>24</th>\n",
       "      <td>0.001819</td>\n",
       "      <td>0.000162</td>\n",
       "      <td>0.000532</td>\n",
       "      <td>0.000024</td>\n",
       "      <td>10</td>\n",
       "      <td>scale</td>\n",
       "      <td>{'C': 10, 'gamma': 'scale'}</td>\n",
       "      <td>0.859375</td>\n",
       "      <td>0.859375</td>\n",
       "      <td>0.906250</td>\n",
       "      <td>0.906250</td>\n",
       "      <td>0.968750</td>\n",
       "      <td>0.900000</td>\n",
       "      <td>0.040263</td>\n",
       "      <td>11</td>\n",
       "    </tr>\n",
       "  </tbody>\n",
       "</table>\n",
       "</div>"
      ],
      "text/plain": [
       "    mean_fit_time  std_fit_time  mean_score_time  std_score_time param_C  \\\n",
       "0        0.011398      0.017992         0.001031        0.000422     0.1   \n",
       "1        0.002785      0.000104         0.000984        0.000029     0.1   \n",
       "2        0.002818      0.000015         0.001013        0.000057     0.1   \n",
       "3        0.002273      0.000485         0.000795        0.000026     0.1   \n",
       "4        0.002120      0.000074         0.000876        0.000151     0.1   \n",
       "5        0.001665      0.000050         0.000615        0.000027     0.5   \n",
       "6        0.002778      0.000601         0.000798        0.000049     0.5   \n",
       "7        0.002906      0.000131         0.000888        0.000012     0.5   \n",
       "8        0.001610      0.000070         0.000599        0.000013     0.5   \n",
       "9        0.001620      0.000059         0.000610        0.000023     0.5   \n",
       "10       0.001654      0.000181         0.000573        0.000022       1   \n",
       "11       0.002389      0.000119         0.000702        0.000025       1   \n",
       "12       0.002884      0.000100         0.000795        0.000015       1   \n",
       "13       0.001562      0.000056         0.000569        0.000017       1   \n",
       "14       0.001614      0.000097         0.000562        0.000030       1   \n",
       "15       0.001792      0.000167         0.000561        0.000029       5   \n",
       "16       0.002416      0.000103         0.000671        0.000018       5   \n",
       "17       0.003269      0.000149         0.000770        0.000007       5   \n",
       "18       0.001640      0.000091         0.000552        0.000040       5   \n",
       "19       0.001709      0.000116         0.000576        0.000039       5   \n",
       "20       0.001879      0.000205         0.000540        0.000029      10   \n",
       "21       0.002501      0.000208         0.000684        0.000063      10   \n",
       "22       0.003131      0.000311         0.000855        0.000171      10   \n",
       "23       0.001821      0.000135         0.000550        0.000041      10   \n",
       "24       0.001819      0.000162         0.000532        0.000024      10   \n",
       "\n",
       "   param_gamma                        params  split0_test_score  \\\n",
       "0            1      {'C': 0.1, 'gamma': 1.0}           0.859375   \n",
       "1            5      {'C': 0.1, 'gamma': 5.0}           0.812500   \n",
       "2           10       {'C': 0.1, 'gamma': 10}           0.625000   \n",
       "3         auto   {'C': 0.1, 'gamma': 'auto'}           0.875000   \n",
       "4        scale  {'C': 0.1, 'gamma': 'scale'}           0.875000   \n",
       "5            1      {'C': 0.5, 'gamma': 1.0}           0.859375   \n",
       "6            5      {'C': 0.5, 'gamma': 5.0}           0.859375   \n",
       "7           10       {'C': 0.5, 'gamma': 10}           0.875000   \n",
       "8         auto   {'C': 0.5, 'gamma': 'auto'}           0.859375   \n",
       "9        scale  {'C': 0.5, 'gamma': 'scale'}           0.859375   \n",
       "10           1      {'C': 1.0, 'gamma': 1.0}           0.859375   \n",
       "11           5      {'C': 1.0, 'gamma': 5.0}           0.859375   \n",
       "12          10       {'C': 1.0, 'gamma': 10}           0.875000   \n",
       "13        auto   {'C': 1.0, 'gamma': 'auto'}           0.859375   \n",
       "14       scale  {'C': 1.0, 'gamma': 'scale'}           0.859375   \n",
       "15           1        {'C': 5, 'gamma': 1.0}           0.843750   \n",
       "16           5        {'C': 5, 'gamma': 5.0}           0.859375   \n",
       "17          10         {'C': 5, 'gamma': 10}           0.875000   \n",
       "18        auto     {'C': 5, 'gamma': 'auto'}           0.859375   \n",
       "19       scale    {'C': 5, 'gamma': 'scale'}           0.859375   \n",
       "20           1       {'C': 10, 'gamma': 1.0}           0.843750   \n",
       "21           5       {'C': 10, 'gamma': 5.0}           0.843750   \n",
       "22          10        {'C': 10, 'gamma': 10}           0.875000   \n",
       "23        auto    {'C': 10, 'gamma': 'auto'}           0.859375   \n",
       "24       scale   {'C': 10, 'gamma': 'scale'}           0.859375   \n",
       "\n",
       "    split1_test_score  split2_test_score  split3_test_score  \\\n",
       "0            0.875000           0.875000           0.906250   \n",
       "1            0.812500           0.796875           0.875000   \n",
       "2            0.671875           0.703125           0.671875   \n",
       "3            0.875000           0.859375           0.906250   \n",
       "4            0.875000           0.859375           0.906250   \n",
       "5            0.875000           0.906250           0.906250   \n",
       "6            0.859375           0.921875           0.906250   \n",
       "7            0.859375           0.937500           0.906250   \n",
       "8            0.875000           0.875000           0.906250   \n",
       "9            0.875000           0.875000           0.906250   \n",
       "10           0.875000           0.921875           0.906250   \n",
       "11           0.843750           0.921875           0.906250   \n",
       "12           0.859375           0.937500           0.906250   \n",
       "13           0.875000           0.859375           0.906250   \n",
       "14           0.875000           0.859375           0.906250   \n",
       "15           0.875000           0.906250           0.906250   \n",
       "16           0.843750           0.859375           0.906250   \n",
       "17           0.812500           0.890625           0.890625   \n",
       "18           0.859375           0.906250           0.906250   \n",
       "19           0.859375           0.906250           0.906250   \n",
       "20           0.875000           0.921875           0.906250   \n",
       "21           0.843750           0.859375           0.875000   \n",
       "22           0.812500           0.875000           0.890625   \n",
       "23           0.859375           0.906250           0.906250   \n",
       "24           0.859375           0.906250           0.906250   \n",
       "\n",
       "    split4_test_score  mean_test_score  std_test_score  rank_test_score  \n",
       "0            0.968750         0.896875        0.039031               13  \n",
       "1            0.796875         0.818750        0.028980               24  \n",
       "2            0.671875         0.668750        0.025000               25  \n",
       "3            0.968750         0.896875        0.039031               13  \n",
       "4            0.968750         0.896875        0.039031               13  \n",
       "5            0.984375         0.906250        0.043075                4  \n",
       "6            0.984375         0.906250        0.046351                4  \n",
       "7            0.984375         0.912500        0.044852                1  \n",
       "8            0.968750         0.896875        0.039031               13  \n",
       "9            0.968750         0.896875        0.039031               13  \n",
       "10           0.984375         0.909375        0.043526                3  \n",
       "11           0.984375         0.903125        0.049804                7  \n",
       "12           0.984375         0.912500        0.044852                1  \n",
       "13           0.968750         0.893750        0.041222               18  \n",
       "14           0.968750         0.893750        0.041222               18  \n",
       "15           0.984375         0.903125        0.046771                7  \n",
       "16           0.968750         0.887500        0.045715               20  \n",
       "17           0.953125         0.884375        0.044852               21  \n",
       "18           0.984375         0.903125        0.045715                7  \n",
       "19           0.984375         0.903125        0.045715                7  \n",
       "20           0.984375         0.906250        0.047393                4  \n",
       "21           0.968750         0.878125        0.046771               23  \n",
       "22           0.953125         0.881250        0.044852               22  \n",
       "23           0.968750         0.900000        0.040263               11  \n",
       "24           0.968750         0.900000        0.040263               11  "
      ]
     },
     "execution_count": 33,
     "metadata": {},
     "output_type": "execute_result"
    }
   ],
   "source": [
    "df1"
   ]
  },
  {
   "cell_type": "markdown",
   "metadata": {},
   "source": [
    "### Need to select param_c, param_gamma and meant_test_score and select the C and Gammma with the max mean test score"
   ]
  },
  {
   "cell_type": "code",
   "execution_count": 34,
   "metadata": {},
   "outputs": [
    {
     "data": {
      "text/html": [
       "<div>\n",
       "<style scoped>\n",
       "    .dataframe tbody tr th:only-of-type {\n",
       "        vertical-align: middle;\n",
       "    }\n",
       "\n",
       "    .dataframe tbody tr th {\n",
       "        vertical-align: top;\n",
       "    }\n",
       "\n",
       "    .dataframe thead th {\n",
       "        text-align: right;\n",
       "    }\n",
       "</style>\n",
       "<table border=\"1\" class=\"dataframe\">\n",
       "  <thead>\n",
       "    <tr style=\"text-align: right;\">\n",
       "      <th></th>\n",
       "      <th>param_C</th>\n",
       "      <th>param_gamma</th>\n",
       "      <th>mean_test_score</th>\n",
       "    </tr>\n",
       "  </thead>\n",
       "  <tbody>\n",
       "    <tr>\n",
       "      <th>0</th>\n",
       "      <td>0.1</td>\n",
       "      <td>1</td>\n",
       "      <td>0.896875</td>\n",
       "    </tr>\n",
       "    <tr>\n",
       "      <th>1</th>\n",
       "      <td>0.1</td>\n",
       "      <td>5</td>\n",
       "      <td>0.818750</td>\n",
       "    </tr>\n",
       "    <tr>\n",
       "      <th>2</th>\n",
       "      <td>0.1</td>\n",
       "      <td>10</td>\n",
       "      <td>0.668750</td>\n",
       "    </tr>\n",
       "    <tr>\n",
       "      <th>3</th>\n",
       "      <td>0.1</td>\n",
       "      <td>auto</td>\n",
       "      <td>0.896875</td>\n",
       "    </tr>\n",
       "    <tr>\n",
       "      <th>4</th>\n",
       "      <td>0.1</td>\n",
       "      <td>scale</td>\n",
       "      <td>0.896875</td>\n",
       "    </tr>\n",
       "    <tr>\n",
       "      <th>5</th>\n",
       "      <td>0.5</td>\n",
       "      <td>1</td>\n",
       "      <td>0.906250</td>\n",
       "    </tr>\n",
       "    <tr>\n",
       "      <th>6</th>\n",
       "      <td>0.5</td>\n",
       "      <td>5</td>\n",
       "      <td>0.906250</td>\n",
       "    </tr>\n",
       "    <tr>\n",
       "      <th>7</th>\n",
       "      <td>0.5</td>\n",
       "      <td>10</td>\n",
       "      <td>0.912500</td>\n",
       "    </tr>\n",
       "    <tr>\n",
       "      <th>8</th>\n",
       "      <td>0.5</td>\n",
       "      <td>auto</td>\n",
       "      <td>0.896875</td>\n",
       "    </tr>\n",
       "    <tr>\n",
       "      <th>9</th>\n",
       "      <td>0.5</td>\n",
       "      <td>scale</td>\n",
       "      <td>0.896875</td>\n",
       "    </tr>\n",
       "    <tr>\n",
       "      <th>10</th>\n",
       "      <td>1</td>\n",
       "      <td>1</td>\n",
       "      <td>0.909375</td>\n",
       "    </tr>\n",
       "    <tr>\n",
       "      <th>11</th>\n",
       "      <td>1</td>\n",
       "      <td>5</td>\n",
       "      <td>0.903125</td>\n",
       "    </tr>\n",
       "    <tr>\n",
       "      <th>12</th>\n",
       "      <td>1</td>\n",
       "      <td>10</td>\n",
       "      <td>0.912500</td>\n",
       "    </tr>\n",
       "    <tr>\n",
       "      <th>13</th>\n",
       "      <td>1</td>\n",
       "      <td>auto</td>\n",
       "      <td>0.893750</td>\n",
       "    </tr>\n",
       "    <tr>\n",
       "      <th>14</th>\n",
       "      <td>1</td>\n",
       "      <td>scale</td>\n",
       "      <td>0.893750</td>\n",
       "    </tr>\n",
       "    <tr>\n",
       "      <th>15</th>\n",
       "      <td>5</td>\n",
       "      <td>1</td>\n",
       "      <td>0.903125</td>\n",
       "    </tr>\n",
       "    <tr>\n",
       "      <th>16</th>\n",
       "      <td>5</td>\n",
       "      <td>5</td>\n",
       "      <td>0.887500</td>\n",
       "    </tr>\n",
       "    <tr>\n",
       "      <th>17</th>\n",
       "      <td>5</td>\n",
       "      <td>10</td>\n",
       "      <td>0.884375</td>\n",
       "    </tr>\n",
       "    <tr>\n",
       "      <th>18</th>\n",
       "      <td>5</td>\n",
       "      <td>auto</td>\n",
       "      <td>0.903125</td>\n",
       "    </tr>\n",
       "    <tr>\n",
       "      <th>19</th>\n",
       "      <td>5</td>\n",
       "      <td>scale</td>\n",
       "      <td>0.903125</td>\n",
       "    </tr>\n",
       "    <tr>\n",
       "      <th>20</th>\n",
       "      <td>10</td>\n",
       "      <td>1</td>\n",
       "      <td>0.906250</td>\n",
       "    </tr>\n",
       "    <tr>\n",
       "      <th>21</th>\n",
       "      <td>10</td>\n",
       "      <td>5</td>\n",
       "      <td>0.878125</td>\n",
       "    </tr>\n",
       "    <tr>\n",
       "      <th>22</th>\n",
       "      <td>10</td>\n",
       "      <td>10</td>\n",
       "      <td>0.881250</td>\n",
       "    </tr>\n",
       "    <tr>\n",
       "      <th>23</th>\n",
       "      <td>10</td>\n",
       "      <td>auto</td>\n",
       "      <td>0.900000</td>\n",
       "    </tr>\n",
       "    <tr>\n",
       "      <th>24</th>\n",
       "      <td>10</td>\n",
       "      <td>scale</td>\n",
       "      <td>0.900000</td>\n",
       "    </tr>\n",
       "  </tbody>\n",
       "</table>\n",
       "</div>"
      ],
      "text/plain": [
       "   param_C param_gamma  mean_test_score\n",
       "0      0.1           1         0.896875\n",
       "1      0.1           5         0.818750\n",
       "2      0.1          10         0.668750\n",
       "3      0.1        auto         0.896875\n",
       "4      0.1       scale         0.896875\n",
       "5      0.5           1         0.906250\n",
       "6      0.5           5         0.906250\n",
       "7      0.5          10         0.912500\n",
       "8      0.5        auto         0.896875\n",
       "9      0.5       scale         0.896875\n",
       "10       1           1         0.909375\n",
       "11       1           5         0.903125\n",
       "12       1          10         0.912500\n",
       "13       1        auto         0.893750\n",
       "14       1       scale         0.893750\n",
       "15       5           1         0.903125\n",
       "16       5           5         0.887500\n",
       "17       5          10         0.884375\n",
       "18       5        auto         0.903125\n",
       "19       5       scale         0.903125\n",
       "20      10           1         0.906250\n",
       "21      10           5         0.878125\n",
       "22      10          10         0.881250\n",
       "23      10        auto         0.900000\n",
       "24      10       scale         0.900000"
      ]
     },
     "execution_count": 34,
     "metadata": {},
     "output_type": "execute_result"
    }
   ],
   "source": [
    "df1[['param_C', \"param_gamma\",\"mean_test_score\"]]"
   ]
  },
  {
   "cell_type": "code",
   "execution_count": 36,
   "metadata": {},
   "outputs": [
    {
     "data": {
      "text/plain": [
       "{'C': 0.5, 'gamma': 10}"
      ]
     },
     "execution_count": 36,
     "metadata": {},
     "output_type": "execute_result"
    }
   ],
   "source": [
    "clf.best_params_  #to get the best accuracy, you can just do the following"
   ]
  },
  {
   "cell_type": "code",
   "execution_count": null,
   "metadata": {},
   "outputs": [],
   "source": []
  },
  {
   "cell_type": "code",
   "execution_count": null,
   "metadata": {},
   "outputs": [],
   "source": []
  }
 ],
 "metadata": {
  "kernelspec": {
   "display_name": "Python 3",
   "language": "python",
   "name": "python3"
  },
  "language_info": {
   "codemirror_mode": {
    "name": "ipython",
    "version": 3
   },
   "file_extension": ".py",
   "mimetype": "text/x-python",
   "name": "python",
   "nbconvert_exporter": "python",
   "pygments_lexer": "ipython3",
   "version": "3.7.6"
  }
 },
 "nbformat": 4,
 "nbformat_minor": 4
}
