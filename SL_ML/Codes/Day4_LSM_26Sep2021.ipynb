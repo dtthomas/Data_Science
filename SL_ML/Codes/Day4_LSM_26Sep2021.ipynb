{
  "nbformat": 4,
  "nbformat_minor": 0,
  "metadata": {
    "kernelspec": {
      "display_name": "Python 3",
      "language": "python",
      "name": "python3"
    },
    "language_info": {
      "codemirror_mode": {
        "name": "ipython",
        "version": 3
      },
      "file_extension": ".py",
      "mimetype": "text/x-python",
      "name": "python",
      "nbconvert_exporter": "python",
      "pygments_lexer": "ipython3",
      "version": "3.7.6"
    },
    "colab": {
      "name": "Day4_LSM_26Sep2021.ipynb",
      "provenance": [],
      "collapsed_sections": []
    }
  },
  "cells": [
    {
      "cell_type": "markdown",
      "metadata": {
        "id": "tjr2shUz3q1v"
      },
      "source": [
        "# Supervised learning - Linear Regression"
      ]
    },
    {
      "cell_type": "code",
      "metadata": {
        "id": "xWKtljE93q13"
      },
      "source": [
        "import pandas as pd"
      ],
      "execution_count": null,
      "outputs": []
    },
    {
      "cell_type": "code",
      "metadata": {
        "id": "ysnj15xv3q16"
      },
      "source": [
        "df = pd.read_csv(\"LSM1.csv\")"
      ],
      "execution_count": null,
      "outputs": []
    },
    {
      "cell_type": "code",
      "metadata": {
        "colab": {
          "base_uri": "https://localhost:8080/",
          "height": 206
        },
        "id": "cr6iXFOy3q17",
        "outputId": "1e6940bc-6ee8-4ac4-d449-41d284a07d27"
      },
      "source": [
        "df"
      ],
      "execution_count": null,
      "outputs": [
        {
          "output_type": "execute_result",
          "data": {
            "text/html": [
              "<div>\n",
              "<style scoped>\n",
              "    .dataframe tbody tr th:only-of-type {\n",
              "        vertical-align: middle;\n",
              "    }\n",
              "\n",
              "    .dataframe tbody tr th {\n",
              "        vertical-align: top;\n",
              "    }\n",
              "\n",
              "    .dataframe thead th {\n",
              "        text-align: right;\n",
              "    }\n",
              "</style>\n",
              "<table border=\"1\" class=\"dataframe\">\n",
              "  <thead>\n",
              "    <tr style=\"text-align: right;\">\n",
              "      <th></th>\n",
              "      <th>X</th>\n",
              "      <th>Y</th>\n",
              "    </tr>\n",
              "  </thead>\n",
              "  <tbody>\n",
              "    <tr>\n",
              "      <th>0</th>\n",
              "      <td>1</td>\n",
              "      <td>2</td>\n",
              "    </tr>\n",
              "    <tr>\n",
              "      <th>1</th>\n",
              "      <td>2</td>\n",
              "      <td>4</td>\n",
              "    </tr>\n",
              "    <tr>\n",
              "      <th>2</th>\n",
              "      <td>3</td>\n",
              "      <td>5</td>\n",
              "    </tr>\n",
              "    <tr>\n",
              "      <th>3</th>\n",
              "      <td>4</td>\n",
              "      <td>4</td>\n",
              "    </tr>\n",
              "    <tr>\n",
              "      <th>4</th>\n",
              "      <td>5</td>\n",
              "      <td>5</td>\n",
              "    </tr>\n",
              "  </tbody>\n",
              "</table>\n",
              "</div>"
            ],
            "text/plain": [
              "   X  Y\n",
              "0  1  2\n",
              "1  2  4\n",
              "2  3  5\n",
              "3  4  4\n",
              "4  5  5"
            ]
          },
          "metadata": {},
          "execution_count": 9
        }
      ]
    },
    {
      "cell_type": "markdown",
      "metadata": {
        "id": "m4j5AU4n3q19"
      },
      "source": [
        "### Splitting dataset in to input and output"
      ]
    },
    {
      "cell_type": "code",
      "metadata": {
        "id": "COmGqTie3q1-"
      },
      "source": [
        "x = df.iloc[:,0].values   #Input: it is an array of values of column X"
      ],
      "execution_count": null,
      "outputs": []
    },
    {
      "cell_type": "code",
      "metadata": {
        "id": "RNbhZUYq3q1-",
        "outputId": "bc4c6404-3418-4b35-e8c6-55034aa9fb68"
      },
      "source": [
        "x"
      ],
      "execution_count": null,
      "outputs": [
        {
          "data": {
            "text/plain": [
              "array([1, 2, 3, 4, 5])"
            ]
          },
          "execution_count": 16,
          "metadata": {},
          "output_type": "execute_result"
        }
      ]
    },
    {
      "cell_type": "code",
      "metadata": {
        "id": "TcLUmdnO3q2A",
        "colab": {
          "base_uri": "https://localhost:8080/"
        },
        "outputId": "fecdc8da-4d92-42ff-87ee-72dbf1606dc1"
      },
      "source": [
        "x.shape  #x is a 1D now"
      ],
      "execution_count": null,
      "outputs": [
        {
          "output_type": "execute_result",
          "data": {
            "text/plain": [
              "(5,)"
            ]
          },
          "metadata": {},
          "execution_count": 11
        }
      ]
    },
    {
      "cell_type": "code",
      "metadata": {
        "id": "LZ5sP5IY3q2B"
      },
      "source": [
        "x = x.reshape(5,1)  #convert x in to 2D array (with the same values) beacuse the LinearRegression function needs a 2D input"
      ],
      "execution_count": 17,
      "outputs": []
    },
    {
      "cell_type": "code",
      "metadata": {
        "id": "F577J5vd3q2C",
        "outputId": "9d3f010f-95d6-437c-a888-c73d10660bca"
      },
      "source": [
        "x"
      ],
      "execution_count": null,
      "outputs": [
        {
          "data": {
            "text/plain": [
              "array([[1],\n",
              "       [2],\n",
              "       [3],\n",
              "       [4],\n",
              "       [5]])"
            ]
          },
          "execution_count": 20,
          "metadata": {},
          "output_type": "execute_result"
        }
      ]
    },
    {
      "cell_type": "code",
      "metadata": {
        "id": "7yeDyAsc3q2D"
      },
      "source": [
        "y = df.iloc[:,1].values #Output: it is an array of values of column Y"
      ],
      "execution_count": 18,
      "outputs": []
    },
    {
      "cell_type": "code",
      "metadata": {
        "id": "tdthMfmB3q2E",
        "colab": {
          "base_uri": "https://localhost:8080/"
        },
        "outputId": "87d0d610-5e6b-428e-e996-d80c276d3510"
      },
      "source": [
        "y"
      ],
      "execution_count": 19,
      "outputs": [
        {
          "output_type": "execute_result",
          "data": {
            "text/plain": [
              "array([2, 4, 5, 4, 5])"
            ]
          },
          "metadata": {},
          "execution_count": 19
        }
      ]
    },
    {
      "cell_type": "code",
      "metadata": {
        "id": "QiReRz_q3q2F"
      },
      "source": [
        "from sklearn.linear_model import LinearRegression #import library needed to do linear regression using Ordinary Least Square method"
      ],
      "execution_count": 20,
      "outputs": []
    },
    {
      "cell_type": "code",
      "metadata": {
        "id": "MnwMeKTD3q2G"
      },
      "source": [
        "Lin = LinearRegression()  #create an object of the LinearRegression class"
      ],
      "execution_count": 21,
      "outputs": []
    },
    {
      "cell_type": "markdown",
      "metadata": {
        "id": "cqyY64xY3q2G"
      },
      "source": [
        "### Traning of the data"
      ]
    },
    {
      "cell_type": "code",
      "metadata": {
        "id": "-H5WP3d_3q2H",
        "colab": {
          "base_uri": "https://localhost:8080/"
        },
        "outputId": "6dc318fa-dcb1-4453-c2a1-e15938bd60e9"
      },
      "source": [
        "Lin.fit(x,y)"
      ],
      "execution_count": 22,
      "outputs": [
        {
          "output_type": "execute_result",
          "data": {
            "text/plain": [
              "LinearRegression(copy_X=True, fit_intercept=True, n_jobs=None, normalize=False)"
            ]
          },
          "metadata": {},
          "execution_count": 22
        }
      ]
    },
    {
      "cell_type": "markdown",
      "metadata": {
        "id": "wKRKnndN3q2I"
      },
      "source": [
        "### Predit the value"
      ]
    },
    {
      "cell_type": "code",
      "metadata": {
        "id": "Tg8300jt3q2I",
        "colab": {
          "base_uri": "https://localhost:8080/"
        },
        "outputId": "06a4c6db-7636-4f33-ba3a-16bfcc988514"
      },
      "source": [
        "Lin.predict([[2.5]]) #2.5 is the x value that we need to predit a y value for, the input should be 2D. Hence the 2 squar brackets."
      ],
      "execution_count": 23,
      "outputs": [
        {
          "output_type": "execute_result",
          "data": {
            "text/plain": [
              "array([3.7])"
            ]
          },
          "metadata": {},
          "execution_count": 23
        }
      ]
    },
    {
      "cell_type": "code",
      "metadata": {
        "id": "3OxjZK2o3q2J",
        "colab": {
          "base_uri": "https://localhost:8080/"
        },
        "outputId": "968dc368-9156-4598-e18e-6923b6bb962c"
      },
      "source": [
        "Lin.coef_ #to see the coefficient"
      ],
      "execution_count": 24,
      "outputs": [
        {
          "output_type": "execute_result",
          "data": {
            "text/plain": [
              "array([0.6])"
            ]
          },
          "metadata": {},
          "execution_count": 24
        }
      ]
    },
    {
      "cell_type": "code",
      "metadata": {
        "id": "xehIrorf3q2J",
        "colab": {
          "base_uri": "https://localhost:8080/"
        },
        "outputId": "2abae6a0-39be-45a5-e755-78658b90f0c0"
      },
      "source": [
        "Lin.intercept_   # to see the intercept"
      ],
      "execution_count": 25,
      "outputs": [
        {
          "output_type": "execute_result",
          "data": {
            "text/plain": [
              "2.2"
            ]
          },
          "metadata": {},
          "execution_count": 25
        }
      ]
    },
    {
      "cell_type": "markdown",
      "metadata": {
        "id": "ILu1Uk__3q2K"
      },
      "source": [
        "### Error evaluation - to understand about the models"
      ]
    },
    {
      "cell_type": "code",
      "metadata": {
        "id": "DhfNsD793q2L"
      },
      "source": [
        "y_pred = Lin.predict(x)  #To find the predicted values of entire values of x, We need it for the arguement of mean_squared_error function"
      ],
      "execution_count": null,
      "outputs": []
    },
    {
      "cell_type": "code",
      "metadata": {
        "id": "soy24PHG3q2L",
        "outputId": "f8fd3d93-d7f6-4c9f-bf20-c1c03e322c16"
      },
      "source": [
        "y_pred"
      ],
      "execution_count": null,
      "outputs": [
        {
          "data": {
            "text/plain": [
              "array([2.8, 3.4, 4. , 4.6, 5.2])"
            ]
          },
          "execution_count": 31,
          "metadata": {},
          "output_type": "execute_result"
        }
      ]
    },
    {
      "cell_type": "code",
      "metadata": {
        "id": "_NgLJAdH3q2M"
      },
      "source": [
        "from sklearn.metrics import mean_squared_error, mean_absolute_error,r2_score"
      ],
      "execution_count": null,
      "outputs": []
    },
    {
      "cell_type": "code",
      "metadata": {
        "id": "SaA2-GCU3q2M",
        "outputId": "e311b67e-3936-4044-fae5-7f90a9b484ee"
      },
      "source": [
        "mean_squared_error(y, y_pred)"
      ],
      "execution_count": null,
      "outputs": [
        {
          "data": {
            "text/plain": [
              "0.47999999999999987"
            ]
          },
          "execution_count": 32,
          "metadata": {},
          "output_type": "execute_result"
        }
      ]
    },
    {
      "cell_type": "code",
      "metadata": {
        "id": "lG26-54P3q2N",
        "outputId": "5d3c07dd-04ac-4eb9-a801-6ebab869d05d"
      },
      "source": [
        "mean_absolute_error(y, y_pred)"
      ],
      "execution_count": null,
      "outputs": [
        {
          "data": {
            "text/plain": [
              "0.6399999999999999"
            ]
          },
          "execution_count": 34,
          "metadata": {},
          "output_type": "execute_result"
        }
      ]
    },
    {
      "cell_type": "code",
      "metadata": {
        "id": "5PcG8No73q2N",
        "outputId": "edc95689-8083-441d-db96-e31732f0aef4"
      },
      "source": [
        "r2_score(y,y_pred)  #value near 1, means better the model, If close to 0, not a good model. \n",
        "#how much accuracy needed, depends on the domain you are working on."
      ],
      "execution_count": null,
      "outputs": [
        {
          "data": {
            "text/plain": [
              "0.6000000000000001"
            ]
          },
          "execution_count": 38,
          "metadata": {},
          "output_type": "execute_result"
        }
      ]
    },
    {
      "cell_type": "markdown",
      "metadata": {
        "id": "SRjIw4i_3q2O"
      },
      "source": [
        "Assignment\n",
        "1. To plot the data points and then the best fit line"
      ]
    },
    {
      "cell_type": "code",
      "metadata": {
        "id": "eG9RMIlf3q2O"
      },
      "source": [
        "import matplotlib.pyplot as plt #library for vaisualization"
      ],
      "execution_count": 13,
      "outputs": []
    },
    {
      "cell_type": "code",
      "metadata": {
        "colab": {
          "base_uri": "https://localhost:8080/",
          "height": 295
        },
        "id": "qowuAJIm8mVl",
        "outputId": "c6e66cfa-e9af-4120-f69f-6922d821f4d8"
      },
      "source": [
        "plt.scatter(df.iloc[:,0].values,df.iloc[:,1].values,marker = \"*\", c = \"k\", s = 40,label='data') #color is black, s=size of the marker\n",
        "plt.xlabel(\"X-Axis\")\n",
        "plt.ylabel(\"Y=Axis\")\n",
        "plt.title(\"Best fit line Plot\")\n",
        "plt.plot(df.iloc[:,0].values, 0.6*df.iloc[:,0].values + 2.2,color='red',label='Regression line')\n",
        "plt.legend(loc=4)  # to display legend\n",
        "plt.show()"
      ],
      "execution_count": 33,
      "outputs": [
        {
          "output_type": "display_data",
          "data": {
            "image/png": "[encoded data removed]",
            "text/plain": [
              "<Figure size 432x288 with 1 Axes>"
            ]
          },
          "metadata": {
            "needs_background": "light"
          }
        }
      ]
    }
  ]
}