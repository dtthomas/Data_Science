{
  "nbformat": 4,
  "nbformat_minor": 0,
  "metadata": {
    "colab": {
      "name": "Time Series basics.ipynb",
      "provenance": [],
      "collapsed_sections": []
    },
    "kernelspec": {
      "name": "python3",
      "display_name": "Python 3"
    },
    "language_info": {
      "name": "python"
    }
  },
  "cells": [
    {
      "cell_type": "code",
      "metadata": {
        "id": "CwS9rsLk7sjq"
      },
      "source": [
        "import pandas as pd\n"
      ],
      "execution_count": 1,
      "outputs": []
    },
    {
      "cell_type": "code",
      "metadata": {
        "id": "DE7ac7O39UzW"
      },
      "source": [
        "df = pd.read_csv(\"aapl.csv\", parse_dates=[\"Date\"], index_col=\"Date\")"
      ],
      "execution_count": 9,
      "outputs": []
    },
    {
      "cell_type": "code",
      "metadata": {
        "colab": {
          "base_uri": "https://localhost:8080/",
          "height": 437
        },
        "id": "wOlXSIgX9fRF",
        "outputId": "1bc7caae-9556-434a-c894-600c6c13cecf"
      },
      "source": [
        "df"
      ],
      "execution_count": 10,
      "outputs": [
        {
          "output_type": "execute_result",
          "data": {
            "text/html": [
              "<div>\n",
              "<style scoped>\n",
              "    .dataframe tbody tr th:only-of-type {\n",
              "        vertical-align: middle;\n",
              "    }\n",
              "\n",
              "    .dataframe tbody tr th {\n",
              "        vertical-align: top;\n",
              "    }\n",
              "\n",
              "    .dataframe thead th {\n",
              "        text-align: right;\n",
              "    }\n",
              "</style>\n",
              "<table border=\"1\" class=\"dataframe\">\n",
              "  <thead>\n",
              "    <tr style=\"text-align: right;\">\n",
              "      <th></th>\n",
              "      <th>Open</th>\n",
              "      <th>High</th>\n",
              "      <th>Low</th>\n",
              "      <th>Close</th>\n",
              "      <th>Volume</th>\n",
              "    </tr>\n",
              "    <tr>\n",
              "      <th>Date</th>\n",
              "      <th></th>\n",
              "      <th></th>\n",
              "      <th></th>\n",
              "      <th></th>\n",
              "      <th></th>\n",
              "    </tr>\n",
              "  </thead>\n",
              "  <tbody>\n",
              "    <tr>\n",
              "      <th>2017-07-07</th>\n",
              "      <td>142.90</td>\n",
              "      <td>144.75</td>\n",
              "      <td>142.90</td>\n",
              "      <td>144.18</td>\n",
              "      <td>19201712</td>\n",
              "    </tr>\n",
              "    <tr>\n",
              "      <th>2017-07-06</th>\n",
              "      <td>143.02</td>\n",
              "      <td>143.50</td>\n",
              "      <td>142.41</td>\n",
              "      <td>142.73</td>\n",
              "      <td>24128782</td>\n",
              "    </tr>\n",
              "    <tr>\n",
              "      <th>2017-07-05</th>\n",
              "      <td>143.69</td>\n",
              "      <td>144.79</td>\n",
              "      <td>142.72</td>\n",
              "      <td>144.09</td>\n",
              "      <td>21569557</td>\n",
              "    </tr>\n",
              "    <tr>\n",
              "      <th>2017-07-03</th>\n",
              "      <td>144.88</td>\n",
              "      <td>145.30</td>\n",
              "      <td>143.10</td>\n",
              "      <td>143.50</td>\n",
              "      <td>14277848</td>\n",
              "    </tr>\n",
              "    <tr>\n",
              "      <th>2017-06-30</th>\n",
              "      <td>144.45</td>\n",
              "      <td>144.96</td>\n",
              "      <td>143.78</td>\n",
              "      <td>144.02</td>\n",
              "      <td>23024107</td>\n",
              "    </tr>\n",
              "    <tr>\n",
              "      <th>...</th>\n",
              "      <td>...</td>\n",
              "      <td>...</td>\n",
              "      <td>...</td>\n",
              "      <td>...</td>\n",
              "      <td>...</td>\n",
              "    </tr>\n",
              "    <tr>\n",
              "      <th>2016-07-15</th>\n",
              "      <td>98.92</td>\n",
              "      <td>99.30</td>\n",
              "      <td>98.50</td>\n",
              "      <td>98.78</td>\n",
              "      <td>30136990</td>\n",
              "    </tr>\n",
              "    <tr>\n",
              "      <th>2016-07-14</th>\n",
              "      <td>97.39</td>\n",
              "      <td>98.99</td>\n",
              "      <td>97.32</td>\n",
              "      <td>98.79</td>\n",
              "      <td>38918997</td>\n",
              "    </tr>\n",
              "    <tr>\n",
              "      <th>2016-07-13</th>\n",
              "      <td>97.41</td>\n",
              "      <td>97.67</td>\n",
              "      <td>96.84</td>\n",
              "      <td>96.87</td>\n",
              "      <td>25892171</td>\n",
              "    </tr>\n",
              "    <tr>\n",
              "      <th>2016-07-12</th>\n",
              "      <td>97.17</td>\n",
              "      <td>97.70</td>\n",
              "      <td>97.12</td>\n",
              "      <td>97.42</td>\n",
              "      <td>24167463</td>\n",
              "    </tr>\n",
              "    <tr>\n",
              "      <th>2016-07-11</th>\n",
              "      <td>96.75</td>\n",
              "      <td>97.65</td>\n",
              "      <td>96.73</td>\n",
              "      <td>96.98</td>\n",
              "      <td>23794945</td>\n",
              "    </tr>\n",
              "  </tbody>\n",
              "</table>\n",
              "<p>251 rows × 5 columns</p>\n",
              "</div>"
            ],
            "text/plain": [
              "              Open    High     Low   Close    Volume\n",
              "Date                                                \n",
              "2017-07-07  142.90  144.75  142.90  144.18  19201712\n",
              "2017-07-06  143.02  143.50  142.41  142.73  24128782\n",
              "2017-07-05  143.69  144.79  142.72  144.09  21569557\n",
              "2017-07-03  144.88  145.30  143.10  143.50  14277848\n",
              "2017-06-30  144.45  144.96  143.78  144.02  23024107\n",
              "...            ...     ...     ...     ...       ...\n",
              "2016-07-15   98.92   99.30   98.50   98.78  30136990\n",
              "2016-07-14   97.39   98.99   97.32   98.79  38918997\n",
              "2016-07-13   97.41   97.67   96.84   96.87  25892171\n",
              "2016-07-12   97.17   97.70   97.12   97.42  24167463\n",
              "2016-07-11   96.75   97.65   96.73   96.98  23794945\n",
              "\n",
              "[251 rows x 5 columns]"
            ]
          },
          "metadata": {
            "tags": []
          },
          "execution_count": 10
        }
      ]
    },
    {
      "cell_type": "code",
      "metadata": {
        "colab": {
          "base_uri": "https://localhost:8080/"
        },
        "id": "4WoVe0-79f8k",
        "outputId": "eee2755c-736a-4908-b437-787a89a2d14d"
      },
      "source": [
        "df.info()"
      ],
      "execution_count": 11,
      "outputs": [
        {
          "output_type": "stream",
          "text": [
            "<class 'pandas.core.frame.DataFrame'>\n",
            "DatetimeIndex: 251 entries, 2017-07-07 to 2016-07-11\n",
            "Data columns (total 5 columns):\n",
            " #   Column  Non-Null Count  Dtype  \n",
            "---  ------  --------------  -----  \n",
            " 0   Open    251 non-null    float64\n",
            " 1   High    251 non-null    float64\n",
            " 2   Low     251 non-null    float64\n",
            " 3   Close   251 non-null    float64\n",
            " 4   Volume  251 non-null    int64  \n",
            "dtypes: float64(4), int64(1)\n",
            "memory usage: 11.8 KB\n"
          ],
          "name": "stdout"
        }
      ]
    },
    {
      "cell_type": "markdown",
      "metadata": {
        "id": "Cxof3eVyA1w3"
      },
      "source": [
        "Prices for June 30th 2017"
      ]
    },
    {
      "cell_type": "code",
      "metadata": {
        "colab": {
          "base_uri": "https://localhost:8080/",
          "height": 108
        },
        "id": "ldWJdOgi-tcH",
        "outputId": "4bf1756a-5582-48d6-c40d-5f5848f3f824"
      },
      "source": [
        "df[\"2017-06-30\"]"
      ],
      "execution_count": 12,
      "outputs": [
        {
          "output_type": "execute_result",
          "data": {
            "text/html": [
              "<div>\n",
              "<style scoped>\n",
              "    .dataframe tbody tr th:only-of-type {\n",
              "        vertical-align: middle;\n",
              "    }\n",
              "\n",
              "    .dataframe tbody tr th {\n",
              "        vertical-align: top;\n",
              "    }\n",
              "\n",
              "    .dataframe thead th {\n",
              "        text-align: right;\n",
              "    }\n",
              "</style>\n",
              "<table border=\"1\" class=\"dataframe\">\n",
              "  <thead>\n",
              "    <tr style=\"text-align: right;\">\n",
              "      <th></th>\n",
              "      <th>Open</th>\n",
              "      <th>High</th>\n",
              "      <th>Low</th>\n",
              "      <th>Close</th>\n",
              "      <th>Volume</th>\n",
              "    </tr>\n",
              "    <tr>\n",
              "      <th>Date</th>\n",
              "      <th></th>\n",
              "      <th></th>\n",
              "      <th></th>\n",
              "      <th></th>\n",
              "      <th></th>\n",
              "    </tr>\n",
              "  </thead>\n",
              "  <tbody>\n",
              "    <tr>\n",
              "      <th>2017-06-30</th>\n",
              "      <td>144.45</td>\n",
              "      <td>144.96</td>\n",
              "      <td>143.78</td>\n",
              "      <td>144.02</td>\n",
              "      <td>23024107</td>\n",
              "    </tr>\n",
              "  </tbody>\n",
              "</table>\n",
              "</div>"
            ],
            "text/plain": [
              "              Open    High     Low   Close    Volume\n",
              "Date                                                \n",
              "2017-06-30  144.45  144.96  143.78  144.02  23024107"
            ]
          },
          "metadata": {
            "tags": []
          },
          "execution_count": 12
        }
      ]
    },
    {
      "cell_type": "code",
      "metadata": {
        "colab": {
          "base_uri": "https://localhost:8080/",
          "height": 738
        },
        "id": "w1pEmI0gBCe6",
        "outputId": "f2cf44a0-0ada-4f35-8501-31ae5940a619"
      },
      "source": [
        "df[\"2017-06\"]"
      ],
      "execution_count": 13,
      "outputs": [
        {
          "output_type": "execute_result",
          "data": {
            "text/html": [
              "<div>\n",
              "<style scoped>\n",
              "    .dataframe tbody tr th:only-of-type {\n",
              "        vertical-align: middle;\n",
              "    }\n",
              "\n",
              "    .dataframe tbody tr th {\n",
              "        vertical-align: top;\n",
              "    }\n",
              "\n",
              "    .dataframe thead th {\n",
              "        text-align: right;\n",
              "    }\n",
              "</style>\n",
              "<table border=\"1\" class=\"dataframe\">\n",
              "  <thead>\n",
              "    <tr style=\"text-align: right;\">\n",
              "      <th></th>\n",
              "      <th>Open</th>\n",
              "      <th>High</th>\n",
              "      <th>Low</th>\n",
              "      <th>Close</th>\n",
              "      <th>Volume</th>\n",
              "    </tr>\n",
              "    <tr>\n",
              "      <th>Date</th>\n",
              "      <th></th>\n",
              "      <th></th>\n",
              "      <th></th>\n",
              "      <th></th>\n",
              "      <th></th>\n",
              "    </tr>\n",
              "  </thead>\n",
              "  <tbody>\n",
              "    <tr>\n",
              "      <th>2017-06-30</th>\n",
              "      <td>144.45</td>\n",
              "      <td>144.96</td>\n",
              "      <td>143.78</td>\n",
              "      <td>144.02</td>\n",
              "      <td>23024107</td>\n",
              "    </tr>\n",
              "    <tr>\n",
              "      <th>2017-06-29</th>\n",
              "      <td>144.71</td>\n",
              "      <td>145.13</td>\n",
              "      <td>142.28</td>\n",
              "      <td>143.68</td>\n",
              "      <td>31499368</td>\n",
              "    </tr>\n",
              "    <tr>\n",
              "      <th>2017-06-28</th>\n",
              "      <td>144.49</td>\n",
              "      <td>146.11</td>\n",
              "      <td>143.16</td>\n",
              "      <td>145.83</td>\n",
              "      <td>22082432</td>\n",
              "    </tr>\n",
              "    <tr>\n",
              "      <th>2017-06-27</th>\n",
              "      <td>145.01</td>\n",
              "      <td>146.16</td>\n",
              "      <td>143.62</td>\n",
              "      <td>143.73</td>\n",
              "      <td>24761891</td>\n",
              "    </tr>\n",
              "    <tr>\n",
              "      <th>2017-06-26</th>\n",
              "      <td>147.17</td>\n",
              "      <td>148.28</td>\n",
              "      <td>145.38</td>\n",
              "      <td>145.82</td>\n",
              "      <td>25692361</td>\n",
              "    </tr>\n",
              "    <tr>\n",
              "      <th>2017-06-23</th>\n",
              "      <td>145.13</td>\n",
              "      <td>147.16</td>\n",
              "      <td>145.11</td>\n",
              "      <td>146.28</td>\n",
              "      <td>35439389</td>\n",
              "    </tr>\n",
              "    <tr>\n",
              "      <th>2017-06-22</th>\n",
              "      <td>145.77</td>\n",
              "      <td>146.70</td>\n",
              "      <td>145.12</td>\n",
              "      <td>145.63</td>\n",
              "      <td>19106294</td>\n",
              "    </tr>\n",
              "    <tr>\n",
              "      <th>2017-06-21</th>\n",
              "      <td>145.52</td>\n",
              "      <td>146.07</td>\n",
              "      <td>144.61</td>\n",
              "      <td>145.87</td>\n",
              "      <td>21265751</td>\n",
              "    </tr>\n",
              "    <tr>\n",
              "      <th>2017-06-20</th>\n",
              "      <td>146.87</td>\n",
              "      <td>146.87</td>\n",
              "      <td>144.94</td>\n",
              "      <td>145.01</td>\n",
              "      <td>24900073</td>\n",
              "    </tr>\n",
              "    <tr>\n",
              "      <th>2017-06-19</th>\n",
              "      <td>143.66</td>\n",
              "      <td>146.74</td>\n",
              "      <td>143.66</td>\n",
              "      <td>146.34</td>\n",
              "      <td>32541404</td>\n",
              "    </tr>\n",
              "    <tr>\n",
              "      <th>2017-06-16</th>\n",
              "      <td>143.78</td>\n",
              "      <td>144.50</td>\n",
              "      <td>142.20</td>\n",
              "      <td>142.27</td>\n",
              "      <td>50361093</td>\n",
              "    </tr>\n",
              "    <tr>\n",
              "      <th>2017-06-15</th>\n",
              "      <td>143.32</td>\n",
              "      <td>144.48</td>\n",
              "      <td>142.21</td>\n",
              "      <td>144.29</td>\n",
              "      <td>32165373</td>\n",
              "    </tr>\n",
              "    <tr>\n",
              "      <th>2017-06-14</th>\n",
              "      <td>147.50</td>\n",
              "      <td>147.50</td>\n",
              "      <td>143.84</td>\n",
              "      <td>145.16</td>\n",
              "      <td>31531232</td>\n",
              "    </tr>\n",
              "    <tr>\n",
              "      <th>2017-06-13</th>\n",
              "      <td>147.16</td>\n",
              "      <td>147.45</td>\n",
              "      <td>145.15</td>\n",
              "      <td>146.59</td>\n",
              "      <td>34165445</td>\n",
              "    </tr>\n",
              "    <tr>\n",
              "      <th>2017-06-12</th>\n",
              "      <td>145.74</td>\n",
              "      <td>146.09</td>\n",
              "      <td>142.51</td>\n",
              "      <td>145.42</td>\n",
              "      <td>72307330</td>\n",
              "    </tr>\n",
              "    <tr>\n",
              "      <th>2017-06-09</th>\n",
              "      <td>155.19</td>\n",
              "      <td>155.19</td>\n",
              "      <td>146.02</td>\n",
              "      <td>148.98</td>\n",
              "      <td>64882657</td>\n",
              "    </tr>\n",
              "    <tr>\n",
              "      <th>2017-06-08</th>\n",
              "      <td>155.25</td>\n",
              "      <td>155.54</td>\n",
              "      <td>154.40</td>\n",
              "      <td>154.99</td>\n",
              "      <td>21250798</td>\n",
              "    </tr>\n",
              "    <tr>\n",
              "      <th>2017-06-07</th>\n",
              "      <td>155.02</td>\n",
              "      <td>155.98</td>\n",
              "      <td>154.48</td>\n",
              "      <td>155.37</td>\n",
              "      <td>21069647</td>\n",
              "    </tr>\n",
              "    <tr>\n",
              "      <th>2017-06-06</th>\n",
              "      <td>153.90</td>\n",
              "      <td>155.81</td>\n",
              "      <td>153.78</td>\n",
              "      <td>154.45</td>\n",
              "      <td>26624926</td>\n",
              "    </tr>\n",
              "    <tr>\n",
              "      <th>2017-06-05</th>\n",
              "      <td>154.34</td>\n",
              "      <td>154.45</td>\n",
              "      <td>153.46</td>\n",
              "      <td>153.93</td>\n",
              "      <td>25331662</td>\n",
              "    </tr>\n",
              "    <tr>\n",
              "      <th>2017-06-02</th>\n",
              "      <td>153.58</td>\n",
              "      <td>155.45</td>\n",
              "      <td>152.89</td>\n",
              "      <td>155.45</td>\n",
              "      <td>27770715</td>\n",
              "    </tr>\n",
              "    <tr>\n",
              "      <th>2017-06-01</th>\n",
              "      <td>153.17</td>\n",
              "      <td>153.33</td>\n",
              "      <td>152.22</td>\n",
              "      <td>153.18</td>\n",
              "      <td>16404088</td>\n",
              "    </tr>\n",
              "  </tbody>\n",
              "</table>\n",
              "</div>"
            ],
            "text/plain": [
              "              Open    High     Low   Close    Volume\n",
              "Date                                                \n",
              "2017-06-30  144.45  144.96  143.78  144.02  23024107\n",
              "2017-06-29  144.71  145.13  142.28  143.68  31499368\n",
              "2017-06-28  144.49  146.11  143.16  145.83  22082432\n",
              "2017-06-27  145.01  146.16  143.62  143.73  24761891\n",
              "2017-06-26  147.17  148.28  145.38  145.82  25692361\n",
              "2017-06-23  145.13  147.16  145.11  146.28  35439389\n",
              "2017-06-22  145.77  146.70  145.12  145.63  19106294\n",
              "2017-06-21  145.52  146.07  144.61  145.87  21265751\n",
              "2017-06-20  146.87  146.87  144.94  145.01  24900073\n",
              "2017-06-19  143.66  146.74  143.66  146.34  32541404\n",
              "2017-06-16  143.78  144.50  142.20  142.27  50361093\n",
              "2017-06-15  143.32  144.48  142.21  144.29  32165373\n",
              "2017-06-14  147.50  147.50  143.84  145.16  31531232\n",
              "2017-06-13  147.16  147.45  145.15  146.59  34165445\n",
              "2017-06-12  145.74  146.09  142.51  145.42  72307330\n",
              "2017-06-09  155.19  155.19  146.02  148.98  64882657\n",
              "2017-06-08  155.25  155.54  154.40  154.99  21250798\n",
              "2017-06-07  155.02  155.98  154.48  155.37  21069647\n",
              "2017-06-06  153.90  155.81  153.78  154.45  26624926\n",
              "2017-06-05  154.34  154.45  153.46  153.93  25331662\n",
              "2017-06-02  153.58  155.45  152.89  155.45  27770715\n",
              "2017-06-01  153.17  153.33  152.22  153.18  16404088"
            ]
          },
          "metadata": {
            "tags": []
          },
          "execution_count": 13
        }
      ]
    },
    {
      "cell_type": "markdown",
      "metadata": {
        "id": "b1p8we2yBrk_"
      },
      "source": [
        "average price of AAPL stock in June 2017"
      ]
    },
    {
      "cell_type": "code",
      "metadata": {
        "colab": {
          "base_uri": "https://localhost:8080/"
        },
        "id": "wqJKDpQkBVrG",
        "outputId": "91535990-4164-4b74-dc4f-ae1ca2a6b337"
      },
      "source": [
        "df[\"2017-06\"].Close.mean()"
      ],
      "execution_count": 14,
      "outputs": [
        {
          "output_type": "execute_result",
          "data": {
            "text/plain": [
              "147.8313636363636"
            ]
          },
          "metadata": {
            "tags": []
          },
          "execution_count": 14
        }
      ]
    },
    {
      "cell_type": "code",
      "metadata": {
        "colab": {
          "base_uri": "https://localhost:8080/",
          "height": 198
        },
        "id": "yfExpyAhB5n9",
        "outputId": "e2d4b133-44e7-4fb1-8c4a-5ed2a6748d8c"
      },
      "source": [
        "df[\"2017-01-08\":\"2017-01-03\"]"
      ],
      "execution_count": 15,
      "outputs": [
        {
          "output_type": "execute_result",
          "data": {
            "text/html": [
              "<div>\n",
              "<style scoped>\n",
              "    .dataframe tbody tr th:only-of-type {\n",
              "        vertical-align: middle;\n",
              "    }\n",
              "\n",
              "    .dataframe tbody tr th {\n",
              "        vertical-align: top;\n",
              "    }\n",
              "\n",
              "    .dataframe thead th {\n",
              "        text-align: right;\n",
              "    }\n",
              "</style>\n",
              "<table border=\"1\" class=\"dataframe\">\n",
              "  <thead>\n",
              "    <tr style=\"text-align: right;\">\n",
              "      <th></th>\n",
              "      <th>Open</th>\n",
              "      <th>High</th>\n",
              "      <th>Low</th>\n",
              "      <th>Close</th>\n",
              "      <th>Volume</th>\n",
              "    </tr>\n",
              "    <tr>\n",
              "      <th>Date</th>\n",
              "      <th></th>\n",
              "      <th></th>\n",
              "      <th></th>\n",
              "      <th></th>\n",
              "      <th></th>\n",
              "    </tr>\n",
              "  </thead>\n",
              "  <tbody>\n",
              "    <tr>\n",
              "      <th>2017-01-06</th>\n",
              "      <td>116.78</td>\n",
              "      <td>118.16</td>\n",
              "      <td>116.47</td>\n",
              "      <td>117.91</td>\n",
              "      <td>31751900</td>\n",
              "    </tr>\n",
              "    <tr>\n",
              "      <th>2017-01-05</th>\n",
              "      <td>115.92</td>\n",
              "      <td>116.86</td>\n",
              "      <td>115.81</td>\n",
              "      <td>116.61</td>\n",
              "      <td>22193587</td>\n",
              "    </tr>\n",
              "    <tr>\n",
              "      <th>2017-01-04</th>\n",
              "      <td>115.85</td>\n",
              "      <td>116.51</td>\n",
              "      <td>115.75</td>\n",
              "      <td>116.02</td>\n",
              "      <td>21118116</td>\n",
              "    </tr>\n",
              "    <tr>\n",
              "      <th>2017-01-03</th>\n",
              "      <td>115.80</td>\n",
              "      <td>116.33</td>\n",
              "      <td>114.76</td>\n",
              "      <td>116.15</td>\n",
              "      <td>28781865</td>\n",
              "    </tr>\n",
              "  </tbody>\n",
              "</table>\n",
              "</div>"
            ],
            "text/plain": [
              "              Open    High     Low   Close    Volume\n",
              "Date                                                \n",
              "2017-01-06  116.78  118.16  116.47  117.91  31751900\n",
              "2017-01-05  115.92  116.86  115.81  116.61  22193587\n",
              "2017-01-04  115.85  116.51  115.75  116.02  21118116\n",
              "2017-01-03  115.80  116.33  114.76  116.15  28781865"
            ]
          },
          "metadata": {
            "tags": []
          },
          "execution_count": 15
        }
      ]
    },
    {
      "cell_type": "markdown",
      "metadata": {
        "id": "5vhcgwOPD-Ja"
      },
      "source": [
        "Resample"
      ]
    },
    {
      "cell_type": "code",
      "metadata": {
        "colab": {
          "base_uri": "https://localhost:8080/"
        },
        "id": "J1H7qGrbDjCQ",
        "outputId": "b2cd9394-f1eb-4a29-d344-42fabe443bbd"
      },
      "source": [
        "df['Close'].resample('M').mean()"
      ],
      "execution_count": 16,
      "outputs": [
        {
          "output_type": "execute_result",
          "data": {
            "text/plain": [
              "Date\n",
              "2016-07-31     99.473333\n",
              "2016-08-31    107.665217\n",
              "2016-09-30    110.857143\n",
              "2016-10-31    115.707143\n",
              "2016-11-30    110.154286\n",
              "2016-12-31    114.335714\n",
              "2017-01-31    119.570000\n",
              "2017-02-28    133.713684\n",
              "2017-03-31    140.617826\n",
              "2017-04-30    142.886842\n",
              "2017-05-31    152.227727\n",
              "2017-06-30    147.831364\n",
              "2017-07-31    143.625000\n",
              "Freq: M, Name: Close, dtype: float64"
            ]
          },
          "metadata": {
            "tags": []
          },
          "execution_count": 16
        }
      ]
    },
    {
      "cell_type": "code",
      "metadata": {
        "id": "hw_v6Z7rEiTN"
      },
      "source": [
        "import matplotlib.pyplot as plt\n"
      ],
      "execution_count": 17,
      "outputs": []
    },
    {
      "cell_type": "code",
      "metadata": {
        "colab": {
          "base_uri": "https://localhost:8080/",
          "height": 291
        },
        "id": "KpKVv5y8ERNS",
        "outputId": "9719a653-6c7d-4bc4-ac42-8cffaee2f39a"
      },
      "source": [
        "df['Close'].resample('M').mean().plot()\n",
        "plt.show()"
      ],
      "execution_count": 18,
      "outputs": [
        {
          "output_type": "display_data",
          "data": {
            "image/png": "[encoded data removed]",
            "text/plain": [
              "<Figure size 432x288 with 1 Axes>"
            ]
          },
          "metadata": {
            "tags": [],
            "needs_background": "light"
          }
        }
      ]
    },
    {
      "cell_type": "code",
      "metadata": {
        "colab": {
          "base_uri": "https://localhost:8080/"
        },
        "id": "Z6AXv09_Ekve",
        "outputId": "9a3c1c9c-b0e5-4a77-dadf-80675b98a2c8"
      },
      "source": [
        "df['Close'].resample('W').mean()"
      ],
      "execution_count": 19,
      "outputs": [
        {
          "output_type": "execute_result",
          "data": {
            "text/plain": [
              "Date\n",
              "2016-07-17     97.7680\n",
              "2016-07-24     99.5500\n",
              "2016-07-31    101.1020\n",
              "2016-08-07    105.9340\n",
              "2016-08-14    108.2580\n",
              "2016-08-21    109.3040\n",
              "2016-08-28    107.9800\n",
              "2016-09-04    106.6760\n",
              "2016-09-11    106.1775\n",
              "2016-09-18    111.1300\n",
              "2016-09-25    113.6060\n",
              "2016-10-02    113.0300\n",
              "2016-10-09    113.3040\n",
              "2016-10-16    116.8600\n",
              "2016-10-23    117.1600\n",
              "2016-10-30    115.9380\n",
              "2016-11-06    111.0580\n",
              "2016-11-13    109.7140\n",
              "2016-11-20    108.5640\n",
              "2016-11-27    111.6375\n",
              "2016-12-04    110.5880\n",
              "2016-12-11    111.2320\n",
              "2016-12-18    115.0940\n",
              "2016-12-25    116.6920\n",
              "2017-01-01    116.6425\n",
              "2017-01-08    116.6725\n",
              "2017-01-15    119.2280\n",
              "2017-01-22    119.9425\n",
              "2017-01-29    121.1640\n",
              "2017-02-05    125.8680\n",
              "2017-02-12    131.6800\n",
              "2017-02-19    134.9760\n",
              "2017-02-26    136.7500\n",
              "2017-03-05    138.4900\n",
              "2017-03-12    139.1360\n",
              "2017-03-19    139.8660\n",
              "2017-03-26    140.8560\n",
              "2017-04-02    143.2780\n",
              "2017-04-09    143.8980\n",
              "2017-04-16    141.9125\n",
              "2017-04-23    141.6840\n",
              "2017-04-30    143.8580\n",
              "2017-05-07    147.3280\n",
              "2017-05-14    154.0620\n",
              "2017-05-21    153.4040\n",
              "2017-05-28    153.7220\n",
              "2017-06-04    153.7650\n",
              "2017-06-11    153.5440\n",
              "2017-06-18    144.7460\n",
              "2017-06-25    145.8260\n",
              "2017-07-02    144.6160\n",
              "2017-07-09    143.6250\n",
              "Freq: W-SUN, Name: Close, dtype: float64"
            ]
          },
          "metadata": {
            "tags": []
          },
          "execution_count": 19
        }
      ]
    },
    {
      "cell_type": "code",
      "metadata": {
        "colab": {
          "base_uri": "https://localhost:8080/",
          "height": 291
        },
        "id": "BUQUrJu6E1CZ",
        "outputId": "11e1df8f-979b-46d6-c83a-e496ece018d3"
      },
      "source": [
        "df['Close'].resample('W').mean().plot()\n",
        "plt.show()"
      ],
      "execution_count": 20,
      "outputs": [
        {
          "output_type": "display_data",
          "data": {
            "image/png": "[encoded data removed]",
            "text/plain": [
              "<Figure size 432x288 with 1 Axes>"
            ]
          },
          "metadata": {
            "tags": [],
            "needs_background": "light"
          }
        }
      ]
    },
    {
      "cell_type": "code",
      "metadata": {
        "colab": {
          "base_uri": "https://localhost:8080/",
          "height": 291
        },
        "id": "8rWW-AUpFQ1b",
        "outputId": "5d96f587-3f52-4cba-96e0-59d817d0dc63"
      },
      "source": [
        "df['Close'].resample('Q').mean().plot()\n",
        "plt.show()"
      ],
      "execution_count": 21,
      "outputs": [
        {
          "output_type": "display_data",
          "data": {
            "image/png": "[encoded data removed]",
            "text/plain": [
              "<Figure size 432x288 with 1 Axes>"
            ]
          },
          "metadata": {
            "tags": [],
            "needs_background": "light"
          }
        }
      ]
    },
    {
      "cell_type": "code",
      "metadata": {
        "colab": {
          "base_uri": "https://localhost:8080/",
          "height": 277
        },
        "id": "2peQEeMvFUj7",
        "outputId": "b55475a9-ee09-4dd0-f50c-a6518b4b4eef"
      },
      "source": [
        "df['Close'].plot()\n",
        "plt.show()"
      ],
      "execution_count": 22,
      "outputs": [
        {
          "output_type": "display_data",
          "data": {
            "image/png": "[encoded data removed]",
            "text/plain": [
              "<Figure size 432x288 with 1 Axes>"
            ]
          },
          "metadata": {
            "tags": [],
            "needs_background": "light"
          }
        }
      ]
    },
    {
      "cell_type": "code",
      "metadata": {
        "id": "EgdNWf41FnxM"
      },
      "source": [
        "df = pd.read_csv(\"aapl_no_dates.csv\")"
      ],
      "execution_count": 23,
      "outputs": []
    },
    {
      "cell_type": "code",
      "metadata": {
        "colab": {
          "base_uri": "https://localhost:8080/",
          "height": 708
        },
        "id": "vpYBiEm1GifK",
        "outputId": "e0b72cc1-8845-401f-e93a-8ee59bbf632d"
      },
      "source": [
        "df"
      ],
      "execution_count": 24,
      "outputs": [
        {
          "output_type": "execute_result",
          "data": {
            "text/html": [
              "<div>\n",
              "<style scoped>\n",
              "    .dataframe tbody tr th:only-of-type {\n",
              "        vertical-align: middle;\n",
              "    }\n",
              "\n",
              "    .dataframe tbody tr th {\n",
              "        vertical-align: top;\n",
              "    }\n",
              "\n",
              "    .dataframe thead th {\n",
              "        text-align: right;\n",
              "    }\n",
              "</style>\n",
              "<table border=\"1\" class=\"dataframe\">\n",
              "  <thead>\n",
              "    <tr style=\"text-align: right;\">\n",
              "      <th></th>\n",
              "      <th>Open</th>\n",
              "      <th>High</th>\n",
              "      <th>Low</th>\n",
              "      <th>Close</th>\n",
              "      <th>Volume</th>\n",
              "    </tr>\n",
              "  </thead>\n",
              "  <tbody>\n",
              "    <tr>\n",
              "      <th>0</th>\n",
              "      <td>153.17</td>\n",
              "      <td>153.33</td>\n",
              "      <td>152.22</td>\n",
              "      <td>153.18</td>\n",
              "      <td>16404088</td>\n",
              "    </tr>\n",
              "    <tr>\n",
              "      <th>1</th>\n",
              "      <td>153.58</td>\n",
              "      <td>155.45</td>\n",
              "      <td>152.89</td>\n",
              "      <td>155.45</td>\n",
              "      <td>27770715</td>\n",
              "    </tr>\n",
              "    <tr>\n",
              "      <th>2</th>\n",
              "      <td>154.34</td>\n",
              "      <td>154.45</td>\n",
              "      <td>153.46</td>\n",
              "      <td>153.93</td>\n",
              "      <td>25331662</td>\n",
              "    </tr>\n",
              "    <tr>\n",
              "      <th>3</th>\n",
              "      <td>153.90</td>\n",
              "      <td>155.81</td>\n",
              "      <td>153.78</td>\n",
              "      <td>154.45</td>\n",
              "      <td>26624926</td>\n",
              "    </tr>\n",
              "    <tr>\n",
              "      <th>4</th>\n",
              "      <td>155.02</td>\n",
              "      <td>155.98</td>\n",
              "      <td>154.48</td>\n",
              "      <td>155.37</td>\n",
              "      <td>21069647</td>\n",
              "    </tr>\n",
              "    <tr>\n",
              "      <th>5</th>\n",
              "      <td>155.25</td>\n",
              "      <td>155.54</td>\n",
              "      <td>154.40</td>\n",
              "      <td>154.99</td>\n",
              "      <td>21250798</td>\n",
              "    </tr>\n",
              "    <tr>\n",
              "      <th>6</th>\n",
              "      <td>155.19</td>\n",
              "      <td>155.19</td>\n",
              "      <td>146.02</td>\n",
              "      <td>148.98</td>\n",
              "      <td>64882657</td>\n",
              "    </tr>\n",
              "    <tr>\n",
              "      <th>7</th>\n",
              "      <td>145.74</td>\n",
              "      <td>146.09</td>\n",
              "      <td>142.51</td>\n",
              "      <td>145.42</td>\n",
              "      <td>72307330</td>\n",
              "    </tr>\n",
              "    <tr>\n",
              "      <th>8</th>\n",
              "      <td>147.16</td>\n",
              "      <td>147.45</td>\n",
              "      <td>145.15</td>\n",
              "      <td>146.59</td>\n",
              "      <td>34165445</td>\n",
              "    </tr>\n",
              "    <tr>\n",
              "      <th>9</th>\n",
              "      <td>147.50</td>\n",
              "      <td>147.50</td>\n",
              "      <td>143.84</td>\n",
              "      <td>145.16</td>\n",
              "      <td>31531232</td>\n",
              "    </tr>\n",
              "    <tr>\n",
              "      <th>10</th>\n",
              "      <td>143.32</td>\n",
              "      <td>144.48</td>\n",
              "      <td>142.21</td>\n",
              "      <td>144.29</td>\n",
              "      <td>32165373</td>\n",
              "    </tr>\n",
              "    <tr>\n",
              "      <th>11</th>\n",
              "      <td>143.78</td>\n",
              "      <td>144.50</td>\n",
              "      <td>142.20</td>\n",
              "      <td>142.27</td>\n",
              "      <td>50361093</td>\n",
              "    </tr>\n",
              "    <tr>\n",
              "      <th>12</th>\n",
              "      <td>143.66</td>\n",
              "      <td>146.74</td>\n",
              "      <td>143.66</td>\n",
              "      <td>146.34</td>\n",
              "      <td>32541404</td>\n",
              "    </tr>\n",
              "    <tr>\n",
              "      <th>13</th>\n",
              "      <td>146.87</td>\n",
              "      <td>146.87</td>\n",
              "      <td>144.94</td>\n",
              "      <td>145.01</td>\n",
              "      <td>24900073</td>\n",
              "    </tr>\n",
              "    <tr>\n",
              "      <th>14</th>\n",
              "      <td>145.52</td>\n",
              "      <td>146.07</td>\n",
              "      <td>144.61</td>\n",
              "      <td>145.87</td>\n",
              "      <td>21265751</td>\n",
              "    </tr>\n",
              "    <tr>\n",
              "      <th>15</th>\n",
              "      <td>145.77</td>\n",
              "      <td>146.70</td>\n",
              "      <td>145.12</td>\n",
              "      <td>145.63</td>\n",
              "      <td>19106294</td>\n",
              "    </tr>\n",
              "    <tr>\n",
              "      <th>16</th>\n",
              "      <td>145.13</td>\n",
              "      <td>147.16</td>\n",
              "      <td>145.11</td>\n",
              "      <td>146.28</td>\n",
              "      <td>35439389</td>\n",
              "    </tr>\n",
              "    <tr>\n",
              "      <th>17</th>\n",
              "      <td>147.17</td>\n",
              "      <td>148.28</td>\n",
              "      <td>145.38</td>\n",
              "      <td>145.82</td>\n",
              "      <td>25692361</td>\n",
              "    </tr>\n",
              "    <tr>\n",
              "      <th>18</th>\n",
              "      <td>145.01</td>\n",
              "      <td>146.16</td>\n",
              "      <td>143.62</td>\n",
              "      <td>143.73</td>\n",
              "      <td>24761891</td>\n",
              "    </tr>\n",
              "    <tr>\n",
              "      <th>19</th>\n",
              "      <td>144.49</td>\n",
              "      <td>146.11</td>\n",
              "      <td>143.16</td>\n",
              "      <td>145.83</td>\n",
              "      <td>22082432</td>\n",
              "    </tr>\n",
              "    <tr>\n",
              "      <th>20</th>\n",
              "      <td>144.71</td>\n",
              "      <td>145.13</td>\n",
              "      <td>142.28</td>\n",
              "      <td>143.68</td>\n",
              "      <td>31499368</td>\n",
              "    </tr>\n",
              "    <tr>\n",
              "      <th>21</th>\n",
              "      <td>144.45</td>\n",
              "      <td>144.96</td>\n",
              "      <td>143.78</td>\n",
              "      <td>144.02</td>\n",
              "      <td>23024107</td>\n",
              "    </tr>\n",
              "  </tbody>\n",
              "</table>\n",
              "</div>"
            ],
            "text/plain": [
              "      Open    High     Low   Close    Volume\n",
              "0   153.17  153.33  152.22  153.18  16404088\n",
              "1   153.58  155.45  152.89  155.45  27770715\n",
              "2   154.34  154.45  153.46  153.93  25331662\n",
              "3   153.90  155.81  153.78  154.45  26624926\n",
              "4   155.02  155.98  154.48  155.37  21069647\n",
              "5   155.25  155.54  154.40  154.99  21250798\n",
              "6   155.19  155.19  146.02  148.98  64882657\n",
              "7   145.74  146.09  142.51  145.42  72307330\n",
              "8   147.16  147.45  145.15  146.59  34165445\n",
              "9   147.50  147.50  143.84  145.16  31531232\n",
              "10  143.32  144.48  142.21  144.29  32165373\n",
              "11  143.78  144.50  142.20  142.27  50361093\n",
              "12  143.66  146.74  143.66  146.34  32541404\n",
              "13  146.87  146.87  144.94  145.01  24900073\n",
              "14  145.52  146.07  144.61  145.87  21265751\n",
              "15  145.77  146.70  145.12  145.63  19106294\n",
              "16  145.13  147.16  145.11  146.28  35439389\n",
              "17  147.17  148.28  145.38  145.82  25692361\n",
              "18  145.01  146.16  143.62  143.73  24761891\n",
              "19  144.49  146.11  143.16  145.83  22082432\n",
              "20  144.71  145.13  142.28  143.68  31499368\n",
              "21  144.45  144.96  143.78  144.02  23024107"
            ]
          },
          "metadata": {
            "tags": []
          },
          "execution_count": 24
        }
      ]
    },
    {
      "cell_type": "code",
      "metadata": {
        "colab": {
          "base_uri": "https://localhost:8080/"
        },
        "id": "Dr9sa2l7GjAv",
        "outputId": "2f621c05-4abd-424c-c408-2cd1165e75c5"
      },
      "source": [
        "rng = pd.date_range(start=\"6/1/2016\", end = \"6/30/2016\", freq='B')\n",
        "rng"
      ],
      "execution_count": 25,
      "outputs": [
        {
          "output_type": "execute_result",
          "data": {
            "text/plain": [
              "DatetimeIndex(['2016-06-01', '2016-06-02', '2016-06-03', '2016-06-06',\n",
              "               '2016-06-07', '2016-06-08', '2016-06-09', '2016-06-10',\n",
              "               '2016-06-13', '2016-06-14', '2016-06-15', '2016-06-16',\n",
              "               '2016-06-17', '2016-06-20', '2016-06-21', '2016-06-22',\n",
              "               '2016-06-23', '2016-06-24', '2016-06-27', '2016-06-28',\n",
              "               '2016-06-29', '2016-06-30'],\n",
              "              dtype='datetime64[ns]', freq='B')"
            ]
          },
          "metadata": {
            "tags": []
          },
          "execution_count": 25
        }
      ]
    },
    {
      "cell_type": "code",
      "metadata": {
        "id": "S8ApLXicHNeQ"
      },
      "source": [
        "df.set_index(rng, inplace=True)"
      ],
      "execution_count": 26,
      "outputs": []
    },
    {
      "cell_type": "code",
      "metadata": {
        "colab": {
          "base_uri": "https://localhost:8080/",
          "height": 348
        },
        "id": "aPJ-_ldoHoj9",
        "outputId": "3dcf0e9b-7dab-434f-ee5c-ca4ccaf89828"
      },
      "source": [
        "df.head(10)"
      ],
      "execution_count": 27,
      "outputs": [
        {
          "output_type": "execute_result",
          "data": {
            "text/html": [
              "<div>\n",
              "<style scoped>\n",
              "    .dataframe tbody tr th:only-of-type {\n",
              "        vertical-align: middle;\n",
              "    }\n",
              "\n",
              "    .dataframe tbody tr th {\n",
              "        vertical-align: top;\n",
              "    }\n",
              "\n",
              "    .dataframe thead th {\n",
              "        text-align: right;\n",
              "    }\n",
              "</style>\n",
              "<table border=\"1\" class=\"dataframe\">\n",
              "  <thead>\n",
              "    <tr style=\"text-align: right;\">\n",
              "      <th></th>\n",
              "      <th>Open</th>\n",
              "      <th>High</th>\n",
              "      <th>Low</th>\n",
              "      <th>Close</th>\n",
              "      <th>Volume</th>\n",
              "    </tr>\n",
              "  </thead>\n",
              "  <tbody>\n",
              "    <tr>\n",
              "      <th>2016-06-01</th>\n",
              "      <td>153.17</td>\n",
              "      <td>153.33</td>\n",
              "      <td>152.22</td>\n",
              "      <td>153.18</td>\n",
              "      <td>16404088</td>\n",
              "    </tr>\n",
              "    <tr>\n",
              "      <th>2016-06-02</th>\n",
              "      <td>153.58</td>\n",
              "      <td>155.45</td>\n",
              "      <td>152.89</td>\n",
              "      <td>155.45</td>\n",
              "      <td>27770715</td>\n",
              "    </tr>\n",
              "    <tr>\n",
              "      <th>2016-06-03</th>\n",
              "      <td>154.34</td>\n",
              "      <td>154.45</td>\n",
              "      <td>153.46</td>\n",
              "      <td>153.93</td>\n",
              "      <td>25331662</td>\n",
              "    </tr>\n",
              "    <tr>\n",
              "      <th>2016-06-06</th>\n",
              "      <td>153.90</td>\n",
              "      <td>155.81</td>\n",
              "      <td>153.78</td>\n",
              "      <td>154.45</td>\n",
              "      <td>26624926</td>\n",
              "    </tr>\n",
              "    <tr>\n",
              "      <th>2016-06-07</th>\n",
              "      <td>155.02</td>\n",
              "      <td>155.98</td>\n",
              "      <td>154.48</td>\n",
              "      <td>155.37</td>\n",
              "      <td>21069647</td>\n",
              "    </tr>\n",
              "    <tr>\n",
              "      <th>2016-06-08</th>\n",
              "      <td>155.25</td>\n",
              "      <td>155.54</td>\n",
              "      <td>154.40</td>\n",
              "      <td>154.99</td>\n",
              "      <td>21250798</td>\n",
              "    </tr>\n",
              "    <tr>\n",
              "      <th>2016-06-09</th>\n",
              "      <td>155.19</td>\n",
              "      <td>155.19</td>\n",
              "      <td>146.02</td>\n",
              "      <td>148.98</td>\n",
              "      <td>64882657</td>\n",
              "    </tr>\n",
              "    <tr>\n",
              "      <th>2016-06-10</th>\n",
              "      <td>145.74</td>\n",
              "      <td>146.09</td>\n",
              "      <td>142.51</td>\n",
              "      <td>145.42</td>\n",
              "      <td>72307330</td>\n",
              "    </tr>\n",
              "    <tr>\n",
              "      <th>2016-06-13</th>\n",
              "      <td>147.16</td>\n",
              "      <td>147.45</td>\n",
              "      <td>145.15</td>\n",
              "      <td>146.59</td>\n",
              "      <td>34165445</td>\n",
              "    </tr>\n",
              "    <tr>\n",
              "      <th>2016-06-14</th>\n",
              "      <td>147.50</td>\n",
              "      <td>147.50</td>\n",
              "      <td>143.84</td>\n",
              "      <td>145.16</td>\n",
              "      <td>31531232</td>\n",
              "    </tr>\n",
              "  </tbody>\n",
              "</table>\n",
              "</div>"
            ],
            "text/plain": [
              "              Open    High     Low   Close    Volume\n",
              "2016-06-01  153.17  153.33  152.22  153.18  16404088\n",
              "2016-06-02  153.58  155.45  152.89  155.45  27770715\n",
              "2016-06-03  154.34  154.45  153.46  153.93  25331662\n",
              "2016-06-06  153.90  155.81  153.78  154.45  26624926\n",
              "2016-06-07  155.02  155.98  154.48  155.37  21069647\n",
              "2016-06-08  155.25  155.54  154.40  154.99  21250798\n",
              "2016-06-09  155.19  155.19  146.02  148.98  64882657\n",
              "2016-06-10  145.74  146.09  142.51  145.42  72307330\n",
              "2016-06-13  147.16  147.45  145.15  146.59  34165445\n",
              "2016-06-14  147.50  147.50  143.84  145.16  31531232"
            ]
          },
          "metadata": {
            "tags": []
          },
          "execution_count": 27
        }
      ]
    },
    {
      "cell_type": "code",
      "metadata": {
        "colab": {
          "base_uri": "https://localhost:8080/"
        },
        "id": "rCSdGsetHswU",
        "outputId": "64607b8f-3257-47d1-a0ea-db60cbdea8a4"
      },
      "source": [
        "daily = pd.date_range(start=\"6/1/2016\", end = \"6/30/2016\", freq='D')\n",
        "daily"
      ],
      "execution_count": 28,
      "outputs": [
        {
          "output_type": "execute_result",
          "data": {
            "text/plain": [
              "DatetimeIndex(['2016-06-01', '2016-06-02', '2016-06-03', '2016-06-04',\n",
              "               '2016-06-05', '2016-06-06', '2016-06-07', '2016-06-08',\n",
              "               '2016-06-09', '2016-06-10', '2016-06-11', '2016-06-12',\n",
              "               '2016-06-13', '2016-06-14', '2016-06-15', '2016-06-16',\n",
              "               '2016-06-17', '2016-06-18', '2016-06-19', '2016-06-20',\n",
              "               '2016-06-21', '2016-06-22', '2016-06-23', '2016-06-24',\n",
              "               '2016-06-25', '2016-06-26', '2016-06-27', '2016-06-28',\n",
              "               '2016-06-29', '2016-06-30'],\n",
              "              dtype='datetime64[ns]', freq='D')"
            ]
          },
          "metadata": {
            "tags": []
          },
          "execution_count": 28
        }
      ]
    },
    {
      "cell_type": "code",
      "metadata": {
        "colab": {
          "base_uri": "https://localhost:8080/"
        },
        "id": "Ri3QXUL7IbMU",
        "outputId": "068d35de-c3c8-4f1d-91c0-147f9773359a"
      },
      "source": [
        "df.index"
      ],
      "execution_count": 29,
      "outputs": [
        {
          "output_type": "execute_result",
          "data": {
            "text/plain": [
              "DatetimeIndex(['2016-06-01', '2016-06-02', '2016-06-03', '2016-06-06',\n",
              "               '2016-06-07', '2016-06-08', '2016-06-09', '2016-06-10',\n",
              "               '2016-06-13', '2016-06-14', '2016-06-15', '2016-06-16',\n",
              "               '2016-06-17', '2016-06-20', '2016-06-21', '2016-06-22',\n",
              "               '2016-06-23', '2016-06-24', '2016-06-27', '2016-06-28',\n",
              "               '2016-06-29', '2016-06-30'],\n",
              "              dtype='datetime64[ns]', freq='B')"
            ]
          },
          "metadata": {
            "tags": []
          },
          "execution_count": 29
        }
      ]
    },
    {
      "cell_type": "code",
      "metadata": {
        "colab": {
          "base_uri": "https://localhost:8080/",
          "height": 948
        },
        "id": "qO47PLiTIvkL",
        "outputId": "3b7720c7-ac05-42e6-c74c-820f374fb85f"
      },
      "source": [
        "df.asfreq('D', method='pad')"
      ],
      "execution_count": 30,
      "outputs": [
        {
          "output_type": "execute_result",
          "data": {
            "text/html": [
              "<div>\n",
              "<style scoped>\n",
              "    .dataframe tbody tr th:only-of-type {\n",
              "        vertical-align: middle;\n",
              "    }\n",
              "\n",
              "    .dataframe tbody tr th {\n",
              "        vertical-align: top;\n",
              "    }\n",
              "\n",
              "    .dataframe thead th {\n",
              "        text-align: right;\n",
              "    }\n",
              "</style>\n",
              "<table border=\"1\" class=\"dataframe\">\n",
              "  <thead>\n",
              "    <tr style=\"text-align: right;\">\n",
              "      <th></th>\n",
              "      <th>Open</th>\n",
              "      <th>High</th>\n",
              "      <th>Low</th>\n",
              "      <th>Close</th>\n",
              "      <th>Volume</th>\n",
              "    </tr>\n",
              "  </thead>\n",
              "  <tbody>\n",
              "    <tr>\n",
              "      <th>2016-06-01</th>\n",
              "      <td>153.17</td>\n",
              "      <td>153.33</td>\n",
              "      <td>152.22</td>\n",
              "      <td>153.18</td>\n",
              "      <td>16404088</td>\n",
              "    </tr>\n",
              "    <tr>\n",
              "      <th>2016-06-02</th>\n",
              "      <td>153.58</td>\n",
              "      <td>155.45</td>\n",
              "      <td>152.89</td>\n",
              "      <td>155.45</td>\n",
              "      <td>27770715</td>\n",
              "    </tr>\n",
              "    <tr>\n",
              "      <th>2016-06-03</th>\n",
              "      <td>154.34</td>\n",
              "      <td>154.45</td>\n",
              "      <td>153.46</td>\n",
              "      <td>153.93</td>\n",
              "      <td>25331662</td>\n",
              "    </tr>\n",
              "    <tr>\n",
              "      <th>2016-06-04</th>\n",
              "      <td>154.34</td>\n",
              "      <td>154.45</td>\n",
              "      <td>153.46</td>\n",
              "      <td>153.93</td>\n",
              "      <td>25331662</td>\n",
              "    </tr>\n",
              "    <tr>\n",
              "      <th>2016-06-05</th>\n",
              "      <td>154.34</td>\n",
              "      <td>154.45</td>\n",
              "      <td>153.46</td>\n",
              "      <td>153.93</td>\n",
              "      <td>25331662</td>\n",
              "    </tr>\n",
              "    <tr>\n",
              "      <th>2016-06-06</th>\n",
              "      <td>153.90</td>\n",
              "      <td>155.81</td>\n",
              "      <td>153.78</td>\n",
              "      <td>154.45</td>\n",
              "      <td>26624926</td>\n",
              "    </tr>\n",
              "    <tr>\n",
              "      <th>2016-06-07</th>\n",
              "      <td>155.02</td>\n",
              "      <td>155.98</td>\n",
              "      <td>154.48</td>\n",
              "      <td>155.37</td>\n",
              "      <td>21069647</td>\n",
              "    </tr>\n",
              "    <tr>\n",
              "      <th>2016-06-08</th>\n",
              "      <td>155.25</td>\n",
              "      <td>155.54</td>\n",
              "      <td>154.40</td>\n",
              "      <td>154.99</td>\n",
              "      <td>21250798</td>\n",
              "    </tr>\n",
              "    <tr>\n",
              "      <th>2016-06-09</th>\n",
              "      <td>155.19</td>\n",
              "      <td>155.19</td>\n",
              "      <td>146.02</td>\n",
              "      <td>148.98</td>\n",
              "      <td>64882657</td>\n",
              "    </tr>\n",
              "    <tr>\n",
              "      <th>2016-06-10</th>\n",
              "      <td>145.74</td>\n",
              "      <td>146.09</td>\n",
              "      <td>142.51</td>\n",
              "      <td>145.42</td>\n",
              "      <td>72307330</td>\n",
              "    </tr>\n",
              "    <tr>\n",
              "      <th>2016-06-11</th>\n",
              "      <td>145.74</td>\n",
              "      <td>146.09</td>\n",
              "      <td>142.51</td>\n",
              "      <td>145.42</td>\n",
              "      <td>72307330</td>\n",
              "    </tr>\n",
              "    <tr>\n",
              "      <th>2016-06-12</th>\n",
              "      <td>145.74</td>\n",
              "      <td>146.09</td>\n",
              "      <td>142.51</td>\n",
              "      <td>145.42</td>\n",
              "      <td>72307330</td>\n",
              "    </tr>\n",
              "    <tr>\n",
              "      <th>2016-06-13</th>\n",
              "      <td>147.16</td>\n",
              "      <td>147.45</td>\n",
              "      <td>145.15</td>\n",
              "      <td>146.59</td>\n",
              "      <td>34165445</td>\n",
              "    </tr>\n",
              "    <tr>\n",
              "      <th>2016-06-14</th>\n",
              "      <td>147.50</td>\n",
              "      <td>147.50</td>\n",
              "      <td>143.84</td>\n",
              "      <td>145.16</td>\n",
              "      <td>31531232</td>\n",
              "    </tr>\n",
              "    <tr>\n",
              "      <th>2016-06-15</th>\n",
              "      <td>143.32</td>\n",
              "      <td>144.48</td>\n",
              "      <td>142.21</td>\n",
              "      <td>144.29</td>\n",
              "      <td>32165373</td>\n",
              "    </tr>\n",
              "    <tr>\n",
              "      <th>2016-06-16</th>\n",
              "      <td>143.78</td>\n",
              "      <td>144.50</td>\n",
              "      <td>142.20</td>\n",
              "      <td>142.27</td>\n",
              "      <td>50361093</td>\n",
              "    </tr>\n",
              "    <tr>\n",
              "      <th>2016-06-17</th>\n",
              "      <td>143.66</td>\n",
              "      <td>146.74</td>\n",
              "      <td>143.66</td>\n",
              "      <td>146.34</td>\n",
              "      <td>32541404</td>\n",
              "    </tr>\n",
              "    <tr>\n",
              "      <th>2016-06-18</th>\n",
              "      <td>143.66</td>\n",
              "      <td>146.74</td>\n",
              "      <td>143.66</td>\n",
              "      <td>146.34</td>\n",
              "      <td>32541404</td>\n",
              "    </tr>\n",
              "    <tr>\n",
              "      <th>2016-06-19</th>\n",
              "      <td>143.66</td>\n",
              "      <td>146.74</td>\n",
              "      <td>143.66</td>\n",
              "      <td>146.34</td>\n",
              "      <td>32541404</td>\n",
              "    </tr>\n",
              "    <tr>\n",
              "      <th>2016-06-20</th>\n",
              "      <td>146.87</td>\n",
              "      <td>146.87</td>\n",
              "      <td>144.94</td>\n",
              "      <td>145.01</td>\n",
              "      <td>24900073</td>\n",
              "    </tr>\n",
              "    <tr>\n",
              "      <th>2016-06-21</th>\n",
              "      <td>145.52</td>\n",
              "      <td>146.07</td>\n",
              "      <td>144.61</td>\n",
              "      <td>145.87</td>\n",
              "      <td>21265751</td>\n",
              "    </tr>\n",
              "    <tr>\n",
              "      <th>2016-06-22</th>\n",
              "      <td>145.77</td>\n",
              "      <td>146.70</td>\n",
              "      <td>145.12</td>\n",
              "      <td>145.63</td>\n",
              "      <td>19106294</td>\n",
              "    </tr>\n",
              "    <tr>\n",
              "      <th>2016-06-23</th>\n",
              "      <td>145.13</td>\n",
              "      <td>147.16</td>\n",
              "      <td>145.11</td>\n",
              "      <td>146.28</td>\n",
              "      <td>35439389</td>\n",
              "    </tr>\n",
              "    <tr>\n",
              "      <th>2016-06-24</th>\n",
              "      <td>147.17</td>\n",
              "      <td>148.28</td>\n",
              "      <td>145.38</td>\n",
              "      <td>145.82</td>\n",
              "      <td>25692361</td>\n",
              "    </tr>\n",
              "    <tr>\n",
              "      <th>2016-06-25</th>\n",
              "      <td>147.17</td>\n",
              "      <td>148.28</td>\n",
              "      <td>145.38</td>\n",
              "      <td>145.82</td>\n",
              "      <td>25692361</td>\n",
              "    </tr>\n",
              "    <tr>\n",
              "      <th>2016-06-26</th>\n",
              "      <td>147.17</td>\n",
              "      <td>148.28</td>\n",
              "      <td>145.38</td>\n",
              "      <td>145.82</td>\n",
              "      <td>25692361</td>\n",
              "    </tr>\n",
              "    <tr>\n",
              "      <th>2016-06-27</th>\n",
              "      <td>145.01</td>\n",
              "      <td>146.16</td>\n",
              "      <td>143.62</td>\n",
              "      <td>143.73</td>\n",
              "      <td>24761891</td>\n",
              "    </tr>\n",
              "    <tr>\n",
              "      <th>2016-06-28</th>\n",
              "      <td>144.49</td>\n",
              "      <td>146.11</td>\n",
              "      <td>143.16</td>\n",
              "      <td>145.83</td>\n",
              "      <td>22082432</td>\n",
              "    </tr>\n",
              "    <tr>\n",
              "      <th>2016-06-29</th>\n",
              "      <td>144.71</td>\n",
              "      <td>145.13</td>\n",
              "      <td>142.28</td>\n",
              "      <td>143.68</td>\n",
              "      <td>31499368</td>\n",
              "    </tr>\n",
              "    <tr>\n",
              "      <th>2016-06-30</th>\n",
              "      <td>144.45</td>\n",
              "      <td>144.96</td>\n",
              "      <td>143.78</td>\n",
              "      <td>144.02</td>\n",
              "      <td>23024107</td>\n",
              "    </tr>\n",
              "  </tbody>\n",
              "</table>\n",
              "</div>"
            ],
            "text/plain": [
              "              Open    High     Low   Close    Volume\n",
              "2016-06-01  153.17  153.33  152.22  153.18  16404088\n",
              "2016-06-02  153.58  155.45  152.89  155.45  27770715\n",
              "2016-06-03  154.34  154.45  153.46  153.93  25331662\n",
              "2016-06-04  154.34  154.45  153.46  153.93  25331662\n",
              "2016-06-05  154.34  154.45  153.46  153.93  25331662\n",
              "2016-06-06  153.90  155.81  153.78  154.45  26624926\n",
              "2016-06-07  155.02  155.98  154.48  155.37  21069647\n",
              "2016-06-08  155.25  155.54  154.40  154.99  21250798\n",
              "2016-06-09  155.19  155.19  146.02  148.98  64882657\n",
              "2016-06-10  145.74  146.09  142.51  145.42  72307330\n",
              "2016-06-11  145.74  146.09  142.51  145.42  72307330\n",
              "2016-06-12  145.74  146.09  142.51  145.42  72307330\n",
              "2016-06-13  147.16  147.45  145.15  146.59  34165445\n",
              "2016-06-14  147.50  147.50  143.84  145.16  31531232\n",
              "2016-06-15  143.32  144.48  142.21  144.29  32165373\n",
              "2016-06-16  143.78  144.50  142.20  142.27  50361093\n",
              "2016-06-17  143.66  146.74  143.66  146.34  32541404\n",
              "2016-06-18  143.66  146.74  143.66  146.34  32541404\n",
              "2016-06-19  143.66  146.74  143.66  146.34  32541404\n",
              "2016-06-20  146.87  146.87  144.94  145.01  24900073\n",
              "2016-06-21  145.52  146.07  144.61  145.87  21265751\n",
              "2016-06-22  145.77  146.70  145.12  145.63  19106294\n",
              "2016-06-23  145.13  147.16  145.11  146.28  35439389\n",
              "2016-06-24  147.17  148.28  145.38  145.82  25692361\n",
              "2016-06-25  147.17  148.28  145.38  145.82  25692361\n",
              "2016-06-26  147.17  148.28  145.38  145.82  25692361\n",
              "2016-06-27  145.01  146.16  143.62  143.73  24761891\n",
              "2016-06-28  144.49  146.11  143.16  145.83  22082432\n",
              "2016-06-29  144.71  145.13  142.28  143.68  31499368\n",
              "2016-06-30  144.45  144.96  143.78  144.02  23024107"
            ]
          },
          "metadata": {
            "tags": []
          },
          "execution_count": 30
        }
      ]
    },
    {
      "cell_type": "code",
      "metadata": {
        "colab": {
          "base_uri": "https://localhost:8080/",
          "height": 468
        },
        "id": "aB_tc_kuI-K1",
        "outputId": "f006f8bd-5741-4001-c72f-060179fd1005"
      },
      "source": [
        "df = pd.read_csv(\"/content/aapl_no_dates_jul.csv\")\n",
        "df"
      ],
      "execution_count": 31,
      "outputs": [
        {
          "output_type": "execute_result",
          "data": {
            "text/html": [
              "<div>\n",
              "<style scoped>\n",
              "    .dataframe tbody tr th:only-of-type {\n",
              "        vertical-align: middle;\n",
              "    }\n",
              "\n",
              "    .dataframe tbody tr th {\n",
              "        vertical-align: top;\n",
              "    }\n",
              "\n",
              "    .dataframe thead th {\n",
              "        text-align: right;\n",
              "    }\n",
              "</style>\n",
              "<table border=\"1\" class=\"dataframe\">\n",
              "  <thead>\n",
              "    <tr style=\"text-align: right;\">\n",
              "      <th></th>\n",
              "      <th>Open</th>\n",
              "      <th>High</th>\n",
              "      <th>Low</th>\n",
              "      <th>Close</th>\n",
              "      <th>Volume</th>\n",
              "    </tr>\n",
              "  </thead>\n",
              "  <tbody>\n",
              "    <tr>\n",
              "      <th>0</th>\n",
              "      <td>144.88</td>\n",
              "      <td>145.30</td>\n",
              "      <td>143.10</td>\n",
              "      <td>143.50</td>\n",
              "      <td>14277848</td>\n",
              "    </tr>\n",
              "    <tr>\n",
              "      <th>1</th>\n",
              "      <td>143.69</td>\n",
              "      <td>144.79</td>\n",
              "      <td>142.72</td>\n",
              "      <td>144.09</td>\n",
              "      <td>21569557</td>\n",
              "    </tr>\n",
              "    <tr>\n",
              "      <th>2</th>\n",
              "      <td>143.02</td>\n",
              "      <td>143.50</td>\n",
              "      <td>142.41</td>\n",
              "      <td>142.73</td>\n",
              "      <td>24128782</td>\n",
              "    </tr>\n",
              "    <tr>\n",
              "      <th>3</th>\n",
              "      <td>142.90</td>\n",
              "      <td>144.75</td>\n",
              "      <td>142.90</td>\n",
              "      <td>144.18</td>\n",
              "      <td>19201712</td>\n",
              "    </tr>\n",
              "    <tr>\n",
              "      <th>4</th>\n",
              "      <td>144.11</td>\n",
              "      <td>145.95</td>\n",
              "      <td>143.37</td>\n",
              "      <td>145.06</td>\n",
              "      <td>21090636</td>\n",
              "    </tr>\n",
              "    <tr>\n",
              "      <th>5</th>\n",
              "      <td>144.73</td>\n",
              "      <td>145.85</td>\n",
              "      <td>144.38</td>\n",
              "      <td>145.53</td>\n",
              "      <td>19781836</td>\n",
              "    </tr>\n",
              "    <tr>\n",
              "      <th>6</th>\n",
              "      <td>145.87</td>\n",
              "      <td>146.18</td>\n",
              "      <td>144.82</td>\n",
              "      <td>145.74</td>\n",
              "      <td>24884478</td>\n",
              "    </tr>\n",
              "    <tr>\n",
              "      <th>7</th>\n",
              "      <td>145.50</td>\n",
              "      <td>148.49</td>\n",
              "      <td>145.44</td>\n",
              "      <td>147.77</td>\n",
              "      <td>25199373</td>\n",
              "    </tr>\n",
              "    <tr>\n",
              "      <th>8</th>\n",
              "      <td>147.97</td>\n",
              "      <td>149.33</td>\n",
              "      <td>147.33</td>\n",
              "      <td>149.04</td>\n",
              "      <td>20132061</td>\n",
              "    </tr>\n",
              "    <tr>\n",
              "      <th>9</th>\n",
              "      <td>148.82</td>\n",
              "      <td>150.90</td>\n",
              "      <td>148.57</td>\n",
              "      <td>149.56</td>\n",
              "      <td>23793456</td>\n",
              "    </tr>\n",
              "    <tr>\n",
              "      <th>10</th>\n",
              "      <td>149.20</td>\n",
              "      <td>150.13</td>\n",
              "      <td>148.67</td>\n",
              "      <td>150.08</td>\n",
              "      <td>17868792</td>\n",
              "    </tr>\n",
              "    <tr>\n",
              "      <th>11</th>\n",
              "      <td>150.48</td>\n",
              "      <td>151.42</td>\n",
              "      <td>149.95</td>\n",
              "      <td>151.02</td>\n",
              "      <td>20922969</td>\n",
              "    </tr>\n",
              "    <tr>\n",
              "      <th>12</th>\n",
              "      <td>151.50</td>\n",
              "      <td>151.74</td>\n",
              "      <td>150.19</td>\n",
              "      <td>150.34</td>\n",
              "      <td>17243748</td>\n",
              "    </tr>\n",
              "    <tr>\n",
              "      <th>13</th>\n",
              "      <td>149.99</td>\n",
              "      <td>150.44</td>\n",
              "      <td>148.88</td>\n",
              "      <td>150.27</td>\n",
              "      <td>26252630</td>\n",
              "    </tr>\n",
              "  </tbody>\n",
              "</table>\n",
              "</div>"
            ],
            "text/plain": [
              "      Open    High     Low   Close    Volume\n",
              "0   144.88  145.30  143.10  143.50  14277848\n",
              "1   143.69  144.79  142.72  144.09  21569557\n",
              "2   143.02  143.50  142.41  142.73  24128782\n",
              "3   142.90  144.75  142.90  144.18  19201712\n",
              "4   144.11  145.95  143.37  145.06  21090636\n",
              "5   144.73  145.85  144.38  145.53  19781836\n",
              "6   145.87  146.18  144.82  145.74  24884478\n",
              "7   145.50  148.49  145.44  147.77  25199373\n",
              "8   147.97  149.33  147.33  149.04  20132061\n",
              "9   148.82  150.90  148.57  149.56  23793456\n",
              "10  149.20  150.13  148.67  150.08  17868792\n",
              "11  150.48  151.42  149.95  151.02  20922969\n",
              "12  151.50  151.74  150.19  150.34  17243748\n",
              "13  149.99  150.44  148.88  150.27  26252630"
            ]
          },
          "metadata": {
            "tags": []
          },
          "execution_count": 31
        }
      ]
    },
    {
      "cell_type": "code",
      "metadata": {
        "colab": {
          "base_uri": "https://localhost:8080/"
        },
        "id": "34TUtNU1Kscf",
        "outputId": "bafd809d-c3c9-474d-ab9f-d13ea70c850c"
      },
      "source": [
        "rng = pd.date_range(start=\"7/1/2017\", end=\"7/21/2017\", freq=\"B\")\n",
        "rng"
      ],
      "execution_count": 32,
      "outputs": [
        {
          "output_type": "execute_result",
          "data": {
            "text/plain": [
              "DatetimeIndex(['2017-07-03', '2017-07-04', '2017-07-05', '2017-07-06',\n",
              "               '2017-07-07', '2017-07-10', '2017-07-11', '2017-07-12',\n",
              "               '2017-07-13', '2017-07-14', '2017-07-17', '2017-07-18',\n",
              "               '2017-07-19', '2017-07-20', '2017-07-21'],\n",
              "              dtype='datetime64[ns]', freq='B')"
            ]
          },
          "metadata": {
            "tags": []
          },
          "execution_count": 32
        }
      ]
    },
    {
      "cell_type": "code",
      "metadata": {
        "id": "Af6ExU0_LKzO"
      },
      "source": [
        "from pandas.tseries.holiday import USFederalHolidayCalendar\n",
        "from pandas.tseries.offsets import CustomBusinessDay"
      ],
      "execution_count": 33,
      "outputs": []
    },
    {
      "cell_type": "code",
      "metadata": {
        "id": "AwbW5X8CL5Wl"
      },
      "source": [
        "us_cal = CustomBusinessDay(calendar=USFederalHolidayCalendar())"
      ],
      "execution_count": 34,
      "outputs": []
    },
    {
      "cell_type": "code",
      "metadata": {
        "colab": {
          "base_uri": "https://localhost:8080/"
        },
        "id": "QHG3dpeqMF01",
        "outputId": "9283c5b7-b848-4f7a-dc67-f010519d879d"
      },
      "source": [
        "rng = pd.date_range(start=\"7/1/2017\", end=\"7/21/2017\", freq=us_cal)\n",
        "rng"
      ],
      "execution_count": 35,
      "outputs": [
        {
          "output_type": "execute_result",
          "data": {
            "text/plain": [
              "DatetimeIndex(['2017-07-03', '2017-07-05', '2017-07-06', '2017-07-07',\n",
              "               '2017-07-10', '2017-07-11', '2017-07-12', '2017-07-13',\n",
              "               '2017-07-14', '2017-07-17', '2017-07-18', '2017-07-19',\n",
              "               '2017-07-20', '2017-07-21'],\n",
              "              dtype='datetime64[ns]', freq='C')"
            ]
          },
          "metadata": {
            "tags": []
          },
          "execution_count": 35
        }
      ]
    },
    {
      "cell_type": "markdown",
      "metadata": {
        "id": "YW-luIwyMrHG"
      },
      "source": [
        "Custom Business days"
      ]
    },
    {
      "cell_type": "code",
      "metadata": {
        "id": "qnvFZa0GMaPY"
      },
      "source": [
        "Qatar_weekdays = \"Sun Mon Tue Wed Thu\"\n",
        "b = CustomBusinessDay(weekmask = Qatar_weekdays)"
      ],
      "execution_count": 36,
      "outputs": []
    },
    {
      "cell_type": "code",
      "metadata": {
        "colab": {
          "base_uri": "https://localhost:8080/"
        },
        "id": "D3avGX61NSk1",
        "outputId": "541a9530-0ed7-4361-8a34-84e218c25463"
      },
      "source": [
        "pd.date_range(start=\"7/1/2017\", periods=20, freq=b)"
      ],
      "execution_count": 37,
      "outputs": [
        {
          "output_type": "execute_result",
          "data": {
            "text/plain": [
              "DatetimeIndex(['2017-07-02', '2017-07-03', '2017-07-04', '2017-07-05',\n",
              "               '2017-07-06', '2017-07-09', '2017-07-10', '2017-07-11',\n",
              "               '2017-07-12', '2017-07-13', '2017-07-16', '2017-07-17',\n",
              "               '2017-07-18', '2017-07-19', '2017-07-20', '2017-07-23',\n",
              "               '2017-07-24', '2017-07-25', '2017-07-26', '2017-07-27'],\n",
              "              dtype='datetime64[ns]', freq='C')"
            ]
          },
          "metadata": {
            "tags": []
          },
          "execution_count": 37
        }
      ]
    },
    {
      "cell_type": "code",
      "metadata": {
        "id": "kGmAoFIpNinP"
      },
      "source": [
        "b = CustomBusinessDay(weekmask = Qatar_weekdays, holidays)"
      ],
      "execution_count": null,
      "outputs": []
    },
    {
      "cell_type": "markdown",
      "metadata": {
        "id": "WVFyUgAiOTPl"
      },
      "source": [
        "Std datetime"
      ]
    },
    {
      "cell_type": "code",
      "metadata": {
        "colab": {
          "base_uri": "https://localhost:8080/"
        },
        "id": "Rb-1Y0yAOVq_",
        "outputId": "edd9f588-bd17-4064-932a-1cb91aed5882"
      },
      "source": [
        "dates = ['2017-01-05',\"Jan 5, 2017\",\"01/05/2017\",\"2017.01.05\",\"20170105\"]\n",
        "pd.to_datetime(dates)"
      ],
      "execution_count": 40,
      "outputs": [
        {
          "output_type": "execute_result",
          "data": {
            "text/plain": [
              "DatetimeIndex(['2017-01-05', '2017-01-05', '2017-01-05', '2017-01-05',\n",
              "               '2017-01-05'],\n",
              "              dtype='datetime64[ns]', freq=None)"
            ]
          },
          "metadata": {
            "tags": []
          },
          "execution_count": 40
        }
      ]
    },
    {
      "cell_type": "code",
      "metadata": {
        "colab": {
          "base_uri": "https://localhost:8080/"
        },
        "id": "rzCMmQ_MO3Mh",
        "outputId": "64fbc157-3125-42d7-cb6d-75167345d87b"
      },
      "source": [
        "dt = ['2017-01-05 2:30:00 PM', 'Jan 5, 2017 14:30:00', '01/05/2016', '2017.01.05', '2017/01/05','20170105']\n",
        "pd.to_datetime(dt)"
      ],
      "execution_count": 41,
      "outputs": [
        {
          "output_type": "execute_result",
          "data": {
            "text/plain": [
              "DatetimeIndex(['2017-01-05 14:30:00', '2017-01-05 14:30:00',\n",
              "               '2016-01-05 00:00:00', '2017-01-05 00:00:00',\n",
              "               '2017-01-05 00:00:00', '2017-01-05 00:00:00'],\n",
              "              dtype='datetime64[ns]', freq=None)"
            ]
          },
          "metadata": {
            "tags": []
          },
          "execution_count": 41
        }
      ]
    },
    {
      "cell_type": "code",
      "metadata": {
        "colab": {
          "base_uri": "https://localhost:8080/",
          "height": 258
        },
        "id": "VlDqxquSPatm",
        "outputId": "67f95b12-83b0-4e40-aca9-45c8ebb41723"
      },
      "source": [
        "df = pd.read_csv(\"msft.csv\", header=1, index_col='Date Time', parse_dates=True)\n",
        "df"
      ],
      "execution_count": 47,
      "outputs": [
        {
          "output_type": "execute_result",
          "data": {
            "text/html": [
              "<div>\n",
              "<style scoped>\n",
              "    .dataframe tbody tr th:only-of-type {\n",
              "        vertical-align: middle;\n",
              "    }\n",
              "\n",
              "    .dataframe tbody tr th {\n",
              "        vertical-align: top;\n",
              "    }\n",
              "\n",
              "    .dataframe thead th {\n",
              "        text-align: right;\n",
              "    }\n",
              "</style>\n",
              "<table border=\"1\" class=\"dataframe\">\n",
              "  <thead>\n",
              "    <tr style=\"text-align: right;\">\n",
              "      <th></th>\n",
              "      <th>Price</th>\n",
              "    </tr>\n",
              "    <tr>\n",
              "      <th>Date Time</th>\n",
              "      <th></th>\n",
              "    </tr>\n",
              "  </thead>\n",
              "  <tbody>\n",
              "    <tr>\n",
              "      <th>2017-08-17 09:00:00</th>\n",
              "      <td>72.38</td>\n",
              "    </tr>\n",
              "    <tr>\n",
              "      <th>2017-08-17 09:15:00</th>\n",
              "      <td>71.00</td>\n",
              "    </tr>\n",
              "    <tr>\n",
              "      <th>2017-08-17 09:30:00</th>\n",
              "      <td>71.67</td>\n",
              "    </tr>\n",
              "    <tr>\n",
              "      <th>2017-08-17 10:00:00</th>\n",
              "      <td>72.80</td>\n",
              "    </tr>\n",
              "    <tr>\n",
              "      <th>2017-08-17 10:30:00</th>\n",
              "      <td>73.00</td>\n",
              "    </tr>\n",
              "    <tr>\n",
              "      <th>2017-08-17 11:00:00</th>\n",
              "      <td>72.50</td>\n",
              "    </tr>\n",
              "  </tbody>\n",
              "</table>\n",
              "</div>"
            ],
            "text/plain": [
              "                     Price\n",
              "Date Time                 \n",
              "2017-08-17 09:00:00  72.38\n",
              "2017-08-17 09:15:00  71.00\n",
              "2017-08-17 09:30:00  71.67\n",
              "2017-08-17 10:00:00  72.80\n",
              "2017-08-17 10:30:00  73.00\n",
              "2017-08-17 11:00:00  72.50"
            ]
          },
          "metadata": {
            "tags": []
          },
          "execution_count": 47
        }
      ]
    },
    {
      "cell_type": "code",
      "metadata": {
        "colab": {
          "base_uri": "https://localhost:8080/"
        },
        "id": "czf9Fz11RegM",
        "outputId": "fcc57f83-f05f-4765-c5da-0e07829f2040"
      },
      "source": [
        "df.info()"
      ],
      "execution_count": 48,
      "outputs": [
        {
          "output_type": "stream",
          "text": [
            "<class 'pandas.core.frame.DataFrame'>\n",
            "DatetimeIndex: 6 entries, 2017-08-17 09:00:00 to 2017-08-17 11:00:00\n",
            "Data columns (total 1 columns):\n",
            " #   Column  Non-Null Count  Dtype  \n",
            "---  ------  --------------  -----  \n",
            " 0   Price   6 non-null      float64\n",
            "dtypes: float64(1)\n",
            "memory usage: 96.0 bytes\n"
          ],
          "name": "stdout"
        }
      ]
    },
    {
      "cell_type": "code",
      "metadata": {
        "colab": {
          "base_uri": "https://localhost:8080/",
          "height": 258
        },
        "id": "2Q3NI-nNRrrf",
        "outputId": "0673d903-e811-455f-cbab-4777ccfc15a3"
      },
      "source": [
        "df"
      ],
      "execution_count": 49,
      "outputs": [
        {
          "output_type": "execute_result",
          "data": {
            "text/html": [
              "<div>\n",
              "<style scoped>\n",
              "    .dataframe tbody tr th:only-of-type {\n",
              "        vertical-align: middle;\n",
              "    }\n",
              "\n",
              "    .dataframe tbody tr th {\n",
              "        vertical-align: top;\n",
              "    }\n",
              "\n",
              "    .dataframe thead th {\n",
              "        text-align: right;\n",
              "    }\n",
              "</style>\n",
              "<table border=\"1\" class=\"dataframe\">\n",
              "  <thead>\n",
              "    <tr style=\"text-align: right;\">\n",
              "      <th></th>\n",
              "      <th>Price</th>\n",
              "    </tr>\n",
              "    <tr>\n",
              "      <th>Date Time</th>\n",
              "      <th></th>\n",
              "    </tr>\n",
              "  </thead>\n",
              "  <tbody>\n",
              "    <tr>\n",
              "      <th>2017-08-17 09:00:00</th>\n",
              "      <td>72.38</td>\n",
              "    </tr>\n",
              "    <tr>\n",
              "      <th>2017-08-17 09:15:00</th>\n",
              "      <td>71.00</td>\n",
              "    </tr>\n",
              "    <tr>\n",
              "      <th>2017-08-17 09:30:00</th>\n",
              "      <td>71.67</td>\n",
              "    </tr>\n",
              "    <tr>\n",
              "      <th>2017-08-17 10:00:00</th>\n",
              "      <td>72.80</td>\n",
              "    </tr>\n",
              "    <tr>\n",
              "      <th>2017-08-17 10:30:00</th>\n",
              "      <td>73.00</td>\n",
              "    </tr>\n",
              "    <tr>\n",
              "      <th>2017-08-17 11:00:00</th>\n",
              "      <td>72.50</td>\n",
              "    </tr>\n",
              "  </tbody>\n",
              "</table>\n",
              "</div>"
            ],
            "text/plain": [
              "                     Price\n",
              "Date Time                 \n",
              "2017-08-17 09:00:00  72.38\n",
              "2017-08-17 09:15:00  71.00\n",
              "2017-08-17 09:30:00  71.67\n",
              "2017-08-17 10:00:00  72.80\n",
              "2017-08-17 10:30:00  73.00\n",
              "2017-08-17 11:00:00  72.50"
            ]
          },
          "metadata": {
            "tags": []
          },
          "execution_count": 49
        }
      ]
    },
    {
      "cell_type": "code",
      "metadata": {
        "colab": {
          "base_uri": "https://localhost:8080/",
          "height": 258
        },
        "id": "xw1ADRKRSKdc",
        "outputId": "2c334f52-1449-4eea-b145-ef81bcb9c3ca"
      },
      "source": [
        "df.tz_localize(tz='US/Eastern')\n",
        "df"
      ],
      "execution_count": 50,
      "outputs": [
        {
          "output_type": "execute_result",
          "data": {
            "text/html": [
              "<div>\n",
              "<style scoped>\n",
              "    .dataframe tbody tr th:only-of-type {\n",
              "        vertical-align: middle;\n",
              "    }\n",
              "\n",
              "    .dataframe tbody tr th {\n",
              "        vertical-align: top;\n",
              "    }\n",
              "\n",
              "    .dataframe thead th {\n",
              "        text-align: right;\n",
              "    }\n",
              "</style>\n",
              "<table border=\"1\" class=\"dataframe\">\n",
              "  <thead>\n",
              "    <tr style=\"text-align: right;\">\n",
              "      <th></th>\n",
              "      <th>Price</th>\n",
              "    </tr>\n",
              "    <tr>\n",
              "      <th>Date Time</th>\n",
              "      <th></th>\n",
              "    </tr>\n",
              "  </thead>\n",
              "  <tbody>\n",
              "    <tr>\n",
              "      <th>2017-08-17 09:00:00</th>\n",
              "      <td>72.38</td>\n",
              "    </tr>\n",
              "    <tr>\n",
              "      <th>2017-08-17 09:15:00</th>\n",
              "      <td>71.00</td>\n",
              "    </tr>\n",
              "    <tr>\n",
              "      <th>2017-08-17 09:30:00</th>\n",
              "      <td>71.67</td>\n",
              "    </tr>\n",
              "    <tr>\n",
              "      <th>2017-08-17 10:00:00</th>\n",
              "      <td>72.80</td>\n",
              "    </tr>\n",
              "    <tr>\n",
              "      <th>2017-08-17 10:30:00</th>\n",
              "      <td>73.00</td>\n",
              "    </tr>\n",
              "    <tr>\n",
              "      <th>2017-08-17 11:00:00</th>\n",
              "      <td>72.50</td>\n",
              "    </tr>\n",
              "  </tbody>\n",
              "</table>\n",
              "</div>"
            ],
            "text/plain": [
              "                     Price\n",
              "Date Time                 \n",
              "2017-08-17 09:00:00  72.38\n",
              "2017-08-17 09:15:00  71.00\n",
              "2017-08-17 09:30:00  71.67\n",
              "2017-08-17 10:00:00  72.80\n",
              "2017-08-17 10:30:00  73.00\n",
              "2017-08-17 11:00:00  72.50"
            ]
          },
          "metadata": {
            "tags": []
          },
          "execution_count": 50
        }
      ]
    },
    {
      "cell_type": "code",
      "metadata": {
        "colab": {
          "base_uri": "https://localhost:8080/"
        },
        "id": "e6PerV42SaO-",
        "outputId": "01685afb-ffa2-41b1-aae0-20ea52d9b002"
      },
      "source": [
        "df.index = df.index.tz_localize(tz=\"US/Eastern\")\n",
        "df.index"
      ],
      "execution_count": 51,
      "outputs": [
        {
          "output_type": "execute_result",
          "data": {
            "text/plain": [
              "DatetimeIndex(['2017-08-17 09:00:00-04:00', '2017-08-17 09:15:00-04:00',\n",
              "               '2017-08-17 09:30:00-04:00', '2017-08-17 10:00:00-04:00',\n",
              "               '2017-08-17 10:30:00-04:00', '2017-08-17 11:00:00-04:00'],\n",
              "              dtype='datetime64[ns, US/Eastern]', name='Date Time', freq=None)"
            ]
          },
          "metadata": {
            "tags": []
          },
          "execution_count": 51
        }
      ]
    },
    {
      "cell_type": "code",
      "metadata": {
        "colab": {
          "base_uri": "https://localhost:8080/",
          "height": 258
        },
        "id": "Se6THC56Sp4S",
        "outputId": "c04c7ccc-0c3d-4af5-b2a5-e1ee07055724"
      },
      "source": [
        "df"
      ],
      "execution_count": 52,
      "outputs": [
        {
          "output_type": "execute_result",
          "data": {
            "text/html": [
              "<div>\n",
              "<style scoped>\n",
              "    .dataframe tbody tr th:only-of-type {\n",
              "        vertical-align: middle;\n",
              "    }\n",
              "\n",
              "    .dataframe tbody tr th {\n",
              "        vertical-align: top;\n",
              "    }\n",
              "\n",
              "    .dataframe thead th {\n",
              "        text-align: right;\n",
              "    }\n",
              "</style>\n",
              "<table border=\"1\" class=\"dataframe\">\n",
              "  <thead>\n",
              "    <tr style=\"text-align: right;\">\n",
              "      <th></th>\n",
              "      <th>Price</th>\n",
              "    </tr>\n",
              "    <tr>\n",
              "      <th>Date Time</th>\n",
              "      <th></th>\n",
              "    </tr>\n",
              "  </thead>\n",
              "  <tbody>\n",
              "    <tr>\n",
              "      <th>2017-08-17 09:00:00-04:00</th>\n",
              "      <td>72.38</td>\n",
              "    </tr>\n",
              "    <tr>\n",
              "      <th>2017-08-17 09:15:00-04:00</th>\n",
              "      <td>71.00</td>\n",
              "    </tr>\n",
              "    <tr>\n",
              "      <th>2017-08-17 09:30:00-04:00</th>\n",
              "      <td>71.67</td>\n",
              "    </tr>\n",
              "    <tr>\n",
              "      <th>2017-08-17 10:00:00-04:00</th>\n",
              "      <td>72.80</td>\n",
              "    </tr>\n",
              "    <tr>\n",
              "      <th>2017-08-17 10:30:00-04:00</th>\n",
              "      <td>73.00</td>\n",
              "    </tr>\n",
              "    <tr>\n",
              "      <th>2017-08-17 11:00:00-04:00</th>\n",
              "      <td>72.50</td>\n",
              "    </tr>\n",
              "  </tbody>\n",
              "</table>\n",
              "</div>"
            ],
            "text/plain": [
              "                           Price\n",
              "Date Time                       \n",
              "2017-08-17 09:00:00-04:00  72.38\n",
              "2017-08-17 09:15:00-04:00  71.00\n",
              "2017-08-17 09:30:00-04:00  71.67\n",
              "2017-08-17 10:00:00-04:00  72.80\n",
              "2017-08-17 10:30:00-04:00  73.00\n",
              "2017-08-17 11:00:00-04:00  72.50"
            ]
          },
          "metadata": {
            "tags": []
          },
          "execution_count": 52
        }
      ]
    },
    {
      "cell_type": "code",
      "metadata": {
        "colab": {
          "base_uri": "https://localhost:8080/",
          "height": 258
        },
        "id": "TQP5sAP6SsHJ",
        "outputId": "f34c4bcc-d182-4061-a698-502e93a52302"
      },
      "source": [
        "df = df.tz_convert(\"Europe/Berlin\")\n",
        "df"
      ],
      "execution_count": 53,
      "outputs": [
        {
          "output_type": "execute_result",
          "data": {
            "text/html": [
              "<div>\n",
              "<style scoped>\n",
              "    .dataframe tbody tr th:only-of-type {\n",
              "        vertical-align: middle;\n",
              "    }\n",
              "\n",
              "    .dataframe tbody tr th {\n",
              "        vertical-align: top;\n",
              "    }\n",
              "\n",
              "    .dataframe thead th {\n",
              "        text-align: right;\n",
              "    }\n",
              "</style>\n",
              "<table border=\"1\" class=\"dataframe\">\n",
              "  <thead>\n",
              "    <tr style=\"text-align: right;\">\n",
              "      <th></th>\n",
              "      <th>Price</th>\n",
              "    </tr>\n",
              "    <tr>\n",
              "      <th>Date Time</th>\n",
              "      <th></th>\n",
              "    </tr>\n",
              "  </thead>\n",
              "  <tbody>\n",
              "    <tr>\n",
              "      <th>2017-08-17 15:00:00+02:00</th>\n",
              "      <td>72.38</td>\n",
              "    </tr>\n",
              "    <tr>\n",
              "      <th>2017-08-17 15:15:00+02:00</th>\n",
              "      <td>71.00</td>\n",
              "    </tr>\n",
              "    <tr>\n",
              "      <th>2017-08-17 15:30:00+02:00</th>\n",
              "      <td>71.67</td>\n",
              "    </tr>\n",
              "    <tr>\n",
              "      <th>2017-08-17 16:00:00+02:00</th>\n",
              "      <td>72.80</td>\n",
              "    </tr>\n",
              "    <tr>\n",
              "      <th>2017-08-17 16:30:00+02:00</th>\n",
              "      <td>73.00</td>\n",
              "    </tr>\n",
              "    <tr>\n",
              "      <th>2017-08-17 17:00:00+02:00</th>\n",
              "      <td>72.50</td>\n",
              "    </tr>\n",
              "  </tbody>\n",
              "</table>\n",
              "</div>"
            ],
            "text/plain": [
              "                           Price\n",
              "Date Time                       \n",
              "2017-08-17 15:00:00+02:00  72.38\n",
              "2017-08-17 15:15:00+02:00  71.00\n",
              "2017-08-17 15:30:00+02:00  71.67\n",
              "2017-08-17 16:00:00+02:00  72.80\n",
              "2017-08-17 16:30:00+02:00  73.00\n",
              "2017-08-17 17:00:00+02:00  72.50"
            ]
          },
          "metadata": {
            "tags": []
          },
          "execution_count": 53
        }
      ]
    },
    {
      "cell_type": "code",
      "metadata": {
        "id": "XeodzXofTDQg"
      },
      "source": [
        "from pytz import all_timezones"
      ],
      "execution_count": 54,
      "outputs": []
    },
    {
      "cell_type": "code",
      "metadata": {
        "colab": {
          "base_uri": "https://localhost:8080/"
        },
        "id": "mmfRNuAYTTmr",
        "outputId": "38e4f575-d419-485a-e5de-8b44ee26bd83"
      },
      "source": [
        "all_timezones"
      ],
      "execution_count": 55,
      "outputs": [
        {
          "output_type": "execute_result",
          "data": {
            "text/plain": [
              "['Africa/Abidjan',\n",
              " 'Africa/Accra',\n",
              " 'Africa/Addis_Ababa',\n",
              " 'Africa/Algiers',\n",
              " 'Africa/Asmara',\n",
              " 'Africa/Asmera',\n",
              " 'Africa/Bamako',\n",
              " 'Africa/Bangui',\n",
              " 'Africa/Banjul',\n",
              " 'Africa/Bissau',\n",
              " 'Africa/Blantyre',\n",
              " 'Africa/Brazzaville',\n",
              " 'Africa/Bujumbura',\n",
              " 'Africa/Cairo',\n",
              " 'Africa/Casablanca',\n",
              " 'Africa/Ceuta',\n",
              " 'Africa/Conakry',\n",
              " 'Africa/Dakar',\n",
              " 'Africa/Dar_es_Salaam',\n",
              " 'Africa/Djibouti',\n",
              " 'Africa/Douala',\n",
              " 'Africa/El_Aaiun',\n",
              " 'Africa/Freetown',\n",
              " 'Africa/Gaborone',\n",
              " 'Africa/Harare',\n",
              " 'Africa/Johannesburg',\n",
              " 'Africa/Juba',\n",
              " 'Africa/Kampala',\n",
              " 'Africa/Khartoum',\n",
              " 'Africa/Kigali',\n",
              " 'Africa/Kinshasa',\n",
              " 'Africa/Lagos',\n",
              " 'Africa/Libreville',\n",
              " 'Africa/Lome',\n",
              " 'Africa/Luanda',\n",
              " 'Africa/Lubumbashi',\n",
              " 'Africa/Lusaka',\n",
              " 'Africa/Malabo',\n",
              " 'Africa/Maputo',\n",
              " 'Africa/Maseru',\n",
              " 'Africa/Mbabane',\n",
              " 'Africa/Mogadishu',\n",
              " 'Africa/Monrovia',\n",
              " 'Africa/Nairobi',\n",
              " 'Africa/Ndjamena',\n",
              " 'Africa/Niamey',\n",
              " 'Africa/Nouakchott',\n",
              " 'Africa/Ouagadougou',\n",
              " 'Africa/Porto-Novo',\n",
              " 'Africa/Sao_Tome',\n",
              " 'Africa/Timbuktu',\n",
              " 'Africa/Tripoli',\n",
              " 'Africa/Tunis',\n",
              " 'Africa/Windhoek',\n",
              " 'America/Adak',\n",
              " 'America/Anchorage',\n",
              " 'America/Anguilla',\n",
              " 'America/Antigua',\n",
              " 'America/Araguaina',\n",
              " 'America/Argentina/Buenos_Aires',\n",
              " 'America/Argentina/Catamarca',\n",
              " 'America/Argentina/ComodRivadavia',\n",
              " 'America/Argentina/Cordoba',\n",
              " 'America/Argentina/Jujuy',\n",
              " 'America/Argentina/La_Rioja',\n",
              " 'America/Argentina/Mendoza',\n",
              " 'America/Argentina/Rio_Gallegos',\n",
              " 'America/Argentina/Salta',\n",
              " 'America/Argentina/San_Juan',\n",
              " 'America/Argentina/San_Luis',\n",
              " 'America/Argentina/Tucuman',\n",
              " 'America/Argentina/Ushuaia',\n",
              " 'America/Aruba',\n",
              " 'America/Asuncion',\n",
              " 'America/Atikokan',\n",
              " 'America/Atka',\n",
              " 'America/Bahia',\n",
              " 'America/Bahia_Banderas',\n",
              " 'America/Barbados',\n",
              " 'America/Belem',\n",
              " 'America/Belize',\n",
              " 'America/Blanc-Sablon',\n",
              " 'America/Boa_Vista',\n",
              " 'America/Bogota',\n",
              " 'America/Boise',\n",
              " 'America/Buenos_Aires',\n",
              " 'America/Cambridge_Bay',\n",
              " 'America/Campo_Grande',\n",
              " 'America/Cancun',\n",
              " 'America/Caracas',\n",
              " 'America/Catamarca',\n",
              " 'America/Cayenne',\n",
              " 'America/Cayman',\n",
              " 'America/Chicago',\n",
              " 'America/Chihuahua',\n",
              " 'America/Coral_Harbour',\n",
              " 'America/Cordoba',\n",
              " 'America/Costa_Rica',\n",
              " 'America/Creston',\n",
              " 'America/Cuiaba',\n",
              " 'America/Curacao',\n",
              " 'America/Danmarkshavn',\n",
              " 'America/Dawson',\n",
              " 'America/Dawson_Creek',\n",
              " 'America/Denver',\n",
              " 'America/Detroit',\n",
              " 'America/Dominica',\n",
              " 'America/Edmonton',\n",
              " 'America/Eirunepe',\n",
              " 'America/El_Salvador',\n",
              " 'America/Ensenada',\n",
              " 'America/Fort_Nelson',\n",
              " 'America/Fort_Wayne',\n",
              " 'America/Fortaleza',\n",
              " 'America/Glace_Bay',\n",
              " 'America/Godthab',\n",
              " 'America/Goose_Bay',\n",
              " 'America/Grand_Turk',\n",
              " 'America/Grenada',\n",
              " 'America/Guadeloupe',\n",
              " 'America/Guatemala',\n",
              " 'America/Guayaquil',\n",
              " 'America/Guyana',\n",
              " 'America/Halifax',\n",
              " 'America/Havana',\n",
              " 'America/Hermosillo',\n",
              " 'America/Indiana/Indianapolis',\n",
              " 'America/Indiana/Knox',\n",
              " 'America/Indiana/Marengo',\n",
              " 'America/Indiana/Petersburg',\n",
              " 'America/Indiana/Tell_City',\n",
              " 'America/Indiana/Vevay',\n",
              " 'America/Indiana/Vincennes',\n",
              " 'America/Indiana/Winamac',\n",
              " 'America/Indianapolis',\n",
              " 'America/Inuvik',\n",
              " 'America/Iqaluit',\n",
              " 'America/Jamaica',\n",
              " 'America/Jujuy',\n",
              " 'America/Juneau',\n",
              " 'America/Kentucky/Louisville',\n",
              " 'America/Kentucky/Monticello',\n",
              " 'America/Knox_IN',\n",
              " 'America/Kralendijk',\n",
              " 'America/La_Paz',\n",
              " 'America/Lima',\n",
              " 'America/Los_Angeles',\n",
              " 'America/Louisville',\n",
              " 'America/Lower_Princes',\n",
              " 'America/Maceio',\n",
              " 'America/Managua',\n",
              " 'America/Manaus',\n",
              " 'America/Marigot',\n",
              " 'America/Martinique',\n",
              " 'America/Matamoros',\n",
              " 'America/Mazatlan',\n",
              " 'America/Mendoza',\n",
              " 'America/Menominee',\n",
              " 'America/Merida',\n",
              " 'America/Metlakatla',\n",
              " 'America/Mexico_City',\n",
              " 'America/Miquelon',\n",
              " 'America/Moncton',\n",
              " 'America/Monterrey',\n",
              " 'America/Montevideo',\n",
              " 'America/Montreal',\n",
              " 'America/Montserrat',\n",
              " 'America/Nassau',\n",
              " 'America/New_York',\n",
              " 'America/Nipigon',\n",
              " 'America/Nome',\n",
              " 'America/Noronha',\n",
              " 'America/North_Dakota/Beulah',\n",
              " 'America/North_Dakota/Center',\n",
              " 'America/North_Dakota/New_Salem',\n",
              " 'America/Ojinaga',\n",
              " 'America/Panama',\n",
              " 'America/Pangnirtung',\n",
              " 'America/Paramaribo',\n",
              " 'America/Phoenix',\n",
              " 'America/Port-au-Prince',\n",
              " 'America/Port_of_Spain',\n",
              " 'America/Porto_Acre',\n",
              " 'America/Porto_Velho',\n",
              " 'America/Puerto_Rico',\n",
              " 'America/Punta_Arenas',\n",
              " 'America/Rainy_River',\n",
              " 'America/Rankin_Inlet',\n",
              " 'America/Recife',\n",
              " 'America/Regina',\n",
              " 'America/Resolute',\n",
              " 'America/Rio_Branco',\n",
              " 'America/Rosario',\n",
              " 'America/Santa_Isabel',\n",
              " 'America/Santarem',\n",
              " 'America/Santiago',\n",
              " 'America/Santo_Domingo',\n",
              " 'America/Sao_Paulo',\n",
              " 'America/Scoresbysund',\n",
              " 'America/Shiprock',\n",
              " 'America/Sitka',\n",
              " 'America/St_Barthelemy',\n",
              " 'America/St_Johns',\n",
              " 'America/St_Kitts',\n",
              " 'America/St_Lucia',\n",
              " 'America/St_Thomas',\n",
              " 'America/St_Vincent',\n",
              " 'America/Swift_Current',\n",
              " 'America/Tegucigalpa',\n",
              " 'America/Thule',\n",
              " 'America/Thunder_Bay',\n",
              " 'America/Tijuana',\n",
              " 'America/Toronto',\n",
              " 'America/Tortola',\n",
              " 'America/Vancouver',\n",
              " 'America/Virgin',\n",
              " 'America/Whitehorse',\n",
              " 'America/Winnipeg',\n",
              " 'America/Yakutat',\n",
              " 'America/Yellowknife',\n",
              " 'Antarctica/Casey',\n",
              " 'Antarctica/Davis',\n",
              " 'Antarctica/DumontDUrville',\n",
              " 'Antarctica/Macquarie',\n",
              " 'Antarctica/Mawson',\n",
              " 'Antarctica/McMurdo',\n",
              " 'Antarctica/Palmer',\n",
              " 'Antarctica/Rothera',\n",
              " 'Antarctica/South_Pole',\n",
              " 'Antarctica/Syowa',\n",
              " 'Antarctica/Troll',\n",
              " 'Antarctica/Vostok',\n",
              " 'Arctic/Longyearbyen',\n",
              " 'Asia/Aden',\n",
              " 'Asia/Almaty',\n",
              " 'Asia/Amman',\n",
              " 'Asia/Anadyr',\n",
              " 'Asia/Aqtau',\n",
              " 'Asia/Aqtobe',\n",
              " 'Asia/Ashgabat',\n",
              " 'Asia/Ashkhabad',\n",
              " 'Asia/Atyrau',\n",
              " 'Asia/Baghdad',\n",
              " 'Asia/Bahrain',\n",
              " 'Asia/Baku',\n",
              " 'Asia/Bangkok',\n",
              " 'Asia/Barnaul',\n",
              " 'Asia/Beirut',\n",
              " 'Asia/Bishkek',\n",
              " 'Asia/Brunei',\n",
              " 'Asia/Calcutta',\n",
              " 'Asia/Chita',\n",
              " 'Asia/Choibalsan',\n",
              " 'Asia/Chongqing',\n",
              " 'Asia/Chungking',\n",
              " 'Asia/Colombo',\n",
              " 'Asia/Dacca',\n",
              " 'Asia/Damascus',\n",
              " 'Asia/Dhaka',\n",
              " 'Asia/Dili',\n",
              " 'Asia/Dubai',\n",
              " 'Asia/Dushanbe',\n",
              " 'Asia/Famagusta',\n",
              " 'Asia/Gaza',\n",
              " 'Asia/Harbin',\n",
              " 'Asia/Hebron',\n",
              " 'Asia/Ho_Chi_Minh',\n",
              " 'Asia/Hong_Kong',\n",
              " 'Asia/Hovd',\n",
              " 'Asia/Irkutsk',\n",
              " 'Asia/Istanbul',\n",
              " 'Asia/Jakarta',\n",
              " 'Asia/Jayapura',\n",
              " 'Asia/Jerusalem',\n",
              " 'Asia/Kabul',\n",
              " 'Asia/Kamchatka',\n",
              " 'Asia/Karachi',\n",
              " 'Asia/Kashgar',\n",
              " 'Asia/Kathmandu',\n",
              " 'Asia/Katmandu',\n",
              " 'Asia/Khandyga',\n",
              " 'Asia/Kolkata',\n",
              " 'Asia/Krasnoyarsk',\n",
              " 'Asia/Kuala_Lumpur',\n",
              " 'Asia/Kuching',\n",
              " 'Asia/Kuwait',\n",
              " 'Asia/Macao',\n",
              " 'Asia/Macau',\n",
              " 'Asia/Magadan',\n",
              " 'Asia/Makassar',\n",
              " 'Asia/Manila',\n",
              " 'Asia/Muscat',\n",
              " 'Asia/Nicosia',\n",
              " 'Asia/Novokuznetsk',\n",
              " 'Asia/Novosibirsk',\n",
              " 'Asia/Omsk',\n",
              " 'Asia/Oral',\n",
              " 'Asia/Phnom_Penh',\n",
              " 'Asia/Pontianak',\n",
              " 'Asia/Pyongyang',\n",
              " 'Asia/Qatar',\n",
              " 'Asia/Qostanay',\n",
              " 'Asia/Qyzylorda',\n",
              " 'Asia/Rangoon',\n",
              " 'Asia/Riyadh',\n",
              " 'Asia/Saigon',\n",
              " 'Asia/Sakhalin',\n",
              " 'Asia/Samarkand',\n",
              " 'Asia/Seoul',\n",
              " 'Asia/Shanghai',\n",
              " 'Asia/Singapore',\n",
              " 'Asia/Srednekolymsk',\n",
              " 'Asia/Taipei',\n",
              " 'Asia/Tashkent',\n",
              " 'Asia/Tbilisi',\n",
              " 'Asia/Tehran',\n",
              " 'Asia/Tel_Aviv',\n",
              " 'Asia/Thimbu',\n",
              " 'Asia/Thimphu',\n",
              " 'Asia/Tokyo',\n",
              " 'Asia/Tomsk',\n",
              " 'Asia/Ujung_Pandang',\n",
              " 'Asia/Ulaanbaatar',\n",
              " 'Asia/Ulan_Bator',\n",
              " 'Asia/Urumqi',\n",
              " 'Asia/Ust-Nera',\n",
              " 'Asia/Vientiane',\n",
              " 'Asia/Vladivostok',\n",
              " 'Asia/Yakutsk',\n",
              " 'Asia/Yangon',\n",
              " 'Asia/Yekaterinburg',\n",
              " 'Asia/Yerevan',\n",
              " 'Atlantic/Azores',\n",
              " 'Atlantic/Bermuda',\n",
              " 'Atlantic/Canary',\n",
              " 'Atlantic/Cape_Verde',\n",
              " 'Atlantic/Faeroe',\n",
              " 'Atlantic/Faroe',\n",
              " 'Atlantic/Jan_Mayen',\n",
              " 'Atlantic/Madeira',\n",
              " 'Atlantic/Reykjavik',\n",
              " 'Atlantic/South_Georgia',\n",
              " 'Atlantic/St_Helena',\n",
              " 'Atlantic/Stanley',\n",
              " 'Australia/ACT',\n",
              " 'Australia/Adelaide',\n",
              " 'Australia/Brisbane',\n",
              " 'Australia/Broken_Hill',\n",
              " 'Australia/Canberra',\n",
              " 'Australia/Currie',\n",
              " 'Australia/Darwin',\n",
              " 'Australia/Eucla',\n",
              " 'Australia/Hobart',\n",
              " 'Australia/LHI',\n",
              " 'Australia/Lindeman',\n",
              " 'Australia/Lord_Howe',\n",
              " 'Australia/Melbourne',\n",
              " 'Australia/NSW',\n",
              " 'Australia/North',\n",
              " 'Australia/Perth',\n",
              " 'Australia/Queensland',\n",
              " 'Australia/South',\n",
              " 'Australia/Sydney',\n",
              " 'Australia/Tasmania',\n",
              " 'Australia/Victoria',\n",
              " 'Australia/West',\n",
              " 'Australia/Yancowinna',\n",
              " 'Brazil/Acre',\n",
              " 'Brazil/DeNoronha',\n",
              " 'Brazil/East',\n",
              " 'Brazil/West',\n",
              " 'CET',\n",
              " 'CST6CDT',\n",
              " 'Canada/Atlantic',\n",
              " 'Canada/Central',\n",
              " 'Canada/Eastern',\n",
              " 'Canada/Mountain',\n",
              " 'Canada/Newfoundland',\n",
              " 'Canada/Pacific',\n",
              " 'Canada/Saskatchewan',\n",
              " 'Canada/Yukon',\n",
              " 'Chile/Continental',\n",
              " 'Chile/EasterIsland',\n",
              " 'Cuba',\n",
              " 'EET',\n",
              " 'EST',\n",
              " 'EST5EDT',\n",
              " 'Egypt',\n",
              " 'Eire',\n",
              " 'Etc/GMT',\n",
              " 'Etc/GMT+0',\n",
              " 'Etc/GMT+1',\n",
              " 'Etc/GMT+10',\n",
              " 'Etc/GMT+11',\n",
              " 'Etc/GMT+12',\n",
              " 'Etc/GMT+2',\n",
              " 'Etc/GMT+3',\n",
              " 'Etc/GMT+4',\n",
              " 'Etc/GMT+5',\n",
              " 'Etc/GMT+6',\n",
              " 'Etc/GMT+7',\n",
              " 'Etc/GMT+8',\n",
              " 'Etc/GMT+9',\n",
              " 'Etc/GMT-0',\n",
              " 'Etc/GMT-1',\n",
              " 'Etc/GMT-10',\n",
              " 'Etc/GMT-11',\n",
              " 'Etc/GMT-12',\n",
              " 'Etc/GMT-13',\n",
              " 'Etc/GMT-14',\n",
              " 'Etc/GMT-2',\n",
              " 'Etc/GMT-3',\n",
              " 'Etc/GMT-4',\n",
              " 'Etc/GMT-5',\n",
              " 'Etc/GMT-6',\n",
              " 'Etc/GMT-7',\n",
              " 'Etc/GMT-8',\n",
              " 'Etc/GMT-9',\n",
              " 'Etc/GMT0',\n",
              " 'Etc/Greenwich',\n",
              " 'Etc/UCT',\n",
              " 'Etc/UTC',\n",
              " 'Etc/Universal',\n",
              " 'Etc/Zulu',\n",
              " 'Europe/Amsterdam',\n",
              " 'Europe/Andorra',\n",
              " 'Europe/Astrakhan',\n",
              " 'Europe/Athens',\n",
              " 'Europe/Belfast',\n",
              " 'Europe/Belgrade',\n",
              " 'Europe/Berlin',\n",
              " 'Europe/Bratislava',\n",
              " 'Europe/Brussels',\n",
              " 'Europe/Bucharest',\n",
              " 'Europe/Budapest',\n",
              " 'Europe/Busingen',\n",
              " 'Europe/Chisinau',\n",
              " 'Europe/Copenhagen',\n",
              " 'Europe/Dublin',\n",
              " 'Europe/Gibraltar',\n",
              " 'Europe/Guernsey',\n",
              " 'Europe/Helsinki',\n",
              " 'Europe/Isle_of_Man',\n",
              " 'Europe/Istanbul',\n",
              " 'Europe/Jersey',\n",
              " 'Europe/Kaliningrad',\n",
              " 'Europe/Kiev',\n",
              " 'Europe/Kirov',\n",
              " 'Europe/Lisbon',\n",
              " 'Europe/Ljubljana',\n",
              " 'Europe/London',\n",
              " 'Europe/Luxembourg',\n",
              " 'Europe/Madrid',\n",
              " 'Europe/Malta',\n",
              " 'Europe/Mariehamn',\n",
              " 'Europe/Minsk',\n",
              " 'Europe/Monaco',\n",
              " 'Europe/Moscow',\n",
              " 'Europe/Nicosia',\n",
              " 'Europe/Oslo',\n",
              " 'Europe/Paris',\n",
              " 'Europe/Podgorica',\n",
              " 'Europe/Prague',\n",
              " 'Europe/Riga',\n",
              " 'Europe/Rome',\n",
              " 'Europe/Samara',\n",
              " 'Europe/San_Marino',\n",
              " 'Europe/Sarajevo',\n",
              " 'Europe/Saratov',\n",
              " 'Europe/Simferopol',\n",
              " 'Europe/Skopje',\n",
              " 'Europe/Sofia',\n",
              " 'Europe/Stockholm',\n",
              " 'Europe/Tallinn',\n",
              " 'Europe/Tirane',\n",
              " 'Europe/Tiraspol',\n",
              " 'Europe/Ulyanovsk',\n",
              " 'Europe/Uzhgorod',\n",
              " 'Europe/Vaduz',\n",
              " 'Europe/Vatican',\n",
              " 'Europe/Vienna',\n",
              " 'Europe/Vilnius',\n",
              " 'Europe/Volgograd',\n",
              " 'Europe/Warsaw',\n",
              " 'Europe/Zagreb',\n",
              " 'Europe/Zaporozhye',\n",
              " 'Europe/Zurich',\n",
              " 'GB',\n",
              " 'GB-Eire',\n",
              " 'GMT',\n",
              " 'GMT+0',\n",
              " 'GMT-0',\n",
              " 'GMT0',\n",
              " 'Greenwich',\n",
              " 'HST',\n",
              " 'Hongkong',\n",
              " 'Iceland',\n",
              " 'Indian/Antananarivo',\n",
              " 'Indian/Chagos',\n",
              " 'Indian/Christmas',\n",
              " 'Indian/Cocos',\n",
              " 'Indian/Comoro',\n",
              " 'Indian/Kerguelen',\n",
              " 'Indian/Mahe',\n",
              " 'Indian/Maldives',\n",
              " 'Indian/Mauritius',\n",
              " 'Indian/Mayotte',\n",
              " 'Indian/Reunion',\n",
              " 'Iran',\n",
              " 'Israel',\n",
              " 'Jamaica',\n",
              " 'Japan',\n",
              " 'Kwajalein',\n",
              " 'Libya',\n",
              " 'MET',\n",
              " 'MST',\n",
              " 'MST7MDT',\n",
              " 'Mexico/BajaNorte',\n",
              " 'Mexico/BajaSur',\n",
              " 'Mexico/General',\n",
              " 'NZ',\n",
              " 'NZ-CHAT',\n",
              " 'Navajo',\n",
              " 'PRC',\n",
              " 'PST8PDT',\n",
              " 'Pacific/Apia',\n",
              " 'Pacific/Auckland',\n",
              " 'Pacific/Bougainville',\n",
              " 'Pacific/Chatham',\n",
              " 'Pacific/Chuuk',\n",
              " 'Pacific/Easter',\n",
              " 'Pacific/Efate',\n",
              " 'Pacific/Enderbury',\n",
              " 'Pacific/Fakaofo',\n",
              " 'Pacific/Fiji',\n",
              " 'Pacific/Funafuti',\n",
              " 'Pacific/Galapagos',\n",
              " 'Pacific/Gambier',\n",
              " 'Pacific/Guadalcanal',\n",
              " 'Pacific/Guam',\n",
              " 'Pacific/Honolulu',\n",
              " 'Pacific/Johnston',\n",
              " 'Pacific/Kiritimati',\n",
              " 'Pacific/Kosrae',\n",
              " 'Pacific/Kwajalein',\n",
              " 'Pacific/Majuro',\n",
              " 'Pacific/Marquesas',\n",
              " 'Pacific/Midway',\n",
              " 'Pacific/Nauru',\n",
              " 'Pacific/Niue',\n",
              " 'Pacific/Norfolk',\n",
              " 'Pacific/Noumea',\n",
              " 'Pacific/Pago_Pago',\n",
              " 'Pacific/Palau',\n",
              " 'Pacific/Pitcairn',\n",
              " 'Pacific/Pohnpei',\n",
              " 'Pacific/Ponape',\n",
              " 'Pacific/Port_Moresby',\n",
              " 'Pacific/Rarotonga',\n",
              " 'Pacific/Saipan',\n",
              " 'Pacific/Samoa',\n",
              " 'Pacific/Tahiti',\n",
              " 'Pacific/Tarawa',\n",
              " 'Pacific/Tongatapu',\n",
              " 'Pacific/Truk',\n",
              " 'Pacific/Wake',\n",
              " 'Pacific/Wallis',\n",
              " 'Pacific/Yap',\n",
              " 'Poland',\n",
              " 'Portugal',\n",
              " 'ROC',\n",
              " 'ROK',\n",
              " 'Singapore',\n",
              " 'Turkey',\n",
              " 'UCT',\n",
              " 'US/Alaska',\n",
              " 'US/Aleutian',\n",
              " 'US/Arizona',\n",
              " 'US/Central',\n",
              " 'US/East-Indiana',\n",
              " 'US/Eastern',\n",
              " 'US/Hawaii',\n",
              " 'US/Indiana-Starke',\n",
              " 'US/Michigan',\n",
              " 'US/Mountain',\n",
              " 'US/Pacific',\n",
              " 'US/Samoa',\n",
              " 'UTC',\n",
              " 'Universal',\n",
              " 'W-SU',\n",
              " 'WET',\n",
              " 'Zulu']"
            ]
          },
          "metadata": {
            "tags": []
          },
          "execution_count": 55
        }
      ]
    },
    {
      "cell_type": "code",
      "metadata": {
        "colab": {
          "base_uri": "https://localhost:8080/",
          "height": 258
        },
        "id": "ygzm0y0oTVcO",
        "outputId": "85fb77bf-9ee8-4143-b0ca-0b5768dde1ba"
      },
      "source": [
        "df.index  = df.index.tz_convert('Asia/Calcutta')\n",
        "df"
      ],
      "execution_count": 56,
      "outputs": [
        {
          "output_type": "execute_result",
          "data": {
            "text/html": [
              "<div>\n",
              "<style scoped>\n",
              "    .dataframe tbody tr th:only-of-type {\n",
              "        vertical-align: middle;\n",
              "    }\n",
              "\n",
              "    .dataframe tbody tr th {\n",
              "        vertical-align: top;\n",
              "    }\n",
              "\n",
              "    .dataframe thead th {\n",
              "        text-align: right;\n",
              "    }\n",
              "</style>\n",
              "<table border=\"1\" class=\"dataframe\">\n",
              "  <thead>\n",
              "    <tr style=\"text-align: right;\">\n",
              "      <th></th>\n",
              "      <th>Price</th>\n",
              "    </tr>\n",
              "    <tr>\n",
              "      <th>Date Time</th>\n",
              "      <th></th>\n",
              "    </tr>\n",
              "  </thead>\n",
              "  <tbody>\n",
              "    <tr>\n",
              "      <th>2017-08-17 18:30:00+05:30</th>\n",
              "      <td>72.38</td>\n",
              "    </tr>\n",
              "    <tr>\n",
              "      <th>2017-08-17 18:45:00+05:30</th>\n",
              "      <td>71.00</td>\n",
              "    </tr>\n",
              "    <tr>\n",
              "      <th>2017-08-17 19:00:00+05:30</th>\n",
              "      <td>71.67</td>\n",
              "    </tr>\n",
              "    <tr>\n",
              "      <th>2017-08-17 19:30:00+05:30</th>\n",
              "      <td>72.80</td>\n",
              "    </tr>\n",
              "    <tr>\n",
              "      <th>2017-08-17 20:00:00+05:30</th>\n",
              "      <td>73.00</td>\n",
              "    </tr>\n",
              "    <tr>\n",
              "      <th>2017-08-17 20:30:00+05:30</th>\n",
              "      <td>72.50</td>\n",
              "    </tr>\n",
              "  </tbody>\n",
              "</table>\n",
              "</div>"
            ],
            "text/plain": [
              "                           Price\n",
              "Date Time                       \n",
              "2017-08-17 18:30:00+05:30  72.38\n",
              "2017-08-17 18:45:00+05:30  71.00\n",
              "2017-08-17 19:00:00+05:30  71.67\n",
              "2017-08-17 19:30:00+05:30  72.80\n",
              "2017-08-17 20:00:00+05:30  73.00\n",
              "2017-08-17 20:30:00+05:30  72.50"
            ]
          },
          "metadata": {
            "tags": []
          },
          "execution_count": 56
        }
      ]
    },
    {
      "cell_type": "code",
      "metadata": {
        "colab": {
          "base_uri": "https://localhost:8080/",
          "height": 258
        },
        "id": "jmUAelUQT72R",
        "outputId": "bb071098-7fd9-4ac6-9044-b1091a0263b7"
      },
      "source": [
        "df.shift(2)"
      ],
      "execution_count": 58,
      "outputs": [
        {
          "output_type": "execute_result",
          "data": {
            "text/html": [
              "<div>\n",
              "<style scoped>\n",
              "    .dataframe tbody tr th:only-of-type {\n",
              "        vertical-align: middle;\n",
              "    }\n",
              "\n",
              "    .dataframe tbody tr th {\n",
              "        vertical-align: top;\n",
              "    }\n",
              "\n",
              "    .dataframe thead th {\n",
              "        text-align: right;\n",
              "    }\n",
              "</style>\n",
              "<table border=\"1\" class=\"dataframe\">\n",
              "  <thead>\n",
              "    <tr style=\"text-align: right;\">\n",
              "      <th></th>\n",
              "      <th>Price</th>\n",
              "    </tr>\n",
              "    <tr>\n",
              "      <th>Date Time</th>\n",
              "      <th></th>\n",
              "    </tr>\n",
              "  </thead>\n",
              "  <tbody>\n",
              "    <tr>\n",
              "      <th>2017-08-17 18:30:00+05:30</th>\n",
              "      <td>NaN</td>\n",
              "    </tr>\n",
              "    <tr>\n",
              "      <th>2017-08-17 18:45:00+05:30</th>\n",
              "      <td>NaN</td>\n",
              "    </tr>\n",
              "    <tr>\n",
              "      <th>2017-08-17 19:00:00+05:30</th>\n",
              "      <td>72.38</td>\n",
              "    </tr>\n",
              "    <tr>\n",
              "      <th>2017-08-17 19:30:00+05:30</th>\n",
              "      <td>71.00</td>\n",
              "    </tr>\n",
              "    <tr>\n",
              "      <th>2017-08-17 20:00:00+05:30</th>\n",
              "      <td>71.67</td>\n",
              "    </tr>\n",
              "    <tr>\n",
              "      <th>2017-08-17 20:30:00+05:30</th>\n",
              "      <td>72.80</td>\n",
              "    </tr>\n",
              "  </tbody>\n",
              "</table>\n",
              "</div>"
            ],
            "text/plain": [
              "                           Price\n",
              "Date Time                       \n",
              "2017-08-17 18:30:00+05:30    NaN\n",
              "2017-08-17 18:45:00+05:30    NaN\n",
              "2017-08-17 19:00:00+05:30  72.38\n",
              "2017-08-17 19:30:00+05:30  71.00\n",
              "2017-08-17 20:00:00+05:30  71.67\n",
              "2017-08-17 20:30:00+05:30  72.80"
            ]
          },
          "metadata": {
            "tags": []
          },
          "execution_count": 58
        }
      ]
    },
    {
      "cell_type": "code",
      "metadata": {
        "colab": {
          "base_uri": "https://localhost:8080/",
          "height": 258
        },
        "id": "xwE3mqoZUZjM",
        "outputId": "b37d0197-43b4-4756-9788-b5998ca4ffe0"
      },
      "source": [
        "df.shift(-1)"
      ],
      "execution_count": 59,
      "outputs": [
        {
          "output_type": "execute_result",
          "data": {
            "text/html": [
              "<div>\n",
              "<style scoped>\n",
              "    .dataframe tbody tr th:only-of-type {\n",
              "        vertical-align: middle;\n",
              "    }\n",
              "\n",
              "    .dataframe tbody tr th {\n",
              "        vertical-align: top;\n",
              "    }\n",
              "\n",
              "    .dataframe thead th {\n",
              "        text-align: right;\n",
              "    }\n",
              "</style>\n",
              "<table border=\"1\" class=\"dataframe\">\n",
              "  <thead>\n",
              "    <tr style=\"text-align: right;\">\n",
              "      <th></th>\n",
              "      <th>Price</th>\n",
              "    </tr>\n",
              "    <tr>\n",
              "      <th>Date Time</th>\n",
              "      <th></th>\n",
              "    </tr>\n",
              "  </thead>\n",
              "  <tbody>\n",
              "    <tr>\n",
              "      <th>2017-08-17 18:30:00+05:30</th>\n",
              "      <td>71.00</td>\n",
              "    </tr>\n",
              "    <tr>\n",
              "      <th>2017-08-17 18:45:00+05:30</th>\n",
              "      <td>71.67</td>\n",
              "    </tr>\n",
              "    <tr>\n",
              "      <th>2017-08-17 19:00:00+05:30</th>\n",
              "      <td>72.80</td>\n",
              "    </tr>\n",
              "    <tr>\n",
              "      <th>2017-08-17 19:30:00+05:30</th>\n",
              "      <td>73.00</td>\n",
              "    </tr>\n",
              "    <tr>\n",
              "      <th>2017-08-17 20:00:00+05:30</th>\n",
              "      <td>72.50</td>\n",
              "    </tr>\n",
              "    <tr>\n",
              "      <th>2017-08-17 20:30:00+05:30</th>\n",
              "      <td>NaN</td>\n",
              "    </tr>\n",
              "  </tbody>\n",
              "</table>\n",
              "</div>"
            ],
            "text/plain": [
              "                           Price\n",
              "Date Time                       \n",
              "2017-08-17 18:30:00+05:30  71.00\n",
              "2017-08-17 18:45:00+05:30  71.67\n",
              "2017-08-17 19:00:00+05:30  72.80\n",
              "2017-08-17 19:30:00+05:30  73.00\n",
              "2017-08-17 20:00:00+05:30  72.50\n",
              "2017-08-17 20:30:00+05:30    NaN"
            ]
          },
          "metadata": {
            "tags": []
          },
          "execution_count": 59
        }
      ]
    },
    {
      "cell_type": "code",
      "metadata": {
        "id": "Xn3b4P7aUnkD"
      },
      "source": [
        ""
      ],
      "execution_count": null,
      "outputs": []
    }
  ]
}