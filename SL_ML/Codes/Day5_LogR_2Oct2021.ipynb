{
  "nbformat": 4,
  "nbformat_minor": 0,
  "metadata": {
    "kernelspec": {
      "display_name": "Python 3",
      "language": "python",
      "name": "python3"
    },
    "language_info": {
      "codemirror_mode": {
        "name": "ipython",
        "version": 3
      },
      "file_extension": ".py",
      "mimetype": "text/x-python",
      "name": "python",
      "nbconvert_exporter": "python",
      "pygments_lexer": "ipython3",
      "version": "3.7.6"
    },
    "colab": {
      "name": "Day5_LogR_2Oct2021.ipynb",
      "provenance": [],
      "collapsed_sections": [
        "Z4cS26XLqL1X",
        "-IVzGZj0qL1a",
        "7zWcAg9NqL1c",
        "oC1MRtflqL1e",
        "JjA_3_MTqL1g",
        "T15kiR6LqL1i",
        "AR0fQdTRqL1o",
        "oHCqJYU7qL1q"
      ]
    }
  },
  "cells": [
    {
      "cell_type": "markdown",
      "metadata": {
        "id": "fd8EuvSzqL1C"
      },
      "source": [
        "# Logistic Regression"
      ]
    },
    {
      "cell_type": "code",
      "metadata": {
        "id": "7fn3J7DaqL1J",
        "colab": {
          "resources": {
            "http://localhost:8080/nbextensions/google.colab/files.js": {
              "data": "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",
              "ok": true,
              "headers": [
                [
                  "content-type",
                  "application/javascript"
                ]
              ],
              "status": 200,
              "status_text": ""
            }
          },
          "base_uri": "https://localhost:8080/",
          "height": 73
        },
        "outputId": "6c394aef-46e7-4459-8835-f6ea0553268c"
      },
      "source": [
        "from google.colab import files\n",
        "uploaded = files.upload()"
      ],
      "execution_count": null,
      "outputs": [
        {
          "output_type": "display_data",
          "data": {
            "text/html": [
              "\n",
              "     <input type=\"file\" id=\"files-24fcec9e-31b4-4dfe-af9d-271a6c5a4bfa\" name=\"files[]\" multiple disabled\n",
              "        style=\"border:none\" />\n",
              "     <output id=\"result-24fcec9e-31b4-4dfe-af9d-271a6c5a4bfa\">\n",
              "      Upload widget is only available when the cell has been executed in the\n",
              "      current browser session. Please rerun this cell to enable.\n",
              "      </output>\n",
              "      <script src=\"/nbextensions/google.colab/files.js\"></script> "
            ],
            "text/plain": [
              "<IPython.core.display.HTML object>"
            ]
          },
          "metadata": {}
        },
        {
          "output_type": "stream",
          "name": "stdout",
          "text": [
            "Saving Social_Network_Ads.csv to Social_Network_Ads.csv\n"
          ]
        }
      ]
    },
    {
      "cell_type": "code",
      "metadata": {
        "id": "cIzIKUSipNFW"
      },
      "source": [
        "import pandas as pd"
      ],
      "execution_count": null,
      "outputs": []
    },
    {
      "cell_type": "code",
      "metadata": {
        "id": "rjNMtpnfqL1L"
      },
      "source": [
        "df = pd.read_csv(\"Social_Network_Ads.csv\")"
      ],
      "execution_count": null,
      "outputs": []
    },
    {
      "cell_type": "code",
      "metadata": {
        "id": "4_tkI8b3qL1M",
        "colab": {
          "base_uri": "https://localhost:8080/",
          "height": 424
        },
        "outputId": "76443710-8226-48e6-c771-2958a69c4f8a"
      },
      "source": [
        "df"
      ],
      "execution_count": null,
      "outputs": [
        {
          "output_type": "execute_result",
          "data": {
            "text/html": [
              "<div>\n",
              "<style scoped>\n",
              "    .dataframe tbody tr th:only-of-type {\n",
              "        vertical-align: middle;\n",
              "    }\n",
              "\n",
              "    .dataframe tbody tr th {\n",
              "        vertical-align: top;\n",
              "    }\n",
              "\n",
              "    .dataframe thead th {\n",
              "        text-align: right;\n",
              "    }\n",
              "</style>\n",
              "<table border=\"1\" class=\"dataframe\">\n",
              "  <thead>\n",
              "    <tr style=\"text-align: right;\">\n",
              "      <th></th>\n",
              "      <th>User ID</th>\n",
              "      <th>Gender</th>\n",
              "      <th>Age</th>\n",
              "      <th>EstimatedSalary</th>\n",
              "      <th>Purchased</th>\n",
              "    </tr>\n",
              "  </thead>\n",
              "  <tbody>\n",
              "    <tr>\n",
              "      <th>0</th>\n",
              "      <td>15624510</td>\n",
              "      <td>Male</td>\n",
              "      <td>19</td>\n",
              "      <td>19000</td>\n",
              "      <td>0</td>\n",
              "    </tr>\n",
              "    <tr>\n",
              "      <th>1</th>\n",
              "      <td>15810944</td>\n",
              "      <td>Male</td>\n",
              "      <td>35</td>\n",
              "      <td>20000</td>\n",
              "      <td>0</td>\n",
              "    </tr>\n",
              "    <tr>\n",
              "      <th>2</th>\n",
              "      <td>15668575</td>\n",
              "      <td>Female</td>\n",
              "      <td>26</td>\n",
              "      <td>43000</td>\n",
              "      <td>0</td>\n",
              "    </tr>\n",
              "    <tr>\n",
              "      <th>3</th>\n",
              "      <td>15603246</td>\n",
              "      <td>Female</td>\n",
              "      <td>27</td>\n",
              "      <td>57000</td>\n",
              "      <td>0</td>\n",
              "    </tr>\n",
              "    <tr>\n",
              "      <th>4</th>\n",
              "      <td>15804002</td>\n",
              "      <td>Male</td>\n",
              "      <td>19</td>\n",
              "      <td>76000</td>\n",
              "      <td>0</td>\n",
              "    </tr>\n",
              "    <tr>\n",
              "      <th>...</th>\n",
              "      <td>...</td>\n",
              "      <td>...</td>\n",
              "      <td>...</td>\n",
              "      <td>...</td>\n",
              "      <td>...</td>\n",
              "    </tr>\n",
              "    <tr>\n",
              "      <th>395</th>\n",
              "      <td>15691863</td>\n",
              "      <td>Female</td>\n",
              "      <td>46</td>\n",
              "      <td>41000</td>\n",
              "      <td>1</td>\n",
              "    </tr>\n",
              "    <tr>\n",
              "      <th>396</th>\n",
              "      <td>15706071</td>\n",
              "      <td>Male</td>\n",
              "      <td>51</td>\n",
              "      <td>23000</td>\n",
              "      <td>1</td>\n",
              "    </tr>\n",
              "    <tr>\n",
              "      <th>397</th>\n",
              "      <td>15654296</td>\n",
              "      <td>Female</td>\n",
              "      <td>50</td>\n",
              "      <td>20000</td>\n",
              "      <td>1</td>\n",
              "    </tr>\n",
              "    <tr>\n",
              "      <th>398</th>\n",
              "      <td>15755018</td>\n",
              "      <td>Male</td>\n",
              "      <td>36</td>\n",
              "      <td>33000</td>\n",
              "      <td>0</td>\n",
              "    </tr>\n",
              "    <tr>\n",
              "      <th>399</th>\n",
              "      <td>15594041</td>\n",
              "      <td>Female</td>\n",
              "      <td>49</td>\n",
              "      <td>36000</td>\n",
              "      <td>1</td>\n",
              "    </tr>\n",
              "  </tbody>\n",
              "</table>\n",
              "<p>400 rows × 5 columns</p>\n",
              "</div>"
            ],
            "text/plain": [
              "      User ID  Gender  Age  EstimatedSalary  Purchased\n",
              "0    15624510    Male   19            19000          0\n",
              "1    15810944    Male   35            20000          0\n",
              "2    15668575  Female   26            43000          0\n",
              "3    15603246  Female   27            57000          0\n",
              "4    15804002    Male   19            76000          0\n",
              "..        ...     ...  ...              ...        ...\n",
              "395  15691863  Female   46            41000          1\n",
              "396  15706071    Male   51            23000          1\n",
              "397  15654296  Female   50            20000          1\n",
              "398  15755018    Male   36            33000          0\n",
              "399  15594041  Female   49            36000          1\n",
              "\n",
              "[400 rows x 5 columns]"
            ]
          },
          "metadata": {},
          "execution_count": 89
        }
      ]
    },
    {
      "cell_type": "code",
      "metadata": {
        "id": "0kCQvmKYqL1O"
      },
      "source": [
        "# Problem statement: Who is going to purchase the product by seeing the Ad?"
      ],
      "execution_count": null,
      "outputs": []
    },
    {
      "cell_type": "code",
      "metadata": {
        "id": "1PAggLLsqL1O",
        "colab": {
          "base_uri": "https://localhost:8080/"
        },
        "outputId": "37e8159e-0096-41e0-ee1e-5cc8e1480066"
      },
      "source": [
        "df.isnull().sum()  #checking null values"
      ],
      "execution_count": null,
      "outputs": [
        {
          "output_type": "execute_result",
          "data": {
            "text/plain": [
              "User ID            0\n",
              "Gender             0\n",
              "Age                0\n",
              "EstimatedSalary    0\n",
              "Purchased          0\n",
              "dtype: int64"
            ]
          },
          "metadata": {},
          "execution_count": 90
        }
      ]
    },
    {
      "cell_type": "markdown",
      "metadata": {
        "id": "x9H1KK94qL1P"
      },
      "source": [
        "### Selecting features"
      ]
    },
    {
      "cell_type": "code",
      "metadata": {
        "id": "r8caK-pgqL1Q",
        "colab": {
          "base_uri": "https://localhost:8080/",
          "height": 175
        },
        "outputId": "a86b5430-bcb0-4456-dd8b-7e2856ca5ad2"
      },
      "source": [
        "df.corr()  #correlation will not work with categorical value like gender"
      ],
      "execution_count": null,
      "outputs": [
        {
          "output_type": "execute_result",
          "data": {
            "text/html": [
              "<div>\n",
              "<style scoped>\n",
              "    .dataframe tbody tr th:only-of-type {\n",
              "        vertical-align: middle;\n",
              "    }\n",
              "\n",
              "    .dataframe tbody tr th {\n",
              "        vertical-align: top;\n",
              "    }\n",
              "\n",
              "    .dataframe thead th {\n",
              "        text-align: right;\n",
              "    }\n",
              "</style>\n",
              "<table border=\"1\" class=\"dataframe\">\n",
              "  <thead>\n",
              "    <tr style=\"text-align: right;\">\n",
              "      <th></th>\n",
              "      <th>User ID</th>\n",
              "      <th>Age</th>\n",
              "      <th>EstimatedSalary</th>\n",
              "      <th>Purchased</th>\n",
              "    </tr>\n",
              "  </thead>\n",
              "  <tbody>\n",
              "    <tr>\n",
              "      <th>User ID</th>\n",
              "      <td>1.000000</td>\n",
              "      <td>-0.000721</td>\n",
              "      <td>0.071097</td>\n",
              "      <td>0.007120</td>\n",
              "    </tr>\n",
              "    <tr>\n",
              "      <th>Age</th>\n",
              "      <td>-0.000721</td>\n",
              "      <td>1.000000</td>\n",
              "      <td>0.155238</td>\n",
              "      <td>0.622454</td>\n",
              "    </tr>\n",
              "    <tr>\n",
              "      <th>EstimatedSalary</th>\n",
              "      <td>0.071097</td>\n",
              "      <td>0.155238</td>\n",
              "      <td>1.000000</td>\n",
              "      <td>0.362083</td>\n",
              "    </tr>\n",
              "    <tr>\n",
              "      <th>Purchased</th>\n",
              "      <td>0.007120</td>\n",
              "      <td>0.622454</td>\n",
              "      <td>0.362083</td>\n",
              "      <td>1.000000</td>\n",
              "    </tr>\n",
              "  </tbody>\n",
              "</table>\n",
              "</div>"
            ],
            "text/plain": [
              "                  User ID       Age  EstimatedSalary  Purchased\n",
              "User ID          1.000000 -0.000721         0.071097   0.007120\n",
              "Age             -0.000721  1.000000         0.155238   0.622454\n",
              "EstimatedSalary  0.071097  0.155238         1.000000   0.362083\n",
              "Purchased        0.007120  0.622454         0.362083   1.000000"
            ]
          },
          "metadata": {},
          "execution_count": 91
        }
      ]
    },
    {
      "cell_type": "code",
      "metadata": {
        "id": "6XTgVe0kqL1R"
      },
      "source": [
        "#just go with age and Salary for now.\n",
        "# x1=Age, x2=Salary and y=Purchased"
      ],
      "execution_count": null,
      "outputs": []
    },
    {
      "cell_type": "markdown",
      "metadata": {
        "id": "GsPlvvCzqL1S"
      },
      "source": [
        "### split data"
      ]
    },
    {
      "cell_type": "code",
      "metadata": {
        "id": "hylNUMV4qL1T"
      },
      "source": [
        "x = df.iloc[:,2:4].values\n",
        "y = df.iloc[:,-1].values"
      ],
      "execution_count": null,
      "outputs": []
    },
    {
      "cell_type": "code",
      "metadata": {
        "collapsed": true,
        "jupyter": {
          "outputs_hidden": true
        },
        "id": "RcKu3eV1qL1U",
        "colab": {
          "base_uri": "https://localhost:8080/"
        },
        "outputId": "f87080c3-faad-44e2-8a18-17e0b31a9296"
      },
      "source": [
        "x"
      ],
      "execution_count": null,
      "outputs": [
        {
          "output_type": "execute_result",
          "data": {
            "text/plain": [
              "array([[    19,  19000],\n",
              "       [    35,  20000],\n",
              "       [    26,  43000],\n",
              "       [    27,  57000],\n",
              "       [    19,  76000],\n",
              "       [    27,  58000],\n",
              "       [    27,  84000],\n",
              "       [    32, 150000],\n",
              "       [    25,  33000],\n",
              "       [    35,  65000],\n",
              "       [    26,  80000],\n",
              "       [    26,  52000],\n",
              "       [    20,  86000],\n",
              "       [    32,  18000],\n",
              "       [    18,  82000],\n",
              "       [    29,  80000],\n",
              "       [    47,  25000],\n",
              "       [    45,  26000],\n",
              "       [    46,  28000],\n",
              "       [    48,  29000],\n",
              "       [    45,  22000],\n",
              "       [    47,  49000],\n",
              "       [    48,  41000],\n",
              "       [    45,  22000],\n",
              "       [    46,  23000],\n",
              "       [    47,  20000],\n",
              "       [    49,  28000],\n",
              "       [    47,  30000],\n",
              "       [    29,  43000],\n",
              "       [    31,  18000],\n",
              "       [    31,  74000],\n",
              "       [    27, 137000],\n",
              "       [    21,  16000],\n",
              "       [    28,  44000],\n",
              "       [    27,  90000],\n",
              "       [    35,  27000],\n",
              "       [    33,  28000],\n",
              "       [    30,  49000],\n",
              "       [    26,  72000],\n",
              "       [    27,  31000],\n",
              "       [    27,  17000],\n",
              "       [    33,  51000],\n",
              "       [    35, 108000],\n",
              "       [    30,  15000],\n",
              "       [    28,  84000],\n",
              "       [    23,  20000],\n",
              "       [    25,  79000],\n",
              "       [    27,  54000],\n",
              "       [    30, 135000],\n",
              "       [    31,  89000],\n",
              "       [    24,  32000],\n",
              "       [    18,  44000],\n",
              "       [    29,  83000],\n",
              "       [    35,  23000],\n",
              "       [    27,  58000],\n",
              "       [    24,  55000],\n",
              "       [    23,  48000],\n",
              "       [    28,  79000],\n",
              "       [    22,  18000],\n",
              "       [    32, 117000],\n",
              "       [    27,  20000],\n",
              "       [    25,  87000],\n",
              "       [    23,  66000],\n",
              "       [    32, 120000],\n",
              "       [    59,  83000],\n",
              "       [    24,  58000],\n",
              "       [    24,  19000],\n",
              "       [    23,  82000],\n",
              "       [    22,  63000],\n",
              "       [    31,  68000],\n",
              "       [    25,  80000],\n",
              "       [    24,  27000],\n",
              "       [    20,  23000],\n",
              "       [    33, 113000],\n",
              "       [    32,  18000],\n",
              "       [    34, 112000],\n",
              "       [    18,  52000],\n",
              "       [    22,  27000],\n",
              "       [    28,  87000],\n",
              "       [    26,  17000],\n",
              "       [    30,  80000],\n",
              "       [    39,  42000],\n",
              "       [    20,  49000],\n",
              "       [    35,  88000],\n",
              "       [    30,  62000],\n",
              "       [    31, 118000],\n",
              "       [    24,  55000],\n",
              "       [    28,  85000],\n",
              "       [    26,  81000],\n",
              "       [    35,  50000],\n",
              "       [    22,  81000],\n",
              "       [    30, 116000],\n",
              "       [    26,  15000],\n",
              "       [    29,  28000],\n",
              "       [    29,  83000],\n",
              "       [    35,  44000],\n",
              "       [    35,  25000],\n",
              "       [    28, 123000],\n",
              "       [    35,  73000],\n",
              "       [    28,  37000],\n",
              "       [    27,  88000],\n",
              "       [    28,  59000],\n",
              "       [    32,  86000],\n",
              "       [    33, 149000],\n",
              "       [    19,  21000],\n",
              "       [    21,  72000],\n",
              "       [    26,  35000],\n",
              "       [    27,  89000],\n",
              "       [    26,  86000],\n",
              "       [    38,  80000],\n",
              "       [    39,  71000],\n",
              "       [    37,  71000],\n",
              "       [    38,  61000],\n",
              "       [    37,  55000],\n",
              "       [    42,  80000],\n",
              "       [    40,  57000],\n",
              "       [    35,  75000],\n",
              "       [    36,  52000],\n",
              "       [    40,  59000],\n",
              "       [    41,  59000],\n",
              "       [    36,  75000],\n",
              "       [    37,  72000],\n",
              "       [    40,  75000],\n",
              "       [    35,  53000],\n",
              "       [    41,  51000],\n",
              "       [    39,  61000],\n",
              "       [    42,  65000],\n",
              "       [    26,  32000],\n",
              "       [    30,  17000],\n",
              "       [    26,  84000],\n",
              "       [    31,  58000],\n",
              "       [    33,  31000],\n",
              "       [    30,  87000],\n",
              "       [    21,  68000],\n",
              "       [    28,  55000],\n",
              "       [    23,  63000],\n",
              "       [    20,  82000],\n",
              "       [    30, 107000],\n",
              "       [    28,  59000],\n",
              "       [    19,  25000],\n",
              "       [    19,  85000],\n",
              "       [    18,  68000],\n",
              "       [    35,  59000],\n",
              "       [    30,  89000],\n",
              "       [    34,  25000],\n",
              "       [    24,  89000],\n",
              "       [    27,  96000],\n",
              "       [    41,  30000],\n",
              "       [    29,  61000],\n",
              "       [    20,  74000],\n",
              "       [    26,  15000],\n",
              "       [    41,  45000],\n",
              "       [    31,  76000],\n",
              "       [    36,  50000],\n",
              "       [    40,  47000],\n",
              "       [    31,  15000],\n",
              "       [    46,  59000],\n",
              "       [    29,  75000],\n",
              "       [    26,  30000],\n",
              "       [    32, 135000],\n",
              "       [    32, 100000],\n",
              "       [    25,  90000],\n",
              "       [    37,  33000],\n",
              "       [    35,  38000],\n",
              "       [    33,  69000],\n",
              "       [    18,  86000],\n",
              "       [    22,  55000],\n",
              "       [    35,  71000],\n",
              "       [    29, 148000],\n",
              "       [    29,  47000],\n",
              "       [    21,  88000],\n",
              "       [    34, 115000],\n",
              "       [    26, 118000],\n",
              "       [    34,  43000],\n",
              "       [    34,  72000],\n",
              "       [    23,  28000],\n",
              "       [    35,  47000],\n",
              "       [    25,  22000],\n",
              "       [    24,  23000],\n",
              "       [    31,  34000],\n",
              "       [    26,  16000],\n",
              "       [    31,  71000],\n",
              "       [    32, 117000],\n",
              "       [    33,  43000],\n",
              "       [    33,  60000],\n",
              "       [    31,  66000],\n",
              "       [    20,  82000],\n",
              "       [    33,  41000],\n",
              "       [    35,  72000],\n",
              "       [    28,  32000],\n",
              "       [    24,  84000],\n",
              "       [    19,  26000],\n",
              "       [    29,  43000],\n",
              "       [    19,  70000],\n",
              "       [    28,  89000],\n",
              "       [    34,  43000],\n",
              "       [    30,  79000],\n",
              "       [    20,  36000],\n",
              "       [    26,  80000],\n",
              "       [    35,  22000],\n",
              "       [    35,  39000],\n",
              "       [    49,  74000],\n",
              "       [    39, 134000],\n",
              "       [    41,  71000],\n",
              "       [    58, 101000],\n",
              "       [    47,  47000],\n",
              "       [    55, 130000],\n",
              "       [    52, 114000],\n",
              "       [    40, 142000],\n",
              "       [    46,  22000],\n",
              "       [    48,  96000],\n",
              "       [    52, 150000],\n",
              "       [    59,  42000],\n",
              "       [    35,  58000],\n",
              "       [    47,  43000],\n",
              "       [    60, 108000],\n",
              "       [    49,  65000],\n",
              "       [    40,  78000],\n",
              "       [    46,  96000],\n",
              "       [    59, 143000],\n",
              "       [    41,  80000],\n",
              "       [    35,  91000],\n",
              "       [    37, 144000],\n",
              "       [    60, 102000],\n",
              "       [    35,  60000],\n",
              "       [    37,  53000],\n",
              "       [    36, 126000],\n",
              "       [    56, 133000],\n",
              "       [    40,  72000],\n",
              "       [    42,  80000],\n",
              "       [    35, 147000],\n",
              "       [    39,  42000],\n",
              "       [    40, 107000],\n",
              "       [    49,  86000],\n",
              "       [    38, 112000],\n",
              "       [    46,  79000],\n",
              "       [    40,  57000],\n",
              "       [    37,  80000],\n",
              "       [    46,  82000],\n",
              "       [    53, 143000],\n",
              "       [    42, 149000],\n",
              "       [    38,  59000],\n",
              "       [    50,  88000],\n",
              "       [    56, 104000],\n",
              "       [    41,  72000],\n",
              "       [    51, 146000],\n",
              "       [    35,  50000],\n",
              "       [    57, 122000],\n",
              "       [    41,  52000],\n",
              "       [    35,  97000],\n",
              "       [    44,  39000],\n",
              "       [    37,  52000],\n",
              "       [    48, 134000],\n",
              "       [    37, 146000],\n",
              "       [    50,  44000],\n",
              "       [    52,  90000],\n",
              "       [    41,  72000],\n",
              "       [    40,  57000],\n",
              "       [    58,  95000],\n",
              "       [    45, 131000],\n",
              "       [    35,  77000],\n",
              "       [    36, 144000],\n",
              "       [    55, 125000],\n",
              "       [    35,  72000],\n",
              "       [    48,  90000],\n",
              "       [    42, 108000],\n",
              "       [    40,  75000],\n",
              "       [    37,  74000],\n",
              "       [    47, 144000],\n",
              "       [    40,  61000],\n",
              "       [    43, 133000],\n",
              "       [    59,  76000],\n",
              "       [    60,  42000],\n",
              "       [    39, 106000],\n",
              "       [    57,  26000],\n",
              "       [    57,  74000],\n",
              "       [    38,  71000],\n",
              "       [    49,  88000],\n",
              "       [    52,  38000],\n",
              "       [    50,  36000],\n",
              "       [    59,  88000],\n",
              "       [    35,  61000],\n",
              "       [    37,  70000],\n",
              "       [    52,  21000],\n",
              "       [    48, 141000],\n",
              "       [    37,  93000],\n",
              "       [    37,  62000],\n",
              "       [    48, 138000],\n",
              "       [    41,  79000],\n",
              "       [    37,  78000],\n",
              "       [    39, 134000],\n",
              "       [    49,  89000],\n",
              "       [    55,  39000],\n",
              "       [    37,  77000],\n",
              "       [    35,  57000],\n",
              "       [    36,  63000],\n",
              "       [    42,  73000],\n",
              "       [    43, 112000],\n",
              "       [    45,  79000],\n",
              "       [    46, 117000],\n",
              "       [    58,  38000],\n",
              "       [    48,  74000],\n",
              "       [    37, 137000],\n",
              "       [    37,  79000],\n",
              "       [    40,  60000],\n",
              "       [    42,  54000],\n",
              "       [    51, 134000],\n",
              "       [    47, 113000],\n",
              "       [    36, 125000],\n",
              "       [    38,  50000],\n",
              "       [    42,  70000],\n",
              "       [    39,  96000],\n",
              "       [    38,  50000],\n",
              "       [    49, 141000],\n",
              "       [    39,  79000],\n",
              "       [    39,  75000],\n",
              "       [    54, 104000],\n",
              "       [    35,  55000],\n",
              "       [    45,  32000],\n",
              "       [    36,  60000],\n",
              "       [    52, 138000],\n",
              "       [    53,  82000],\n",
              "       [    41,  52000],\n",
              "       [    48,  30000],\n",
              "       [    48, 131000],\n",
              "       [    41,  60000],\n",
              "       [    41,  72000],\n",
              "       [    42,  75000],\n",
              "       [    36, 118000],\n",
              "       [    47, 107000],\n",
              "       [    38,  51000],\n",
              "       [    48, 119000],\n",
              "       [    42,  65000],\n",
              "       [    40,  65000],\n",
              "       [    57,  60000],\n",
              "       [    36,  54000],\n",
              "       [    58, 144000],\n",
              "       [    35,  79000],\n",
              "       [    38,  55000],\n",
              "       [    39, 122000],\n",
              "       [    53, 104000],\n",
              "       [    35,  75000],\n",
              "       [    38,  65000],\n",
              "       [    47,  51000],\n",
              "       [    47, 105000],\n",
              "       [    41,  63000],\n",
              "       [    53,  72000],\n",
              "       [    54, 108000],\n",
              "       [    39,  77000],\n",
              "       [    38,  61000],\n",
              "       [    38, 113000],\n",
              "       [    37,  75000],\n",
              "       [    42,  90000],\n",
              "       [    37,  57000],\n",
              "       [    36,  99000],\n",
              "       [    60,  34000],\n",
              "       [    54,  70000],\n",
              "       [    41,  72000],\n",
              "       [    40,  71000],\n",
              "       [    42,  54000],\n",
              "       [    43, 129000],\n",
              "       [    53,  34000],\n",
              "       [    47,  50000],\n",
              "       [    42,  79000],\n",
              "       [    42, 104000],\n",
              "       [    59,  29000],\n",
              "       [    58,  47000],\n",
              "       [    46,  88000],\n",
              "       [    38,  71000],\n",
              "       [    54,  26000],\n",
              "       [    60,  46000],\n",
              "       [    60,  83000],\n",
              "       [    39,  73000],\n",
              "       [    59, 130000],\n",
              "       [    37,  80000],\n",
              "       [    46,  32000],\n",
              "       [    46,  74000],\n",
              "       [    42,  53000],\n",
              "       [    41,  87000],\n",
              "       [    58,  23000],\n",
              "       [    42,  64000],\n",
              "       [    48,  33000],\n",
              "       [    44, 139000],\n",
              "       [    49,  28000],\n",
              "       [    57,  33000],\n",
              "       [    56,  60000],\n",
              "       [    49,  39000],\n",
              "       [    39,  71000],\n",
              "       [    47,  34000],\n",
              "       [    48,  35000],\n",
              "       [    48,  33000],\n",
              "       [    47,  23000],\n",
              "       [    45,  45000],\n",
              "       [    60,  42000],\n",
              "       [    39,  59000],\n",
              "       [    46,  41000],\n",
              "       [    51,  23000],\n",
              "       [    50,  20000],\n",
              "       [    36,  33000],\n",
              "       [    49,  36000]])"
            ]
          },
          "metadata": {},
          "execution_count": 94
        }
      ]
    },
    {
      "cell_type": "code",
      "metadata": {
        "id": "ZRZrHjfKqL1V",
        "colab": {
          "base_uri": "https://localhost:8080/"
        },
        "outputId": "d07f19f6-6f30-4bfe-ee85-8caa4fee5ab6"
      },
      "source": [
        "x.shape  #no need to reshape"
      ],
      "execution_count": null,
      "outputs": [
        {
          "output_type": "execute_result",
          "data": {
            "text/plain": [
              "(400, 2)"
            ]
          },
          "metadata": {},
          "execution_count": 63
        }
      ]
    },
    {
      "cell_type": "code",
      "metadata": {
        "id": "QUdqSDV1qL1W",
        "colab": {
          "base_uri": "https://localhost:8080/"
        },
        "outputId": "69db6a33-4351-449d-98b9-24ab785a2df1"
      },
      "source": [
        "y.shape"
      ],
      "execution_count": null,
      "outputs": [
        {
          "output_type": "execute_result",
          "data": {
            "text/plain": [
              "(400,)"
            ]
          },
          "metadata": {},
          "execution_count": 64
        }
      ]
    },
    {
      "cell_type": "markdown",
      "metadata": {
        "id": "Z4cS26XLqL1X"
      },
      "source": [
        "### splitting in to Train and Test"
      ]
    },
    {
      "cell_type": "code",
      "metadata": {
        "id": "OJJrHcynqL1X"
      },
      "source": [
        "from sklearn.model_selection import train_test_split"
      ],
      "execution_count": null,
      "outputs": []
    },
    {
      "cell_type": "code",
      "metadata": {
        "id": "9eCb4Eh-qL1Y"
      },
      "source": [
        "x_train,x_test,y_train,y_test=train_test_split(x,y,test_size=0.2, random_state=0)"
      ],
      "execution_count": null,
      "outputs": []
    },
    {
      "cell_type": "code",
      "metadata": {
        "collapsed": true,
        "jupyter": {
          "outputs_hidden": true
        },
        "id": "HobuKhmqqL1Z",
        "colab": {
          "base_uri": "https://localhost:8080/"
        },
        "outputId": "c2eb6b36-592b-4388-de27-44f53ece2636"
      },
      "source": [
        "x_test"
      ],
      "execution_count": null,
      "outputs": [
        {
          "output_type": "execute_result",
          "data": {
            "text/plain": [
              "array([[    30,  87000],\n",
              "       [    38,  50000],\n",
              "       [    35,  75000],\n",
              "       [    30,  79000],\n",
              "       [    35,  50000],\n",
              "       [    27,  20000],\n",
              "       [    31,  15000],\n",
              "       [    36, 144000],\n",
              "       [    18,  68000],\n",
              "       [    47,  43000],\n",
              "       [    30,  49000],\n",
              "       [    28,  55000],\n",
              "       [    37,  55000],\n",
              "       [    39,  77000],\n",
              "       [    20,  86000],\n",
              "       [    32, 117000],\n",
              "       [    37,  77000],\n",
              "       [    19,  85000],\n",
              "       [    55, 130000],\n",
              "       [    35,  22000],\n",
              "       [    35,  47000],\n",
              "       [    47, 144000],\n",
              "       [    41,  51000],\n",
              "       [    47, 105000],\n",
              "       [    23,  28000],\n",
              "       [    49, 141000],\n",
              "       [    28,  87000],\n",
              "       [    29,  80000],\n",
              "       [    37,  62000],\n",
              "       [    32,  86000],\n",
              "       [    21,  88000],\n",
              "       [    37,  79000],\n",
              "       [    57,  60000],\n",
              "       [    37,  53000],\n",
              "       [    24,  58000],\n",
              "       [    18,  52000],\n",
              "       [    22,  81000],\n",
              "       [    34,  43000],\n",
              "       [    31,  34000],\n",
              "       [    49,  36000],\n",
              "       [    27,  88000],\n",
              "       [    41,  52000],\n",
              "       [    27,  84000],\n",
              "       [    35,  20000],\n",
              "       [    43, 112000],\n",
              "       [    27,  58000],\n",
              "       [    37,  80000],\n",
              "       [    52,  90000],\n",
              "       [    26,  30000],\n",
              "       [    49,  86000],\n",
              "       [    57, 122000],\n",
              "       [    34,  25000],\n",
              "       [    35,  57000],\n",
              "       [    34, 115000],\n",
              "       [    59,  88000],\n",
              "       [    45,  32000],\n",
              "       [    29,  83000],\n",
              "       [    26,  80000],\n",
              "       [    49,  28000],\n",
              "       [    23,  20000],\n",
              "       [    32,  18000],\n",
              "       [    60,  42000],\n",
              "       [    19,  76000],\n",
              "       [    36,  99000],\n",
              "       [    19,  26000],\n",
              "       [    60,  83000],\n",
              "       [    24,  89000],\n",
              "       [    27,  58000],\n",
              "       [    40,  47000],\n",
              "       [    42,  70000],\n",
              "       [    32, 150000],\n",
              "       [    35,  77000],\n",
              "       [    22,  63000],\n",
              "       [    45,  22000],\n",
              "       [    27,  89000],\n",
              "       [    18,  82000],\n",
              "       [    42,  79000],\n",
              "       [    40,  60000],\n",
              "       [    53,  34000],\n",
              "       [    47, 107000]])"
            ]
          },
          "metadata": {},
          "execution_count": 67
        }
      ]
    },
    {
      "cell_type": "code",
      "metadata": {
        "id": "bpgF_cq4qL1Z",
        "colab": {
          "base_uri": "https://localhost:8080/"
        },
        "outputId": "26d4a041-6877-4136-cf5b-4c61f4b1a213"
      },
      "source": [
        "x_train.shape  #80% of 400 rows"
      ],
      "execution_count": null,
      "outputs": [
        {
          "output_type": "execute_result",
          "data": {
            "text/plain": [
              "(320, 2)"
            ]
          },
          "metadata": {},
          "execution_count": 68
        }
      ]
    },
    {
      "cell_type": "code",
      "metadata": {
        "id": "Fk3TLymoqL1a",
        "colab": {
          "base_uri": "https://localhost:8080/"
        },
        "outputId": "302bb4d0-8733-4426-b04e-ed9e6a533e3c"
      },
      "source": [
        "x_test.shape"
      ],
      "execution_count": null,
      "outputs": [
        {
          "output_type": "execute_result",
          "data": {
            "text/plain": [
              "(80, 2)"
            ]
          },
          "metadata": {},
          "execution_count": 69
        }
      ]
    },
    {
      "cell_type": "markdown",
      "metadata": {
        "id": "-IVzGZj0qL1a"
      },
      "source": [
        "### Training the model"
      ]
    },
    {
      "cell_type": "code",
      "metadata": {
        "id": "hA65H7u0qL1b"
      },
      "source": [
        "from sklearn.linear_model import LogisticRegression"
      ],
      "execution_count": null,
      "outputs": []
    },
    {
      "cell_type": "code",
      "metadata": {
        "id": "TWcP-_J9qL1b"
      },
      "source": [
        "Log_reg = LogisticRegression()"
      ],
      "execution_count": null,
      "outputs": []
    },
    {
      "cell_type": "code",
      "metadata": {
        "colab": {
          "base_uri": "https://localhost:8080/"
        },
        "id": "SpJsPlFE4I8P",
        "outputId": "38455bb4-5624-4485-df3f-48437e1586ce"
      },
      "source": [
        "Log_reg"
      ],
      "execution_count": null,
      "outputs": [
        {
          "output_type": "execute_result",
          "data": {
            "text/plain": [
              "LogisticRegression(C=1.0, class_weight=None, dual=False, fit_intercept=True,\n",
              "                   intercept_scaling=1, l1_ratio=None, max_iter=100,\n",
              "                   multi_class='auto', n_jobs=None, penalty='l2',\n",
              "                   random_state=None, solver='lbfgs', tol=0.0001, verbose=0,\n",
              "                   warm_start=False)"
            ]
          },
          "metadata": {},
          "execution_count": 99
        }
      ]
    },
    {
      "cell_type": "code",
      "metadata": {
        "id": "kCtZ1BHqqL1c",
        "colab": {
          "base_uri": "https://localhost:8080/"
        },
        "outputId": "7b5b835d-52e9-40ce-c16b-bbdd862029dc"
      },
      "source": [
        "Log_reg.fit(x_train,y_train)"
      ],
      "execution_count": null,
      "outputs": [
        {
          "output_type": "execute_result",
          "data": {
            "text/plain": [
              "LogisticRegression(C=1.0, class_weight=None, dual=False, fit_intercept=True,\n",
              "                   intercept_scaling=1, l1_ratio=None, max_iter=100,\n",
              "                   multi_class='auto', n_jobs=None, penalty='l2',\n",
              "                   random_state=None, solver='lbfgs', tol=0.0001, verbose=0,\n",
              "                   warm_start=False)"
            ]
          },
          "metadata": {},
          "execution_count": 100
        }
      ]
    },
    {
      "cell_type": "markdown",
      "metadata": {
        "id": "7zWcAg9NqL1c"
      },
      "source": [
        "### Predict the data"
      ]
    },
    {
      "cell_type": "code",
      "metadata": {
        "id": "Hc7mTbN5qL1d"
      },
      "source": [
        "y_pred = Log_reg.predict(x_test)"
      ],
      "execution_count": null,
      "outputs": []
    },
    {
      "cell_type": "code",
      "metadata": {
        "id": "Vyy0g9WgqL1d",
        "colab": {
          "base_uri": "https://localhost:8080/"
        },
        "outputId": "45d78f21-2fac-4c7f-e36c-e29794ae4d39"
      },
      "source": [
        "y_test"
      ],
      "execution_count": null,
      "outputs": [
        {
          "output_type": "execute_result",
          "data": {
            "text/plain": [
              "array([0, 0, 0, 0, 0, 0, 0, 1, 0, 0, 0, 0, 0, 0, 0, 0, 0, 0, 1, 0, 0, 1,\n",
              "       0, 1, 0, 1, 0, 0, 0, 0, 0, 1, 1, 0, 0, 0, 0, 0, 0, 1, 0, 0, 0, 0,\n",
              "       1, 0, 0, 1, 0, 1, 1, 0, 0, 0, 1, 1, 0, 0, 1, 0, 0, 1, 0, 1, 0, 1,\n",
              "       0, 0, 0, 0, 1, 0, 0, 1, 0, 0, 0, 0, 1, 1])"
            ]
          },
          "metadata": {},
          "execution_count": 102
        }
      ]
    },
    {
      "cell_type": "code",
      "metadata": {
        "id": "sOzY8eVzqL1d",
        "colab": {
          "base_uri": "https://localhost:8080/"
        },
        "outputId": "7b447b63-c015-4263-f723-1cbcc2528d63"
      },
      "source": [
        "y_pred"
      ],
      "execution_count": null,
      "outputs": [
        {
          "output_type": "execute_result",
          "data": {
            "text/plain": [
              "array([0, 0, 0, 0, 0, 0, 0, 0, 0, 0, 0, 0, 0, 0, 0, 0, 0, 0, 0, 0, 0, 0,\n",
              "       0, 0, 0, 0, 0, 0, 0, 0, 0, 0, 0, 0, 0, 0, 0, 0, 0, 0, 0, 0, 0, 0,\n",
              "       0, 0, 0, 0, 0, 0, 0, 0, 0, 0, 0, 0, 0, 0, 0, 0, 0, 0, 0, 0, 0, 0,\n",
              "       0, 0, 0, 0, 0, 0, 0, 0, 0, 0, 0, 0, 0, 0])"
            ]
          },
          "metadata": {},
          "execution_count": 103
        }
      ]
    },
    {
      "cell_type": "code",
      "metadata": {
        "id": "ABkrjAURqL1e"
      },
      "source": [
        "#Problem:  All zeroes, failed model"
      ],
      "execution_count": null,
      "outputs": []
    },
    {
      "cell_type": "markdown",
      "metadata": {
        "id": "oC1MRtflqL1e"
      },
      "source": [
        "### Evaluation"
      ]
    },
    {
      "cell_type": "code",
      "metadata": {
        "id": "PIQ4-C73qL1e"
      },
      "source": [
        "from sklearn.metrics import accuracy_score"
      ],
      "execution_count": null,
      "outputs": []
    },
    {
      "cell_type": "code",
      "metadata": {
        "id": "1JMfbf7eqL1f",
        "colab": {
          "base_uri": "https://localhost:8080/"
        },
        "outputId": "86e47d3f-9335-40b9-f25f-bab2cf0b108e"
      },
      "source": [
        "accuracy_score(y_test,y_pred)"
      ],
      "execution_count": null,
      "outputs": [
        {
          "output_type": "execute_result",
          "data": {
            "text/plain": [
              "0.725"
            ]
          },
          "metadata": {},
          "execution_count": 106
        }
      ]
    },
    {
      "cell_type": "code",
      "metadata": {
        "id": "CCagNmmxqL1f"
      },
      "source": [
        "#It is a good accuracy score actually.  But a failed model.  So we can not depend on the accuracy score alone."
      ],
      "execution_count": null,
      "outputs": []
    },
    {
      "cell_type": "code",
      "metadata": {
        "id": "MrpZcJTMqL1f"
      },
      "source": [
        "#So why all zeroes? The range of age is in Tens, The range of salary is in thousands. So scale mismatch in features. We need to standadize the scale for features.\n",
        "#How to solve the problem? We need to standadize to data."
      ],
      "execution_count": null,
      "outputs": []
    },
    {
      "cell_type": "markdown",
      "metadata": {
        "id": "JjA_3_MTqL1g"
      },
      "source": [
        "### Standardization of features or feature normalization\n"
      ]
    },
    {
      "cell_type": "code",
      "metadata": {
        "id": "eX1w54EpqL1g"
      },
      "source": [
        "from sklearn.preprocessing import StandardScaler"
      ],
      "execution_count": null,
      "outputs": []
    },
    {
      "cell_type": "code",
      "metadata": {
        "id": "axMSXQLkqL1g"
      },
      "source": [
        "sc = StandardScaler()"
      ],
      "execution_count": null,
      "outputs": []
    },
    {
      "cell_type": "code",
      "metadata": {
        "id": "EnKLfoYwqL1h"
      },
      "source": [
        "x_train = sc.fit_transform(x_train)  #fit - calulate meand sd for std scaler, tranform - standardize the data\n",
        "x_test = sc.transform(x_test)  #tranform - Here when you use the tranform function, you use the same mean and sd of train data to tranform test data."
      ],
      "execution_count": null,
      "outputs": []
    },
    {
      "cell_type": "code",
      "metadata": {
        "collapsed": true,
        "jupyter": {
          "outputs_hidden": true
        },
        "id": "2SAYZbRQqL1h",
        "colab": {
          "base_uri": "https://localhost:8080/"
        },
        "outputId": "c87f0b1b-54d7-4683-fa5d-60fdd15884d1"
      },
      "source": [
        "x_test"
      ],
      "execution_count": null,
      "outputs": [
        {
          "output_type": "execute_result",
          "data": {
            "text/plain": [
              "array([[-7.98950822e-01,  4.94607583e-01],\n",
              "       [-2.12648508e-02, -5.77359062e-01],\n",
              "       [-3.12897090e-01,  1.46942725e-01],\n",
              "       [-7.98950822e-01,  2.62831011e-01],\n",
              "       [-3.12897090e-01, -5.77359062e-01],\n",
              "       [-1.09058306e+00, -1.44652121e+00],\n",
              "       [-7.01740076e-01, -1.59138156e+00],\n",
              "       [-2.15686344e-01,  2.14601566e+00],\n",
              "       [-1.96547978e+00, -5.58617754e-02],\n",
              "       [ 8.53631867e-01, -7.80163563e-01],\n",
              "       [-7.98950822e-01, -6.06331134e-01],\n",
              "       [-9.93372315e-01, -4.32498705e-01],\n",
              "       [-1.18475597e-01, -4.32498705e-01],\n",
              "       [ 7.59458956e-02,  2.04886868e-01],\n",
              "       [-1.77105829e+00,  4.65635512e-01],\n",
              "       [-6.04529329e-01,  1.36376973e+00],\n",
              "       [-1.18475597e-01,  2.04886868e-01],\n",
              "       [-1.86826903e+00,  4.36663440e-01],\n",
              "       [ 1.63131784e+00,  1.74040666e+00],\n",
              "       [-3.12897090e-01, -1.38857706e+00],\n",
              "       [-3.12897090e-01, -6.64275277e-01],\n",
              "       [ 8.53631867e-01,  2.14601566e+00],\n",
              "       [ 2.70367388e-01, -5.48386991e-01],\n",
              "       [ 8.53631867e-01,  1.01610487e+00],\n",
              "       [-1.47942605e+00, -1.21474464e+00],\n",
              "       [ 1.04805336e+00,  2.05909944e+00],\n",
              "       [-9.93372315e-01,  4.94607583e-01],\n",
              "       [-8.96161568e-01,  2.91803083e-01],\n",
              "       [-1.18475597e-01, -2.29694204e-01],\n",
              "       [-6.04529329e-01,  4.65635512e-01],\n",
              "       [-1.67384754e+00,  5.23579655e-01],\n",
              "       [-1.18475597e-01,  2.62831011e-01],\n",
              "       [ 1.82573933e+00, -2.87638347e-01],\n",
              "       [-1.18475597e-01, -4.90442848e-01],\n",
              "       [-1.38221530e+00, -3.45582490e-01],\n",
              "       [-1.96547978e+00, -5.19414919e-01],\n",
              "       [-1.57663679e+00,  3.20775154e-01],\n",
              "       [-4.10107836e-01, -7.80163563e-01],\n",
              "       [-7.01740076e-01, -1.04091221e+00],\n",
              "       [ 1.04805336e+00, -9.82968063e-01],\n",
              "       [-1.09058306e+00,  5.23579655e-01],\n",
              "       [ 2.70367388e-01, -5.19414919e-01],\n",
              "       [-1.09058306e+00,  4.07691369e-01],\n",
              "       [-3.12897090e-01, -1.44652121e+00],\n",
              "       [ 4.64788881e-01,  1.21890937e+00],\n",
              "       [-1.09058306e+00, -3.45582490e-01],\n",
              "       [-1.18475597e-01,  2.91803083e-01],\n",
              "       [ 1.33968560e+00,  5.81523798e-01],\n",
              "       [-1.18779381e+00, -1.15680049e+00],\n",
              "       [ 1.04805336e+00,  4.65635512e-01],\n",
              "       [ 1.82573933e+00,  1.50863009e+00],\n",
              "       [-4.10107836e-01, -1.30166085e+00],\n",
              "       [-3.12897090e-01, -3.74554562e-01],\n",
              "       [-4.10107836e-01,  1.30582558e+00],\n",
              "       [ 2.02016082e+00,  5.23579655e-01],\n",
              "       [ 6.59210374e-01, -1.09885635e+00],\n",
              "       [-8.96161568e-01,  3.78719297e-01],\n",
              "       [-1.18779381e+00,  2.91803083e-01],\n",
              "       [ 1.04805336e+00, -1.21474464e+00],\n",
              "       [-1.47942605e+00, -1.44652121e+00],\n",
              "       [-6.04529329e-01, -1.50446535e+00],\n",
              "       [ 2.11737157e+00, -8.09135634e-01],\n",
              "       [-1.86826903e+00,  1.75914797e-01],\n",
              "       [-2.15686344e-01,  8.42272441e-01],\n",
              "       [-1.86826903e+00, -1.27268878e+00],\n",
              "       [ 2.11737157e+00,  3.78719297e-01],\n",
              "       [-1.38221530e+00,  5.52551726e-01],\n",
              "       [-1.09058306e+00, -3.45582490e-01],\n",
              "       [ 1.73156642e-01, -6.64275277e-01],\n",
              "       [ 3.67578135e-01,  2.08236764e-03],\n",
              "       [-6.04529329e-01,  2.31984809e+00],\n",
              "       [-3.12897090e-01,  2.04886868e-01],\n",
              "       [-1.57663679e+00, -2.00722133e-01],\n",
              "       [ 6.59210374e-01, -1.38857706e+00],\n",
              "       [-1.09058306e+00,  5.52551726e-01],\n",
              "       [-1.96547978e+00,  3.49747226e-01],\n",
              "       [ 3.67578135e-01,  2.62831011e-01],\n",
              "       [ 1.73156642e-01, -2.87638347e-01],\n",
              "       [ 1.43689635e+00, -1.04091221e+00],\n",
              "       [ 8.53631867e-01,  1.07404901e+00]])"
            ]
          },
          "metadata": {},
          "execution_count": 45
        }
      ]
    },
    {
      "cell_type": "markdown",
      "metadata": {
        "id": "jwKU-GznqL1h"
      },
      "source": [
        "Assignment:\n",
        "    Difference between fit_transform and tranform functions?\n",
        "    Why we are only doing tranform only with test data?\n",
        "    you have to standardize the data only after split.  Why?"
      ]
    },
    {
      "cell_type": "markdown",
      "metadata": {
        "id": "T15kiR6LqL1i"
      },
      "source": [
        "### Try again "
      ]
    },
    {
      "cell_type": "code",
      "metadata": {
        "id": "gpoK9-apqL1i",
        "colab": {
          "base_uri": "https://localhost:8080/"
        },
        "outputId": "ab989b5e-b725-42d5-a582-f0960b04f1a6"
      },
      "source": [
        "Log_reg.fit(x_train,y_train)"
      ],
      "execution_count": null,
      "outputs": [
        {
          "output_type": "execute_result",
          "data": {
            "text/plain": [
              "LogisticRegression(C=1.0, class_weight=None, dual=False, fit_intercept=True,\n",
              "                   intercept_scaling=1, l1_ratio=None, max_iter=100,\n",
              "                   multi_class='auto', n_jobs=None, penalty='l2',\n",
              "                   random_state=None, solver='lbfgs', tol=0.0001, verbose=0,\n",
              "                   warm_start=False)"
            ]
          },
          "metadata": {},
          "execution_count": 112
        }
      ]
    },
    {
      "cell_type": "code",
      "metadata": {
        "id": "M-hgmLCfqL1i"
      },
      "source": [
        "y_pred = Log_reg.predict(x_test)"
      ],
      "execution_count": null,
      "outputs": []
    },
    {
      "cell_type": "code",
      "metadata": {
        "id": "qvBLLXcTqL1i",
        "colab": {
          "base_uri": "https://localhost:8080/"
        },
        "outputId": "2c895153-1311-4ac5-80ba-500352808a14"
      },
      "source": [
        "y_test"
      ],
      "execution_count": null,
      "outputs": [
        {
          "output_type": "execute_result",
          "data": {
            "text/plain": [
              "array([0, 0, 0, 0, 0, 0, 0, 1, 0, 0, 0, 0, 0, 0, 0, 0, 0, 0, 1, 0, 0, 1,\n",
              "       0, 1, 0, 1, 0, 0, 0, 0, 0, 1, 1, 0, 0, 0, 0, 0, 0, 1, 0, 0, 0, 0,\n",
              "       1, 0, 0, 1, 0, 1, 1, 0, 0, 0, 1, 1, 0, 0, 1, 0, 0, 1, 0, 1, 0, 1,\n",
              "       0, 0, 0, 0, 1, 0, 0, 1, 0, 0, 0, 0, 1, 1])"
            ]
          },
          "metadata": {},
          "execution_count": 114
        }
      ]
    },
    {
      "cell_type": "code",
      "metadata": {
        "id": "_d2HxcisqL1j",
        "colab": {
          "base_uri": "https://localhost:8080/"
        },
        "outputId": "0841f941-9b6c-47c5-899c-85896dce6aad"
      },
      "source": [
        "y_pred"
      ],
      "execution_count": null,
      "outputs": [
        {
          "output_type": "execute_result",
          "data": {
            "text/plain": [
              "array([0, 0, 0, 0, 0, 0, 0, 1, 0, 0, 0, 0, 0, 0, 0, 0, 0, 0, 1, 0, 0, 1,\n",
              "       0, 1, 0, 1, 0, 0, 0, 0, 0, 0, 1, 0, 0, 0, 0, 0, 0, 1, 0, 0, 0, 0,\n",
              "       1, 0, 0, 1, 0, 1, 1, 0, 0, 0, 1, 0, 0, 0, 0, 0, 0, 1, 0, 0, 0, 1,\n",
              "       0, 0, 0, 0, 1, 0, 0, 0, 0, 0, 1, 0, 1, 1])"
            ]
          },
          "metadata": {},
          "execution_count": 115
        }
      ]
    },
    {
      "cell_type": "code",
      "metadata": {
        "id": "KAFJrmijqL1j"
      },
      "source": [
        "# Problem of all zeroes solved"
      ],
      "execution_count": null,
      "outputs": []
    },
    {
      "cell_type": "code",
      "metadata": {
        "id": "fP4-0yVvqL1n",
        "colab": {
          "base_uri": "https://localhost:8080/"
        },
        "outputId": "24410089-2d12-47ab-f85a-66f1058b6492"
      },
      "source": [
        "accuracy_score(y_test,y_pred)"
      ],
      "execution_count": null,
      "outputs": [
        {
          "output_type": "execute_result",
          "data": {
            "text/plain": [
              "0.925"
            ]
          },
          "metadata": {},
          "execution_count": 116
        }
      ]
    },
    {
      "cell_type": "markdown",
      "metadata": {
        "id": "AR0fQdTRqL1o"
      },
      "source": [
        "### Evaluation Metrics - Classification problem"
      ]
    },
    {
      "cell_type": "code",
      "metadata": {
        "id": "UonEYpg5qL1o"
      },
      "source": [
        "from sklearn.metrics import confusion_matrix"
      ],
      "execution_count": null,
      "outputs": []
    },
    {
      "cell_type": "code",
      "metadata": {
        "id": "yVswQJBYqL1p",
        "colab": {
          "base_uri": "https://localhost:8080/"
        },
        "outputId": "5f6fec04-1e34-4c6c-84fb-13dbee60f6fe"
      },
      "source": [
        "confusion_matrix(y_test,y_pred)"
      ],
      "execution_count": null,
      "outputs": [
        {
          "output_type": "execute_result",
          "data": {
            "text/plain": [
              "array([[57,  1],\n",
              "       [ 5, 17]])"
            ]
          },
          "metadata": {},
          "execution_count": 75
        }
      ]
    },
    {
      "cell_type": "code",
      "metadata": {
        "id": "7e6zEIDKqL1p"
      },
      "source": [
        "#74/(80-74) = 74/80 = 92.5%"
      ],
      "execution_count": null,
      "outputs": []
    },
    {
      "cell_type": "code",
      "metadata": {
        "id": "QnQvMkzPqL1q"
      },
      "source": [
        "#To reduce the error even more - need to reduce the throshold line. Need to do it manually."
      ],
      "execution_count": null,
      "outputs": []
    },
    {
      "cell_type": "markdown",
      "metadata": {
        "id": "oHCqJYU7qL1q"
      },
      "source": [
        "### Extras"
      ]
    },
    {
      "cell_type": "code",
      "metadata": {
        "collapsed": true,
        "jupyter": {
          "outputs_hidden": true
        },
        "id": "8RwIyj7xqL1q",
        "colab": {
          "base_uri": "https://localhost:8080/"
        },
        "outputId": "ae04deed-7988-4876-9da5-c1ac2677115c"
      },
      "source": [
        "Log_reg.predict_proba(x_test) #to see the prob of your data"
      ],
      "execution_count": null,
      "outputs": [
        {
          "output_type": "execute_result",
          "data": {
            "text/plain": [
              "array([[0.53515076, 0.46484924],\n",
              "       [0.52022394, 0.47977606],\n",
              "       [0.53031522, 0.46968478],\n",
              "       [0.53192774, 0.46807226],\n",
              "       [0.52022394, 0.47977606],\n",
              "       [0.5080933 , 0.4919067 ],\n",
              "       [0.50607021, 0.49392979],\n",
              "       [0.55801422, 0.44198578],\n",
              "       [0.52749179, 0.47250821],\n",
              "       [0.51739507, 0.48260493],\n",
              "       [0.51981989, 0.48018011],\n",
              "       [0.52224378, 0.47775622],\n",
              "       [0.52224378, 0.47775622],\n",
              "       [0.53112157, 0.46887843],\n",
              "       [0.53474803, 0.46525197],\n",
              "       [0.54720877, 0.45279123],\n",
              "       [0.53112157, 0.46887843],\n",
              "       [0.53434526, 0.46565474],\n",
              "       [0.55241761, 0.44758239],\n",
              "       [0.50890247, 0.49109753],\n",
              "       [0.51901171, 0.48098829],\n",
              "       [0.55801423, 0.44198577],\n",
              "       [0.52062797, 0.47937203],\n",
              "       [0.54239142, 0.45760858],\n",
              "       [0.51132965, 0.48867035],\n",
              "       [0.55681614, 0.44318386],\n",
              "       [0.53515075, 0.46484925],\n",
              "       [0.53233077, 0.46766923],\n",
              "       [0.52507033, 0.47492967],\n",
              "       [0.53474804, 0.46525196],\n",
              "       [0.53555342, 0.46444658],\n",
              "       [0.53192775, 0.46807225],\n",
              "       [0.52426292, 0.47573708],\n",
              "       [0.52143593, 0.47856407],\n",
              "       [0.52345533, 0.47654467],\n",
              "       [0.52103194, 0.47896806],\n",
              "       [0.53273375, 0.46726625],\n",
              "       [0.51739506, 0.48260494],\n",
              "       [0.51375632, 0.48624368],\n",
              "       [0.51456508, 0.48543492],\n",
              "       [0.53555343, 0.46444657],\n",
              "       [0.52103197, 0.47896803],\n",
              "       [0.53394245, 0.46605755],\n",
              "       [0.5080933 , 0.4919067 ],\n",
              "       [0.54520257, 0.45479743],\n",
              "       [0.52345534, 0.47654466],\n",
              "       [0.53233078, 0.46766922],\n",
              "       [0.53635866, 0.46364134],\n",
              "       [0.51213861, 0.48786139],\n",
              "       [0.53474805, 0.46525195],\n",
              "       [0.54921347, 0.45078653],\n",
              "       [0.51011612, 0.48988388],\n",
              "       [0.52305152, 0.47694848],\n",
              "       [0.54640647, 0.45359353],\n",
              "       [0.53555346, 0.46444654],\n",
              "       [0.51294751, 0.48705249],\n",
              "       [0.5335396 , 0.4664604 ],\n",
              "       [0.53233077, 0.46766923],\n",
              "       [0.51132967, 0.48867033],\n",
              "       [0.50809329, 0.49190671],\n",
              "       [0.50728409, 0.49271591],\n",
              "       [0.51699087, 0.48300913],\n",
              "       [0.5307184 , 0.4692816 ],\n",
              "       [0.5399797 , 0.4600203 ],\n",
              "       [0.51052064, 0.48947936],\n",
              "       [0.53353963, 0.46646037],\n",
              "       [0.53595606, 0.46404394],\n",
              "       [0.52345534, 0.47654466],\n",
              "       [0.51901172, 0.48098828],\n",
              "       [0.52829869, 0.47170131],\n",
              "       [0.56040835, 0.43959165],\n",
              "       [0.53112157, 0.46887843],\n",
              "       [0.52547398, 0.47452602],\n",
              "       [0.50890248, 0.49109752],\n",
              "       [0.53595606, 0.46404394],\n",
              "       [0.53313669, 0.46686331],\n",
              "       [0.53192775, 0.46807225],\n",
              "       [0.5242629 , 0.4757371 ],\n",
              "       [0.51375634, 0.48624366],\n",
              "       [0.54319489, 0.45680511]])"
            ]
          },
          "metadata": {},
          "execution_count": 76
        }
      ]
    },
    {
      "cell_type": "code",
      "metadata": {
        "id": "etaUQzJ1qL1r"
      },
      "source": [
        "#By default the threshold is 0.5.  To change it, you have to find out the function and change the </> condition with your selecte threshold value."
      ],
      "execution_count": null,
      "outputs": []
    },
    {
      "cell_type": "markdown",
      "metadata": {
        "id": "RW_R37ck_8uS"
      },
      "source": [
        "### ROC curve plotting"
      ]
    },
    {
      "cell_type": "code",
      "metadata": {
        "id": "aqcXQ61P_5yl"
      },
      "source": [
        "from sklearn.metrics import roc_curve\n",
        "import sklearn.metrics as metrics"
      ],
      "execution_count": null,
      "outputs": []
    },
    {
      "cell_type": "code",
      "metadata": {
        "id": "Av-nDr74E045"
      },
      "source": [
        "y_pred_probs = Log_reg.predict_proba(x_test)[:,1]  #predict_proba returns 2 columns. 1st column-returns the prob of respected target values,second column - prob of the predicted labels being one. We selected the second column"
      ],
      "execution_count": null,
      "outputs": []
    },
    {
      "cell_type": "code",
      "metadata": {
        "id": "37Us8AqsAKZs"
      },
      "source": [
        "fpr, tpr, thresholds = roc_curve(y_test,y_pred_probs)"
      ],
      "execution_count": null,
      "outputs": []
    },
    {
      "cell_type": "code",
      "metadata": {
        "id": "gqHzlLUXGvTv"
      },
      "source": [
        "roc_auc = metrics.auc(fpr, tpr)"
      ],
      "execution_count": null,
      "outputs": []
    },
    {
      "cell_type": "code",
      "metadata": {
        "colab": {
          "base_uri": "https://localhost:8080/"
        },
        "id": "9kbK-d65KYzC",
        "outputId": "15f8a9ea-c7aa-45e6-d885-053f3366c937"
      },
      "source": [
        "roc_auc"
      ],
      "execution_count": null,
      "outputs": [
        {
          "output_type": "execute_result",
          "data": {
            "text/plain": [
              "0.9764890282131661"
            ]
          },
          "metadata": {},
          "execution_count": 144
        }
      ]
    },
    {
      "cell_type": "code",
      "metadata": {
        "colab": {
          "base_uri": "https://localhost:8080/"
        },
        "id": "arxuZWPnDcTe",
        "outputId": "d970ead4-b7e3-45c0-973a-c91e97dee935"
      },
      "source": [
        "tpr"
      ],
      "execution_count": null,
      "outputs": [
        {
          "output_type": "execute_result",
          "data": {
            "text/plain": [
              "array([0.        , 0.04545455, 0.77272727, 0.77272727, 0.81818182,\n",
              "       0.81818182, 0.86363636, 0.86363636, 0.90909091, 0.90909091,\n",
              "       0.95454545, 0.95454545, 1.        , 1.        , 1.        ,\n",
              "       1.        ])"
            ]
          },
          "metadata": {},
          "execution_count": 141
        }
      ]
    },
    {
      "cell_type": "code",
      "metadata": {
        "colab": {
          "base_uri": "https://localhost:8080/",
          "height": 295
        },
        "id": "O8kXTiwfA6vT",
        "outputId": "aabb93f8-cd88-4aee-8fb2-4b13832cde58"
      },
      "source": [
        "import matplotlib.pyplot as plt\n",
        "plt.title('Receiver Operating Characteristic')\n",
        "plt.plot(fpr, tpr, 'b', label = 'AUC = %0.2f' % roc_auc)\n",
        "plt.legend(loc = 'lower right')\n",
        "plt.plot([0, 1], [0, 1],'r--')\n",
        "plt.xlim([0, 1])\n",
        "plt.ylim([0, 1])\n",
        "plt.ylabel('True Positive Rate')\n",
        "plt.xlabel('False Positive Rate')\n",
        "plt.show()"
      ],
      "execution_count": null,
      "outputs": [
        {
          "output_type": "display_data",
          "data": {
            "image/png": "[encoded data removed]",
            "text/plain": [
              "<Figure size 432x288 with 1 Axes>"
            ]
          },
          "metadata": {
            "needs_background": "light"
          }
        }
      ]
    },
    {
      "cell_type": "markdown",
      "metadata": {
        "id": "bH1U9qy4_6g5"
      },
      "source": [
        ""
      ]
    },
    {
      "cell_type": "markdown",
      "metadata": {
        "id": "BroXh0ETqL1s"
      },
      "source": [
        "### Gender feature - add or not?"
      ]
    },
    {
      "cell_type": "code",
      "metadata": {
        "id": "0VyywGm-qL1s"
      },
      "source": [
        "#Convert gender column to 0 and 1\n",
        "#Label encoder - starts with 0 and give each values to each category, ex:First value is Male in the column, Male will become 0 and Female will become 1\n",
        "#One hot encoding - It is going to create different columns for each category value and put 1 for the feature which is existing. \n",
        "##EX: If Male is in the first row, then F_Male column will have value 1 and F_Female will have value 0"
      ],
      "execution_count": 145,
      "outputs": []
    },
    {
      "cell_type": "markdown",
      "metadata": {
        "id": "LUEu6AE0qL1t"
      },
      "source": [
        "#### Label Encoder"
      ]
    },
    {
      "cell_type": "code",
      "metadata": {
        "id": "whNuoLJTqL1u"
      },
      "source": [
        "g = df.iloc[:,1].values"
      ],
      "execution_count": 146,
      "outputs": []
    },
    {
      "cell_type": "code",
      "metadata": {
        "collapsed": true,
        "jupyter": {
          "outputs_hidden": true
        },
        "id": "t12M4ECgqL1u",
        "colab": {
          "base_uri": "https://localhost:8080/"
        },
        "outputId": "fafcb63e-d48f-4048-8c40-c71ccf9cd300"
      },
      "source": [
        "g"
      ],
      "execution_count": 147,
      "outputs": [
        {
          "output_type": "execute_result",
          "data": {
            "text/plain": [
              "array(['Male', 'Male', 'Female', 'Female', 'Male', 'Male', 'Female',\n",
              "       'Female', 'Male', 'Female', 'Female', 'Female', 'Male', 'Male',\n",
              "       'Male', 'Male', 'Male', 'Male', 'Male', 'Female', 'Male', 'Female',\n",
              "       'Male', 'Female', 'Male', 'Male', 'Male', 'Female', 'Male', 'Male',\n",
              "       'Male', 'Female', 'Female', 'Female', 'Male', 'Male', 'Female',\n",
              "       'Male', 'Female', 'Female', 'Female', 'Female', 'Male', 'Male',\n",
              "       'Female', 'Male', 'Male', 'Female', 'Male', 'Female', 'Female',\n",
              "       'Female', 'Female', 'Female', 'Female', 'Female', 'Female', 'Male',\n",
              "       'Male', 'Female', 'Male', 'Male', 'Female', 'Male', 'Female',\n",
              "       'Male', 'Male', 'Female', 'Female', 'Female', 'Male', 'Female',\n",
              "       'Female', 'Female', 'Male', 'Male', 'Male', 'Female', 'Female',\n",
              "       'Female', 'Male', 'Male', 'Male', 'Male', 'Female', 'Female',\n",
              "       'Male', 'Female', 'Male', 'Male', 'Male', 'Female', 'Male',\n",
              "       'Female', 'Female', 'Female', 'Female', 'Male', 'Male', 'Female',\n",
              "       'Male', 'Male', 'Female', 'Female', 'Female', 'Male', 'Female',\n",
              "       'Male', 'Male', 'Female', 'Female', 'Female', 'Male', 'Male',\n",
              "       'Male', 'Male', 'Male', 'Male', 'Male', 'Male', 'Female', 'Male',\n",
              "       'Female', 'Male', 'Female', 'Female', 'Male', 'Male', 'Male',\n",
              "       'Female', 'Male', 'Male', 'Male', 'Female', 'Female', 'Male',\n",
              "       'Female', 'Male', 'Female', 'Male', 'Male', 'Female', 'Male',\n",
              "       'Male', 'Female', 'Female', 'Female', 'Female', 'Male', 'Male',\n",
              "       'Female', 'Male', 'Male', 'Female', 'Male', 'Female', 'Male',\n",
              "       'Male', 'Male', 'Female', 'Male', 'Male', 'Female', 'Male',\n",
              "       'Female', 'Female', 'Female', 'Female', 'Male', 'Female', 'Male',\n",
              "       'Male', 'Female', 'Female', 'Female', 'Female', 'Female', 'Male',\n",
              "       'Male', 'Female', 'Male', 'Female', 'Female', 'Male', 'Female',\n",
              "       'Male', 'Female', 'Female', 'Male', 'Male', 'Male', 'Female',\n",
              "       'Male', 'Male', 'Male', 'Male', 'Female', 'Female', 'Male', 'Male',\n",
              "       'Male', 'Male', 'Female', 'Female', 'Female', 'Female', 'Female',\n",
              "       'Female', 'Female', 'Female', 'Female', 'Male', 'Female', 'Male',\n",
              "       'Male', 'Female', 'Male', 'Male', 'Female', 'Male', 'Female',\n",
              "       'Male', 'Male', 'Male', 'Female', 'Male', 'Female', 'Male',\n",
              "       'Female', 'Female', 'Female', 'Male', 'Male', 'Male', 'Female',\n",
              "       'Male', 'Male', 'Female', 'Female', 'Female', 'Male', 'Male',\n",
              "       'Female', 'Female', 'Female', 'Female', 'Female', 'Female', 'Male',\n",
              "       'Female', 'Female', 'Male', 'Female', 'Female', 'Female', 'Female',\n",
              "       'Female', 'Male', 'Female', 'Female', 'Female', 'Male', 'Female',\n",
              "       'Female', 'Male', 'Female', 'Male', 'Male', 'Female', 'Male',\n",
              "       'Female', 'Female', 'Male', 'Male', 'Female', 'Male', 'Male',\n",
              "       'Male', 'Female', 'Female', 'Female', 'Male', 'Male', 'Female',\n",
              "       'Male', 'Female', 'Female', 'Female', 'Male', 'Female', 'Male',\n",
              "       'Male', 'Male', 'Male', 'Female', 'Female', 'Male', 'Female',\n",
              "       'Male', 'Male', 'Female', 'Male', 'Female', 'Male', 'Female',\n",
              "       'Male', 'Female', 'Female', 'Male', 'Female', 'Female', 'Male',\n",
              "       'Female', 'Female', 'Female', 'Female', 'Female', 'Male', 'Male',\n",
              "       'Male', 'Female', 'Female', 'Male', 'Female', 'Female', 'Female',\n",
              "       'Male', 'Female', 'Male', 'Female', 'Male', 'Female', 'Male',\n",
              "       'Male', 'Male', 'Female', 'Male', 'Male', 'Female', 'Male',\n",
              "       'Female', 'Male', 'Female', 'Female', 'Male', 'Female', 'Male',\n",
              "       'Female', 'Male', 'Male', 'Female', 'Male', 'Female', 'Female',\n",
              "       'Male', 'Male', 'Male', 'Female', 'Male', 'Male', 'Male', 'Female',\n",
              "       'Female', 'Female', 'Male', 'Female', 'Female', 'Male', 'Male',\n",
              "       'Female', 'Female', 'Male', 'Female', 'Male', 'Female', 'Female',\n",
              "       'Female', 'Female', 'Male', 'Female', 'Male', 'Male', 'Female',\n",
              "       'Male', 'Female', 'Male', 'Female', 'Male', 'Male', 'Female',\n",
              "       'Male', 'Male', 'Female', 'Male', 'Female', 'Female', 'Male',\n",
              "       'Female', 'Male', 'Female'], dtype=object)"
            ]
          },
          "metadata": {},
          "execution_count": 147
        }
      ]
    },
    {
      "cell_type": "code",
      "metadata": {
        "id": "jRqqqfXPqL1v"
      },
      "source": [
        "from sklearn.preprocessing import LabelEncoder"
      ],
      "execution_count": 148,
      "outputs": []
    },
    {
      "cell_type": "code",
      "metadata": {
        "id": "JlKaASsIqL1v"
      },
      "source": [
        "le = LabelEncoder()"
      ],
      "execution_count": 149,
      "outputs": []
    },
    {
      "cell_type": "code",
      "metadata": {
        "id": "XXhSz-Z7qL1v"
      },
      "source": [
        "g = le.fit_transform(g)"
      ],
      "execution_count": 150,
      "outputs": []
    },
    {
      "cell_type": "code",
      "metadata": {
        "collapsed": true,
        "jupyter": {
          "outputs_hidden": true
        },
        "id": "Jaz_WVxKqL1w",
        "colab": {
          "base_uri": "https://localhost:8080/"
        },
        "outputId": "1f6a3990-2d85-4d2d-9d71-dfbed08ca89c"
      },
      "source": [
        "g"
      ],
      "execution_count": 151,
      "outputs": [
        {
          "output_type": "execute_result",
          "data": {
            "text/plain": [
              "array([1, 1, 0, 0, 1, 1, 0, 0, 1, 0, 0, 0, 1, 1, 1, 1, 1, 1, 1, 0, 1, 0,\n",
              "       1, 0, 1, 1, 1, 0, 1, 1, 1, 0, 0, 0, 1, 1, 0, 1, 0, 0, 0, 0, 1, 1,\n",
              "       0, 1, 1, 0, 1, 0, 0, 0, 0, 0, 0, 0, 0, 1, 1, 0, 1, 1, 0, 1, 0, 1,\n",
              "       1, 0, 0, 0, 1, 0, 0, 0, 1, 1, 1, 0, 0, 0, 1, 1, 1, 1, 0, 0, 1, 0,\n",
              "       1, 1, 1, 0, 1, 0, 0, 0, 0, 1, 1, 0, 1, 1, 0, 0, 0, 1, 0, 1, 1, 0,\n",
              "       0, 0, 1, 1, 1, 1, 1, 1, 1, 1, 0, 1, 0, 1, 0, 0, 1, 1, 1, 0, 1, 1,\n",
              "       1, 0, 0, 1, 0, 1, 0, 1, 1, 0, 1, 1, 0, 0, 0, 0, 1, 1, 0, 1, 1, 0,\n",
              "       1, 0, 1, 1, 1, 0, 1, 1, 0, 1, 0, 0, 0, 0, 1, 0, 1, 1, 0, 0, 0, 0,\n",
              "       0, 1, 1, 0, 1, 0, 0, 1, 0, 1, 0, 0, 1, 1, 1, 0, 1, 1, 1, 1, 0, 0,\n",
              "       1, 1, 1, 1, 0, 0, 0, 0, 0, 0, 0, 0, 0, 1, 0, 1, 1, 0, 1, 1, 0, 1,\n",
              "       0, 1, 1, 1, 0, 1, 0, 1, 0, 0, 0, 1, 1, 1, 0, 1, 1, 0, 0, 0, 1, 1,\n",
              "       0, 0, 0, 0, 0, 0, 1, 0, 0, 1, 0, 0, 0, 0, 0, 1, 0, 0, 0, 1, 0, 0,\n",
              "       1, 0, 1, 1, 0, 1, 0, 0, 1, 1, 0, 1, 1, 1, 0, 0, 0, 1, 1, 0, 1, 0,\n",
              "       0, 0, 1, 0, 1, 1, 1, 1, 0, 0, 1, 0, 1, 1, 0, 1, 0, 1, 0, 1, 0, 0,\n",
              "       1, 0, 0, 1, 0, 0, 0, 0, 0, 1, 1, 1, 0, 0, 1, 0, 0, 0, 1, 0, 1, 0,\n",
              "       1, 0, 1, 1, 1, 0, 1, 1, 0, 1, 0, 1, 0, 0, 1, 0, 1, 0, 1, 1, 0, 1,\n",
              "       0, 0, 1, 1, 1, 0, 1, 1, 1, 0, 0, 0, 1, 0, 0, 1, 1, 0, 0, 1, 0, 1,\n",
              "       0, 0, 0, 0, 1, 0, 1, 1, 0, 1, 0, 1, 0, 1, 1, 0, 1, 1, 0, 1, 0, 0,\n",
              "       1, 0, 1, 0])"
            ]
          },
          "metadata": {},
          "execution_count": 151
        }
      ]
    },
    {
      "cell_type": "code",
      "metadata": {
        "id": "Snr6nwqIqL1w"
      },
      "source": [
        "df1 = pd.get_dummies(df)  #It is a pandas function and it is used for one-hot encoding"
      ],
      "execution_count": 154,
      "outputs": []
    },
    {
      "cell_type": "code",
      "metadata": {
        "id": "QqydGGYjqL1w",
        "colab": {
          "base_uri": "https://localhost:8080/",
          "height": 424
        },
        "outputId": "0d324da4-712a-422f-82b6-c9bce77746b5"
      },
      "source": [
        "df1"
      ],
      "execution_count": 155,
      "outputs": [
        {
          "output_type": "execute_result",
          "data": {
            "text/html": [
              "<div>\n",
              "<style scoped>\n",
              "    .dataframe tbody tr th:only-of-type {\n",
              "        vertical-align: middle;\n",
              "    }\n",
              "\n",
              "    .dataframe tbody tr th {\n",
              "        vertical-align: top;\n",
              "    }\n",
              "\n",
              "    .dataframe thead th {\n",
              "        text-align: right;\n",
              "    }\n",
              "</style>\n",
              "<table border=\"1\" class=\"dataframe\">\n",
              "  <thead>\n",
              "    <tr style=\"text-align: right;\">\n",
              "      <th></th>\n",
              "      <th>User ID</th>\n",
              "      <th>Age</th>\n",
              "      <th>EstimatedSalary</th>\n",
              "      <th>Purchased</th>\n",
              "      <th>Gender_Female</th>\n",
              "      <th>Gender_Male</th>\n",
              "    </tr>\n",
              "  </thead>\n",
              "  <tbody>\n",
              "    <tr>\n",
              "      <th>0</th>\n",
              "      <td>15624510</td>\n",
              "      <td>19</td>\n",
              "      <td>19000</td>\n",
              "      <td>0</td>\n",
              "      <td>0</td>\n",
              "      <td>1</td>\n",
              "    </tr>\n",
              "    <tr>\n",
              "      <th>1</th>\n",
              "      <td>15810944</td>\n",
              "      <td>35</td>\n",
              "      <td>20000</td>\n",
              "      <td>0</td>\n",
              "      <td>0</td>\n",
              "      <td>1</td>\n",
              "    </tr>\n",
              "    <tr>\n",
              "      <th>2</th>\n",
              "      <td>15668575</td>\n",
              "      <td>26</td>\n",
              "      <td>43000</td>\n",
              "      <td>0</td>\n",
              "      <td>1</td>\n",
              "      <td>0</td>\n",
              "    </tr>\n",
              "    <tr>\n",
              "      <th>3</th>\n",
              "      <td>15603246</td>\n",
              "      <td>27</td>\n",
              "      <td>57000</td>\n",
              "      <td>0</td>\n",
              "      <td>1</td>\n",
              "      <td>0</td>\n",
              "    </tr>\n",
              "    <tr>\n",
              "      <th>4</th>\n",
              "      <td>15804002</td>\n",
              "      <td>19</td>\n",
              "      <td>76000</td>\n",
              "      <td>0</td>\n",
              "      <td>0</td>\n",
              "      <td>1</td>\n",
              "    </tr>\n",
              "    <tr>\n",
              "      <th>...</th>\n",
              "      <td>...</td>\n",
              "      <td>...</td>\n",
              "      <td>...</td>\n",
              "      <td>...</td>\n",
              "      <td>...</td>\n",
              "      <td>...</td>\n",
              "    </tr>\n",
              "    <tr>\n",
              "      <th>395</th>\n",
              "      <td>15691863</td>\n",
              "      <td>46</td>\n",
              "      <td>41000</td>\n",
              "      <td>1</td>\n",
              "      <td>1</td>\n",
              "      <td>0</td>\n",
              "    </tr>\n",
              "    <tr>\n",
              "      <th>396</th>\n",
              "      <td>15706071</td>\n",
              "      <td>51</td>\n",
              "      <td>23000</td>\n",
              "      <td>1</td>\n",
              "      <td>0</td>\n",
              "      <td>1</td>\n",
              "    </tr>\n",
              "    <tr>\n",
              "      <th>397</th>\n",
              "      <td>15654296</td>\n",
              "      <td>50</td>\n",
              "      <td>20000</td>\n",
              "      <td>1</td>\n",
              "      <td>1</td>\n",
              "      <td>0</td>\n",
              "    </tr>\n",
              "    <tr>\n",
              "      <th>398</th>\n",
              "      <td>15755018</td>\n",
              "      <td>36</td>\n",
              "      <td>33000</td>\n",
              "      <td>0</td>\n",
              "      <td>0</td>\n",
              "      <td>1</td>\n",
              "    </tr>\n",
              "    <tr>\n",
              "      <th>399</th>\n",
              "      <td>15594041</td>\n",
              "      <td>49</td>\n",
              "      <td>36000</td>\n",
              "      <td>1</td>\n",
              "      <td>1</td>\n",
              "      <td>0</td>\n",
              "    </tr>\n",
              "  </tbody>\n",
              "</table>\n",
              "<p>400 rows × 6 columns</p>\n",
              "</div>"
            ],
            "text/plain": [
              "      User ID  Age  EstimatedSalary  Purchased  Gender_Female  Gender_Male\n",
              "0    15624510   19            19000          0              0            1\n",
              "1    15810944   35            20000          0              0            1\n",
              "2    15668575   26            43000          0              1            0\n",
              "3    15603246   27            57000          0              1            0\n",
              "4    15804002   19            76000          0              0            1\n",
              "..        ...  ...              ...        ...            ...          ...\n",
              "395  15691863   46            41000          1              1            0\n",
              "396  15706071   51            23000          1              0            1\n",
              "397  15654296   50            20000          1              1            0\n",
              "398  15755018   36            33000          0              0            1\n",
              "399  15594041   49            36000          1              1            0\n",
              "\n",
              "[400 rows x 6 columns]"
            ]
          },
          "metadata": {},
          "execution_count": 155
        }
      ]
    },
    {
      "cell_type": "code",
      "metadata": {
        "id": "PWtCbBexqL1x"
      },
      "source": [
        "df1 = pd.get_dummies(df, drop_first=True)  #Is this one hot encoding function? - yes"
      ],
      "execution_count": 156,
      "outputs": []
    },
    {
      "cell_type": "code",
      "metadata": {
        "id": "3H9MOi_RqL1x",
        "outputId": "ac03bbb3-44d4-4905-9530-ab9f36936cab"
      },
      "source": [
        "df1"
      ],
      "execution_count": null,
      "outputs": [
        {
          "data": {
            "text/html": [
              "<div>\n",
              "<style scoped>\n",
              "    .dataframe tbody tr th:only-of-type {\n",
              "        vertical-align: middle;\n",
              "    }\n",
              "\n",
              "    .dataframe tbody tr th {\n",
              "        vertical-align: top;\n",
              "    }\n",
              "\n",
              "    .dataframe thead th {\n",
              "        text-align: right;\n",
              "    }\n",
              "</style>\n",
              "<table border=\"1\" class=\"dataframe\">\n",
              "  <thead>\n",
              "    <tr style=\"text-align: right;\">\n",
              "      <th></th>\n",
              "      <th>User ID</th>\n",
              "      <th>Age</th>\n",
              "      <th>EstimatedSalary</th>\n",
              "      <th>Purchased</th>\n",
              "      <th>Gender_Male</th>\n",
              "    </tr>\n",
              "  </thead>\n",
              "  <tbody>\n",
              "    <tr>\n",
              "      <th>0</th>\n",
              "      <td>15624510</td>\n",
              "      <td>19</td>\n",
              "      <td>19000</td>\n",
              "      <td>0</td>\n",
              "      <td>1</td>\n",
              "    </tr>\n",
              "    <tr>\n",
              "      <th>1</th>\n",
              "      <td>15810944</td>\n",
              "      <td>35</td>\n",
              "      <td>20000</td>\n",
              "      <td>0</td>\n",
              "      <td>1</td>\n",
              "    </tr>\n",
              "    <tr>\n",
              "      <th>2</th>\n",
              "      <td>15668575</td>\n",
              "      <td>26</td>\n",
              "      <td>43000</td>\n",
              "      <td>0</td>\n",
              "      <td>0</td>\n",
              "    </tr>\n",
              "    <tr>\n",
              "      <th>3</th>\n",
              "      <td>15603246</td>\n",
              "      <td>27</td>\n",
              "      <td>57000</td>\n",
              "      <td>0</td>\n",
              "      <td>0</td>\n",
              "    </tr>\n",
              "    <tr>\n",
              "      <th>4</th>\n",
              "      <td>15804002</td>\n",
              "      <td>19</td>\n",
              "      <td>76000</td>\n",
              "      <td>0</td>\n",
              "      <td>1</td>\n",
              "    </tr>\n",
              "    <tr>\n",
              "      <th>...</th>\n",
              "      <td>...</td>\n",
              "      <td>...</td>\n",
              "      <td>...</td>\n",
              "      <td>...</td>\n",
              "      <td>...</td>\n",
              "    </tr>\n",
              "    <tr>\n",
              "      <th>395</th>\n",
              "      <td>15691863</td>\n",
              "      <td>46</td>\n",
              "      <td>41000</td>\n",
              "      <td>1</td>\n",
              "      <td>0</td>\n",
              "    </tr>\n",
              "    <tr>\n",
              "      <th>396</th>\n",
              "      <td>15706071</td>\n",
              "      <td>51</td>\n",
              "      <td>23000</td>\n",
              "      <td>1</td>\n",
              "      <td>1</td>\n",
              "    </tr>\n",
              "    <tr>\n",
              "      <th>397</th>\n",
              "      <td>15654296</td>\n",
              "      <td>50</td>\n",
              "      <td>20000</td>\n",
              "      <td>1</td>\n",
              "      <td>0</td>\n",
              "    </tr>\n",
              "    <tr>\n",
              "      <th>398</th>\n",
              "      <td>15755018</td>\n",
              "      <td>36</td>\n",
              "      <td>33000</td>\n",
              "      <td>0</td>\n",
              "      <td>1</td>\n",
              "    </tr>\n",
              "    <tr>\n",
              "      <th>399</th>\n",
              "      <td>15594041</td>\n",
              "      <td>49</td>\n",
              "      <td>36000</td>\n",
              "      <td>1</td>\n",
              "      <td>0</td>\n",
              "    </tr>\n",
              "  </tbody>\n",
              "</table>\n",
              "<p>400 rows × 5 columns</p>\n",
              "</div>"
            ],
            "text/plain": [
              "      User ID  Age  EstimatedSalary  Purchased  Gender_Male\n",
              "0    15624510   19            19000          0            1\n",
              "1    15810944   35            20000          0            1\n",
              "2    15668575   26            43000          0            0\n",
              "3    15603246   27            57000          0            0\n",
              "4    15804002   19            76000          0            1\n",
              "..        ...  ...              ...        ...          ...\n",
              "395  15691863   46            41000          1            0\n",
              "396  15706071   51            23000          1            1\n",
              "397  15654296   50            20000          1            0\n",
              "398  15755018   36            33000          0            1\n",
              "399  15594041   49            36000          1            0\n",
              "\n",
              "[400 rows x 5 columns]"
            ]
          },
          "execution_count": 103,
          "metadata": {},
          "output_type": "execute_result"
        }
      ]
    },
    {
      "cell_type": "markdown",
      "metadata": {
        "id": "Cn63XstoqL1y"
      },
      "source": [
        "Assignment\n",
        "1. When we use Label encoders?\n",
        "2. What is get_dummies function"
      ]
    },
    {
      "cell_type": "code",
      "metadata": {
        "id": "Qk1FTDtRqL1y"
      },
      "source": [
        "# Now what you have to do is add this g to your actual data and do all the steps again."
      ],
      "execution_count": 157,
      "outputs": []
    },
    {
      "cell_type": "code",
      "metadata": {
        "id": "aSzQBnphqL1y"
      },
      "source": [
        ""
      ],
      "execution_count": null,
      "outputs": []
    }
  ]
}