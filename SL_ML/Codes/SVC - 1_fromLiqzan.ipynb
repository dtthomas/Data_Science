{
 "cells": [
  {
   "cell_type": "code",
   "execution_count": 1,
   "metadata": {},
   "outputs": [],
   "source": [
    "import pandas as pd"
   ]
  },
  {
   "cell_type": "code",
   "execution_count": 13,
   "metadata": {},
   "outputs": [],
   "source": [
    "df = pd.read_csv(\"Social_Network_Ads.csv\")"
   ]
  },
  {
   "cell_type": "code",
   "execution_count": 14,
   "metadata": {},
   "outputs": [
    {
     "data": {
      "text/html": [
       "<div>\n",
       "<style scoped>\n",
       "    .dataframe tbody tr th:only-of-type {\n",
       "        vertical-align: middle;\n",
       "    }\n",
       "\n",
       "    .dataframe tbody tr th {\n",
       "        vertical-align: top;\n",
       "    }\n",
       "\n",
       "    .dataframe thead th {\n",
       "        text-align: right;\n",
       "    }\n",
       "</style>\n",
       "<table border=\"1\" class=\"dataframe\">\n",
       "  <thead>\n",
       "    <tr style=\"text-align: right;\">\n",
       "      <th></th>\n",
       "      <th>User ID</th>\n",
       "      <th>Gender</th>\n",
       "      <th>Age</th>\n",
       "      <th>EstimatedSalary</th>\n",
       "      <th>Purchased</th>\n",
       "    </tr>\n",
       "  </thead>\n",
       "  <tbody>\n",
       "    <tr>\n",
       "      <th>0</th>\n",
       "      <td>15624510</td>\n",
       "      <td>Male</td>\n",
       "      <td>19</td>\n",
       "      <td>19000</td>\n",
       "      <td>0</td>\n",
       "    </tr>\n",
       "    <tr>\n",
       "      <th>1</th>\n",
       "      <td>15810944</td>\n",
       "      <td>Male</td>\n",
       "      <td>35</td>\n",
       "      <td>20000</td>\n",
       "      <td>0</td>\n",
       "    </tr>\n",
       "    <tr>\n",
       "      <th>2</th>\n",
       "      <td>15668575</td>\n",
       "      <td>Female</td>\n",
       "      <td>26</td>\n",
       "      <td>43000</td>\n",
       "      <td>0</td>\n",
       "    </tr>\n",
       "    <tr>\n",
       "      <th>3</th>\n",
       "      <td>15603246</td>\n",
       "      <td>Female</td>\n",
       "      <td>27</td>\n",
       "      <td>57000</td>\n",
       "      <td>0</td>\n",
       "    </tr>\n",
       "    <tr>\n",
       "      <th>4</th>\n",
       "      <td>15804002</td>\n",
       "      <td>Male</td>\n",
       "      <td>19</td>\n",
       "      <td>76000</td>\n",
       "      <td>0</td>\n",
       "    </tr>\n",
       "    <tr>\n",
       "      <th>...</th>\n",
       "      <td>...</td>\n",
       "      <td>...</td>\n",
       "      <td>...</td>\n",
       "      <td>...</td>\n",
       "      <td>...</td>\n",
       "    </tr>\n",
       "    <tr>\n",
       "      <th>395</th>\n",
       "      <td>15691863</td>\n",
       "      <td>Female</td>\n",
       "      <td>46</td>\n",
       "      <td>41000</td>\n",
       "      <td>1</td>\n",
       "    </tr>\n",
       "    <tr>\n",
       "      <th>396</th>\n",
       "      <td>15706071</td>\n",
       "      <td>Male</td>\n",
       "      <td>51</td>\n",
       "      <td>23000</td>\n",
       "      <td>1</td>\n",
       "    </tr>\n",
       "    <tr>\n",
       "      <th>397</th>\n",
       "      <td>15654296</td>\n",
       "      <td>Female</td>\n",
       "      <td>50</td>\n",
       "      <td>20000</td>\n",
       "      <td>1</td>\n",
       "    </tr>\n",
       "    <tr>\n",
       "      <th>398</th>\n",
       "      <td>15755018</td>\n",
       "      <td>Male</td>\n",
       "      <td>36</td>\n",
       "      <td>33000</td>\n",
       "      <td>0</td>\n",
       "    </tr>\n",
       "    <tr>\n",
       "      <th>399</th>\n",
       "      <td>15594041</td>\n",
       "      <td>Female</td>\n",
       "      <td>49</td>\n",
       "      <td>36000</td>\n",
       "      <td>1</td>\n",
       "    </tr>\n",
       "  </tbody>\n",
       "</table>\n",
       "<p>400 rows × 5 columns</p>\n",
       "</div>"
      ],
      "text/plain": [
       "      User ID  Gender  Age  EstimatedSalary  Purchased\n",
       "0    15624510    Male   19            19000          0\n",
       "1    15810944    Male   35            20000          0\n",
       "2    15668575  Female   26            43000          0\n",
       "3    15603246  Female   27            57000          0\n",
       "4    15804002    Male   19            76000          0\n",
       "..        ...     ...  ...              ...        ...\n",
       "395  15691863  Female   46            41000          1\n",
       "396  15706071    Male   51            23000          1\n",
       "397  15654296  Female   50            20000          1\n",
       "398  15755018    Male   36            33000          0\n",
       "399  15594041  Female   49            36000          1\n",
       "\n",
       "[400 rows x 5 columns]"
      ]
     },
     "execution_count": 14,
     "metadata": {},
     "output_type": "execute_result"
    }
   ],
   "source": [
    "df"
   ]
  },
  {
   "cell_type": "code",
   "execution_count": 15,
   "metadata": {},
   "outputs": [],
   "source": [
    "x = df.iloc[:,2:4].values\n",
    "y = df.iloc[:,4].values"
   ]
  },
  {
   "cell_type": "code",
   "execution_count": 16,
   "metadata": {},
   "outputs": [],
   "source": [
    "from sklearn.model_selection import train_test_split"
   ]
  },
  {
   "cell_type": "code",
   "execution_count": 17,
   "metadata": {},
   "outputs": [],
   "source": [
    "x_train,x_test,y_train,y_test = train_test_split(x,y, test_size=0.2, random_state=0)"
   ]
  },
  {
   "cell_type": "code",
   "execution_count": 18,
   "metadata": {},
   "outputs": [
    {
     "data": {
      "text/plain": [
       "(80, 2)"
      ]
     },
     "execution_count": 18,
     "metadata": {},
     "output_type": "execute_result"
    }
   ],
   "source": [
    "x_test.shape"
   ]
  },
  {
   "cell_type": "code",
   "execution_count": 19,
   "metadata": {},
   "outputs": [
    {
     "data": {
      "text/plain": [
       "array([    58, 144000])"
      ]
     },
     "execution_count": 19,
     "metadata": {},
     "output_type": "execute_result"
    }
   ],
   "source": [
    "x_train[0]"
   ]
  },
  {
   "cell_type": "code",
   "execution_count": 8,
   "metadata": {},
   "outputs": [],
   "source": [
    "from sklearn.preprocessing import StandardScaler"
   ]
  },
  {
   "cell_type": "code",
   "execution_count": 9,
   "metadata": {},
   "outputs": [],
   "source": [
    "sc = StandardScaler()"
   ]
  },
  {
   "cell_type": "code",
   "execution_count": 20,
   "metadata": {},
   "outputs": [],
   "source": [
    "x_train = sc.fit_transform(x_train)\n",
    "x_test = sc.transform(x_test)"
   ]
  },
  {
   "cell_type": "code",
   "execution_count": 21,
   "metadata": {},
   "outputs": [
    {
     "data": {
      "text/plain": [
       "array([1.92295008, 2.14601566])"
      ]
     },
     "execution_count": 21,
     "metadata": {},
     "output_type": "execute_result"
    }
   ],
   "source": [
    "x_train[0]"
   ]
  },
  {
   "cell_type": "code",
   "execution_count": 22,
   "metadata": {},
   "outputs": [],
   "source": [
    "from sklearn.svm import SVC"
   ]
  },
  {
   "cell_type": "code",
   "execution_count": 23,
   "metadata": {},
   "outputs": [],
   "source": [
    "svc = SVC(kernel=\"linear\")"
   ]
  },
  {
   "cell_type": "code",
   "execution_count": 24,
   "metadata": {},
   "outputs": [
    {
     "data": {
      "text/plain": [
       "SVC(kernel='linear')"
      ]
     },
     "execution_count": 24,
     "metadata": {},
     "output_type": "execute_result"
    }
   ],
   "source": [
    "svc.fit(x_train, y_train)"
   ]
  },
  {
   "cell_type": "code",
   "execution_count": 25,
   "metadata": {},
   "outputs": [],
   "source": [
    "y_pred = svc.predict(x_test)"
   ]
  },
  {
   "cell_type": "code",
   "execution_count": 26,
   "metadata": {},
   "outputs": [],
   "source": [
    "y_pred_tr = svc.predict(x_train)"
   ]
  },
  {
   "cell_type": "code",
   "execution_count": 27,
   "metadata": {},
   "outputs": [],
   "source": [
    "from sklearn.metrics import accuracy_score"
   ]
  },
  {
   "cell_type": "code",
   "execution_count": 28,
   "metadata": {},
   "outputs": [
    {
     "data": {
      "text/plain": [
       "0.821875"
      ]
     },
     "execution_count": 28,
     "metadata": {},
     "output_type": "execute_result"
    }
   ],
   "source": [
    "accuracy_score(y_train, y_pred_tr)"
   ]
  },
  {
   "cell_type": "code",
   "execution_count": 29,
   "metadata": {},
   "outputs": [
    {
     "data": {
      "text/plain": [
       "0.9125"
      ]
     },
     "execution_count": 29,
     "metadata": {},
     "output_type": "execute_result"
    }
   ],
   "source": [
    "accuracy_score(y_test, y_pred)"
   ]
  },
  {
   "cell_type": "code",
   "execution_count": 30,
   "metadata": {},
   "outputs": [],
   "source": [
    "svc = SVC(kernel=\"rbf\")"
   ]
  },
  {
   "cell_type": "code",
   "execution_count": 31,
   "metadata": {},
   "outputs": [
    {
     "data": {
      "text/plain": [
       "SVC()"
      ]
     },
     "execution_count": 31,
     "metadata": {},
     "output_type": "execute_result"
    }
   ],
   "source": [
    "svc.fit(x_train, y_train)"
   ]
  },
  {
   "cell_type": "code",
   "execution_count": 32,
   "metadata": {},
   "outputs": [],
   "source": [
    "y_pred1 = svc.predict(x_test)"
   ]
  },
  {
   "cell_type": "code",
   "execution_count": 33,
   "metadata": {},
   "outputs": [],
   "source": [
    "y_pred_tr1 = svc.predict(x_train)"
   ]
  },
  {
   "cell_type": "code",
   "execution_count": 34,
   "metadata": {},
   "outputs": [
    {
     "data": {
      "text/plain": [
       "0.903125"
      ]
     },
     "execution_count": 34,
     "metadata": {},
     "output_type": "execute_result"
    }
   ],
   "source": [
    "accuracy_score(y_train, y_pred_tr1)"
   ]
  },
  {
   "cell_type": "code",
   "execution_count": 35,
   "metadata": {},
   "outputs": [
    {
     "data": {
      "text/plain": [
       "0.95"
      ]
     },
     "execution_count": 35,
     "metadata": {},
     "output_type": "execute_result"
    }
   ],
   "source": [
    "accuracy_score(y_test, y_pred1)"
   ]
  },
  {
   "cell_type": "code",
   "execution_count": 36,
   "metadata": {},
   "outputs": [],
   "source": [
    "from sklearn.model_selection import cross_val_score"
   ]
  },
  {
   "cell_type": "code",
   "execution_count": 38,
   "metadata": {},
   "outputs": [
    {
     "data": {
      "text/plain": [
       "array([0.859375, 0.875   , 0.859375, 0.90625 , 0.96875 ])"
      ]
     },
     "execution_count": 38,
     "metadata": {},
     "output_type": "execute_result"
    }
   ],
   "source": [
    "cross_val_score(SVC(kernel=\"rbf\"),x_train,y_train,cv=5)"
   ]
  },
  {
   "cell_type": "code",
   "execution_count": 40,
   "metadata": {},
   "outputs": [
    {
     "data": {
      "text/plain": [
       "array([0.875   , 0.875   , 0.859375, 0.90625 , 0.96875 ])"
      ]
     },
     "execution_count": 40,
     "metadata": {},
     "output_type": "execute_result"
    }
   ],
   "source": [
    "cross_val_score(SVC(kernel=\"rbf\", C = 0.1, gamma=\"auto\"),x_train,y_train,cv=5)"
   ]
  },
  {
   "cell_type": "code",
   "execution_count": 41,
   "metadata": {},
   "outputs": [],
   "source": [
    "from sklearn.model_selection import GridSearchCV"
   ]
  },
  {
   "cell_type": "code",
   "execution_count": 42,
   "metadata": {},
   "outputs": [],
   "source": [
    "clf = GridSearchCV(SVC(kernel='rbf'),{\n",
    "    \"C\" : [0.1,0.5,1.0,5,10],\n",
    "    \"gamma\" : [1.0, 5.0,10, \"auto\", \"scale\"]\n",
    "}, cv=5)"
   ]
  },
  {
   "cell_type": "code",
   "execution_count": 43,
   "metadata": {},
   "outputs": [
    {
     "data": {
      "text/plain": [
       "GridSearchCV(cv=5, estimator=SVC(),\n",
       "             param_grid={'C': [0.1, 0.5, 1.0, 5, 10],\n",
       "                         'gamma': [1.0, 5.0, 10, 'auto', 'scale']})"
      ]
     },
     "execution_count": 43,
     "metadata": {},
     "output_type": "execute_result"
    }
   ],
   "source": [
    "clf.fit(x_train,y_train)"
   ]
  },
  {
   "cell_type": "code",
   "execution_count": 44,
   "metadata": {},
   "outputs": [
    {
     "data": {
      "text/plain": [
       "{'mean_fit_time': array([0.00222859, 0.00272131, 0.00281029, 0.00203681, 0.00208764,\n",
       "        0.00159554, 0.00247517, 0.00277743, 0.00154753, 0.00158548,\n",
       "        0.00165057, 0.00236216, 0.00289559, 0.00155363, 0.00160356,\n",
       "        0.00179515, 0.00242829, 0.00323992, 0.00162921, 0.00170898,\n",
       "        0.00188026, 0.00239797, 0.00309205, 0.00175753, 0.00182514]),\n",
       " 'std_fit_time': array([1.32655172e-04, 3.35955382e-05, 2.92738405e-05, 3.48698074e-05,\n",
       "        5.10526277e-05, 5.89084787e-05, 1.70140857e-04, 1.21414914e-04,\n",
       "        7.72509162e-05, 7.69222731e-05, 7.70845281e-05, 7.92208076e-05,\n",
       "        7.19280048e-05, 4.14216448e-05, 7.72485615e-05, 1.53035506e-04,\n",
       "        1.46466803e-04, 1.58821094e-04, 1.06441184e-04, 1.28837129e-04,\n",
       "        2.09079724e-04, 9.19184978e-05, 3.32016786e-04, 1.38040659e-04,\n",
       "        1.71774880e-04]),\n",
       " 'mean_score_time': array([0.00082736, 0.00095525, 0.00097895, 0.00077252, 0.0007782 ,\n",
       "        0.00059419, 0.00075455, 0.00087938, 0.00058784, 0.00058675,\n",
       "        0.00063863, 0.00069642, 0.00080595, 0.00057955, 0.00055285,\n",
       "        0.00054374, 0.00066309, 0.00078106, 0.00052199, 0.00054393,\n",
       "        0.00053158, 0.00063872, 0.0007431 , 0.00052114, 0.00052676]),\n",
       " 'std_score_time': array([5.26473140e-05, 2.40869324e-05, 1.43225881e-05, 2.53412819e-05,\n",
       "        1.51037746e-05, 2.25486002e-05, 2.59648232e-05, 1.39221752e-05,\n",
       "        1.51109989e-05, 2.04256691e-05, 1.58625211e-04, 1.52997124e-05,\n",
       "        2.93948354e-05, 1.73626356e-05, 1.80452469e-05, 2.17620664e-05,\n",
       "        2.90336274e-05, 1.76925221e-05, 1.81007285e-05, 3.29005891e-05,\n",
       "        2.09100570e-05, 1.45915287e-05, 9.39671715e-06, 2.05092091e-05,\n",
       "        1.97335704e-05]),\n",
       " 'param_C': masked_array(data=[0.1, 0.1, 0.1, 0.1, 0.1, 0.5, 0.5, 0.5, 0.5, 0.5, 1.0,\n",
       "                    1.0, 1.0, 1.0, 1.0, 5, 5, 5, 5, 5, 10, 10, 10, 10, 10],\n",
       "              mask=[False, False, False, False, False, False, False, False,\n",
       "                    False, False, False, False, False, False, False, False,\n",
       "                    False, False, False, False, False, False, False, False,\n",
       "                    False],\n",
       "        fill_value='?',\n",
       "             dtype=object),\n",
       " 'param_gamma': masked_array(data=[1.0, 5.0, 10, 'auto', 'scale', 1.0, 5.0, 10, 'auto',\n",
       "                    'scale', 1.0, 5.0, 10, 'auto', 'scale', 1.0, 5.0, 10,\n",
       "                    'auto', 'scale', 1.0, 5.0, 10, 'auto', 'scale'],\n",
       "              mask=[False, False, False, False, False, False, False, False,\n",
       "                    False, False, False, False, False, False, False, False,\n",
       "                    False, False, False, False, False, False, False, False,\n",
       "                    False],\n",
       "        fill_value='?',\n",
       "             dtype=object),\n",
       " 'params': [{'C': 0.1, 'gamma': 1.0},\n",
       "  {'C': 0.1, 'gamma': 5.0},\n",
       "  {'C': 0.1, 'gamma': 10},\n",
       "  {'C': 0.1, 'gamma': 'auto'},\n",
       "  {'C': 0.1, 'gamma': 'scale'},\n",
       "  {'C': 0.5, 'gamma': 1.0},\n",
       "  {'C': 0.5, 'gamma': 5.0},\n",
       "  {'C': 0.5, 'gamma': 10},\n",
       "  {'C': 0.5, 'gamma': 'auto'},\n",
       "  {'C': 0.5, 'gamma': 'scale'},\n",
       "  {'C': 1.0, 'gamma': 1.0},\n",
       "  {'C': 1.0, 'gamma': 5.0},\n",
       "  {'C': 1.0, 'gamma': 10},\n",
       "  {'C': 1.0, 'gamma': 'auto'},\n",
       "  {'C': 1.0, 'gamma': 'scale'},\n",
       "  {'C': 5, 'gamma': 1.0},\n",
       "  {'C': 5, 'gamma': 5.0},\n",
       "  {'C': 5, 'gamma': 10},\n",
       "  {'C': 5, 'gamma': 'auto'},\n",
       "  {'C': 5, 'gamma': 'scale'},\n",
       "  {'C': 10, 'gamma': 1.0},\n",
       "  {'C': 10, 'gamma': 5.0},\n",
       "  {'C': 10, 'gamma': 10},\n",
       "  {'C': 10, 'gamma': 'auto'},\n",
       "  {'C': 10, 'gamma': 'scale'}],\n",
       " 'split0_test_score': array([0.859375, 0.8125  , 0.625   , 0.875   , 0.875   , 0.859375,\n",
       "        0.859375, 0.875   , 0.859375, 0.859375, 0.859375, 0.859375,\n",
       "        0.875   , 0.859375, 0.859375, 0.84375 , 0.859375, 0.875   ,\n",
       "        0.859375, 0.859375, 0.84375 , 0.84375 , 0.875   , 0.859375,\n",
       "        0.859375]),\n",
       " 'split1_test_score': array([0.875   , 0.8125  , 0.671875, 0.875   , 0.875   , 0.875   ,\n",
       "        0.859375, 0.859375, 0.875   , 0.875   , 0.875   , 0.84375 ,\n",
       "        0.859375, 0.875   , 0.875   , 0.875   , 0.84375 , 0.8125  ,\n",
       "        0.859375, 0.859375, 0.875   , 0.84375 , 0.8125  , 0.859375,\n",
       "        0.859375]),\n",
       " 'split2_test_score': array([0.875   , 0.796875, 0.703125, 0.859375, 0.859375, 0.90625 ,\n",
       "        0.921875, 0.9375  , 0.875   , 0.875   , 0.921875, 0.921875,\n",
       "        0.9375  , 0.859375, 0.859375, 0.90625 , 0.859375, 0.890625,\n",
       "        0.90625 , 0.90625 , 0.921875, 0.859375, 0.875   , 0.90625 ,\n",
       "        0.90625 ]),\n",
       " 'split3_test_score': array([0.90625 , 0.875   , 0.671875, 0.90625 , 0.90625 , 0.90625 ,\n",
       "        0.90625 , 0.90625 , 0.90625 , 0.90625 , 0.90625 , 0.90625 ,\n",
       "        0.90625 , 0.90625 , 0.90625 , 0.90625 , 0.90625 , 0.890625,\n",
       "        0.90625 , 0.90625 , 0.90625 , 0.875   , 0.890625, 0.90625 ,\n",
       "        0.90625 ]),\n",
       " 'split4_test_score': array([0.96875 , 0.796875, 0.671875, 0.96875 , 0.96875 , 0.984375,\n",
       "        0.984375, 0.984375, 0.96875 , 0.96875 , 0.984375, 0.984375,\n",
       "        0.984375, 0.96875 , 0.96875 , 0.984375, 0.96875 , 0.953125,\n",
       "        0.984375, 0.984375, 0.984375, 0.96875 , 0.953125, 0.96875 ,\n",
       "        0.96875 ]),\n",
       " 'mean_test_score': array([0.896875, 0.81875 , 0.66875 , 0.896875, 0.896875, 0.90625 ,\n",
       "        0.90625 , 0.9125  , 0.896875, 0.896875, 0.909375, 0.903125,\n",
       "        0.9125  , 0.89375 , 0.89375 , 0.903125, 0.8875  , 0.884375,\n",
       "        0.903125, 0.903125, 0.90625 , 0.878125, 0.88125 , 0.9     ,\n",
       "        0.9     ]),\n",
       " 'std_test_score': array([0.03903124, 0.02898006, 0.025     , 0.03903124, 0.03903124,\n",
       "        0.04307515, 0.04635124, 0.04485219, 0.03903124, 0.03903124,\n",
       "        0.04352621, 0.0498043 , 0.04485219, 0.04122158, 0.04122158,\n",
       "        0.04677072, 0.04571481, 0.04485219, 0.04571481, 0.04571481,\n",
       "        0.04739297, 0.04677072, 0.04485219, 0.04026281, 0.04026281]),\n",
       " 'rank_test_score': array([13, 24, 25, 13, 13,  4,  4,  1, 13, 13,  3,  7,  1, 18, 18,  7, 20,\n",
       "        21,  7,  7,  4, 23, 22, 11, 11], dtype=int32)}"
      ]
     },
     "execution_count": 44,
     "metadata": {},
     "output_type": "execute_result"
    }
   ],
   "source": [
    "clf.cv_results_"
   ]
  },
  {
   "cell_type": "code",
   "execution_count": 45,
   "metadata": {},
   "outputs": [],
   "source": [
    "df1 = pd.DataFrame(clf.cv_results_)"
   ]
  },
  {
   "cell_type": "code",
   "execution_count": 46,
   "metadata": {},
   "outputs": [
    {
     "data": {
      "text/html": [
       "<div>\n",
       "<style scoped>\n",
       "    .dataframe tbody tr th:only-of-type {\n",
       "        vertical-align: middle;\n",
       "    }\n",
       "\n",
       "    .dataframe tbody tr th {\n",
       "        vertical-align: top;\n",
       "    }\n",
       "\n",
       "    .dataframe thead th {\n",
       "        text-align: right;\n",
       "    }\n",
       "</style>\n",
       "<table border=\"1\" class=\"dataframe\">\n",
       "  <thead>\n",
       "    <tr style=\"text-align: right;\">\n",
       "      <th></th>\n",
       "      <th>mean_fit_time</th>\n",
       "      <th>std_fit_time</th>\n",
       "      <th>mean_score_time</th>\n",
       "      <th>std_score_time</th>\n",
       "      <th>param_C</th>\n",
       "      <th>param_gamma</th>\n",
       "      <th>params</th>\n",
       "      <th>split0_test_score</th>\n",
       "      <th>split1_test_score</th>\n",
       "      <th>split2_test_score</th>\n",
       "      <th>split3_test_score</th>\n",
       "      <th>split4_test_score</th>\n",
       "      <th>mean_test_score</th>\n",
       "      <th>std_test_score</th>\n",
       "      <th>rank_test_score</th>\n",
       "    </tr>\n",
       "  </thead>\n",
       "  <tbody>\n",
       "    <tr>\n",
       "      <th>0</th>\n",
       "      <td>0.002229</td>\n",
       "      <td>0.000133</td>\n",
       "      <td>0.000827</td>\n",
       "      <td>0.000053</td>\n",
       "      <td>0.1</td>\n",
       "      <td>1</td>\n",
       "      <td>{'C': 0.1, 'gamma': 1.0}</td>\n",
       "      <td>0.859375</td>\n",
       "      <td>0.875000</td>\n",
       "      <td>0.875000</td>\n",
       "      <td>0.906250</td>\n",
       "      <td>0.968750</td>\n",
       "      <td>0.896875</td>\n",
       "      <td>0.039031</td>\n",
       "      <td>13</td>\n",
       "    </tr>\n",
       "    <tr>\n",
       "      <th>1</th>\n",
       "      <td>0.002721</td>\n",
       "      <td>0.000034</td>\n",
       "      <td>0.000955</td>\n",
       "      <td>0.000024</td>\n",
       "      <td>0.1</td>\n",
       "      <td>5</td>\n",
       "      <td>{'C': 0.1, 'gamma': 5.0}</td>\n",
       "      <td>0.812500</td>\n",
       "      <td>0.812500</td>\n",
       "      <td>0.796875</td>\n",
       "      <td>0.875000</td>\n",
       "      <td>0.796875</td>\n",
       "      <td>0.818750</td>\n",
       "      <td>0.028980</td>\n",
       "      <td>24</td>\n",
       "    </tr>\n",
       "    <tr>\n",
       "      <th>2</th>\n",
       "      <td>0.002810</td>\n",
       "      <td>0.000029</td>\n",
       "      <td>0.000979</td>\n",
       "      <td>0.000014</td>\n",
       "      <td>0.1</td>\n",
       "      <td>10</td>\n",
       "      <td>{'C': 0.1, 'gamma': 10}</td>\n",
       "      <td>0.625000</td>\n",
       "      <td>0.671875</td>\n",
       "      <td>0.703125</td>\n",
       "      <td>0.671875</td>\n",
       "      <td>0.671875</td>\n",
       "      <td>0.668750</td>\n",
       "      <td>0.025000</td>\n",
       "      <td>25</td>\n",
       "    </tr>\n",
       "    <tr>\n",
       "      <th>3</th>\n",
       "      <td>0.002037</td>\n",
       "      <td>0.000035</td>\n",
       "      <td>0.000773</td>\n",
       "      <td>0.000025</td>\n",
       "      <td>0.1</td>\n",
       "      <td>auto</td>\n",
       "      <td>{'C': 0.1, 'gamma': 'auto'}</td>\n",
       "      <td>0.875000</td>\n",
       "      <td>0.875000</td>\n",
       "      <td>0.859375</td>\n",
       "      <td>0.906250</td>\n",
       "      <td>0.968750</td>\n",
       "      <td>0.896875</td>\n",
       "      <td>0.039031</td>\n",
       "      <td>13</td>\n",
       "    </tr>\n",
       "    <tr>\n",
       "      <th>4</th>\n",
       "      <td>0.002088</td>\n",
       "      <td>0.000051</td>\n",
       "      <td>0.000778</td>\n",
       "      <td>0.000015</td>\n",
       "      <td>0.1</td>\n",
       "      <td>scale</td>\n",
       "      <td>{'C': 0.1, 'gamma': 'scale'}</td>\n",
       "      <td>0.875000</td>\n",
       "      <td>0.875000</td>\n",
       "      <td>0.859375</td>\n",
       "      <td>0.906250</td>\n",
       "      <td>0.968750</td>\n",
       "      <td>0.896875</td>\n",
       "      <td>0.039031</td>\n",
       "      <td>13</td>\n",
       "    </tr>\n",
       "    <tr>\n",
       "      <th>5</th>\n",
       "      <td>0.001596</td>\n",
       "      <td>0.000059</td>\n",
       "      <td>0.000594</td>\n",
       "      <td>0.000023</td>\n",
       "      <td>0.5</td>\n",
       "      <td>1</td>\n",
       "      <td>{'C': 0.5, 'gamma': 1.0}</td>\n",
       "      <td>0.859375</td>\n",
       "      <td>0.875000</td>\n",
       "      <td>0.906250</td>\n",
       "      <td>0.906250</td>\n",
       "      <td>0.984375</td>\n",
       "      <td>0.906250</td>\n",
       "      <td>0.043075</td>\n",
       "      <td>4</td>\n",
       "    </tr>\n",
       "    <tr>\n",
       "      <th>6</th>\n",
       "      <td>0.002475</td>\n",
       "      <td>0.000170</td>\n",
       "      <td>0.000755</td>\n",
       "      <td>0.000026</td>\n",
       "      <td>0.5</td>\n",
       "      <td>5</td>\n",
       "      <td>{'C': 0.5, 'gamma': 5.0}</td>\n",
       "      <td>0.859375</td>\n",
       "      <td>0.859375</td>\n",
       "      <td>0.921875</td>\n",
       "      <td>0.906250</td>\n",
       "      <td>0.984375</td>\n",
       "      <td>0.906250</td>\n",
       "      <td>0.046351</td>\n",
       "      <td>4</td>\n",
       "    </tr>\n",
       "    <tr>\n",
       "      <th>7</th>\n",
       "      <td>0.002777</td>\n",
       "      <td>0.000121</td>\n",
       "      <td>0.000879</td>\n",
       "      <td>0.000014</td>\n",
       "      <td>0.5</td>\n",
       "      <td>10</td>\n",
       "      <td>{'C': 0.5, 'gamma': 10}</td>\n",
       "      <td>0.875000</td>\n",
       "      <td>0.859375</td>\n",
       "      <td>0.937500</td>\n",
       "      <td>0.906250</td>\n",
       "      <td>0.984375</td>\n",
       "      <td>0.912500</td>\n",
       "      <td>0.044852</td>\n",
       "      <td>1</td>\n",
       "    </tr>\n",
       "    <tr>\n",
       "      <th>8</th>\n",
       "      <td>0.001548</td>\n",
       "      <td>0.000077</td>\n",
       "      <td>0.000588</td>\n",
       "      <td>0.000015</td>\n",
       "      <td>0.5</td>\n",
       "      <td>auto</td>\n",
       "      <td>{'C': 0.5, 'gamma': 'auto'}</td>\n",
       "      <td>0.859375</td>\n",
       "      <td>0.875000</td>\n",
       "      <td>0.875000</td>\n",
       "      <td>0.906250</td>\n",
       "      <td>0.968750</td>\n",
       "      <td>0.896875</td>\n",
       "      <td>0.039031</td>\n",
       "      <td>13</td>\n",
       "    </tr>\n",
       "    <tr>\n",
       "      <th>9</th>\n",
       "      <td>0.001585</td>\n",
       "      <td>0.000077</td>\n",
       "      <td>0.000587</td>\n",
       "      <td>0.000020</td>\n",
       "      <td>0.5</td>\n",
       "      <td>scale</td>\n",
       "      <td>{'C': 0.5, 'gamma': 'scale'}</td>\n",
       "      <td>0.859375</td>\n",
       "      <td>0.875000</td>\n",
       "      <td>0.875000</td>\n",
       "      <td>0.906250</td>\n",
       "      <td>0.968750</td>\n",
       "      <td>0.896875</td>\n",
       "      <td>0.039031</td>\n",
       "      <td>13</td>\n",
       "    </tr>\n",
       "    <tr>\n",
       "      <th>10</th>\n",
       "      <td>0.001651</td>\n",
       "      <td>0.000077</td>\n",
       "      <td>0.000639</td>\n",
       "      <td>0.000159</td>\n",
       "      <td>1</td>\n",
       "      <td>1</td>\n",
       "      <td>{'C': 1.0, 'gamma': 1.0}</td>\n",
       "      <td>0.859375</td>\n",
       "      <td>0.875000</td>\n",
       "      <td>0.921875</td>\n",
       "      <td>0.906250</td>\n",
       "      <td>0.984375</td>\n",
       "      <td>0.909375</td>\n",
       "      <td>0.043526</td>\n",
       "      <td>3</td>\n",
       "    </tr>\n",
       "    <tr>\n",
       "      <th>11</th>\n",
       "      <td>0.002362</td>\n",
       "      <td>0.000079</td>\n",
       "      <td>0.000696</td>\n",
       "      <td>0.000015</td>\n",
       "      <td>1</td>\n",
       "      <td>5</td>\n",
       "      <td>{'C': 1.0, 'gamma': 5.0}</td>\n",
       "      <td>0.859375</td>\n",
       "      <td>0.843750</td>\n",
       "      <td>0.921875</td>\n",
       "      <td>0.906250</td>\n",
       "      <td>0.984375</td>\n",
       "      <td>0.903125</td>\n",
       "      <td>0.049804</td>\n",
       "      <td>7</td>\n",
       "    </tr>\n",
       "    <tr>\n",
       "      <th>12</th>\n",
       "      <td>0.002896</td>\n",
       "      <td>0.000072</td>\n",
       "      <td>0.000806</td>\n",
       "      <td>0.000029</td>\n",
       "      <td>1</td>\n",
       "      <td>10</td>\n",
       "      <td>{'C': 1.0, 'gamma': 10}</td>\n",
       "      <td>0.875000</td>\n",
       "      <td>0.859375</td>\n",
       "      <td>0.937500</td>\n",
       "      <td>0.906250</td>\n",
       "      <td>0.984375</td>\n",
       "      <td>0.912500</td>\n",
       "      <td>0.044852</td>\n",
       "      <td>1</td>\n",
       "    </tr>\n",
       "    <tr>\n",
       "      <th>13</th>\n",
       "      <td>0.001554</td>\n",
       "      <td>0.000041</td>\n",
       "      <td>0.000580</td>\n",
       "      <td>0.000017</td>\n",
       "      <td>1</td>\n",
       "      <td>auto</td>\n",
       "      <td>{'C': 1.0, 'gamma': 'auto'}</td>\n",
       "      <td>0.859375</td>\n",
       "      <td>0.875000</td>\n",
       "      <td>0.859375</td>\n",
       "      <td>0.906250</td>\n",
       "      <td>0.968750</td>\n",
       "      <td>0.893750</td>\n",
       "      <td>0.041222</td>\n",
       "      <td>18</td>\n",
       "    </tr>\n",
       "    <tr>\n",
       "      <th>14</th>\n",
       "      <td>0.001604</td>\n",
       "      <td>0.000077</td>\n",
       "      <td>0.000553</td>\n",
       "      <td>0.000018</td>\n",
       "      <td>1</td>\n",
       "      <td>scale</td>\n",
       "      <td>{'C': 1.0, 'gamma': 'scale'}</td>\n",
       "      <td>0.859375</td>\n",
       "      <td>0.875000</td>\n",
       "      <td>0.859375</td>\n",
       "      <td>0.906250</td>\n",
       "      <td>0.968750</td>\n",
       "      <td>0.893750</td>\n",
       "      <td>0.041222</td>\n",
       "      <td>18</td>\n",
       "    </tr>\n",
       "    <tr>\n",
       "      <th>15</th>\n",
       "      <td>0.001795</td>\n",
       "      <td>0.000153</td>\n",
       "      <td>0.000544</td>\n",
       "      <td>0.000022</td>\n",
       "      <td>5</td>\n",
       "      <td>1</td>\n",
       "      <td>{'C': 5, 'gamma': 1.0}</td>\n",
       "      <td>0.843750</td>\n",
       "      <td>0.875000</td>\n",
       "      <td>0.906250</td>\n",
       "      <td>0.906250</td>\n",
       "      <td>0.984375</td>\n",
       "      <td>0.903125</td>\n",
       "      <td>0.046771</td>\n",
       "      <td>7</td>\n",
       "    </tr>\n",
       "    <tr>\n",
       "      <th>16</th>\n",
       "      <td>0.002428</td>\n",
       "      <td>0.000146</td>\n",
       "      <td>0.000663</td>\n",
       "      <td>0.000029</td>\n",
       "      <td>5</td>\n",
       "      <td>5</td>\n",
       "      <td>{'C': 5, 'gamma': 5.0}</td>\n",
       "      <td>0.859375</td>\n",
       "      <td>0.843750</td>\n",
       "      <td>0.859375</td>\n",
       "      <td>0.906250</td>\n",
       "      <td>0.968750</td>\n",
       "      <td>0.887500</td>\n",
       "      <td>0.045715</td>\n",
       "      <td>20</td>\n",
       "    </tr>\n",
       "    <tr>\n",
       "      <th>17</th>\n",
       "      <td>0.003240</td>\n",
       "      <td>0.000159</td>\n",
       "      <td>0.000781</td>\n",
       "      <td>0.000018</td>\n",
       "      <td>5</td>\n",
       "      <td>10</td>\n",
       "      <td>{'C': 5, 'gamma': 10}</td>\n",
       "      <td>0.875000</td>\n",
       "      <td>0.812500</td>\n",
       "      <td>0.890625</td>\n",
       "      <td>0.890625</td>\n",
       "      <td>0.953125</td>\n",
       "      <td>0.884375</td>\n",
       "      <td>0.044852</td>\n",
       "      <td>21</td>\n",
       "    </tr>\n",
       "    <tr>\n",
       "      <th>18</th>\n",
       "      <td>0.001629</td>\n",
       "      <td>0.000106</td>\n",
       "      <td>0.000522</td>\n",
       "      <td>0.000018</td>\n",
       "      <td>5</td>\n",
       "      <td>auto</td>\n",
       "      <td>{'C': 5, 'gamma': 'auto'}</td>\n",
       "      <td>0.859375</td>\n",
       "      <td>0.859375</td>\n",
       "      <td>0.906250</td>\n",
       "      <td>0.906250</td>\n",
       "      <td>0.984375</td>\n",
       "      <td>0.903125</td>\n",
       "      <td>0.045715</td>\n",
       "      <td>7</td>\n",
       "    </tr>\n",
       "    <tr>\n",
       "      <th>19</th>\n",
       "      <td>0.001709</td>\n",
       "      <td>0.000129</td>\n",
       "      <td>0.000544</td>\n",
       "      <td>0.000033</td>\n",
       "      <td>5</td>\n",
       "      <td>scale</td>\n",
       "      <td>{'C': 5, 'gamma': 'scale'}</td>\n",
       "      <td>0.859375</td>\n",
       "      <td>0.859375</td>\n",
       "      <td>0.906250</td>\n",
       "      <td>0.906250</td>\n",
       "      <td>0.984375</td>\n",
       "      <td>0.903125</td>\n",
       "      <td>0.045715</td>\n",
       "      <td>7</td>\n",
       "    </tr>\n",
       "    <tr>\n",
       "      <th>20</th>\n",
       "      <td>0.001880</td>\n",
       "      <td>0.000209</td>\n",
       "      <td>0.000532</td>\n",
       "      <td>0.000021</td>\n",
       "      <td>10</td>\n",
       "      <td>1</td>\n",
       "      <td>{'C': 10, 'gamma': 1.0}</td>\n",
       "      <td>0.843750</td>\n",
       "      <td>0.875000</td>\n",
       "      <td>0.921875</td>\n",
       "      <td>0.906250</td>\n",
       "      <td>0.984375</td>\n",
       "      <td>0.906250</td>\n",
       "      <td>0.047393</td>\n",
       "      <td>4</td>\n",
       "    </tr>\n",
       "    <tr>\n",
       "      <th>21</th>\n",
       "      <td>0.002398</td>\n",
       "      <td>0.000092</td>\n",
       "      <td>0.000639</td>\n",
       "      <td>0.000015</td>\n",
       "      <td>10</td>\n",
       "      <td>5</td>\n",
       "      <td>{'C': 10, 'gamma': 5.0}</td>\n",
       "      <td>0.843750</td>\n",
       "      <td>0.843750</td>\n",
       "      <td>0.859375</td>\n",
       "      <td>0.875000</td>\n",
       "      <td>0.968750</td>\n",
       "      <td>0.878125</td>\n",
       "      <td>0.046771</td>\n",
       "      <td>23</td>\n",
       "    </tr>\n",
       "    <tr>\n",
       "      <th>22</th>\n",
       "      <td>0.003092</td>\n",
       "      <td>0.000332</td>\n",
       "      <td>0.000743</td>\n",
       "      <td>0.000009</td>\n",
       "      <td>10</td>\n",
       "      <td>10</td>\n",
       "      <td>{'C': 10, 'gamma': 10}</td>\n",
       "      <td>0.875000</td>\n",
       "      <td>0.812500</td>\n",
       "      <td>0.875000</td>\n",
       "      <td>0.890625</td>\n",
       "      <td>0.953125</td>\n",
       "      <td>0.881250</td>\n",
       "      <td>0.044852</td>\n",
       "      <td>22</td>\n",
       "    </tr>\n",
       "    <tr>\n",
       "      <th>23</th>\n",
       "      <td>0.001758</td>\n",
       "      <td>0.000138</td>\n",
       "      <td>0.000521</td>\n",
       "      <td>0.000021</td>\n",
       "      <td>10</td>\n",
       "      <td>auto</td>\n",
       "      <td>{'C': 10, 'gamma': 'auto'}</td>\n",
       "      <td>0.859375</td>\n",
       "      <td>0.859375</td>\n",
       "      <td>0.906250</td>\n",
       "      <td>0.906250</td>\n",
       "      <td>0.968750</td>\n",
       "      <td>0.900000</td>\n",
       "      <td>0.040263</td>\n",
       "      <td>11</td>\n",
       "    </tr>\n",
       "    <tr>\n",
       "      <th>24</th>\n",
       "      <td>0.001825</td>\n",
       "      <td>0.000172</td>\n",
       "      <td>0.000527</td>\n",
       "      <td>0.000020</td>\n",
       "      <td>10</td>\n",
       "      <td>scale</td>\n",
       "      <td>{'C': 10, 'gamma': 'scale'}</td>\n",
       "      <td>0.859375</td>\n",
       "      <td>0.859375</td>\n",
       "      <td>0.906250</td>\n",
       "      <td>0.906250</td>\n",
       "      <td>0.968750</td>\n",
       "      <td>0.900000</td>\n",
       "      <td>0.040263</td>\n",
       "      <td>11</td>\n",
       "    </tr>\n",
       "  </tbody>\n",
       "</table>\n",
       "</div>"
      ],
      "text/plain": [
       "    mean_fit_time  std_fit_time  mean_score_time  std_score_time param_C  \\\n",
       "0        0.002229      0.000133         0.000827        0.000053     0.1   \n",
       "1        0.002721      0.000034         0.000955        0.000024     0.1   \n",
       "2        0.002810      0.000029         0.000979        0.000014     0.1   \n",
       "3        0.002037      0.000035         0.000773        0.000025     0.1   \n",
       "4        0.002088      0.000051         0.000778        0.000015     0.1   \n",
       "5        0.001596      0.000059         0.000594        0.000023     0.5   \n",
       "6        0.002475      0.000170         0.000755        0.000026     0.5   \n",
       "7        0.002777      0.000121         0.000879        0.000014     0.5   \n",
       "8        0.001548      0.000077         0.000588        0.000015     0.5   \n",
       "9        0.001585      0.000077         0.000587        0.000020     0.5   \n",
       "10       0.001651      0.000077         0.000639        0.000159       1   \n",
       "11       0.002362      0.000079         0.000696        0.000015       1   \n",
       "12       0.002896      0.000072         0.000806        0.000029       1   \n",
       "13       0.001554      0.000041         0.000580        0.000017       1   \n",
       "14       0.001604      0.000077         0.000553        0.000018       1   \n",
       "15       0.001795      0.000153         0.000544        0.000022       5   \n",
       "16       0.002428      0.000146         0.000663        0.000029       5   \n",
       "17       0.003240      0.000159         0.000781        0.000018       5   \n",
       "18       0.001629      0.000106         0.000522        0.000018       5   \n",
       "19       0.001709      0.000129         0.000544        0.000033       5   \n",
       "20       0.001880      0.000209         0.000532        0.000021      10   \n",
       "21       0.002398      0.000092         0.000639        0.000015      10   \n",
       "22       0.003092      0.000332         0.000743        0.000009      10   \n",
       "23       0.001758      0.000138         0.000521        0.000021      10   \n",
       "24       0.001825      0.000172         0.000527        0.000020      10   \n",
       "\n",
       "   param_gamma                        params  split0_test_score  \\\n",
       "0            1      {'C': 0.1, 'gamma': 1.0}           0.859375   \n",
       "1            5      {'C': 0.1, 'gamma': 5.0}           0.812500   \n",
       "2           10       {'C': 0.1, 'gamma': 10}           0.625000   \n",
       "3         auto   {'C': 0.1, 'gamma': 'auto'}           0.875000   \n",
       "4        scale  {'C': 0.1, 'gamma': 'scale'}           0.875000   \n",
       "5            1      {'C': 0.5, 'gamma': 1.0}           0.859375   \n",
       "6            5      {'C': 0.5, 'gamma': 5.0}           0.859375   \n",
       "7           10       {'C': 0.5, 'gamma': 10}           0.875000   \n",
       "8         auto   {'C': 0.5, 'gamma': 'auto'}           0.859375   \n",
       "9        scale  {'C': 0.5, 'gamma': 'scale'}           0.859375   \n",
       "10           1      {'C': 1.0, 'gamma': 1.0}           0.859375   \n",
       "11           5      {'C': 1.0, 'gamma': 5.0}           0.859375   \n",
       "12          10       {'C': 1.0, 'gamma': 10}           0.875000   \n",
       "13        auto   {'C': 1.0, 'gamma': 'auto'}           0.859375   \n",
       "14       scale  {'C': 1.0, 'gamma': 'scale'}           0.859375   \n",
       "15           1        {'C': 5, 'gamma': 1.0}           0.843750   \n",
       "16           5        {'C': 5, 'gamma': 5.0}           0.859375   \n",
       "17          10         {'C': 5, 'gamma': 10}           0.875000   \n",
       "18        auto     {'C': 5, 'gamma': 'auto'}           0.859375   \n",
       "19       scale    {'C': 5, 'gamma': 'scale'}           0.859375   \n",
       "20           1       {'C': 10, 'gamma': 1.0}           0.843750   \n",
       "21           5       {'C': 10, 'gamma': 5.0}           0.843750   \n",
       "22          10        {'C': 10, 'gamma': 10}           0.875000   \n",
       "23        auto    {'C': 10, 'gamma': 'auto'}           0.859375   \n",
       "24       scale   {'C': 10, 'gamma': 'scale'}           0.859375   \n",
       "\n",
       "    split1_test_score  split2_test_score  split3_test_score  \\\n",
       "0            0.875000           0.875000           0.906250   \n",
       "1            0.812500           0.796875           0.875000   \n",
       "2            0.671875           0.703125           0.671875   \n",
       "3            0.875000           0.859375           0.906250   \n",
       "4            0.875000           0.859375           0.906250   \n",
       "5            0.875000           0.906250           0.906250   \n",
       "6            0.859375           0.921875           0.906250   \n",
       "7            0.859375           0.937500           0.906250   \n",
       "8            0.875000           0.875000           0.906250   \n",
       "9            0.875000           0.875000           0.906250   \n",
       "10           0.875000           0.921875           0.906250   \n",
       "11           0.843750           0.921875           0.906250   \n",
       "12           0.859375           0.937500           0.906250   \n",
       "13           0.875000           0.859375           0.906250   \n",
       "14           0.875000           0.859375           0.906250   \n",
       "15           0.875000           0.906250           0.906250   \n",
       "16           0.843750           0.859375           0.906250   \n",
       "17           0.812500           0.890625           0.890625   \n",
       "18           0.859375           0.906250           0.906250   \n",
       "19           0.859375           0.906250           0.906250   \n",
       "20           0.875000           0.921875           0.906250   \n",
       "21           0.843750           0.859375           0.875000   \n",
       "22           0.812500           0.875000           0.890625   \n",
       "23           0.859375           0.906250           0.906250   \n",
       "24           0.859375           0.906250           0.906250   \n",
       "\n",
       "    split4_test_score  mean_test_score  std_test_score  rank_test_score  \n",
       "0            0.968750         0.896875        0.039031               13  \n",
       "1            0.796875         0.818750        0.028980               24  \n",
       "2            0.671875         0.668750        0.025000               25  \n",
       "3            0.968750         0.896875        0.039031               13  \n",
       "4            0.968750         0.896875        0.039031               13  \n",
       "5            0.984375         0.906250        0.043075                4  \n",
       "6            0.984375         0.906250        0.046351                4  \n",
       "7            0.984375         0.912500        0.044852                1  \n",
       "8            0.968750         0.896875        0.039031               13  \n",
       "9            0.968750         0.896875        0.039031               13  \n",
       "10           0.984375         0.909375        0.043526                3  \n",
       "11           0.984375         0.903125        0.049804                7  \n",
       "12           0.984375         0.912500        0.044852                1  \n",
       "13           0.968750         0.893750        0.041222               18  \n",
       "14           0.968750         0.893750        0.041222               18  \n",
       "15           0.984375         0.903125        0.046771                7  \n",
       "16           0.968750         0.887500        0.045715               20  \n",
       "17           0.953125         0.884375        0.044852               21  \n",
       "18           0.984375         0.903125        0.045715                7  \n",
       "19           0.984375         0.903125        0.045715                7  \n",
       "20           0.984375         0.906250        0.047393                4  \n",
       "21           0.968750         0.878125        0.046771               23  \n",
       "22           0.953125         0.881250        0.044852               22  \n",
       "23           0.968750         0.900000        0.040263               11  \n",
       "24           0.968750         0.900000        0.040263               11  "
      ]
     },
     "execution_count": 46,
     "metadata": {},
     "output_type": "execute_result"
    }
   ],
   "source": [
    "df1"
   ]
  },
  {
   "cell_type": "code",
   "execution_count": null,
   "metadata": {},
   "outputs": [],
   "source": [
    "df1[['param_C', \"param_gamma\"]]"
   ]
  }
 ],
 "metadata": {
  "kernelspec": {
   "display_name": "Python 3",
   "language": "python",
   "name": "python3"
  },
  "language_info": {
   "codemirror_mode": {
    "name": "ipython",
    "version": 3
   },
   "file_extension": ".py",
   "mimetype": "text/x-python",
   "name": "python",
   "nbconvert_exporter": "python",
   "pygments_lexer": "ipython3",
   "version": "3.7.6"
  }
 },
 "nbformat": 4,
 "nbformat_minor": 4
}
